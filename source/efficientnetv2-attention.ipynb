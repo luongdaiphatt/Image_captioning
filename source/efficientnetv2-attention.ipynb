{
 "cells": [
  {
   "cell_type": "code",
   "execution_count": 1,
   "id": "69bf6830",
   "metadata": {
    "_cell_guid": "b1076dfc-b9ad-4769-8c92-a6c4dae69d19",
    "_uuid": "8f2839f25d086af736a60e9eeb907d3b93b6e0e5",
    "execution": {
     "iopub.execute_input": "2024-12-27T13:17:25.121842Z",
     "iopub.status.busy": "2024-12-27T13:17:25.121542Z",
     "iopub.status.idle": "2024-12-27T13:17:39.346612Z",
     "shell.execute_reply": "2024-12-27T13:17:39.345704Z"
    },
    "papermill": {
     "duration": 14.235278,
     "end_time": "2024-12-27T13:17:39.348681",
     "exception": false,
     "start_time": "2024-12-27T13:17:25.113403",
     "status": "completed"
    },
    "tags": []
   },
   "outputs": [],
   "source": [
    "import os\n",
    "\n",
    "import numpy as np\n",
    "\n",
    "import pandas as pd\n",
    "\n",
    "import tensorflow as tf\n",
    "\n",
    "from tqdm import tqdm\n",
    "\n",
    "from tensorflow.keras.preprocessing.text import Tokenizer\n",
    "\n",
    "from tensorflow.keras.utils import pad_sequences\n",
    "\n",
    "from tensorflow.keras.applications import EfficientNetV2B0\n",
    "\n",
    "from tensorflow.keras.preprocessing.image import load_img, img_to_array\n",
    "\n",
    "from tensorflow.keras.layers import Input, Dense, Embedding, LSTM, AdditiveAttention, Add, Concatenate, Dropout, Reshape\n",
    "\n",
    "from tensorflow.keras.models import Model\n",
    "\n",
    "from tensorflow.keras.callbacks import ModelCheckpoint, EarlyStopping, ReduceLROnPlateau\n",
    "\n",
    "from tensorflow.keras.optimizers import Adam\n",
    "\n",
    "from nltk.translate.bleu_score import corpus_bleu"
   ]
  },
  {
   "cell_type": "markdown",
   "id": "b848c741",
   "metadata": {
    "papermill": {
     "duration": 0.008012,
     "end_time": "2024-12-27T13:17:39.372380",
     "exception": false,
     "start_time": "2024-12-27T13:17:39.364368",
     "status": "completed"
    },
    "tags": []
   },
   "source": [
    "# Load data"
   ]
  },
  {
   "cell_type": "code",
   "execution_count": 2,
   "id": "4f1470d4",
   "metadata": {
    "execution": {
     "iopub.execute_input": "2024-12-27T13:17:39.389626Z",
     "iopub.status.busy": "2024-12-27T13:17:39.389012Z",
     "iopub.status.idle": "2024-12-27T13:17:39.394241Z",
     "shell.execute_reply": "2024-12-27T13:17:39.393371Z"
    },
    "papermill": {
     "duration": 0.014695,
     "end_time": "2024-12-27T13:17:39.395941",
     "exception": false,
     "start_time": "2024-12-27T13:17:39.381246",
     "status": "completed"
    },
    "tags": []
   },
   "outputs": [],
   "source": [
    "def load_data(path):\n",
    "\n",
    "    with open(path + 'captions.txt', 'r', encoding='utf-8') as file:\n",
    "\n",
    "        lines = file.readlines()\n",
    "\n",
    "\n",
    "\n",
    "    data = [line.split('\\t', 1) for line in lines]\n",
    "\n",
    "    df = pd.DataFrame(data, columns=[\"image_path\", \"caption\"])\n",
    "\n",
    "\n",
    "\n",
    "    return df"
   ]
  },
  {
   "cell_type": "code",
   "execution_count": 3,
   "id": "0525a25b",
   "metadata": {
    "execution": {
     "iopub.execute_input": "2024-12-27T13:17:39.410627Z",
     "iopub.status.busy": "2024-12-27T13:17:39.410377Z",
     "iopub.status.idle": "2024-12-27T13:17:39.414186Z",
     "shell.execute_reply": "2024-12-27T13:17:39.413261Z"
    },
    "papermill": {
     "duration": 0.012931,
     "end_time": "2024-12-27T13:17:39.415904",
     "exception": false,
     "start_time": "2024-12-27T13:17:39.402973",
     "status": "completed"
    },
    "tags": []
   },
   "outputs": [],
   "source": [
    "dataset_path = '/kaggle/input/uit-viic-v1-0-vietnamese-image-captioning/dataset'\n",
    "\n",
    "train_path = dataset_path + '/train/'\n",
    "\n",
    "val_path = dataset_path + '/val/'\n",
    "\n",
    "test_path = dataset_path + '/test/'"
   ]
  },
  {
   "cell_type": "code",
   "execution_count": 4,
   "id": "d446e4f8",
   "metadata": {
    "execution": {
     "iopub.execute_input": "2024-12-27T13:17:39.430190Z",
     "iopub.status.busy": "2024-12-27T13:17:39.429920Z",
     "iopub.status.idle": "2024-12-27T13:17:39.517417Z",
     "shell.execute_reply": "2024-12-27T13:17:39.516497Z"
    },
    "papermill": {
     "duration": 0.096974,
     "end_time": "2024-12-27T13:17:39.519558",
     "exception": false,
     "start_time": "2024-12-27T13:17:39.422584",
     "status": "completed"
    },
    "tags": []
   },
   "outputs": [],
   "source": [
    "df_train = load_data(train_path)\n",
    "\n",
    "df_val = load_data(val_path)\n",
    "\n",
    "df_test = load_data(test_path)"
   ]
  },
  {
   "cell_type": "code",
   "execution_count": 5,
   "id": "2f88fc33",
   "metadata": {
    "execution": {
     "iopub.execute_input": "2024-12-27T13:17:39.541341Z",
     "iopub.status.busy": "2024-12-27T13:17:39.541028Z",
     "iopub.status.idle": "2024-12-27T13:17:39.560284Z",
     "shell.execute_reply": "2024-12-27T13:17:39.559428Z"
    },
    "papermill": {
     "duration": 0.030269,
     "end_time": "2024-12-27T13:17:39.561917",
     "exception": false,
     "start_time": "2024-12-27T13:17:39.531648",
     "status": "completed"
    },
    "tags": []
   },
   "outputs": [
    {
     "data": {
      "text/html": [
       "<div>\n",
       "<style scoped>\n",
       "    .dataframe tbody tr th:only-of-type {\n",
       "        vertical-align: middle;\n",
       "    }\n",
       "\n",
       "    .dataframe tbody tr th {\n",
       "        vertical-align: top;\n",
       "    }\n",
       "\n",
       "    .dataframe thead th {\n",
       "        text-align: right;\n",
       "    }\n",
       "</style>\n",
       "<table border=\"1\" class=\"dataframe\">\n",
       "  <thead>\n",
       "    <tr style=\"text-align: right;\">\n",
       "      <th></th>\n",
       "      <th>image_path</th>\n",
       "      <th>caption</th>\n",
       "    </tr>\n",
       "  </thead>\n",
       "  <tbody>\n",
       "    <tr>\n",
       "      <th>0</th>\n",
       "      <td>/dataset/train/images/000000157656.jpg</td>\n",
       "      <td>Người đàn ông đang đánh tennis ngoài sân.\\n</td>\n",
       "    </tr>\n",
       "    <tr>\n",
       "      <th>1</th>\n",
       "      <td>/dataset/train/images/000000157656.jpg</td>\n",
       "      <td>Một vận động viên tennis đang vung vợt đánh bó...</td>\n",
       "    </tr>\n",
       "    <tr>\n",
       "      <th>2</th>\n",
       "      <td>/dataset/train/images/000000157656.jpg</td>\n",
       "      <td>Một cầu thủ tennis đang vung vợt tennis đỡ bón...</td>\n",
       "    </tr>\n",
       "    <tr>\n",
       "      <th>3</th>\n",
       "      <td>/dataset/train/images/000000157656.jpg</td>\n",
       "      <td>Người đàn ông đang đứng ngoài biên cầm vợt sẵn...</td>\n",
       "    </tr>\n",
       "    <tr>\n",
       "      <th>4</th>\n",
       "      <td>/dataset/train/images/000000157656.jpg</td>\n",
       "      <td>Vận động viên tennis nam đang trong tư thế chu...</td>\n",
       "    </tr>\n",
       "    <tr>\n",
       "      <th>...</th>\n",
       "      <td>...</td>\n",
       "      <td>...</td>\n",
       "    </tr>\n",
       "    <tr>\n",
       "      <th>13476</th>\n",
       "      <td>/dataset/train/images/000000121943.jpg</td>\n",
       "      <td>Những cô gái đang chơi bóng đá ở trên sân .\\n</td>\n",
       "    </tr>\n",
       "    <tr>\n",
       "      <th>13477</th>\n",
       "      <td>/dataset/train/images/000000466840.jpg</td>\n",
       "      <td>Những người đàn ông đang chơi bóng chày trên s...</td>\n",
       "    </tr>\n",
       "    <tr>\n",
       "      <th>13478</th>\n",
       "      <td>/dataset/train/images/000000381377.jpg</td>\n",
       "      <td>Một số người mặc đồ đá bóng đang đá bóng trên ...</td>\n",
       "    </tr>\n",
       "    <tr>\n",
       "      <th>13479</th>\n",
       "      <td>/dataset/train/images/000000561746.jpg</td>\n",
       "      <td>Một người đàn ông đang dùng vợt để đánh quả bó...</td>\n",
       "    </tr>\n",
       "    <tr>\n",
       "      <th>13480</th>\n",
       "      <td>/dataset/train/images/000000109950.jpg</td>\n",
       "      <td>Một người phụ nữ đang dùng vợt để đánh quả bón...</td>\n",
       "    </tr>\n",
       "  </tbody>\n",
       "</table>\n",
       "<p>13481 rows × 2 columns</p>\n",
       "</div>"
      ],
      "text/plain": [
       "                                   image_path  \\\n",
       "0      /dataset/train/images/000000157656.jpg   \n",
       "1      /dataset/train/images/000000157656.jpg   \n",
       "2      /dataset/train/images/000000157656.jpg   \n",
       "3      /dataset/train/images/000000157656.jpg   \n",
       "4      /dataset/train/images/000000157656.jpg   \n",
       "...                                       ...   \n",
       "13476  /dataset/train/images/000000121943.jpg   \n",
       "13477  /dataset/train/images/000000466840.jpg   \n",
       "13478  /dataset/train/images/000000381377.jpg   \n",
       "13479  /dataset/train/images/000000561746.jpg   \n",
       "13480  /dataset/train/images/000000109950.jpg   \n",
       "\n",
       "                                                 caption  \n",
       "0            Người đàn ông đang đánh tennis ngoài sân.\\n  \n",
       "1      Một vận động viên tennis đang vung vợt đánh bó...  \n",
       "2      Một cầu thủ tennis đang vung vợt tennis đỡ bón...  \n",
       "3      Người đàn ông đang đứng ngoài biên cầm vợt sẵn...  \n",
       "4      Vận động viên tennis nam đang trong tư thế chu...  \n",
       "...                                                  ...  \n",
       "13476      Những cô gái đang chơi bóng đá ở trên sân .\\n  \n",
       "13477  Những người đàn ông đang chơi bóng chày trên s...  \n",
       "13478  Một số người mặc đồ đá bóng đang đá bóng trên ...  \n",
       "13479  Một người đàn ông đang dùng vợt để đánh quả bó...  \n",
       "13480  Một người phụ nữ đang dùng vợt để đánh quả bón...  \n",
       "\n",
       "[13481 rows x 2 columns]"
      ]
     },
     "execution_count": 5,
     "metadata": {},
     "output_type": "execute_result"
    }
   ],
   "source": [
    "df_train"
   ]
  },
  {
   "cell_type": "markdown",
   "id": "22764526",
   "metadata": {
    "papermill": {
     "duration": 0.006654,
     "end_time": "2024-12-27T13:17:39.575613",
     "exception": false,
     "start_time": "2024-12-27T13:17:39.568959",
     "status": "completed"
    },
    "tags": []
   },
   "source": [
    "# Preprocess data"
   ]
  },
  {
   "cell_type": "code",
   "execution_count": 6,
   "id": "e26c7fcf",
   "metadata": {
    "execution": {
     "iopub.execute_input": "2024-12-27T13:17:39.590007Z",
     "iopub.status.busy": "2024-12-27T13:17:39.589562Z",
     "iopub.status.idle": "2024-12-27T13:17:39.595463Z",
     "shell.execute_reply": "2024-12-27T13:17:39.594613Z"
    },
    "papermill": {
     "duration": 0.014799,
     "end_time": "2024-12-27T13:17:39.597058",
     "exception": false,
     "start_time": "2024-12-27T13:17:39.582259",
     "status": "completed"
    },
    "tags": []
   },
   "outputs": [],
   "source": [
    "def text_preprocessing(df):\n",
    "\n",
    "    df_preprocessed = df.copy()\n",
    "\n",
    "    df_preprocessed['caption'] = df_preprocessed['caption'].apply(lambda x: x.lower())\n",
    "\n",
    "    df_preprocessed['caption'] = df_preprocessed['caption'].apply(lambda x: x.replace(\"[^A-Za-z]\",\"\"))\n",
    "\n",
    "    df_preprocessed['caption'] = df_preprocessed['caption'].apply(lambda x: x.replace(\"\\s+\",\" \"))\n",
    "\n",
    "    df_preprocessed['caption'] = df_preprocessed['caption'].apply(lambda x: \" \".join([word for word in x.split() if len(word)>1]))\n",
    "\n",
    "    df_preprocessed['caption'] = \"startseq \"+df_preprocessed['caption']+\" endseq\"\n",
    "\n",
    "    df_preprocessed['image_path'] = df_preprocessed['image_path'].str.replace('^/dataset', '', regex=True)\n",
    "\n",
    "    df_preprocessed['image_path'] = dataset_path + df_preprocessed['image_path']\n",
    "\n",
    "    return df_preprocessed"
   ]
  },
  {
   "cell_type": "code",
   "execution_count": 7,
   "id": "4321c5b5",
   "metadata": {
    "execution": {
     "iopub.execute_input": "2024-12-27T13:17:39.611501Z",
     "iopub.status.busy": "2024-12-27T13:17:39.611247Z",
     "iopub.status.idle": "2024-12-27T13:17:39.725771Z",
     "shell.execute_reply": "2024-12-27T13:17:39.725011Z"
    },
    "papermill": {
     "duration": 0.123523,
     "end_time": "2024-12-27T13:17:39.727543",
     "exception": false,
     "start_time": "2024-12-27T13:17:39.604020",
     "status": "completed"
    },
    "tags": []
   },
   "outputs": [],
   "source": [
    "df_train_preprocessed = text_preprocessing(df_train)\n",
    "\n",
    "df_val_preprocessed = text_preprocessing(df_val)\n",
    "\n",
    "df_test_preprocessed = text_preprocessing(df_test)"
   ]
  },
  {
   "cell_type": "code",
   "execution_count": 8,
   "id": "2925d539",
   "metadata": {
    "execution": {
     "iopub.execute_input": "2024-12-27T13:17:39.742097Z",
     "iopub.status.busy": "2024-12-27T13:17:39.741824Z",
     "iopub.status.idle": "2024-12-27T13:17:39.752144Z",
     "shell.execute_reply": "2024-12-27T13:17:39.751205Z"
    },
    "papermill": {
     "duration": 0.019368,
     "end_time": "2024-12-27T13:17:39.753914",
     "exception": false,
     "start_time": "2024-12-27T13:17:39.734546",
     "status": "completed"
    },
    "tags": []
   },
   "outputs": [
    {
     "data": {
      "text/html": [
       "<div>\n",
       "<style scoped>\n",
       "    .dataframe tbody tr th:only-of-type {\n",
       "        vertical-align: middle;\n",
       "    }\n",
       "\n",
       "    .dataframe tbody tr th {\n",
       "        vertical-align: top;\n",
       "    }\n",
       "\n",
       "    .dataframe thead th {\n",
       "        text-align: right;\n",
       "    }\n",
       "</style>\n",
       "<table border=\"1\" class=\"dataframe\">\n",
       "  <thead>\n",
       "    <tr style=\"text-align: right;\">\n",
       "      <th></th>\n",
       "      <th>image_path</th>\n",
       "      <th>caption</th>\n",
       "    </tr>\n",
       "  </thead>\n",
       "  <tbody>\n",
       "    <tr>\n",
       "      <th>0</th>\n",
       "      <td>/kaggle/input/uit-viic-v1-0-vietnamese-image-c...</td>\n",
       "      <td>startseq người đàn ông đang đánh tennis ngoài ...</td>\n",
       "    </tr>\n",
       "    <tr>\n",
       "      <th>1</th>\n",
       "      <td>/kaggle/input/uit-viic-v1-0-vietnamese-image-c...</td>\n",
       "      <td>startseq một vận động viên tennis đang vung vợ...</td>\n",
       "    </tr>\n",
       "    <tr>\n",
       "      <th>2</th>\n",
       "      <td>/kaggle/input/uit-viic-v1-0-vietnamese-image-c...</td>\n",
       "      <td>startseq một cầu thủ tennis đang vung vợt tenn...</td>\n",
       "    </tr>\n",
       "    <tr>\n",
       "      <th>3</th>\n",
       "      <td>/kaggle/input/uit-viic-v1-0-vietnamese-image-c...</td>\n",
       "      <td>startseq người đàn ông đang đứng ngoài biên cầ...</td>\n",
       "    </tr>\n",
       "    <tr>\n",
       "      <th>4</th>\n",
       "      <td>/kaggle/input/uit-viic-v1-0-vietnamese-image-c...</td>\n",
       "      <td>startseq vận động viên tennis nam đang trong t...</td>\n",
       "    </tr>\n",
       "    <tr>\n",
       "      <th>...</th>\n",
       "      <td>...</td>\n",
       "      <td>...</td>\n",
       "    </tr>\n",
       "    <tr>\n",
       "      <th>13476</th>\n",
       "      <td>/kaggle/input/uit-viic-v1-0-vietnamese-image-c...</td>\n",
       "      <td>startseq những cô gái đang chơi bóng đá trên s...</td>\n",
       "    </tr>\n",
       "    <tr>\n",
       "      <th>13477</th>\n",
       "      <td>/kaggle/input/uit-viic-v1-0-vietnamese-image-c...</td>\n",
       "      <td>startseq những người đàn ông đang chơi bóng ch...</td>\n",
       "    </tr>\n",
       "    <tr>\n",
       "      <th>13478</th>\n",
       "      <td>/kaggle/input/uit-viic-v1-0-vietnamese-image-c...</td>\n",
       "      <td>startseq một số người mặc đồ đá bóng đang đá b...</td>\n",
       "    </tr>\n",
       "    <tr>\n",
       "      <th>13479</th>\n",
       "      <td>/kaggle/input/uit-viic-v1-0-vietnamese-image-c...</td>\n",
       "      <td>startseq một người đàn ông đang dùng vợt để đá...</td>\n",
       "    </tr>\n",
       "    <tr>\n",
       "      <th>13480</th>\n",
       "      <td>/kaggle/input/uit-viic-v1-0-vietnamese-image-c...</td>\n",
       "      <td>startseq một người phụ nữ đang dùng vợt để đán...</td>\n",
       "    </tr>\n",
       "  </tbody>\n",
       "</table>\n",
       "<p>13481 rows × 2 columns</p>\n",
       "</div>"
      ],
      "text/plain": [
       "                                              image_path  \\\n",
       "0      /kaggle/input/uit-viic-v1-0-vietnamese-image-c...   \n",
       "1      /kaggle/input/uit-viic-v1-0-vietnamese-image-c...   \n",
       "2      /kaggle/input/uit-viic-v1-0-vietnamese-image-c...   \n",
       "3      /kaggle/input/uit-viic-v1-0-vietnamese-image-c...   \n",
       "4      /kaggle/input/uit-viic-v1-0-vietnamese-image-c...   \n",
       "...                                                  ...   \n",
       "13476  /kaggle/input/uit-viic-v1-0-vietnamese-image-c...   \n",
       "13477  /kaggle/input/uit-viic-v1-0-vietnamese-image-c...   \n",
       "13478  /kaggle/input/uit-viic-v1-0-vietnamese-image-c...   \n",
       "13479  /kaggle/input/uit-viic-v1-0-vietnamese-image-c...   \n",
       "13480  /kaggle/input/uit-viic-v1-0-vietnamese-image-c...   \n",
       "\n",
       "                                                 caption  \n",
       "0      startseq người đàn ông đang đánh tennis ngoài ...  \n",
       "1      startseq một vận động viên tennis đang vung vợ...  \n",
       "2      startseq một cầu thủ tennis đang vung vợt tenn...  \n",
       "3      startseq người đàn ông đang đứng ngoài biên cầ...  \n",
       "4      startseq vận động viên tennis nam đang trong t...  \n",
       "...                                                  ...  \n",
       "13476  startseq những cô gái đang chơi bóng đá trên s...  \n",
       "13477  startseq những người đàn ông đang chơi bóng ch...  \n",
       "13478  startseq một số người mặc đồ đá bóng đang đá b...  \n",
       "13479  startseq một người đàn ông đang dùng vợt để đá...  \n",
       "13480  startseq một người phụ nữ đang dùng vợt để đán...  \n",
       "\n",
       "[13481 rows x 2 columns]"
      ]
     },
     "execution_count": 8,
     "metadata": {},
     "output_type": "execute_result"
    }
   ],
   "source": [
    "df_train_preprocessed"
   ]
  },
  {
   "cell_type": "markdown",
   "id": "a4ede1e5",
   "metadata": {
    "papermill": {
     "duration": 0.006857,
     "end_time": "2024-12-27T13:17:39.767699",
     "exception": false,
     "start_time": "2024-12-27T13:17:39.760842",
     "status": "completed"
    },
    "tags": []
   },
   "source": [
    "# Tokenizer"
   ]
  },
  {
   "cell_type": "code",
   "execution_count": 9,
   "id": "f24c7873",
   "metadata": {
    "execution": {
     "iopub.execute_input": "2024-12-27T13:17:39.782580Z",
     "iopub.status.busy": "2024-12-27T13:17:39.782325Z",
     "iopub.status.idle": "2024-12-27T13:17:40.160658Z",
     "shell.execute_reply": "2024-12-27T13:17:40.159763Z"
    },
    "papermill": {
     "duration": 0.387457,
     "end_time": "2024-12-27T13:17:40.162254",
     "exception": false,
     "start_time": "2024-12-27T13:17:39.774797",
     "status": "completed"
    },
    "tags": []
   },
   "outputs": [
    {
     "data": {
      "text/plain": [
       "[1, 7, 20, 17, 18, 5, 4, 39, 16, 10, 3, 2]"
      ]
     },
     "execution_count": 9,
     "metadata": {},
     "output_type": "execute_result"
    }
   ],
   "source": [
    "captions = df_train_preprocessed['caption'].tolist() + df_val_preprocessed['caption'].tolist() + df_test_preprocessed['caption'].tolist()\n",
    "\n",
    "tokenizer = Tokenizer()\n",
    "\n",
    "tokenizer.fit_on_texts(captions)\n",
    "\n",
    "vocab_size = len(tokenizer.word_index) + 1\n",
    "\n",
    "max_length = max(len(caption.split()) for caption in captions)\n",
    "\n",
    "\n",
    "\n",
    "tokenizer.texts_to_sequences([captions[1]])[0]"
   ]
  },
  {
   "cell_type": "markdown",
   "id": "aa332ce8",
   "metadata": {
    "papermill": {
     "duration": 0.006842,
     "end_time": "2024-12-27T13:17:40.176737",
     "exception": false,
     "start_time": "2024-12-27T13:17:40.169895",
     "status": "completed"
    },
    "tags": []
   },
   "source": [
    "# Feature extractor"
   ]
  },
  {
   "cell_type": "code",
   "execution_count": 10,
   "id": "22a08d3b",
   "metadata": {
    "execution": {
     "iopub.execute_input": "2024-12-27T13:17:40.191844Z",
     "iopub.status.busy": "2024-12-27T13:17:40.191551Z",
     "iopub.status.idle": "2024-12-27T13:22:13.714080Z",
     "shell.execute_reply": "2024-12-27T13:22:13.713238Z"
    },
    "papermill": {
     "duration": 273.532409,
     "end_time": "2024-12-27T13:22:13.716165",
     "exception": false,
     "start_time": "2024-12-27T13:17:40.183756",
     "status": "completed"
    },
    "tags": []
   },
   "outputs": [
    {
     "name": "stdout",
     "output_type": "stream",
     "text": [
      "Downloading data from https://storage.googleapis.com/tensorflow/keras-applications/efficientnet_v2/efficientnetv2-b0.h5\n",
      "\u001b[1m29403144/29403144\u001b[0m \u001b[32m━━━━━━━━━━━━━━━━━━━━\u001b[0m\u001b[37m\u001b[0m \u001b[1m0s\u001b[0m 0us/step\n"
     ]
    },
    {
     "name": "stderr",
     "output_type": "stream",
     "text": [
      "  0%|          | 0/3850 [00:00<?, ?it/s]WARNING: All log messages before absl::InitializeLog() is called are written to STDERR\n",
      "I0000 00:00:1735305465.088994      68 service.cc:145] XLA service 0x7fb968001850 initialized for platform CUDA (this does not guarantee that XLA will be used). Devices:\n",
      "I0000 00:00:1735305465.089054      68 service.cc:153]   StreamExecutor device (0): Tesla T4, Compute Capability 7.5\n",
      "I0000 00:00:1735305465.089058      68 service.cc:153]   StreamExecutor device (1): Tesla T4, Compute Capability 7.5\n",
      "I0000 00:00:1735305469.783692      68 device_compiler.h:188] Compiled cluster using XLA!  This line is logged at most once for the lifetime of the process.\n",
      "100%|██████████| 3850/3850 [04:30<00:00, 14.22it/s]\n"
     ]
    }
   ],
   "source": [
    "base_model = EfficientNetV2B0()\n",
    "\n",
    "\n",
    "\n",
    "feature_extractor = Model(inputs=base_model.input, outputs=base_model.layers[-2].output)\n",
    "\n",
    "\n",
    "\n",
    "image_features = {}\n",
    "\n",
    "\n",
    "\n",
    "all_images = df_train_preprocessed['image_path'].unique().tolist() + df_val_preprocessed['image_path'].unique().tolist() + df_test_preprocessed['image_path'].unique().tolist()\n",
    "\n",
    "for image in tqdm(all_images):\n",
    "\n",
    "    img = load_img(image,target_size=(224,224))\n",
    "\n",
    "    img = img_to_array(img)\n",
    "\n",
    "    img = img/255.\n",
    "\n",
    "    img = np.expand_dims(img,axis=0)\n",
    "\n",
    "    feature = feature_extractor.predict(img, verbose=0)\n",
    "\n",
    "    image_features[image] = feature"
   ]
  },
  {
   "cell_type": "code",
   "execution_count": 11,
   "id": "196fa7c0",
   "metadata": {
    "execution": {
     "iopub.execute_input": "2024-12-27T13:22:13.896667Z",
     "iopub.status.busy": "2024-12-27T13:22:13.895909Z",
     "iopub.status.idle": "2024-12-27T13:22:14.129361Z",
     "shell.execute_reply": "2024-12-27T13:22:14.128668Z"
    },
    "papermill": {
     "duration": 0.325102,
     "end_time": "2024-12-27T13:22:14.131109",
     "exception": false,
     "start_time": "2024-12-27T13:22:13.806007",
     "status": "completed"
    },
    "tags": []
   },
   "outputs": [],
   "source": [
    "np.savez(\"image_features.npz\", **image_features) # lưu features trích xuất từ các images về máy"
   ]
  },
  {
   "cell_type": "markdown",
   "id": "c455308d",
   "metadata": {
    "papermill": {
     "duration": 0.092,
     "end_time": "2024-12-27T13:22:14.312945",
     "exception": false,
     "start_time": "2024-12-27T13:22:14.220945",
     "status": "completed"
    },
    "tags": []
   },
   "source": [
    "# Build model"
   ]
  },
  {
   "cell_type": "code",
   "execution_count": 12,
   "id": "a1e81e90",
   "metadata": {
    "execution": {
     "iopub.execute_input": "2024-12-27T13:22:14.492831Z",
     "iopub.status.busy": "2024-12-27T13:22:14.492159Z",
     "iopub.status.idle": "2024-12-27T13:22:14.828876Z",
     "shell.execute_reply": "2024-12-27T13:22:14.828079Z"
    },
    "papermill": {
     "duration": 0.428694,
     "end_time": "2024-12-27T13:22:14.830516",
     "exception": false,
     "start_time": "2024-12-27T13:22:14.401822",
     "status": "completed"
    },
    "tags": []
   },
   "outputs": [
    {
     "name": "stderr",
     "output_type": "stream",
     "text": [
      "/opt/conda/lib/python3.10/site-packages/keras/src/layers/reshaping/reshape.py:39: UserWarning: Do not pass an `input_shape`/`input_dim` argument to a layer. When using Sequential models, prefer using an `Input(shape)` object as the first layer in the model instead.\n",
      "  super().__init__(**kwargs)\n"
     ]
    },
    {
     "data": {
      "text/html": [
       "<pre style=\"white-space:pre;overflow-x:auto;line-height:normal;font-family:Menlo,'DejaVu Sans Mono',consolas,'Courier New',monospace\"><span style=\"font-weight: bold\">Model: \"functional_3\"</span>\n",
       "</pre>\n"
      ],
      "text/plain": [
       "\u001b[1mModel: \"functional_3\"\u001b[0m\n"
      ]
     },
     "metadata": {},
     "output_type": "display_data"
    },
    {
     "data": {
      "text/html": [
       "<pre style=\"white-space:pre;overflow-x:auto;line-height:normal;font-family:Menlo,'DejaVu Sans Mono',consolas,'Courier New',monospace\">┏━━━━━━━━━━━━━━━━━━━━━┳━━━━━━━━━━━━━━━━━━━┳━━━━━━━━━━━━┳━━━━━━━━━━━━━━━━━━━┓\n",
       "┃<span style=\"font-weight: bold\"> Layer (type)        </span>┃<span style=\"font-weight: bold\"> Output Shape      </span>┃<span style=\"font-weight: bold\">    Param # </span>┃<span style=\"font-weight: bold\"> Connected to      </span>┃\n",
       "┡━━━━━━━━━━━━━━━━━━━━━╇━━━━━━━━━━━━━━━━━━━╇━━━━━━━━━━━━╇━━━━━━━━━━━━━━━━━━━┩\n",
       "│ input_layer_2       │ (<span style=\"color: #00d7ff; text-decoration-color: #00d7ff\">None</span>, <span style=\"color: #00af00; text-decoration-color: #00af00\">35</span>)        │          <span style=\"color: #00af00; text-decoration-color: #00af00\">0</span> │ -                 │\n",
       "│ (<span style=\"color: #0087ff; text-decoration-color: #0087ff\">InputLayer</span>)        │                   │            │                   │\n",
       "├─────────────────────┼───────────────────┼────────────┼───────────────────┤\n",
       "│ sentence_embedding  │ (<span style=\"color: #00d7ff; text-decoration-color: #00d7ff\">None</span>, <span style=\"color: #00af00; text-decoration-color: #00af00\">35</span>, <span style=\"color: #00af00; text-decoration-color: #00af00\">256</span>)   │    <span style=\"color: #00af00; text-decoration-color: #00af00\">345,856</span> │ input_layer_2[<span style=\"color: #00af00; text-decoration-color: #00af00\">0</span>]… │\n",
       "│ (<span style=\"color: #0087ff; text-decoration-color: #0087ff\">Embedding</span>)         │                   │            │                   │\n",
       "├─────────────────────┼───────────────────┼────────────┼───────────────────┤\n",
       "│ not_equal           │ (<span style=\"color: #00d7ff; text-decoration-color: #00d7ff\">None</span>, <span style=\"color: #00af00; text-decoration-color: #00af00\">35</span>)        │          <span style=\"color: #00af00; text-decoration-color: #00af00\">0</span> │ input_layer_2[<span style=\"color: #00af00; text-decoration-color: #00af00\">0</span>]… │\n",
       "│ (<span style=\"color: #0087ff; text-decoration-color: #0087ff\">NotEqual</span>)          │                   │            │                   │\n",
       "├─────────────────────┼───────────────────┼────────────┼───────────────────┤\n",
       "│ lstm (<span style=\"color: #0087ff; text-decoration-color: #0087ff\">LSTM</span>)         │ (<span style=\"color: #00d7ff; text-decoration-color: #00d7ff\">None</span>, <span style=\"color: #00af00; text-decoration-color: #00af00\">256</span>)       │    <span style=\"color: #00af00; text-decoration-color: #00af00\">525,312</span> │ sentence_embeddi… │\n",
       "│                     │                   │            │ not_equal[<span style=\"color: #00af00; text-decoration-color: #00af00\">0</span>][<span style=\"color: #00af00; text-decoration-color: #00af00\">0</span>]   │\n",
       "├─────────────────────┼───────────────────┼────────────┼───────────────────┤\n",
       "│ input_layer_1       │ (<span style=\"color: #00d7ff; text-decoration-color: #00d7ff\">None</span>, <span style=\"color: #00af00; text-decoration-color: #00af00\">1280</span>)      │          <span style=\"color: #00af00; text-decoration-color: #00af00\">0</span> │ -                 │\n",
       "│ (<span style=\"color: #0087ff; text-decoration-color: #0087ff\">InputLayer</span>)        │                   │            │                   │\n",
       "├─────────────────────┼───────────────────┼────────────┼───────────────────┤\n",
       "│ dropout (<span style=\"color: #0087ff; text-decoration-color: #0087ff\">Dropout</span>)   │ (<span style=\"color: #00d7ff; text-decoration-color: #00d7ff\">None</span>, <span style=\"color: #00af00; text-decoration-color: #00af00\">256</span>)       │          <span style=\"color: #00af00; text-decoration-color: #00af00\">0</span> │ lstm[<span style=\"color: #00af00; text-decoration-color: #00af00\">0</span>][<span style=\"color: #00af00; text-decoration-color: #00af00\">0</span>]        │\n",
       "├─────────────────────┼───────────────────┼────────────┼───────────────────┤\n",
       "│ dense (<span style=\"color: #0087ff; text-decoration-color: #0087ff\">Dense</span>)       │ (<span style=\"color: #00d7ff; text-decoration-color: #00d7ff\">None</span>, <span style=\"color: #00af00; text-decoration-color: #00af00\">256</span>)       │    <span style=\"color: #00af00; text-decoration-color: #00af00\">327,936</span> │ input_layer_1[<span style=\"color: #00af00; text-decoration-color: #00af00\">0</span>]… │\n",
       "├─────────────────────┼───────────────────┼────────────┼───────────────────┤\n",
       "│ additive_attention  │ (<span style=\"color: #00d7ff; text-decoration-color: #00d7ff\">None</span>, <span style=\"color: #00af00; text-decoration-color: #00af00\">256</span>)       │        <span style=\"color: #00af00; text-decoration-color: #00af00\">256</span> │ dropout[<span style=\"color: #00af00; text-decoration-color: #00af00\">0</span>][<span style=\"color: #00af00; text-decoration-color: #00af00\">0</span>],    │\n",
       "│ (<span style=\"color: #0087ff; text-decoration-color: #0087ff\">AdditiveAttention</span>) │                   │            │ dense[<span style=\"color: #00af00; text-decoration-color: #00af00\">0</span>][<span style=\"color: #00af00; text-decoration-color: #00af00\">0</span>]       │\n",
       "├─────────────────────┼───────────────────┼────────────┼───────────────────┤\n",
       "│ dropout_1 (<span style=\"color: #0087ff; text-decoration-color: #0087ff\">Dropout</span>) │ (<span style=\"color: #00d7ff; text-decoration-color: #00d7ff\">None</span>, <span style=\"color: #00af00; text-decoration-color: #00af00\">256</span>)       │          <span style=\"color: #00af00; text-decoration-color: #00af00\">0</span> │ additive_attenti… │\n",
       "├─────────────────────┼───────────────────┼────────────┼───────────────────┤\n",
       "│ add (<span style=\"color: #0087ff; text-decoration-color: #0087ff\">Add</span>)           │ (<span style=\"color: #00d7ff; text-decoration-color: #00d7ff\">None</span>, <span style=\"color: #00af00; text-decoration-color: #00af00\">256</span>)       │          <span style=\"color: #00af00; text-decoration-color: #00af00\">0</span> │ dropout_1[<span style=\"color: #00af00; text-decoration-color: #00af00\">0</span>][<span style=\"color: #00af00; text-decoration-color: #00af00\">0</span>],  │\n",
       "│                     │                   │            │ dropout[<span style=\"color: #00af00; text-decoration-color: #00af00\">0</span>][<span style=\"color: #00af00; text-decoration-color: #00af00\">0</span>]     │\n",
       "├─────────────────────┼───────────────────┼────────────┼───────────────────┤\n",
       "│ concatenate         │ (<span style=\"color: #00d7ff; text-decoration-color: #00d7ff\">None</span>, <span style=\"color: #00af00; text-decoration-color: #00af00\">512</span>)       │          <span style=\"color: #00af00; text-decoration-color: #00af00\">0</span> │ add[<span style=\"color: #00af00; text-decoration-color: #00af00\">0</span>][<span style=\"color: #00af00; text-decoration-color: #00af00\">0</span>],        │\n",
       "│ (<span style=\"color: #0087ff; text-decoration-color: #0087ff\">Concatenate</span>)       │                   │            │ dense[<span style=\"color: #00af00; text-decoration-color: #00af00\">0</span>][<span style=\"color: #00af00; text-decoration-color: #00af00\">0</span>]       │\n",
       "├─────────────────────┼───────────────────┼────────────┼───────────────────┤\n",
       "│ dense_1 (<span style=\"color: #0087ff; text-decoration-color: #0087ff\">Dense</span>)     │ (<span style=\"color: #00d7ff; text-decoration-color: #00d7ff\">None</span>, <span style=\"color: #00af00; text-decoration-color: #00af00\">128</span>)       │     <span style=\"color: #00af00; text-decoration-color: #00af00\">65,664</span> │ concatenate[<span style=\"color: #00af00; text-decoration-color: #00af00\">0</span>][<span style=\"color: #00af00; text-decoration-color: #00af00\">0</span>] │\n",
       "├─────────────────────┼───────────────────┼────────────┼───────────────────┤\n",
       "│ dropout_2 (<span style=\"color: #0087ff; text-decoration-color: #0087ff\">Dropout</span>) │ (<span style=\"color: #00d7ff; text-decoration-color: #00d7ff\">None</span>, <span style=\"color: #00af00; text-decoration-color: #00af00\">128</span>)       │          <span style=\"color: #00af00; text-decoration-color: #00af00\">0</span> │ dense_1[<span style=\"color: #00af00; text-decoration-color: #00af00\">0</span>][<span style=\"color: #00af00; text-decoration-color: #00af00\">0</span>]     │\n",
       "├─────────────────────┼───────────────────┼────────────┼───────────────────┤\n",
       "│ dense_2 (<span style=\"color: #0087ff; text-decoration-color: #0087ff\">Dense</span>)     │ (<span style=\"color: #00d7ff; text-decoration-color: #00d7ff\">None</span>, <span style=\"color: #00af00; text-decoration-color: #00af00\">1351</span>)      │    <span style=\"color: #00af00; text-decoration-color: #00af00\">174,279</span> │ dropout_2[<span style=\"color: #00af00; text-decoration-color: #00af00\">0</span>][<span style=\"color: #00af00; text-decoration-color: #00af00\">0</span>]   │\n",
       "└─────────────────────┴───────────────────┴────────────┴───────────────────┘\n",
       "</pre>\n"
      ],
      "text/plain": [
       "┏━━━━━━━━━━━━━━━━━━━━━┳━━━━━━━━━━━━━━━━━━━┳━━━━━━━━━━━━┳━━━━━━━━━━━━━━━━━━━┓\n",
       "┃\u001b[1m \u001b[0m\u001b[1mLayer (type)       \u001b[0m\u001b[1m \u001b[0m┃\u001b[1m \u001b[0m\u001b[1mOutput Shape     \u001b[0m\u001b[1m \u001b[0m┃\u001b[1m \u001b[0m\u001b[1m   Param #\u001b[0m\u001b[1m \u001b[0m┃\u001b[1m \u001b[0m\u001b[1mConnected to     \u001b[0m\u001b[1m \u001b[0m┃\n",
       "┡━━━━━━━━━━━━━━━━━━━━━╇━━━━━━━━━━━━━━━━━━━╇━━━━━━━━━━━━╇━━━━━━━━━━━━━━━━━━━┩\n",
       "│ input_layer_2       │ (\u001b[38;5;45mNone\u001b[0m, \u001b[38;5;34m35\u001b[0m)        │          \u001b[38;5;34m0\u001b[0m │ -                 │\n",
       "│ (\u001b[38;5;33mInputLayer\u001b[0m)        │                   │            │                   │\n",
       "├─────────────────────┼───────────────────┼────────────┼───────────────────┤\n",
       "│ sentence_embedding  │ (\u001b[38;5;45mNone\u001b[0m, \u001b[38;5;34m35\u001b[0m, \u001b[38;5;34m256\u001b[0m)   │    \u001b[38;5;34m345,856\u001b[0m │ input_layer_2[\u001b[38;5;34m0\u001b[0m]… │\n",
       "│ (\u001b[38;5;33mEmbedding\u001b[0m)         │                   │            │                   │\n",
       "├─────────────────────┼───────────────────┼────────────┼───────────────────┤\n",
       "│ not_equal           │ (\u001b[38;5;45mNone\u001b[0m, \u001b[38;5;34m35\u001b[0m)        │          \u001b[38;5;34m0\u001b[0m │ input_layer_2[\u001b[38;5;34m0\u001b[0m]… │\n",
       "│ (\u001b[38;5;33mNotEqual\u001b[0m)          │                   │            │                   │\n",
       "├─────────────────────┼───────────────────┼────────────┼───────────────────┤\n",
       "│ lstm (\u001b[38;5;33mLSTM\u001b[0m)         │ (\u001b[38;5;45mNone\u001b[0m, \u001b[38;5;34m256\u001b[0m)       │    \u001b[38;5;34m525,312\u001b[0m │ sentence_embeddi… │\n",
       "│                     │                   │            │ not_equal[\u001b[38;5;34m0\u001b[0m][\u001b[38;5;34m0\u001b[0m]   │\n",
       "├─────────────────────┼───────────────────┼────────────┼───────────────────┤\n",
       "│ input_layer_1       │ (\u001b[38;5;45mNone\u001b[0m, \u001b[38;5;34m1280\u001b[0m)      │          \u001b[38;5;34m0\u001b[0m │ -                 │\n",
       "│ (\u001b[38;5;33mInputLayer\u001b[0m)        │                   │            │                   │\n",
       "├─────────────────────┼───────────────────┼────────────┼───────────────────┤\n",
       "│ dropout (\u001b[38;5;33mDropout\u001b[0m)   │ (\u001b[38;5;45mNone\u001b[0m, \u001b[38;5;34m256\u001b[0m)       │          \u001b[38;5;34m0\u001b[0m │ lstm[\u001b[38;5;34m0\u001b[0m][\u001b[38;5;34m0\u001b[0m]        │\n",
       "├─────────────────────┼───────────────────┼────────────┼───────────────────┤\n",
       "│ dense (\u001b[38;5;33mDense\u001b[0m)       │ (\u001b[38;5;45mNone\u001b[0m, \u001b[38;5;34m256\u001b[0m)       │    \u001b[38;5;34m327,936\u001b[0m │ input_layer_1[\u001b[38;5;34m0\u001b[0m]… │\n",
       "├─────────────────────┼───────────────────┼────────────┼───────────────────┤\n",
       "│ additive_attention  │ (\u001b[38;5;45mNone\u001b[0m, \u001b[38;5;34m256\u001b[0m)       │        \u001b[38;5;34m256\u001b[0m │ dropout[\u001b[38;5;34m0\u001b[0m][\u001b[38;5;34m0\u001b[0m],    │\n",
       "│ (\u001b[38;5;33mAdditiveAttention\u001b[0m) │                   │            │ dense[\u001b[38;5;34m0\u001b[0m][\u001b[38;5;34m0\u001b[0m]       │\n",
       "├─────────────────────┼───────────────────┼────────────┼───────────────────┤\n",
       "│ dropout_1 (\u001b[38;5;33mDropout\u001b[0m) │ (\u001b[38;5;45mNone\u001b[0m, \u001b[38;5;34m256\u001b[0m)       │          \u001b[38;5;34m0\u001b[0m │ additive_attenti… │\n",
       "├─────────────────────┼───────────────────┼────────────┼───────────────────┤\n",
       "│ add (\u001b[38;5;33mAdd\u001b[0m)           │ (\u001b[38;5;45mNone\u001b[0m, \u001b[38;5;34m256\u001b[0m)       │          \u001b[38;5;34m0\u001b[0m │ dropout_1[\u001b[38;5;34m0\u001b[0m][\u001b[38;5;34m0\u001b[0m],  │\n",
       "│                     │                   │            │ dropout[\u001b[38;5;34m0\u001b[0m][\u001b[38;5;34m0\u001b[0m]     │\n",
       "├─────────────────────┼───────────────────┼────────────┼───────────────────┤\n",
       "│ concatenate         │ (\u001b[38;5;45mNone\u001b[0m, \u001b[38;5;34m512\u001b[0m)       │          \u001b[38;5;34m0\u001b[0m │ add[\u001b[38;5;34m0\u001b[0m][\u001b[38;5;34m0\u001b[0m],        │\n",
       "│ (\u001b[38;5;33mConcatenate\u001b[0m)       │                   │            │ dense[\u001b[38;5;34m0\u001b[0m][\u001b[38;5;34m0\u001b[0m]       │\n",
       "├─────────────────────┼───────────────────┼────────────┼───────────────────┤\n",
       "│ dense_1 (\u001b[38;5;33mDense\u001b[0m)     │ (\u001b[38;5;45mNone\u001b[0m, \u001b[38;5;34m128\u001b[0m)       │     \u001b[38;5;34m65,664\u001b[0m │ concatenate[\u001b[38;5;34m0\u001b[0m][\u001b[38;5;34m0\u001b[0m] │\n",
       "├─────────────────────┼───────────────────┼────────────┼───────────────────┤\n",
       "│ dropout_2 (\u001b[38;5;33mDropout\u001b[0m) │ (\u001b[38;5;45mNone\u001b[0m, \u001b[38;5;34m128\u001b[0m)       │          \u001b[38;5;34m0\u001b[0m │ dense_1[\u001b[38;5;34m0\u001b[0m][\u001b[38;5;34m0\u001b[0m]     │\n",
       "├─────────────────────┼───────────────────┼────────────┼───────────────────┤\n",
       "│ dense_2 (\u001b[38;5;33mDense\u001b[0m)     │ (\u001b[38;5;45mNone\u001b[0m, \u001b[38;5;34m1351\u001b[0m)      │    \u001b[38;5;34m174,279\u001b[0m │ dropout_2[\u001b[38;5;34m0\u001b[0m][\u001b[38;5;34m0\u001b[0m]   │\n",
       "└─────────────────────┴───────────────────┴────────────┴───────────────────┘\n"
      ]
     },
     "metadata": {},
     "output_type": "display_data"
    },
    {
     "data": {
      "text/html": [
       "<pre style=\"white-space:pre;overflow-x:auto;line-height:normal;font-family:Menlo,'DejaVu Sans Mono',consolas,'Courier New',monospace\"><span style=\"font-weight: bold\"> Total params: </span><span style=\"color: #00af00; text-decoration-color: #00af00\">1,439,303</span> (5.49 MB)\n",
       "</pre>\n"
      ],
      "text/plain": [
       "\u001b[1m Total params: \u001b[0m\u001b[38;5;34m1,439,303\u001b[0m (5.49 MB)\n"
      ]
     },
     "metadata": {},
     "output_type": "display_data"
    },
    {
     "data": {
      "text/html": [
       "<pre style=\"white-space:pre;overflow-x:auto;line-height:normal;font-family:Menlo,'DejaVu Sans Mono',consolas,'Courier New',monospace\"><span style=\"font-weight: bold\"> Trainable params: </span><span style=\"color: #00af00; text-decoration-color: #00af00\">1,439,303</span> (5.49 MB)\n",
       "</pre>\n"
      ],
      "text/plain": [
       "\u001b[1m Trainable params: \u001b[0m\u001b[38;5;34m1,439,303\u001b[0m (5.49 MB)\n"
      ]
     },
     "metadata": {},
     "output_type": "display_data"
    },
    {
     "data": {
      "text/html": [
       "<pre style=\"white-space:pre;overflow-x:auto;line-height:normal;font-family:Menlo,'DejaVu Sans Mono',consolas,'Courier New',monospace\"><span style=\"font-weight: bold\"> Non-trainable params: </span><span style=\"color: #00af00; text-decoration-color: #00af00\">0</span> (0.00 B)\n",
       "</pre>\n"
      ],
      "text/plain": [
       "\u001b[1m Non-trainable params: \u001b[0m\u001b[38;5;34m0\u001b[0m (0.00 B)\n"
      ]
     },
     "metadata": {},
     "output_type": "display_data"
    }
   ],
   "source": [
    "# Input ảnh\n",
    "image_input = Input(shape=(1280,))\n",
    "cnn_features = Dense(256, activation='relu')(image_input)\n",
    "cnn_features_reshaped = Reshape((1, 256), input_shape=(256,))(cnn_features)\n",
    "\n",
    "# --- Input câu và xử lý với Embedding ---\n",
    "# Input câu\n",
    "sentence_input = Input(shape=(max_length,))  # Shape: (batch_size, max_length)\n",
    "\n",
    "# Embedding từ vựng\n",
    "sentence_embedding = Embedding(vocab_size, 256, mask_zero=True, name=\"sentence_embedding\")(sentence_input)\n",
    "\n",
    "# --- 3. LSTM để tạo hidden state ---\n",
    "# LSTM cho câu chú thích\n",
    "lstm_output = LSTM(256, use_cudnn=True)(sentence_embedding)\n",
    "lstm_output = Dropout(0.5)(lstm_output)\n",
    "\n",
    "# --- 4. Attention Mechanism ---\n",
    "# Sử dụng Additive Attention\n",
    "attention_output = AdditiveAttention(dropout=0.2, use_scale=True)([lstm_output, cnn_features])\n",
    "attention_output = Dropout(0.5)(attention_output)\n",
    "\n",
    "# Kết hợp Attention Output và LSTM Output\n",
    "x = Add()([attention_output, lstm_output])\n",
    "x = Concatenate(axis=-1)([x, cnn_features])\n",
    "x = Dense(128, activation='relu')(x)\n",
    "x = Dropout(0.5)(x)\n",
    "\n",
    "# --- 5. Dự đoán từ tiếp theo ---\n",
    "# Fully Connected Layer để tạo đầu ra từ vựng\n",
    "output = Dense(vocab_size, activation=\"softmax\")(x)\n",
    "\n",
    "# --- 6. Xây dựng mô hình ---\n",
    "model = Model(inputs=[image_input, sentence_input], outputs=output)\n",
    "model.summary()"
   ]
  },
  {
   "cell_type": "markdown",
   "id": "f79550f7",
   "metadata": {
    "papermill": {
     "duration": 0.088855,
     "end_time": "2024-12-27T13:22:15.008818",
     "exception": false,
     "start_time": "2024-12-27T13:22:14.919963",
     "status": "completed"
    },
    "tags": []
   },
   "source": [
    "# Prepare data for training"
   ]
  },
  {
   "cell_type": "code",
   "execution_count": 13,
   "id": "d7122a67",
   "metadata": {
    "execution": {
     "iopub.execute_input": "2024-12-27T13:22:15.188042Z",
     "iopub.status.busy": "2024-12-27T13:22:15.187330Z",
     "iopub.status.idle": "2024-12-27T13:22:15.193957Z",
     "shell.execute_reply": "2024-12-27T13:22:15.193231Z"
    },
    "papermill": {
     "duration": 0.097546,
     "end_time": "2024-12-27T13:22:15.195587",
     "exception": false,
     "start_time": "2024-12-27T13:22:15.098041",
     "status": "completed"
    },
    "tags": []
   },
   "outputs": [],
   "source": [
    "def DataGenerator(df, tokenizer=tokenizer, max_length=max_length, image_features=image_features):\n",
    "\n",
    "    image_input, sentence_input, output = list(), list(), list()\n",
    "\n",
    "    for i in range(len(df)):\n",
    "\n",
    "        image_path = df.iloc[i]['image_path']\n",
    "\n",
    "        caption = df.iloc[i]['caption']\n",
    "\n",
    "        caption_sequence = tokenizer.texts_to_sequences([caption])[0]\n",
    "\n",
    "        for j in range(1, len(caption_sequence)):\n",
    "\n",
    "            in_sequence, out_word = caption_sequence[:j], caption_sequence[j]\n",
    "\n",
    "            in_sequence = pad_sequences([in_sequence], maxlen=max_length, padding='post')[0]\n",
    "\n",
    "            out_word = tf.keras.utils.to_categorical([out_word], num_classes=vocab_size)[0]\n",
    "\n",
    "            image_input.append(image_features[image_path][0])\n",
    "\n",
    "            sentence_input.append(in_sequence)\n",
    "\n",
    "            output.append(out_word)\n",
    "\n",
    "    return np.array(image_input), np.array(sentence_input), np.array(output)"
   ]
  },
  {
   "cell_type": "markdown",
   "id": "a41aae1c",
   "metadata": {
    "papermill": {
     "duration": 0.090802,
     "end_time": "2024-12-27T13:22:15.380656",
     "exception": false,
     "start_time": "2024-12-27T13:22:15.289854",
     "status": "completed"
    },
    "tags": []
   },
   "source": [
    "# Train model"
   ]
  },
  {
   "cell_type": "code",
   "execution_count": 14,
   "id": "5d34fdba",
   "metadata": {
    "execution": {
     "iopub.execute_input": "2024-12-27T13:22:15.557607Z",
     "iopub.status.busy": "2024-12-27T13:22:15.557282Z",
     "iopub.status.idle": "2024-12-27T13:22:15.562322Z",
     "shell.execute_reply": "2024-12-27T13:22:15.561586Z"
    },
    "papermill": {
     "duration": 0.094941,
     "end_time": "2024-12-27T13:22:15.563825",
     "exception": false,
     "start_time": "2024-12-27T13:22:15.468884",
     "status": "completed"
    },
    "tags": []
   },
   "outputs": [],
   "source": [
    "checkpoint_callback = ModelCheckpoint(\n",
    "    filepath='EfficientNetV2_attention.keras',    # Đường dẫn file để lưu mô hình\n",
    "    monitor='val_loss',          # Theo dõi 'val_loss'\n",
    "    save_best_only=True,         # Chỉ lưu mô hình tốt nhất\n",
    "    mode='min',                  # Lưu khi 'val_loss' giảm (tối thiểu)\n",
    "    verbose=1                    # Hiển thị thông báo khi lưu mô hình\n",
    ")\n",
    "\n",
    "earlystopping = EarlyStopping(monitor='val_loss',min_delta = 0, patience = 5, verbose = 1, restore_best_weights=True)\n",
    "\n",
    "learning_rate_reduction = ReduceLROnPlateau(monitor='val_loss',\n",
    "                                            patience=3,\n",
    "                                            verbose=1,\n",
    "                                            factor=0.2,\n",
    "                                            min_lr=0.00000001)"
   ]
  },
  {
   "cell_type": "code",
   "execution_count": 15,
   "id": "a30dbace",
   "metadata": {
    "execution": {
     "iopub.execute_input": "2024-12-27T13:22:15.741228Z",
     "iopub.status.busy": "2024-12-27T13:22:15.740885Z",
     "iopub.status.idle": "2024-12-27T13:30:42.391688Z",
     "shell.execute_reply": "2024-12-27T13:30:42.390568Z"
    },
    "papermill": {
     "duration": 506.985443,
     "end_time": "2024-12-27T13:30:42.636482",
     "exception": false,
     "start_time": "2024-12-27T13:22:15.651039",
     "status": "completed"
    },
    "tags": []
   },
   "outputs": [
    {
     "name": "stdout",
     "output_type": "stream",
     "text": [
      "Epoch 1/30\n",
      "\u001b[1m1742/1743\u001b[0m \u001b[32m━━━━━━━━━━━━━━━━━━━\u001b[0m\u001b[37m━\u001b[0m \u001b[1m0s\u001b[0m 8ms/step - accuracy: 0.1255 - loss: 4.7698\n",
      "Epoch 1: val_loss improved from inf to 3.12899, saving model to EfficientNetV2_attention.keras\n",
      "\u001b[1m1743/1743\u001b[0m \u001b[32m━━━━━━━━━━━━━━━━━━━━\u001b[0m\u001b[37m\u001b[0m \u001b[1m22s\u001b[0m 10ms/step - accuracy: 0.1256 - loss: 4.7690 - val_accuracy: 0.3804 - val_loss: 3.1290\n",
      "Epoch 2/30\n",
      "\u001b[1m1739/1743\u001b[0m \u001b[32m━━━━━━━━━━━━━━━━━━━\u001b[0m\u001b[37m━\u001b[0m \u001b[1m0s\u001b[0m 8ms/step - accuracy: 0.3871 - loss: 2.9917\n",
      "Epoch 2: val_loss improved from 3.12899 to 2.37685, saving model to EfficientNetV2_attention.keras\n",
      "\u001b[1m1743/1743\u001b[0m \u001b[32m━━━━━━━━━━━━━━━━━━━━\u001b[0m\u001b[37m\u001b[0m \u001b[1m16s\u001b[0m 9ms/step - accuracy: 0.3872 - loss: 2.9911 - val_accuracy: 0.5000 - val_loss: 2.3769\n",
      "Epoch 3/30\n",
      "\u001b[1m1737/1743\u001b[0m \u001b[32m━━━━━━━━━━━━━━━━━━━\u001b[0m\u001b[37m━\u001b[0m \u001b[1m0s\u001b[0m 8ms/step - accuracy: 0.5065 - loss: 2.3939\n",
      "Epoch 3: val_loss improved from 2.37685 to 2.09108, saving model to EfficientNetV2_attention.keras\n",
      "\u001b[1m1743/1743\u001b[0m \u001b[32m━━━━━━━━━━━━━━━━━━━━\u001b[0m\u001b[37m\u001b[0m \u001b[1m16s\u001b[0m 9ms/step - accuracy: 0.5066 - loss: 2.3937 - val_accuracy: 0.5474 - val_loss: 2.0911\n",
      "Epoch 4/30\n",
      "\u001b[1m1739/1743\u001b[0m \u001b[32m━━━━━━━━━━━━━━━━━━━\u001b[0m\u001b[37m━\u001b[0m \u001b[1m0s\u001b[0m 8ms/step - accuracy: 0.5480 - loss: 2.1244\n",
      "Epoch 4: val_loss improved from 2.09108 to 1.93968, saving model to EfficientNetV2_attention.keras\n",
      "\u001b[1m1743/1743\u001b[0m \u001b[32m━━━━━━━━━━━━━━━━━━━━\u001b[0m\u001b[37m\u001b[0m \u001b[1m16s\u001b[0m 9ms/step - accuracy: 0.5480 - loss: 2.1243 - val_accuracy: 0.5761 - val_loss: 1.9397\n",
      "Epoch 5/30\n",
      "\u001b[1m1742/1743\u001b[0m \u001b[32m━━━━━━━━━━━━━━━━━━━\u001b[0m\u001b[37m━\u001b[0m \u001b[1m0s\u001b[0m 8ms/step - accuracy: 0.5702 - loss: 1.9772\n",
      "Epoch 5: val_loss improved from 1.93968 to 1.83907, saving model to EfficientNetV2_attention.keras\n",
      "\u001b[1m1743/1743\u001b[0m \u001b[32m━━━━━━━━━━━━━━━━━━━━\u001b[0m\u001b[37m\u001b[0m \u001b[1m16s\u001b[0m 9ms/step - accuracy: 0.5702 - loss: 1.9771 - val_accuracy: 0.5914 - val_loss: 1.8391\n",
      "Epoch 6/30\n",
      "\u001b[1m1741/1743\u001b[0m \u001b[32m━━━━━━━━━━━━━━━━━━━\u001b[0m\u001b[37m━\u001b[0m \u001b[1m0s\u001b[0m 8ms/step - accuracy: 0.5876 - loss: 1.8738\n",
      "Epoch 6: val_loss improved from 1.83907 to 1.77104, saving model to EfficientNetV2_attention.keras\n",
      "\u001b[1m1743/1743\u001b[0m \u001b[32m━━━━━━━━━━━━━━━━━━━━\u001b[0m\u001b[37m\u001b[0m \u001b[1m16s\u001b[0m 9ms/step - accuracy: 0.5876 - loss: 1.8738 - val_accuracy: 0.6049 - val_loss: 1.7710\n",
      "Epoch 7/30\n",
      "\u001b[1m1737/1743\u001b[0m \u001b[32m━━━━━━━━━━━━━━━━━━━\u001b[0m\u001b[37m━\u001b[0m \u001b[1m0s\u001b[0m 8ms/step - accuracy: 0.5970 - loss: 1.7994\n",
      "Epoch 7: val_loss improved from 1.77104 to 1.72420, saving model to EfficientNetV2_attention.keras\n",
      "\u001b[1m1743/1743\u001b[0m \u001b[32m━━━━━━━━━━━━━━━━━━━━\u001b[0m\u001b[37m\u001b[0m \u001b[1m16s\u001b[0m 9ms/step - accuracy: 0.5970 - loss: 1.7993 - val_accuracy: 0.6132 - val_loss: 1.7242\n",
      "Epoch 8/30\n",
      "\u001b[1m1742/1743\u001b[0m \u001b[32m━━━━━━━━━━━━━━━━━━━\u001b[0m\u001b[37m━\u001b[0m \u001b[1m0s\u001b[0m 8ms/step - accuracy: 0.6057 - loss: 1.7443\n",
      "Epoch 8: val_loss improved from 1.72420 to 1.68355, saving model to EfficientNetV2_attention.keras\n",
      "\u001b[1m1743/1743\u001b[0m \u001b[32m━━━━━━━━━━━━━━━━━━━━\u001b[0m\u001b[37m\u001b[0m \u001b[1m16s\u001b[0m 9ms/step - accuracy: 0.6057 - loss: 1.7443 - val_accuracy: 0.6203 - val_loss: 1.6836\n",
      "Epoch 9/30\n",
      "\u001b[1m1739/1743\u001b[0m \u001b[32m━━━━━━━━━━━━━━━━━━━\u001b[0m\u001b[37m━\u001b[0m \u001b[1m0s\u001b[0m 8ms/step - accuracy: 0.6155 - loss: 1.6775\n",
      "Epoch 9: val_loss improved from 1.68355 to 1.65422, saving model to EfficientNetV2_attention.keras\n",
      "\u001b[1m1743/1743\u001b[0m \u001b[32m━━━━━━━━━━━━━━━━━━━━\u001b[0m\u001b[37m\u001b[0m \u001b[1m16s\u001b[0m 9ms/step - accuracy: 0.6155 - loss: 1.6775 - val_accuracy: 0.6278 - val_loss: 1.6542\n",
      "Epoch 10/30\n",
      "\u001b[1m1738/1743\u001b[0m \u001b[32m━━━━━━━━━━━━━━━━━━━\u001b[0m\u001b[37m━\u001b[0m \u001b[1m0s\u001b[0m 8ms/step - accuracy: 0.6197 - loss: 1.6439\n",
      "Epoch 10: val_loss improved from 1.65422 to 1.63433, saving model to EfficientNetV2_attention.keras\n",
      "\u001b[1m1743/1743\u001b[0m \u001b[32m━━━━━━━━━━━━━━━━━━━━\u001b[0m\u001b[37m\u001b[0m \u001b[1m16s\u001b[0m 9ms/step - accuracy: 0.6197 - loss: 1.6440 - val_accuracy: 0.6311 - val_loss: 1.6343\n",
      "Epoch 11/30\n",
      "\u001b[1m1739/1743\u001b[0m \u001b[32m━━━━━━━━━━━━━━━━━━━\u001b[0m\u001b[37m━\u001b[0m \u001b[1m0s\u001b[0m 8ms/step - accuracy: 0.6247 - loss: 1.6174\n",
      "Epoch 11: val_loss improved from 1.63433 to 1.61146, saving model to EfficientNetV2_attention.keras\n",
      "\u001b[1m1743/1743\u001b[0m \u001b[32m━━━━━━━━━━━━━━━━━━━━\u001b[0m\u001b[37m\u001b[0m \u001b[1m16s\u001b[0m 9ms/step - accuracy: 0.6247 - loss: 1.6173 - val_accuracy: 0.6338 - val_loss: 1.6115\n",
      "Epoch 12/30\n",
      "\u001b[1m1743/1743\u001b[0m \u001b[32m━━━━━━━━━━━━━━━━━━━━\u001b[0m\u001b[37m\u001b[0m \u001b[1m0s\u001b[0m 8ms/step - accuracy: 0.6306 - loss: 1.5870\n",
      "Epoch 12: val_loss improved from 1.61146 to 1.59756, saving model to EfficientNetV2_attention.keras\n",
      "\u001b[1m1743/1743\u001b[0m \u001b[32m━━━━━━━━━━━━━━━━━━━━\u001b[0m\u001b[37m\u001b[0m \u001b[1m16s\u001b[0m 9ms/step - accuracy: 0.6306 - loss: 1.5870 - val_accuracy: 0.6386 - val_loss: 1.5976\n",
      "Epoch 13/30\n",
      "\u001b[1m1738/1743\u001b[0m \u001b[32m━━━━━━━━━━━━━━━━━━━\u001b[0m\u001b[37m━\u001b[0m \u001b[1m0s\u001b[0m 8ms/step - accuracy: 0.6332 - loss: 1.5626\n",
      "Epoch 13: val_loss improved from 1.59756 to 1.58938, saving model to EfficientNetV2_attention.keras\n",
      "\u001b[1m1743/1743\u001b[0m \u001b[32m━━━━━━━━━━━━━━━━━━━━\u001b[0m\u001b[37m\u001b[0m \u001b[1m16s\u001b[0m 9ms/step - accuracy: 0.6332 - loss: 1.5627 - val_accuracy: 0.6386 - val_loss: 1.5894\n",
      "Epoch 14/30\n",
      "\u001b[1m1739/1743\u001b[0m \u001b[32m━━━━━━━━━━━━━━━━━━━\u001b[0m\u001b[37m━\u001b[0m \u001b[1m0s\u001b[0m 8ms/step - accuracy: 0.6352 - loss: 1.5372\n",
      "Epoch 14: val_loss improved from 1.58938 to 1.57080, saving model to EfficientNetV2_attention.keras\n",
      "\u001b[1m1743/1743\u001b[0m \u001b[32m━━━━━━━━━━━━━━━━━━━━\u001b[0m\u001b[37m\u001b[0m \u001b[1m16s\u001b[0m 9ms/step - accuracy: 0.6352 - loss: 1.5372 - val_accuracy: 0.6431 - val_loss: 1.5708\n",
      "Epoch 15/30\n",
      "\u001b[1m1740/1743\u001b[0m \u001b[32m━━━━━━━━━━━━━━━━━━━\u001b[0m\u001b[37m━\u001b[0m \u001b[1m0s\u001b[0m 8ms/step - accuracy: 0.6371 - loss: 1.5292\n",
      "Epoch 15: val_loss improved from 1.57080 to 1.56214, saving model to EfficientNetV2_attention.keras\n",
      "\u001b[1m1743/1743\u001b[0m \u001b[32m━━━━━━━━━━━━━━━━━━━━\u001b[0m\u001b[37m\u001b[0m \u001b[1m16s\u001b[0m 9ms/step - accuracy: 0.6371 - loss: 1.5292 - val_accuracy: 0.6440 - val_loss: 1.5621\n",
      "Epoch 16/30\n",
      "\u001b[1m1739/1743\u001b[0m \u001b[32m━━━━━━━━━━━━━━━━━━━\u001b[0m\u001b[37m━\u001b[0m \u001b[1m0s\u001b[0m 8ms/step - accuracy: 0.6416 - loss: 1.5094\n",
      "Epoch 16: val_loss improved from 1.56214 to 1.55160, saving model to EfficientNetV2_attention.keras\n",
      "\u001b[1m1743/1743\u001b[0m \u001b[32m━━━━━━━━━━━━━━━━━━━━\u001b[0m\u001b[37m\u001b[0m \u001b[1m16s\u001b[0m 9ms/step - accuracy: 0.6416 - loss: 1.5094 - val_accuracy: 0.6461 - val_loss: 1.5516\n",
      "Epoch 17/30\n",
      "\u001b[1m1738/1743\u001b[0m \u001b[32m━━━━━━━━━━━━━━━━━━━\u001b[0m\u001b[37m━\u001b[0m \u001b[1m0s\u001b[0m 8ms/step - accuracy: 0.6432 - loss: 1.4906\n",
      "Epoch 17: val_loss improved from 1.55160 to 1.54977, saving model to EfficientNetV2_attention.keras\n",
      "\u001b[1m1743/1743\u001b[0m \u001b[32m━━━━━━━━━━━━━━━━━━━━\u001b[0m\u001b[37m\u001b[0m \u001b[1m16s\u001b[0m 9ms/step - accuracy: 0.6432 - loss: 1.4906 - val_accuracy: 0.6472 - val_loss: 1.5498\n",
      "Epoch 18/30\n",
      "\u001b[1m1741/1743\u001b[0m \u001b[32m━━━━━━━━━━━━━━━━━━━\u001b[0m\u001b[37m━\u001b[0m \u001b[1m0s\u001b[0m 8ms/step - accuracy: 0.6434 - loss: 1.4781\n",
      "Epoch 18: val_loss improved from 1.54977 to 1.53956, saving model to EfficientNetV2_attention.keras\n",
      "\u001b[1m1743/1743\u001b[0m \u001b[32m━━━━━━━━━━━━━━━━━━━━\u001b[0m\u001b[37m\u001b[0m \u001b[1m16s\u001b[0m 9ms/step - accuracy: 0.6434 - loss: 1.4781 - val_accuracy: 0.6476 - val_loss: 1.5396\n",
      "Epoch 19/30\n",
      "\u001b[1m1737/1743\u001b[0m \u001b[32m━━━━━━━━━━━━━━━━━━━\u001b[0m\u001b[37m━\u001b[0m \u001b[1m0s\u001b[0m 8ms/step - accuracy: 0.6452 - loss: 1.4750\n",
      "Epoch 19: val_loss improved from 1.53956 to 1.53843, saving model to EfficientNetV2_attention.keras\n",
      "\u001b[1m1743/1743\u001b[0m \u001b[32m━━━━━━━━━━━━━━━━━━━━\u001b[0m\u001b[37m\u001b[0m \u001b[1m16s\u001b[0m 9ms/step - accuracy: 0.6452 - loss: 1.4750 - val_accuracy: 0.6501 - val_loss: 1.5384\n",
      "Epoch 20/30\n",
      "\u001b[1m1742/1743\u001b[0m \u001b[32m━━━━━━━━━━━━━━━━━━━\u001b[0m\u001b[37m━\u001b[0m \u001b[1m0s\u001b[0m 8ms/step - accuracy: 0.6456 - loss: 1.4594\n",
      "Epoch 20: val_loss improved from 1.53843 to 1.52911, saving model to EfficientNetV2_attention.keras\n",
      "\u001b[1m1743/1743\u001b[0m \u001b[32m━━━━━━━━━━━━━━━━━━━━\u001b[0m\u001b[37m\u001b[0m \u001b[1m16s\u001b[0m 9ms/step - accuracy: 0.6456 - loss: 1.4594 - val_accuracy: 0.6502 - val_loss: 1.5291\n",
      "Epoch 21/30\n",
      "\u001b[1m1739/1743\u001b[0m \u001b[32m━━━━━━━━━━━━━━━━━━━\u001b[0m\u001b[37m━\u001b[0m \u001b[1m0s\u001b[0m 8ms/step - accuracy: 0.6447 - loss: 1.4520\n",
      "Epoch 21: val_loss improved from 1.52911 to 1.52226, saving model to EfficientNetV2_attention.keras\n",
      "\u001b[1m1743/1743\u001b[0m \u001b[32m━━━━━━━━━━━━━━━━━━━━\u001b[0m\u001b[37m\u001b[0m \u001b[1m16s\u001b[0m 9ms/step - accuracy: 0.6448 - loss: 1.4520 - val_accuracy: 0.6520 - val_loss: 1.5223\n",
      "Epoch 22/30\n",
      "\u001b[1m1739/1743\u001b[0m \u001b[32m━━━━━━━━━━━━━━━━━━━\u001b[0m\u001b[37m━\u001b[0m \u001b[1m0s\u001b[0m 8ms/step - accuracy: 0.6505 - loss: 1.4251\n",
      "Epoch 22: val_loss did not improve from 1.52226\n",
      "\u001b[1m1743/1743\u001b[0m \u001b[32m━━━━━━━━━━━━━━━━━━━━\u001b[0m\u001b[37m\u001b[0m \u001b[1m16s\u001b[0m 9ms/step - accuracy: 0.6505 - loss: 1.4251 - val_accuracy: 0.6524 - val_loss: 1.5267\n",
      "Epoch 23/30\n",
      "\u001b[1m1742/1743\u001b[0m \u001b[32m━━━━━━━━━━━━━━━━━━━\u001b[0m\u001b[37m━\u001b[0m \u001b[1m0s\u001b[0m 8ms/step - accuracy: 0.6512 - loss: 1.4297\n",
      "Epoch 23: val_loss improved from 1.52226 to 1.51996, saving model to EfficientNetV2_attention.keras\n",
      "\u001b[1m1743/1743\u001b[0m \u001b[32m━━━━━━━━━━━━━━━━━━━━\u001b[0m\u001b[37m\u001b[0m \u001b[1m16s\u001b[0m 9ms/step - accuracy: 0.6512 - loss: 1.4297 - val_accuracy: 0.6533 - val_loss: 1.5200\n",
      "Epoch 24/30\n",
      "\u001b[1m1743/1743\u001b[0m \u001b[32m━━━━━━━━━━━━━━━━━━━━\u001b[0m\u001b[37m\u001b[0m \u001b[1m0s\u001b[0m 8ms/step - accuracy: 0.6516 - loss: 1.4204\n",
      "Epoch 24: val_loss improved from 1.51996 to 1.51840, saving model to EfficientNetV2_attention.keras\n",
      "\u001b[1m1743/1743\u001b[0m \u001b[32m━━━━━━━━━━━━━━━━━━━━\u001b[0m\u001b[37m\u001b[0m \u001b[1m16s\u001b[0m 9ms/step - accuracy: 0.6516 - loss: 1.4204 - val_accuracy: 0.6544 - val_loss: 1.5184\n",
      "Epoch 25/30\n",
      "\u001b[1m1742/1743\u001b[0m \u001b[32m━━━━━━━━━━━━━━━━━━━\u001b[0m\u001b[37m━\u001b[0m \u001b[1m0s\u001b[0m 8ms/step - accuracy: 0.6553 - loss: 1.4019\n",
      "Epoch 25: val_loss improved from 1.51840 to 1.51138, saving model to EfficientNetV2_attention.keras\n",
      "\u001b[1m1743/1743\u001b[0m \u001b[32m━━━━━━━━━━━━━━━━━━━━\u001b[0m\u001b[37m\u001b[0m \u001b[1m16s\u001b[0m 9ms/step - accuracy: 0.6553 - loss: 1.4019 - val_accuracy: 0.6561 - val_loss: 1.5114\n",
      "Epoch 26/30\n",
      "\u001b[1m1742/1743\u001b[0m \u001b[32m━━━━━━━━━━━━━━━━━━━\u001b[0m\u001b[37m━\u001b[0m \u001b[1m0s\u001b[0m 8ms/step - accuracy: 0.6552 - loss: 1.3962\n",
      "Epoch 26: val_loss improved from 1.51138 to 1.51068, saving model to EfficientNetV2_attention.keras\n",
      "\u001b[1m1743/1743\u001b[0m \u001b[32m━━━━━━━━━━━━━━━━━━━━\u001b[0m\u001b[37m\u001b[0m \u001b[1m16s\u001b[0m 9ms/step - accuracy: 0.6552 - loss: 1.3962 - val_accuracy: 0.6573 - val_loss: 1.5107\n",
      "Epoch 27/30\n",
      "\u001b[1m1743/1743\u001b[0m \u001b[32m━━━━━━━━━━━━━━━━━━━━\u001b[0m\u001b[37m\u001b[0m \u001b[1m0s\u001b[0m 8ms/step - accuracy: 0.6564 - loss: 1.3925\n",
      "Epoch 27: val_loss improved from 1.51068 to 1.50618, saving model to EfficientNetV2_attention.keras\n",
      "\u001b[1m1743/1743\u001b[0m \u001b[32m━━━━━━━━━━━━━━━━━━━━\u001b[0m\u001b[37m\u001b[0m \u001b[1m16s\u001b[0m 9ms/step - accuracy: 0.6564 - loss: 1.3925 - val_accuracy: 0.6568 - val_loss: 1.5062\n",
      "Epoch 28/30\n",
      "\u001b[1m1739/1743\u001b[0m \u001b[32m━━━━━━━━━━━━━━━━━━━\u001b[0m\u001b[37m━\u001b[0m \u001b[1m0s\u001b[0m 8ms/step - accuracy: 0.6573 - loss: 1.3811\n",
      "Epoch 28: val_loss improved from 1.50618 to 1.50509, saving model to EfficientNetV2_attention.keras\n",
      "\u001b[1m1743/1743\u001b[0m \u001b[32m━━━━━━━━━━━━━━━━━━━━\u001b[0m\u001b[37m\u001b[0m \u001b[1m16s\u001b[0m 9ms/step - accuracy: 0.6573 - loss: 1.3811 - val_accuracy: 0.6585 - val_loss: 1.5051\n",
      "Epoch 29/30\n",
      "\u001b[1m1740/1743\u001b[0m \u001b[32m━━━━━━━━━━━━━━━━━━━\u001b[0m\u001b[37m━\u001b[0m \u001b[1m0s\u001b[0m 8ms/step - accuracy: 0.6566 - loss: 1.3820\n",
      "Epoch 29: val_loss improved from 1.50509 to 1.49892, saving model to EfficientNetV2_attention.keras\n",
      "\u001b[1m1743/1743\u001b[0m \u001b[32m━━━━━━━━━━━━━━━━━━━━\u001b[0m\u001b[37m\u001b[0m \u001b[1m16s\u001b[0m 9ms/step - accuracy: 0.6566 - loss: 1.3820 - val_accuracy: 0.6588 - val_loss: 1.4989\n",
      "Epoch 30/30\n",
      "\u001b[1m1739/1743\u001b[0m \u001b[32m━━━━━━━━━━━━━━━━━━━\u001b[0m\u001b[37m━\u001b[0m \u001b[1m0s\u001b[0m 8ms/step - accuracy: 0.6575 - loss: 1.3763\n",
      "Epoch 30: val_loss did not improve from 1.49892\n",
      "\u001b[1m1743/1743\u001b[0m \u001b[32m━━━━━━━━━━━━━━━━━━━━\u001b[0m\u001b[37m\u001b[0m \u001b[1m16s\u001b[0m 9ms/step - accuracy: 0.6575 - loss: 1.3763 - val_accuracy: 0.6586 - val_loss: 1.5055\n"
     ]
    }
   ],
   "source": [
    "optimizer = tf.keras.optimizers.Adam(learning_rate=0.0001)\n",
    "model.compile(optimizer=optimizer, loss='categorical_crossentropy', metrics=['accuracy'])\n",
    "\n",
    "\n",
    "\n",
    "train_image_data, train_sentence_data, train_output_data = DataGenerator(df_train_preprocessed)\n",
    "\n",
    "val_image_data, val_sentence_data, val_output_data = DataGenerator(df_val_preprocessed)\n",
    "\n",
    "# Huấn luyện mô hình\n",
    "\n",
    "with tf.device('/GPU:0'):\n",
    "\n",
    "    history = model.fit(\n",
    "\n",
    "        x=[train_image_data, train_sentence_data],\n",
    "\n",
    "        y=train_output_data,\n",
    "\n",
    "        validation_data=([val_image_data, val_sentence_data], val_output_data),\n",
    "\n",
    "        epochs=30,  # Số vòng lặp\n",
    "\n",
    "        batch_size=100, # Kích thước batch\n",
    "        \n",
    "        callbacks=[checkpoint_callback]\n",
    "        \n",
    "    )"
   ]
  },
  {
   "cell_type": "code",
   "execution_count": 16,
   "id": "1d6acf0b",
   "metadata": {
    "execution": {
     "iopub.execute_input": "2024-12-27T13:30:43.586559Z",
     "iopub.status.busy": "2024-12-27T13:30:43.586235Z",
     "iopub.status.idle": "2024-12-27T13:30:43.959805Z",
     "shell.execute_reply": "2024-12-27T13:30:43.958916Z"
    },
    "papermill": {
     "duration": 0.830089,
     "end_time": "2024-12-27T13:30:43.961635",
     "exception": false,
     "start_time": "2024-12-27T13:30:43.131546",
     "status": "completed"
    },
    "tags": []
   },
   "outputs": [
    {
     "data": {
      "image/png": "[encoded data removed]",
      "text/plain": [
       "<Figure size 640x480 with 1 Axes>"
      ]
     },
     "metadata": {},
     "output_type": "display_data"
    },
    {
     "data": {
      "image/png": "[encoded data removed]",
      "text/plain": [
       "<Figure size 640x480 with 1 Axes>"
      ]
     },
     "metadata": {},
     "output_type": "display_data"
    }
   ],
   "source": [
    "import matplotlib.pyplot as plt\n",
    "\n",
    "\n",
    "\n",
    "# Vẽ biểu đồ loss\n",
    "\n",
    "plt.plot(history.history['loss'], label='Train Loss')\n",
    "\n",
    "plt.plot(history.history['val_loss'], label='Validation Loss')\n",
    "\n",
    "plt.xlabel('Epochs')\n",
    "\n",
    "plt.ylabel('Loss')\n",
    "\n",
    "plt.legend()\n",
    "\n",
    "plt.title('Loss Over Epochs')\n",
    "\n",
    "plt.show()\n",
    "\n",
    "\n",
    "\n",
    "# Vẽ biểu đồ accuracy\n",
    "\n",
    "plt.plot(history.history['accuracy'], label='Train Accuracy')\n",
    "\n",
    "plt.plot(history.history['val_accuracy'], label='Validation Accuracy')\n",
    "\n",
    "plt.xlabel('Epochs')\n",
    "\n",
    "plt.ylabel('Accuracy')\n",
    "\n",
    "plt.legend()\n",
    "\n",
    "plt.title('Accuracy Over Epochs')\n",
    "\n",
    "plt.show()"
   ]
  },
  {
   "cell_type": "markdown",
   "id": "891d5e9e",
   "metadata": {
    "papermill": {
     "duration": 0.454803,
     "end_time": "2024-12-27T13:30:44.912806",
     "exception": false,
     "start_time": "2024-12-27T13:30:44.458003",
     "status": "completed"
    },
    "tags": []
   },
   "source": [
    "# BLEU metric"
   ]
  },
  {
   "cell_type": "code",
   "execution_count": 17,
   "id": "d40ab84f",
   "metadata": {
    "execution": {
     "iopub.execute_input": "2024-12-27T13:30:45.847613Z",
     "iopub.status.busy": "2024-12-27T13:30:45.846733Z",
     "iopub.status.idle": "2024-12-27T13:30:45.851505Z",
     "shell.execute_reply": "2024-12-27T13:30:45.850589Z"
    },
    "papermill": {
     "duration": 0.492915,
     "end_time": "2024-12-27T13:30:45.853136",
     "exception": false,
     "start_time": "2024-12-27T13:30:45.360221",
     "status": "completed"
    },
    "tags": []
   },
   "outputs": [],
   "source": [
    "def idx_to_word(integer,tokenizer):\n",
    "    for word, index in tokenizer.word_index.items():\n",
    "        if index==integer:\n",
    "            return word\n",
    "    return None"
   ]
  },
  {
   "cell_type": "code",
   "execution_count": 18,
   "id": "277f9a32",
   "metadata": {
    "execution": {
     "iopub.execute_input": "2024-12-27T13:30:46.788275Z",
     "iopub.status.busy": "2024-12-27T13:30:46.787220Z",
     "iopub.status.idle": "2024-12-27T13:30:46.793990Z",
     "shell.execute_reply": "2024-12-27T13:30:46.793286Z"
    },
    "papermill": {
     "duration": 0.49867,
     "end_time": "2024-12-27T13:30:46.795613",
     "exception": false,
     "start_time": "2024-12-27T13:30:46.296943",
     "status": "completed"
    },
    "tags": []
   },
   "outputs": [],
   "source": [
    "def predict_caption(model, image, tokenizer=tokenizer, max_length=max_length, features=image_features):\n",
    "    img = load_img(image, target_size=(224, 224))\n",
    "    img = img_to_array(img)\n",
    "    img = img / 255.0\n",
    "    img = np.expand_dims(img, axis=0)\n",
    "    feature = image_features[image]\n",
    "    in_text = \"startseq\"\n",
    "    for i in range(max_length):\n",
    "        sequence = tokenizer.texts_to_sequences([in_text])[0]\n",
    "        sequence = pad_sequences([sequence], max_length, padding='post')\n",
    "\n",
    "        y_pred = model.predict([feature,sequence], verbose=0)\n",
    "        y_pred = np.argmax(y_pred)\n",
    "\n",
    "        word = idx_to_word(y_pred, tokenizer)\n",
    "\n",
    "        if word is None:\n",
    "            break\n",
    "\n",
    "        in_text+= \" \" + word\n",
    "\n",
    "        if word == 'endseq':\n",
    "            break\n",
    "\n",
    "    return in_text"
   ]
  },
  {
   "cell_type": "code",
   "execution_count": 19,
   "id": "80c0111a",
   "metadata": {
    "execution": {
     "iopub.execute_input": "2024-12-27T13:30:47.686548Z",
     "iopub.status.busy": "2024-12-27T13:30:47.684921Z",
     "iopub.status.idle": "2024-12-27T13:30:47.690128Z",
     "shell.execute_reply": "2024-12-27T13:30:47.689395Z"
    },
    "papermill": {
     "duration": 0.454103,
     "end_time": "2024-12-27T13:30:47.691887",
     "exception": false,
     "start_time": "2024-12-27T13:30:47.237784",
     "status": "completed"
    },
    "tags": []
   },
   "outputs": [],
   "source": [
    "from nltk.translate.bleu_score import sentence_bleu, SmoothingFunction"
   ]
  },
  {
   "cell_type": "code",
   "execution_count": 20,
   "id": "010ff41a",
   "metadata": {
    "execution": {
     "iopub.execute_input": "2024-12-27T13:30:48.624253Z",
     "iopub.status.busy": "2024-12-27T13:30:48.623881Z",
     "iopub.status.idle": "2024-12-27T13:30:48.633061Z",
     "shell.execute_reply": "2024-12-27T13:30:48.632204Z"
    },
    "papermill": {
     "duration": 0.461418,
     "end_time": "2024-12-27T13:30:48.634870",
     "exception": false,
     "start_time": "2024-12-27T13:30:48.173452",
     "status": "completed"
    },
    "tags": []
   },
   "outputs": [],
   "source": [
    "df_test_preprocessed['caption'] = df_test_preprocessed['caption'].str.replace(r'^startseq ', '', regex=True)\n",
    "df_test_preprocessed['caption'] = df_test_preprocessed['caption'].str.replace(r' endseq$', '', regex=True)"
   ]
  },
  {
   "cell_type": "code",
   "execution_count": 21,
   "id": "3e24023f",
   "metadata": {
    "execution": {
     "iopub.execute_input": "2024-12-27T13:30:49.601295Z",
     "iopub.status.busy": "2024-12-27T13:30:49.600939Z",
     "iopub.status.idle": "2024-12-27T13:30:49.617565Z",
     "shell.execute_reply": "2024-12-27T13:30:49.616885Z"
    },
    "papermill": {
     "duration": 0.500243,
     "end_time": "2024-12-27T13:30:49.619119",
     "exception": false,
     "start_time": "2024-12-27T13:30:49.118876",
     "status": "completed"
    },
    "tags": []
   },
   "outputs": [],
   "source": [
    "df_test_merge = df_test_preprocessed.groupby('image_path')['caption'].apply(list).reset_index()"
   ]
  },
  {
   "cell_type": "code",
   "execution_count": 22,
   "id": "e839af76",
   "metadata": {
    "execution": {
     "iopub.execute_input": "2024-12-27T13:30:50.550579Z",
     "iopub.status.busy": "2024-12-27T13:30:50.549592Z",
     "iopub.status.idle": "2024-12-27T13:30:50.562412Z",
     "shell.execute_reply": "2024-12-27T13:30:50.561613Z"
    },
    "papermill": {
     "duration": 0.46147,
     "end_time": "2024-12-27T13:30:50.563893",
     "exception": false,
     "start_time": "2024-12-27T13:30:50.102423",
     "status": "completed"
    },
    "tags": []
   },
   "outputs": [
    {
     "data": {
      "text/html": [
       "<div>\n",
       "<style scoped>\n",
       "    .dataframe tbody tr th:only-of-type {\n",
       "        vertical-align: middle;\n",
       "    }\n",
       "\n",
       "    .dataframe tbody tr th {\n",
       "        vertical-align: top;\n",
       "    }\n",
       "\n",
       "    .dataframe thead th {\n",
       "        text-align: right;\n",
       "    }\n",
       "</style>\n",
       "<table border=\"1\" class=\"dataframe\">\n",
       "  <thead>\n",
       "    <tr style=\"text-align: right;\">\n",
       "      <th></th>\n",
       "      <th>image_path</th>\n",
       "      <th>caption</th>\n",
       "    </tr>\n",
       "  </thead>\n",
       "  <tbody>\n",
       "    <tr>\n",
       "      <th>0</th>\n",
       "      <td>/kaggle/input/uit-viic-v1-0-vietnamese-image-c...</td>\n",
       "      <td>[trên sân một cầu thủ đánh bóng đang chuẩn bị ...</td>\n",
       "    </tr>\n",
       "    <tr>\n",
       "      <th>1</th>\n",
       "      <td>/kaggle/input/uit-viic-v1-0-vietnamese-image-c...</td>\n",
       "      <td>[hình ảnh hai cậu bé đang chơi trong khu dân c...</td>\n",
       "    </tr>\n",
       "    <tr>\n",
       "      <th>2</th>\n",
       "      <td>/kaggle/input/uit-viic-v1-0-vietnamese-image-c...</td>\n",
       "      <td>[hình ảnh một trận thi đấu bóng đá đang diễn r...</td>\n",
       "    </tr>\n",
       "    <tr>\n",
       "      <th>3</th>\n",
       "      <td>/kaggle/input/uit-viic-v1-0-vietnamese-image-c...</td>\n",
       "      <td>[một người phụ nữ đang vung vợt để đánh quả bó...</td>\n",
       "    </tr>\n",
       "    <tr>\n",
       "      <th>4</th>\n",
       "      <td>/kaggle/input/uit-viic-v1-0-vietnamese-image-c...</td>\n",
       "      <td>[một cậu bé đang nghiêng người để đánh quả bón...</td>\n",
       "    </tr>\n",
       "    <tr>\n",
       "      <th>...</th>\n",
       "      <td>...</td>\n",
       "      <td>...</td>\n",
       "    </tr>\n",
       "    <tr>\n",
       "      <th>226</th>\n",
       "      <td>/kaggle/input/uit-viic-v1-0-vietnamese-image-c...</td>\n",
       "      <td>[một người đàn ông đang dùng vợt để đánh quả b...</td>\n",
       "    </tr>\n",
       "    <tr>\n",
       "      <th>227</th>\n",
       "      <td>/kaggle/input/uit-viic-v1-0-vietnamese-image-c...</td>\n",
       "      <td>[một người đàn ông đang chuẩn bị đánh quả bóng...</td>\n",
       "    </tr>\n",
       "    <tr>\n",
       "      <th>228</th>\n",
       "      <td>/kaggle/input/uit-viic-v1-0-vietnamese-image-c...</td>\n",
       "      <td>[các cầu thủ bóng đá đang thi đấu ngoài trời, ...</td>\n",
       "    </tr>\n",
       "    <tr>\n",
       "      <th>229</th>\n",
       "      <td>/kaggle/input/uit-viic-v1-0-vietnamese-image-c...</td>\n",
       "      <td>[một cầu thủ đánh bóng đang xoay người để đánh...</td>\n",
       "    </tr>\n",
       "    <tr>\n",
       "      <th>230</th>\n",
       "      <td>/kaggle/input/uit-viic-v1-0-vietnamese-image-c...</td>\n",
       "      <td>[một cậu bé đang luyện tập bóng chày trên sân,...</td>\n",
       "    </tr>\n",
       "  </tbody>\n",
       "</table>\n",
       "<p>231 rows × 2 columns</p>\n",
       "</div>"
      ],
      "text/plain": [
       "                                            image_path  \\\n",
       "0    /kaggle/input/uit-viic-v1-0-vietnamese-image-c...   \n",
       "1    /kaggle/input/uit-viic-v1-0-vietnamese-image-c...   \n",
       "2    /kaggle/input/uit-viic-v1-0-vietnamese-image-c...   \n",
       "3    /kaggle/input/uit-viic-v1-0-vietnamese-image-c...   \n",
       "4    /kaggle/input/uit-viic-v1-0-vietnamese-image-c...   \n",
       "..                                                 ...   \n",
       "226  /kaggle/input/uit-viic-v1-0-vietnamese-image-c...   \n",
       "227  /kaggle/input/uit-viic-v1-0-vietnamese-image-c...   \n",
       "228  /kaggle/input/uit-viic-v1-0-vietnamese-image-c...   \n",
       "229  /kaggle/input/uit-viic-v1-0-vietnamese-image-c...   \n",
       "230  /kaggle/input/uit-viic-v1-0-vietnamese-image-c...   \n",
       "\n",
       "                                               caption  \n",
       "0    [trên sân một cầu thủ đánh bóng đang chuẩn bị ...  \n",
       "1    [hình ảnh hai cậu bé đang chơi trong khu dân c...  \n",
       "2    [hình ảnh một trận thi đấu bóng đá đang diễn r...  \n",
       "3    [một người phụ nữ đang vung vợt để đánh quả bó...  \n",
       "4    [một cậu bé đang nghiêng người để đánh quả bón...  \n",
       "..                                                 ...  \n",
       "226  [một người đàn ông đang dùng vợt để đánh quả b...  \n",
       "227  [một người đàn ông đang chuẩn bị đánh quả bóng...  \n",
       "228  [các cầu thủ bóng đá đang thi đấu ngoài trời, ...  \n",
       "229  [một cầu thủ đánh bóng đang xoay người để đánh...  \n",
       "230  [một cậu bé đang luyện tập bóng chày trên sân,...  \n",
       "\n",
       "[231 rows x 2 columns]"
      ]
     },
     "execution_count": 22,
     "metadata": {},
     "output_type": "execute_result"
    }
   ],
   "source": [
    "df_test_merge"
   ]
  },
  {
   "cell_type": "code",
   "execution_count": 23,
   "id": "979bdbbc",
   "metadata": {
    "execution": {
     "iopub.execute_input": "2024-12-27T13:30:51.499404Z",
     "iopub.status.busy": "2024-12-27T13:30:51.498428Z",
     "iopub.status.idle": "2024-12-27T13:33:35.334871Z",
     "shell.execute_reply": "2024-12-27T13:33:35.334026Z"
    },
    "papermill": {
     "duration": 164.327675,
     "end_time": "2024-12-27T13:33:35.337245",
     "exception": false,
     "start_time": "2024-12-27T13:30:51.009570",
     "status": "completed"
    },
    "tags": []
   },
   "outputs": [
    {
     "name": "stderr",
     "output_type": "stream",
     "text": [
      "/opt/conda/lib/python3.10/site-packages/keras/src/ops/nn.py:545: UserWarning: You are using a softmax over axis -1 of a tensor of shape (1, 1). This axis has size 1. The softmax operation will always return the value 1, which is likely not what you intended. Did you mean to use a sigmoid instead?\n",
      "  warnings.warn(\n"
     ]
    }
   ],
   "source": [
    "for index,record in df_test_merge.iterrows():\n",
    "    img = load_img(record['image_path'],target_size=(224,224))\n",
    "    img = img_to_array(img)\n",
    "    img = img/255.\n",
    "\n",
    "    caption = predict_caption(model, record['image_path'], tokenizer, max_length, image_features)\n",
    "    df_test_merge.loc[index,'predict'] = caption"
   ]
  },
  {
   "cell_type": "code",
   "execution_count": 24,
   "id": "bf89fcd7",
   "metadata": {
    "execution": {
     "iopub.execute_input": "2024-12-27T13:33:36.269916Z",
     "iopub.status.busy": "2024-12-27T13:33:36.269043Z",
     "iopub.status.idle": "2024-12-27T13:33:36.275303Z",
     "shell.execute_reply": "2024-12-27T13:33:36.274510Z"
    },
    "papermill": {
     "duration": 0.495384,
     "end_time": "2024-12-27T13:33:36.276881",
     "exception": false,
     "start_time": "2024-12-27T13:33:35.781497",
     "status": "completed"
    },
    "tags": []
   },
   "outputs": [],
   "source": [
    "df_test_merge['predict'] = df_test_merge['predict'].str.replace(r'^startseq ', '', regex=True)\n",
    "df_test_merge['predict'] = df_test_merge['predict'].str.replace(r' endseq$', '', regex=True)"
   ]
  },
  {
   "cell_type": "code",
   "execution_count": 25,
   "id": "ba3735b4",
   "metadata": {
    "execution": {
     "iopub.execute_input": "2024-12-27T13:33:37.162729Z",
     "iopub.status.busy": "2024-12-27T13:33:37.162011Z",
     "iopub.status.idle": "2024-12-27T13:33:37.174197Z",
     "shell.execute_reply": "2024-12-27T13:33:37.173333Z"
    },
    "papermill": {
     "duration": 0.458941,
     "end_time": "2024-12-27T13:33:37.175991",
     "exception": false,
     "start_time": "2024-12-27T13:33:36.717050",
     "status": "completed"
    },
    "tags": []
   },
   "outputs": [
    {
     "data": {
      "text/html": [
       "<div>\n",
       "<style scoped>\n",
       "    .dataframe tbody tr th:only-of-type {\n",
       "        vertical-align: middle;\n",
       "    }\n",
       "\n",
       "    .dataframe tbody tr th {\n",
       "        vertical-align: top;\n",
       "    }\n",
       "\n",
       "    .dataframe thead th {\n",
       "        text-align: right;\n",
       "    }\n",
       "</style>\n",
       "<table border=\"1\" class=\"dataframe\">\n",
       "  <thead>\n",
       "    <tr style=\"text-align: right;\">\n",
       "      <th></th>\n",
       "      <th>image_path</th>\n",
       "      <th>caption</th>\n",
       "      <th>predict</th>\n",
       "    </tr>\n",
       "  </thead>\n",
       "  <tbody>\n",
       "    <tr>\n",
       "      <th>0</th>\n",
       "      <td>/kaggle/input/uit-viic-v1-0-vietnamese-image-c...</td>\n",
       "      <td>[trên sân một cầu thủ đánh bóng đang chuẩn bị ...</td>\n",
       "      <td>một người đàn ông đang chuẩn bị đánh quả bóng ...</td>\n",
       "    </tr>\n",
       "    <tr>\n",
       "      <th>1</th>\n",
       "      <td>/kaggle/input/uit-viic-v1-0-vietnamese-image-c...</td>\n",
       "      <td>[hình ảnh hai cậu bé đang chơi trong khu dân c...</td>\n",
       "      <td>một người đàn ông đang chuẩn bị đánh quả bóng ...</td>\n",
       "    </tr>\n",
       "    <tr>\n",
       "      <th>2</th>\n",
       "      <td>/kaggle/input/uit-viic-v1-0-vietnamese-image-c...</td>\n",
       "      <td>[hình ảnh một trận thi đấu bóng đá đang diễn r...</td>\n",
       "      <td>một người đàn ông đang chuẩn bị đánh quả bóng ...</td>\n",
       "    </tr>\n",
       "    <tr>\n",
       "      <th>3</th>\n",
       "      <td>/kaggle/input/uit-viic-v1-0-vietnamese-image-c...</td>\n",
       "      <td>[một người phụ nữ đang vung vợt để đánh quả bó...</td>\n",
       "      <td>một người đàn ông đang chuẩn bị đánh quả bóng ...</td>\n",
       "    </tr>\n",
       "    <tr>\n",
       "      <th>4</th>\n",
       "      <td>/kaggle/input/uit-viic-v1-0-vietnamese-image-c...</td>\n",
       "      <td>[một cậu bé đang nghiêng người để đánh quả bón...</td>\n",
       "      <td>một người đàn ông đang chuẩn bị đánh quả bóng ...</td>\n",
       "    </tr>\n",
       "    <tr>\n",
       "      <th>...</th>\n",
       "      <td>...</td>\n",
       "      <td>...</td>\n",
       "      <td>...</td>\n",
       "    </tr>\n",
       "    <tr>\n",
       "      <th>226</th>\n",
       "      <td>/kaggle/input/uit-viic-v1-0-vietnamese-image-c...</td>\n",
       "      <td>[một người đàn ông đang dùng vợt để đánh quả b...</td>\n",
       "      <td>một người đàn ông đang chuẩn bị đánh quả bóng ...</td>\n",
       "    </tr>\n",
       "    <tr>\n",
       "      <th>227</th>\n",
       "      <td>/kaggle/input/uit-viic-v1-0-vietnamese-image-c...</td>\n",
       "      <td>[một người đàn ông đang chuẩn bị đánh quả bóng...</td>\n",
       "      <td>một người đàn ông đang chuẩn bị đánh quả bóng ...</td>\n",
       "    </tr>\n",
       "    <tr>\n",
       "      <th>228</th>\n",
       "      <td>/kaggle/input/uit-viic-v1-0-vietnamese-image-c...</td>\n",
       "      <td>[các cầu thủ bóng đá đang thi đấu ngoài trời, ...</td>\n",
       "      <td>một người đàn ông đang chuẩn bị đánh quả bóng ...</td>\n",
       "    </tr>\n",
       "    <tr>\n",
       "      <th>229</th>\n",
       "      <td>/kaggle/input/uit-viic-v1-0-vietnamese-image-c...</td>\n",
       "      <td>[một cầu thủ đánh bóng đang xoay người để đánh...</td>\n",
       "      <td>một người đàn ông đang chuẩn bị đánh quả bóng ...</td>\n",
       "    </tr>\n",
       "    <tr>\n",
       "      <th>230</th>\n",
       "      <td>/kaggle/input/uit-viic-v1-0-vietnamese-image-c...</td>\n",
       "      <td>[một cậu bé đang luyện tập bóng chày trên sân,...</td>\n",
       "      <td>một người đàn ông đang chuẩn bị đánh quả bóng ...</td>\n",
       "    </tr>\n",
       "  </tbody>\n",
       "</table>\n",
       "<p>231 rows × 3 columns</p>\n",
       "</div>"
      ],
      "text/plain": [
       "                                            image_path  \\\n",
       "0    /kaggle/input/uit-viic-v1-0-vietnamese-image-c...   \n",
       "1    /kaggle/input/uit-viic-v1-0-vietnamese-image-c...   \n",
       "2    /kaggle/input/uit-viic-v1-0-vietnamese-image-c...   \n",
       "3    /kaggle/input/uit-viic-v1-0-vietnamese-image-c...   \n",
       "4    /kaggle/input/uit-viic-v1-0-vietnamese-image-c...   \n",
       "..                                                 ...   \n",
       "226  /kaggle/input/uit-viic-v1-0-vietnamese-image-c...   \n",
       "227  /kaggle/input/uit-viic-v1-0-vietnamese-image-c...   \n",
       "228  /kaggle/input/uit-viic-v1-0-vietnamese-image-c...   \n",
       "229  /kaggle/input/uit-viic-v1-0-vietnamese-image-c...   \n",
       "230  /kaggle/input/uit-viic-v1-0-vietnamese-image-c...   \n",
       "\n",
       "                                               caption  \\\n",
       "0    [trên sân một cầu thủ đánh bóng đang chuẩn bị ...   \n",
       "1    [hình ảnh hai cậu bé đang chơi trong khu dân c...   \n",
       "2    [hình ảnh một trận thi đấu bóng đá đang diễn r...   \n",
       "3    [một người phụ nữ đang vung vợt để đánh quả bó...   \n",
       "4    [một cậu bé đang nghiêng người để đánh quả bón...   \n",
       "..                                                 ...   \n",
       "226  [một người đàn ông đang dùng vợt để đánh quả b...   \n",
       "227  [một người đàn ông đang chuẩn bị đánh quả bóng...   \n",
       "228  [các cầu thủ bóng đá đang thi đấu ngoài trời, ...   \n",
       "229  [một cầu thủ đánh bóng đang xoay người để đánh...   \n",
       "230  [một cậu bé đang luyện tập bóng chày trên sân,...   \n",
       "\n",
       "                                               predict  \n",
       "0    một người đàn ông đang chuẩn bị đánh quả bóng ...  \n",
       "1    một người đàn ông đang chuẩn bị đánh quả bóng ...  \n",
       "2    một người đàn ông đang chuẩn bị đánh quả bóng ...  \n",
       "3    một người đàn ông đang chuẩn bị đánh quả bóng ...  \n",
       "4    một người đàn ông đang chuẩn bị đánh quả bóng ...  \n",
       "..                                                 ...  \n",
       "226  một người đàn ông đang chuẩn bị đánh quả bóng ...  \n",
       "227  một người đàn ông đang chuẩn bị đánh quả bóng ...  \n",
       "228  một người đàn ông đang chuẩn bị đánh quả bóng ...  \n",
       "229  một người đàn ông đang chuẩn bị đánh quả bóng ...  \n",
       "230  một người đàn ông đang chuẩn bị đánh quả bóng ...  \n",
       "\n",
       "[231 rows x 3 columns]"
      ]
     },
     "execution_count": 25,
     "metadata": {},
     "output_type": "execute_result"
    }
   ],
   "source": [
    "df_test_merge"
   ]
  },
  {
   "cell_type": "code",
   "execution_count": 26,
   "id": "69ca9bf5",
   "metadata": {
    "execution": {
     "iopub.execute_input": "2024-12-27T13:33:38.136559Z",
     "iopub.status.busy": "2024-12-27T13:33:38.135868Z",
     "iopub.status.idle": "2024-12-27T13:33:38.142217Z",
     "shell.execute_reply": "2024-12-27T13:33:38.141421Z"
    },
    "papermill": {
     "duration": 0.459033,
     "end_time": "2024-12-27T13:33:38.143709",
     "exception": false,
     "start_time": "2024-12-27T13:33:37.684676",
     "status": "completed"
    },
    "tags": []
   },
   "outputs": [],
   "source": [
    "def calculate_bleu_scores(row):\n",
    "    reference = [caption.split() for caption in row['caption']]\n",
    "    prediction = row['predict'].split()\n",
    "\n",
    "    if len(prediction) == 0:\n",
    "        return pd.Series([0, 0, 0, 0])\n",
    "\n",
    "    smoothie = SmoothingFunction().method4\n",
    "\n",
    "    bleu_1 = sentence_bleu(reference, prediction, weights=(1.0, 0, 0, 0), smoothing_function=smoothie)\n",
    "    bleu_2 = sentence_bleu(reference, prediction, weights=(0.5, 0.5, 0, 0), smoothing_function=smoothie)\n",
    "    bleu_3 = sentence_bleu(reference, prediction, weights=(0.33, 0.33, 0.33, 0), smoothing_function=smoothie)\n",
    "    bleu_4 = sentence_bleu(reference, prediction, weights=(0.25, 0.25, 0.25, 0.25), smoothing_function=smoothie)\n",
    "\n",
    "    return pd.Series([bleu_1, bleu_2, bleu_3, bleu_4])"
   ]
  },
  {
   "cell_type": "code",
   "execution_count": 27,
   "id": "cee95b7b",
   "metadata": {
    "execution": {
     "iopub.execute_input": "2024-12-27T13:33:39.072391Z",
     "iopub.status.busy": "2024-12-27T13:33:39.072012Z",
     "iopub.status.idle": "2024-12-27T13:33:39.323509Z",
     "shell.execute_reply": "2024-12-27T13:33:39.322826Z"
    },
    "papermill": {
     "duration": 0.700315,
     "end_time": "2024-12-27T13:33:39.325913",
     "exception": false,
     "start_time": "2024-12-27T13:33:38.625598",
     "status": "completed"
    },
    "tags": []
   },
   "outputs": [],
   "source": [
    "df_test_merge[['bleu_1', 'bleu_2', 'bleu_3', 'bleu_4']] = df_test_merge.apply(calculate_bleu_scores, axis=1)"
   ]
  },
  {
   "cell_type": "code",
   "execution_count": 28,
   "id": "c3cbe487",
   "metadata": {
    "execution": {
     "iopub.execute_input": "2024-12-27T13:33:40.288345Z",
     "iopub.status.busy": "2024-12-27T13:33:40.287967Z",
     "iopub.status.idle": "2024-12-27T13:33:40.305243Z",
     "shell.execute_reply": "2024-12-27T13:33:40.304383Z"
    },
    "papermill": {
     "duration": 0.509291,
     "end_time": "2024-12-27T13:33:40.306951",
     "exception": false,
     "start_time": "2024-12-27T13:33:39.797660",
     "status": "completed"
    },
    "tags": []
   },
   "outputs": [
    {
     "data": {
      "text/html": [
       "<div>\n",
       "<style scoped>\n",
       "    .dataframe tbody tr th:only-of-type {\n",
       "        vertical-align: middle;\n",
       "    }\n",
       "\n",
       "    .dataframe tbody tr th {\n",
       "        vertical-align: top;\n",
       "    }\n",
       "\n",
       "    .dataframe thead th {\n",
       "        text-align: right;\n",
       "    }\n",
       "</style>\n",
       "<table border=\"1\" class=\"dataframe\">\n",
       "  <thead>\n",
       "    <tr style=\"text-align: right;\">\n",
       "      <th></th>\n",
       "      <th>image_path</th>\n",
       "      <th>caption</th>\n",
       "      <th>predict</th>\n",
       "      <th>bleu_1</th>\n",
       "      <th>bleu_2</th>\n",
       "      <th>bleu_3</th>\n",
       "      <th>bleu_4</th>\n",
       "    </tr>\n",
       "  </thead>\n",
       "  <tbody>\n",
       "    <tr>\n",
       "      <th>0</th>\n",
       "      <td>/kaggle/input/uit-viic-v1-0-vietnamese-image-c...</td>\n",
       "      <td>[trên sân một cầu thủ đánh bóng đang chuẩn bị ...</td>\n",
       "      <td>một người đàn ông đang chuẩn bị đánh quả bóng ...</td>\n",
       "      <td>0.909091</td>\n",
       "      <td>0.904534</td>\n",
       "      <td>0.861436</td>\n",
       "      <td>0.794139</td>\n",
       "    </tr>\n",
       "    <tr>\n",
       "      <th>1</th>\n",
       "      <td>/kaggle/input/uit-viic-v1-0-vietnamese-image-c...</td>\n",
       "      <td>[hình ảnh hai cậu bé đang chơi trong khu dân c...</td>\n",
       "      <td>một người đàn ông đang chuẩn bị đánh quả bóng ...</td>\n",
       "      <td>0.363636</td>\n",
       "      <td>0.343316</td>\n",
       "      <td>0.310355</td>\n",
       "      <td>0.274454</td>\n",
       "    </tr>\n",
       "    <tr>\n",
       "      <th>2</th>\n",
       "      <td>/kaggle/input/uit-viic-v1-0-vietnamese-image-c...</td>\n",
       "      <td>[hình ảnh một trận thi đấu bóng đá đang diễn r...</td>\n",
       "      <td>một người đàn ông đang chuẩn bị đánh quả bóng ...</td>\n",
       "      <td>0.545455</td>\n",
       "      <td>0.330289</td>\n",
       "      <td>0.302532</td>\n",
       "      <td>0.269196</td>\n",
       "    </tr>\n",
       "    <tr>\n",
       "      <th>3</th>\n",
       "      <td>/kaggle/input/uit-viic-v1-0-vietnamese-image-c...</td>\n",
       "      <td>[một người phụ nữ đang vung vợt để đánh quả bó...</td>\n",
       "      <td>một người đàn ông đang chuẩn bị đánh quả bóng ...</td>\n",
       "      <td>0.818182</td>\n",
       "      <td>0.756787</td>\n",
       "      <td>0.685303</td>\n",
       "      <td>0.631555</td>\n",
       "    </tr>\n",
       "    <tr>\n",
       "      <th>4</th>\n",
       "      <td>/kaggle/input/uit-viic-v1-0-vietnamese-image-c...</td>\n",
       "      <td>[một cậu bé đang nghiêng người để đánh quả bón...</td>\n",
       "      <td>một người đàn ông đang chuẩn bị đánh quả bóng ...</td>\n",
       "      <td>0.545455</td>\n",
       "      <td>0.330289</td>\n",
       "      <td>0.233115</td>\n",
       "      <td>0.220958</td>\n",
       "    </tr>\n",
       "    <tr>\n",
       "      <th>...</th>\n",
       "      <td>...</td>\n",
       "      <td>...</td>\n",
       "      <td>...</td>\n",
       "      <td>...</td>\n",
       "      <td>...</td>\n",
       "      <td>...</td>\n",
       "      <td>...</td>\n",
       "    </tr>\n",
       "    <tr>\n",
       "      <th>226</th>\n",
       "      <td>/kaggle/input/uit-viic-v1-0-vietnamese-image-c...</td>\n",
       "      <td>[một người đàn ông đang dùng vợt để đánh quả b...</td>\n",
       "      <td>một người đàn ông đang chuẩn bị đánh quả bóng ...</td>\n",
       "      <td>0.818182</td>\n",
       "      <td>0.756787</td>\n",
       "      <td>0.685303</td>\n",
       "      <td>0.587728</td>\n",
       "    </tr>\n",
       "    <tr>\n",
       "      <th>227</th>\n",
       "      <td>/kaggle/input/uit-viic-v1-0-vietnamese-image-c...</td>\n",
       "      <td>[một người đàn ông đang chuẩn bị đánh quả bóng...</td>\n",
       "      <td>một người đàn ông đang chuẩn bị đánh quả bóng ...</td>\n",
       "      <td>1.000000</td>\n",
       "      <td>1.000000</td>\n",
       "      <td>1.000000</td>\n",
       "      <td>1.000000</td>\n",
       "    </tr>\n",
       "    <tr>\n",
       "      <th>228</th>\n",
       "      <td>/kaggle/input/uit-viic-v1-0-vietnamese-image-c...</td>\n",
       "      <td>[các cầu thủ bóng đá đang thi đấu ngoài trời, ...</td>\n",
       "      <td>một người đàn ông đang chuẩn bị đánh quả bóng ...</td>\n",
       "      <td>0.454545</td>\n",
       "      <td>0.369274</td>\n",
       "      <td>0.315421</td>\n",
       "      <td>0.248084</td>\n",
       "    </tr>\n",
       "    <tr>\n",
       "      <th>229</th>\n",
       "      <td>/kaggle/input/uit-viic-v1-0-vietnamese-image-c...</td>\n",
       "      <td>[một cầu thủ đánh bóng đang xoay người để đánh...</td>\n",
       "      <td>một người đàn ông đang chuẩn bị đánh quả bóng ...</td>\n",
       "      <td>0.727273</td>\n",
       "      <td>0.660578</td>\n",
       "      <td>0.582009</td>\n",
       "      <td>0.469247</td>\n",
       "    </tr>\n",
       "    <tr>\n",
       "      <th>230</th>\n",
       "      <td>/kaggle/input/uit-viic-v1-0-vietnamese-image-c...</td>\n",
       "      <td>[một cậu bé đang luyện tập bóng chày trên sân,...</td>\n",
       "      <td>một người đàn ông đang chuẩn bị đánh quả bóng ...</td>\n",
       "      <td>0.636364</td>\n",
       "      <td>0.564076</td>\n",
       "      <td>0.524400</td>\n",
       "      <td>0.479878</td>\n",
       "    </tr>\n",
       "  </tbody>\n",
       "</table>\n",
       "<p>231 rows × 7 columns</p>\n",
       "</div>"
      ],
      "text/plain": [
       "                                            image_path  \\\n",
       "0    /kaggle/input/uit-viic-v1-0-vietnamese-image-c...   \n",
       "1    /kaggle/input/uit-viic-v1-0-vietnamese-image-c...   \n",
       "2    /kaggle/input/uit-viic-v1-0-vietnamese-image-c...   \n",
       "3    /kaggle/input/uit-viic-v1-0-vietnamese-image-c...   \n",
       "4    /kaggle/input/uit-viic-v1-0-vietnamese-image-c...   \n",
       "..                                                 ...   \n",
       "226  /kaggle/input/uit-viic-v1-0-vietnamese-image-c...   \n",
       "227  /kaggle/input/uit-viic-v1-0-vietnamese-image-c...   \n",
       "228  /kaggle/input/uit-viic-v1-0-vietnamese-image-c...   \n",
       "229  /kaggle/input/uit-viic-v1-0-vietnamese-image-c...   \n",
       "230  /kaggle/input/uit-viic-v1-0-vietnamese-image-c...   \n",
       "\n",
       "                                               caption  \\\n",
       "0    [trên sân một cầu thủ đánh bóng đang chuẩn bị ...   \n",
       "1    [hình ảnh hai cậu bé đang chơi trong khu dân c...   \n",
       "2    [hình ảnh một trận thi đấu bóng đá đang diễn r...   \n",
       "3    [một người phụ nữ đang vung vợt để đánh quả bó...   \n",
       "4    [một cậu bé đang nghiêng người để đánh quả bón...   \n",
       "..                                                 ...   \n",
       "226  [một người đàn ông đang dùng vợt để đánh quả b...   \n",
       "227  [một người đàn ông đang chuẩn bị đánh quả bóng...   \n",
       "228  [các cầu thủ bóng đá đang thi đấu ngoài trời, ...   \n",
       "229  [một cầu thủ đánh bóng đang xoay người để đánh...   \n",
       "230  [một cậu bé đang luyện tập bóng chày trên sân,...   \n",
       "\n",
       "                                               predict    bleu_1    bleu_2  \\\n",
       "0    một người đàn ông đang chuẩn bị đánh quả bóng ...  0.909091  0.904534   \n",
       "1    một người đàn ông đang chuẩn bị đánh quả bóng ...  0.363636  0.343316   \n",
       "2    một người đàn ông đang chuẩn bị đánh quả bóng ...  0.545455  0.330289   \n",
       "3    một người đàn ông đang chuẩn bị đánh quả bóng ...  0.818182  0.756787   \n",
       "4    một người đàn ông đang chuẩn bị đánh quả bóng ...  0.545455  0.330289   \n",
       "..                                                 ...       ...       ...   \n",
       "226  một người đàn ông đang chuẩn bị đánh quả bóng ...  0.818182  0.756787   \n",
       "227  một người đàn ông đang chuẩn bị đánh quả bóng ...  1.000000  1.000000   \n",
       "228  một người đàn ông đang chuẩn bị đánh quả bóng ...  0.454545  0.369274   \n",
       "229  một người đàn ông đang chuẩn bị đánh quả bóng ...  0.727273  0.660578   \n",
       "230  một người đàn ông đang chuẩn bị đánh quả bóng ...  0.636364  0.564076   \n",
       "\n",
       "       bleu_3    bleu_4  \n",
       "0    0.861436  0.794139  \n",
       "1    0.310355  0.274454  \n",
       "2    0.302532  0.269196  \n",
       "3    0.685303  0.631555  \n",
       "4    0.233115  0.220958  \n",
       "..        ...       ...  \n",
       "226  0.685303  0.587728  \n",
       "227  1.000000  1.000000  \n",
       "228  0.315421  0.248084  \n",
       "229  0.582009  0.469247  \n",
       "230  0.524400  0.479878  \n",
       "\n",
       "[231 rows x 7 columns]"
      ]
     },
     "execution_count": 28,
     "metadata": {},
     "output_type": "execute_result"
    }
   ],
   "source": [
    "df_test_merge"
   ]
  },
  {
   "cell_type": "code",
   "execution_count": 29,
   "id": "154c5456",
   "metadata": {
    "execution": {
     "iopub.execute_input": "2024-12-27T13:33:41.253202Z",
     "iopub.status.busy": "2024-12-27T13:33:41.252818Z",
     "iopub.status.idle": "2024-12-27T13:33:41.259453Z",
     "shell.execute_reply": "2024-12-27T13:33:41.258598Z"
    },
    "papermill": {
     "duration": 0.50752,
     "end_time": "2024-12-27T13:33:41.261732",
     "exception": false,
     "start_time": "2024-12-27T13:33:40.754212",
     "status": "completed"
    },
    "tags": []
   },
   "outputs": [
    {
     "name": "stdout",
     "output_type": "stream",
     "text": [
      "Average BLEU-1 Score: 56.84\n",
      "Average BLEU-2 Score: 44.93\n",
      "Average BLEU-3 Score: 38.22\n",
      "Average BLEU-4 Score: 32.69\n"
     ]
    }
   ],
   "source": [
    "bleu_1_avg = round(df_test_merge['bleu_1'].mean() * 100, 2)\n",
    "bleu_2_avg = round(df_test_merge['bleu_2'].mean() * 100, 2)\n",
    "bleu_3_avg = round(df_test_merge['bleu_3'].mean() * 100, 2)\n",
    "bleu_4_avg = round(df_test_merge['bleu_4'].mean() * 100, 2)\n",
    "\n",
    "# In kết quả BLEU score trung bình\n",
    "print(\"Average BLEU-1 Score:\", bleu_1_avg)\n",
    "print(\"Average BLEU-2 Score:\", bleu_2_avg)\n",
    "print(\"Average BLEU-3 Score:\", bleu_3_avg)\n",
    "print(\"Average BLEU-4 Score:\", bleu_4_avg)"
   ]
  },
  {
   "cell_type": "code",
   "execution_count": 30,
   "id": "9ab8941a",
   "metadata": {
    "execution": {
     "iopub.execute_input": "2024-12-27T13:33:42.198015Z",
     "iopub.status.busy": "2024-12-27T13:33:42.197674Z",
     "iopub.status.idle": "2024-12-27T13:33:43.500479Z",
     "shell.execute_reply": "2024-12-27T13:33:43.499687Z"
    },
    "papermill": {
     "duration": 1.791875,
     "end_time": "2024-12-27T13:33:43.502635",
     "exception": false,
     "start_time": "2024-12-27T13:33:41.710760",
     "status": "completed"
    },
    "tags": []
   },
   "outputs": [
    {
     "name": "stderr",
     "output_type": "stream",
     "text": [
      "/opt/conda/lib/python3.10/site-packages/seaborn/_oldcore.py:1119: FutureWarning: use_inf_as_na option is deprecated and will be removed in a future version. Convert inf values to NaN before operating instead.\n",
      "  with pd.option_context('mode.use_inf_as_na', True):\n",
      "/opt/conda/lib/python3.10/site-packages/seaborn/_oldcore.py:1119: FutureWarning: use_inf_as_na option is deprecated and will be removed in a future version. Convert inf values to NaN before operating instead.\n",
      "  with pd.option_context('mode.use_inf_as_na', True):\n",
      "/opt/conda/lib/python3.10/site-packages/seaborn/_oldcore.py:1119: FutureWarning: use_inf_as_na option is deprecated and will be removed in a future version. Convert inf values to NaN before operating instead.\n",
      "  with pd.option_context('mode.use_inf_as_na', True):\n",
      "/opt/conda/lib/python3.10/site-packages/seaborn/_oldcore.py:1119: FutureWarning: use_inf_as_na option is deprecated and will be removed in a future version. Convert inf values to NaN before operating instead.\n",
      "  with pd.option_context('mode.use_inf_as_na', True):\n"
     ]
    },
    {
     "data": {
      "image/png": "[encoded data removed]",
      "text/plain": [
       "<Figure size 1000x600 with 4 Axes>"
      ]
     },
     "metadata": {},
     "output_type": "display_data"
    }
   ],
   "source": [
    "import matplotlib.pyplot as plt\n",
    "import seaborn as sns\n",
    "\n",
    "plt.figure(figsize=(10, 6))\n",
    "\n",
    "plt.subplot(2, 2, 1)\n",
    "sns.histplot(df_test_merge['bleu_1'] * 100, kde=True, bins=20, color='blue', label='BLEU-1')\n",
    "plt.title('Distribution of BLEU-1')\n",
    "plt.xlabel('BLEU-1 (%)')\n",
    "plt.ylabel('Frequency')\n",
    "\n",
    "plt.subplot(2, 2, 2)\n",
    "sns.histplot(df_test_merge['bleu_2'] * 100, kde=True, bins=20, color='green', label='BLEU-2')\n",
    "plt.title('Distribution of BLEU-2')\n",
    "plt.xlabel('BLEU-2 (%)')\n",
    "plt.ylabel('Frequency')\n",
    "\n",
    "plt.subplot(2, 2, 3)\n",
    "sns.histplot(df_test_merge['bleu_3'] * 100, kde=True, bins=20, color='orange', label='BLEU-3')\n",
    "plt.title('Distribution of BLEU-3')\n",
    "plt.xlabel('BLEU-3 (%)')\n",
    "plt.ylabel('Frequency')\n",
    "\n",
    "plt.subplot(2, 2, 4)\n",
    "sns.histplot(df_test_merge['bleu_4'] * 100, kde=True, bins=20, color='red', label='BLEU-4')\n",
    "plt.title('Distribution of BLEU-4')\n",
    "plt.xlabel('BLEU-4 (%)')\n",
    "plt.ylabel('Frequency')\n",
    "\n",
    "plt.tight_layout()\n",
    "plt.show()"
   ]
  },
  {
   "cell_type": "markdown",
   "id": "de3475f7",
   "metadata": {
    "papermill": {
     "duration": 0.445563,
     "end_time": "2024-12-27T13:33:44.394272",
     "exception": false,
     "start_time": "2024-12-27T13:33:43.948709",
     "status": "completed"
    },
    "tags": []
   },
   "source": [
    "# ROUGE metric"
   ]
  },
  {
   "cell_type": "code",
   "execution_count": 31,
   "id": "3f77ae59",
   "metadata": {
    "execution": {
     "iopub.execute_input": "2024-12-27T13:33:45.365456Z",
     "iopub.status.busy": "2024-12-27T13:33:45.364860Z",
     "iopub.status.idle": "2024-12-27T13:33:56.932813Z",
     "shell.execute_reply": "2024-12-27T13:33:56.931874Z"
    },
    "papermill": {
     "duration": 12.045099,
     "end_time": "2024-12-27T13:33:56.934892",
     "exception": false,
     "start_time": "2024-12-27T13:33:44.889793",
     "status": "completed"
    },
    "tags": []
   },
   "outputs": [
    {
     "name": "stderr",
     "output_type": "stream",
     "text": [
      "/opt/conda/lib/python3.10/pty.py:89: RuntimeWarning: os.fork() was called. os.fork() is incompatible with multithreaded code, and JAX is multithreaded, so this will likely lead to a deadlock.\n",
      "  pid, fd = os.forkpty()\n"
     ]
    },
    {
     "name": "stdout",
     "output_type": "stream",
     "text": [
      "Collecting rouge-score\r\n",
      "  Downloading rouge_score-0.1.2.tar.gz (17 kB)\r\n",
      "  Preparing metadata (setup.py) ... \u001b[?25l-\b \bdone\r\n",
      "\u001b[?25hRequirement already satisfied: absl-py in /opt/conda/lib/python3.10/site-packages (from rouge-score) (1.4.0)\r\n",
      "Requirement already satisfied: nltk in /opt/conda/lib/python3.10/site-packages (from rouge-score) (3.2.4)\r\n",
      "Requirement already satisfied: numpy in /opt/conda/lib/python3.10/site-packages (from rouge-score) (1.26.4)\r\n",
      "Requirement already satisfied: six>=1.14.0 in /opt/conda/lib/python3.10/site-packages (from rouge-score) (1.16.0)\r\n",
      "Building wheels for collected packages: rouge-score\r\n",
      "  Building wheel for rouge-score (setup.py) ... \u001b[?25l-\b \b\\\b \bdone\r\n",
      "\u001b[?25h  Created wheel for rouge-score: filename=rouge_score-0.1.2-py3-none-any.whl size=24934 sha256=d028ad942eebaa44a1b5b41bea37df02ed7ec1d5abc31cca648283b0ae633a38\r\n",
      "  Stored in directory: /root/.cache/pip/wheels/5f/dd/89/461065a73be61a532ff8599a28e9beef17985c9e9c31e541b4\r\n",
      "Successfully built rouge-score\r\n",
      "Installing collected packages: rouge-score\r\n",
      "Successfully installed rouge-score-0.1.2\r\n"
     ]
    }
   ],
   "source": [
    "!pip install rouge-score"
   ]
  },
  {
   "cell_type": "code",
   "execution_count": 32,
   "id": "20168990",
   "metadata": {
    "execution": {
     "iopub.execute_input": "2024-12-27T13:33:57.869117Z",
     "iopub.status.busy": "2024-12-27T13:33:57.868449Z",
     "iopub.status.idle": "2024-12-27T13:33:57.879223Z",
     "shell.execute_reply": "2024-12-27T13:33:57.878365Z"
    },
    "papermill": {
     "duration": 0.456745,
     "end_time": "2024-12-27T13:33:57.880983",
     "exception": false,
     "start_time": "2024-12-27T13:33:57.424238",
     "status": "completed"
    },
    "tags": []
   },
   "outputs": [],
   "source": [
    "from rouge_score import rouge_scorer"
   ]
  },
  {
   "cell_type": "code",
   "execution_count": 33,
   "id": "b95e2ead",
   "metadata": {
    "execution": {
     "iopub.execute_input": "2024-12-27T13:33:58.822191Z",
     "iopub.status.busy": "2024-12-27T13:33:58.821799Z",
     "iopub.status.idle": "2024-12-27T13:33:58.827619Z",
     "shell.execute_reply": "2024-12-27T13:33:58.826760Z"
    },
    "papermill": {
     "duration": 0.50422,
     "end_time": "2024-12-27T13:33:58.829148",
     "exception": false,
     "start_time": "2024-12-27T13:33:58.324928",
     "status": "completed"
    },
    "tags": []
   },
   "outputs": [],
   "source": [
    "def calculate_rouge_scores(row):\n",
    "    reference = row['caption']\n",
    "    prediction = row['predict']\n",
    "\n",
    "    scorer = rouge_scorer.RougeScorer(['rougeL'], use_stemmer=True)\n",
    "    total_f1 = 0\n",
    "\n",
    "    for ref in reference:\n",
    "        scores = scorer.score(ref, prediction)\n",
    "        rouge_l = scores['rougeL']\n",
    "        total_f1 += rouge_l.fmeasure\n",
    "\n",
    "    avg_f1 = total_f1 / len(reference)\n",
    "\n",
    "    return avg_f1"
   ]
  },
  {
   "cell_type": "code",
   "execution_count": 34,
   "id": "cd62ff0d",
   "metadata": {
    "execution": {
     "iopub.execute_input": "2024-12-27T13:33:59.789675Z",
     "iopub.status.busy": "2024-12-27T13:33:59.789315Z",
     "iopub.status.idle": "2024-12-27T13:34:00.011189Z",
     "shell.execute_reply": "2024-12-27T13:34:00.010300Z"
    },
    "papermill": {
     "duration": 0.74206,
     "end_time": "2024-12-27T13:34:00.013045",
     "exception": false,
     "start_time": "2024-12-27T13:33:59.270985",
     "status": "completed"
    },
    "tags": []
   },
   "outputs": [],
   "source": [
    "df_test_merge['rouge_L'] = df_test_merge.apply(calculate_rouge_scores, axis=1)"
   ]
  },
  {
   "cell_type": "code",
   "execution_count": 35,
   "id": "4aaf903b",
   "metadata": {
    "execution": {
     "iopub.execute_input": "2024-12-27T13:34:00.941041Z",
     "iopub.status.busy": "2024-12-27T13:34:00.940673Z",
     "iopub.status.idle": "2024-12-27T13:34:00.958576Z",
     "shell.execute_reply": "2024-12-27T13:34:00.957707Z"
    },
    "papermill": {
     "duration": 0.501494,
     "end_time": "2024-12-27T13:34:00.960104",
     "exception": false,
     "start_time": "2024-12-27T13:34:00.458610",
     "status": "completed"
    },
    "tags": []
   },
   "outputs": [
    {
     "data": {
      "text/html": [
       "<div>\n",
       "<style scoped>\n",
       "    .dataframe tbody tr th:only-of-type {\n",
       "        vertical-align: middle;\n",
       "    }\n",
       "\n",
       "    .dataframe tbody tr th {\n",
       "        vertical-align: top;\n",
       "    }\n",
       "\n",
       "    .dataframe thead th {\n",
       "        text-align: right;\n",
       "    }\n",
       "</style>\n",
       "<table border=\"1\" class=\"dataframe\">\n",
       "  <thead>\n",
       "    <tr style=\"text-align: right;\">\n",
       "      <th></th>\n",
       "      <th>image_path</th>\n",
       "      <th>caption</th>\n",
       "      <th>predict</th>\n",
       "      <th>bleu_1</th>\n",
       "      <th>bleu_2</th>\n",
       "      <th>bleu_3</th>\n",
       "      <th>bleu_4</th>\n",
       "      <th>rouge_L</th>\n",
       "    </tr>\n",
       "  </thead>\n",
       "  <tbody>\n",
       "    <tr>\n",
       "      <th>0</th>\n",
       "      <td>/kaggle/input/uit-viic-v1-0-vietnamese-image-c...</td>\n",
       "      <td>[trên sân một cầu thủ đánh bóng đang chuẩn bị ...</td>\n",
       "      <td>một người đàn ông đang chuẩn bị đánh quả bóng ...</td>\n",
       "      <td>0.909091</td>\n",
       "      <td>0.904534</td>\n",
       "      <td>0.861436</td>\n",
       "      <td>0.794139</td>\n",
       "      <td>0.548025</td>\n",
       "    </tr>\n",
       "    <tr>\n",
       "      <th>1</th>\n",
       "      <td>/kaggle/input/uit-viic-v1-0-vietnamese-image-c...</td>\n",
       "      <td>[hình ảnh hai cậu bé đang chơi trong khu dân c...</td>\n",
       "      <td>một người đàn ông đang chuẩn bị đánh quả bóng ...</td>\n",
       "      <td>0.363636</td>\n",
       "      <td>0.343316</td>\n",
       "      <td>0.310355</td>\n",
       "      <td>0.274454</td>\n",
       "      <td>0.264049</td>\n",
       "    </tr>\n",
       "    <tr>\n",
       "      <th>2</th>\n",
       "      <td>/kaggle/input/uit-viic-v1-0-vietnamese-image-c...</td>\n",
       "      <td>[hình ảnh một trận thi đấu bóng đá đang diễn r...</td>\n",
       "      <td>một người đàn ông đang chuẩn bị đánh quả bóng ...</td>\n",
       "      <td>0.545455</td>\n",
       "      <td>0.330289</td>\n",
       "      <td>0.302532</td>\n",
       "      <td>0.269196</td>\n",
       "      <td>0.356843</td>\n",
       "    </tr>\n",
       "    <tr>\n",
       "      <th>3</th>\n",
       "      <td>/kaggle/input/uit-viic-v1-0-vietnamese-image-c...</td>\n",
       "      <td>[một người phụ nữ đang vung vợt để đánh quả bó...</td>\n",
       "      <td>một người đàn ông đang chuẩn bị đánh quả bóng ...</td>\n",
       "      <td>0.818182</td>\n",
       "      <td>0.756787</td>\n",
       "      <td>0.685303</td>\n",
       "      <td>0.631555</td>\n",
       "      <td>0.622734</td>\n",
       "    </tr>\n",
       "    <tr>\n",
       "      <th>4</th>\n",
       "      <td>/kaggle/input/uit-viic-v1-0-vietnamese-image-c...</td>\n",
       "      <td>[một cậu bé đang nghiêng người để đánh quả bón...</td>\n",
       "      <td>một người đàn ông đang chuẩn bị đánh quả bóng ...</td>\n",
       "      <td>0.545455</td>\n",
       "      <td>0.330289</td>\n",
       "      <td>0.233115</td>\n",
       "      <td>0.220958</td>\n",
       "      <td>0.396793</td>\n",
       "    </tr>\n",
       "    <tr>\n",
       "      <th>...</th>\n",
       "      <td>...</td>\n",
       "      <td>...</td>\n",
       "      <td>...</td>\n",
       "      <td>...</td>\n",
       "      <td>...</td>\n",
       "      <td>...</td>\n",
       "      <td>...</td>\n",
       "      <td>...</td>\n",
       "    </tr>\n",
       "    <tr>\n",
       "      <th>226</th>\n",
       "      <td>/kaggle/input/uit-viic-v1-0-vietnamese-image-c...</td>\n",
       "      <td>[một người đàn ông đang dùng vợt để đánh quả b...</td>\n",
       "      <td>một người đàn ông đang chuẩn bị đánh quả bóng ...</td>\n",
       "      <td>0.818182</td>\n",
       "      <td>0.756787</td>\n",
       "      <td>0.685303</td>\n",
       "      <td>0.587728</td>\n",
       "      <td>0.743656</td>\n",
       "    </tr>\n",
       "    <tr>\n",
       "      <th>227</th>\n",
       "      <td>/kaggle/input/uit-viic-v1-0-vietnamese-image-c...</td>\n",
       "      <td>[một người đàn ông đang chuẩn bị đánh quả bóng...</td>\n",
       "      <td>một người đàn ông đang chuẩn bị đánh quả bóng ...</td>\n",
       "      <td>1.000000</td>\n",
       "      <td>1.000000</td>\n",
       "      <td>1.000000</td>\n",
       "      <td>1.000000</td>\n",
       "      <td>0.701032</td>\n",
       "    </tr>\n",
       "    <tr>\n",
       "      <th>228</th>\n",
       "      <td>/kaggle/input/uit-viic-v1-0-vietnamese-image-c...</td>\n",
       "      <td>[các cầu thủ bóng đá đang thi đấu ngoài trời, ...</td>\n",
       "      <td>một người đàn ông đang chuẩn bị đánh quả bóng ...</td>\n",
       "      <td>0.454545</td>\n",
       "      <td>0.369274</td>\n",
       "      <td>0.315421</td>\n",
       "      <td>0.248084</td>\n",
       "      <td>0.254453</td>\n",
       "    </tr>\n",
       "    <tr>\n",
       "      <th>229</th>\n",
       "      <td>/kaggle/input/uit-viic-v1-0-vietnamese-image-c...</td>\n",
       "      <td>[một cầu thủ đánh bóng đang xoay người để đánh...</td>\n",
       "      <td>một người đàn ông đang chuẩn bị đánh quả bóng ...</td>\n",
       "      <td>0.727273</td>\n",
       "      <td>0.660578</td>\n",
       "      <td>0.582009</td>\n",
       "      <td>0.469247</td>\n",
       "      <td>0.544956</td>\n",
       "    </tr>\n",
       "    <tr>\n",
       "      <th>230</th>\n",
       "      <td>/kaggle/input/uit-viic-v1-0-vietnamese-image-c...</td>\n",
       "      <td>[một cậu bé đang luyện tập bóng chày trên sân,...</td>\n",
       "      <td>một người đàn ông đang chuẩn bị đánh quả bóng ...</td>\n",
       "      <td>0.636364</td>\n",
       "      <td>0.564076</td>\n",
       "      <td>0.524400</td>\n",
       "      <td>0.479878</td>\n",
       "      <td>0.514394</td>\n",
       "    </tr>\n",
       "  </tbody>\n",
       "</table>\n",
       "<p>231 rows × 8 columns</p>\n",
       "</div>"
      ],
      "text/plain": [
       "                                            image_path  \\\n",
       "0    /kaggle/input/uit-viic-v1-0-vietnamese-image-c...   \n",
       "1    /kaggle/input/uit-viic-v1-0-vietnamese-image-c...   \n",
       "2    /kaggle/input/uit-viic-v1-0-vietnamese-image-c...   \n",
       "3    /kaggle/input/uit-viic-v1-0-vietnamese-image-c...   \n",
       "4    /kaggle/input/uit-viic-v1-0-vietnamese-image-c...   \n",
       "..                                                 ...   \n",
       "226  /kaggle/input/uit-viic-v1-0-vietnamese-image-c...   \n",
       "227  /kaggle/input/uit-viic-v1-0-vietnamese-image-c...   \n",
       "228  /kaggle/input/uit-viic-v1-0-vietnamese-image-c...   \n",
       "229  /kaggle/input/uit-viic-v1-0-vietnamese-image-c...   \n",
       "230  /kaggle/input/uit-viic-v1-0-vietnamese-image-c...   \n",
       "\n",
       "                                               caption  \\\n",
       "0    [trên sân một cầu thủ đánh bóng đang chuẩn bị ...   \n",
       "1    [hình ảnh hai cậu bé đang chơi trong khu dân c...   \n",
       "2    [hình ảnh một trận thi đấu bóng đá đang diễn r...   \n",
       "3    [một người phụ nữ đang vung vợt để đánh quả bó...   \n",
       "4    [một cậu bé đang nghiêng người để đánh quả bón...   \n",
       "..                                                 ...   \n",
       "226  [một người đàn ông đang dùng vợt để đánh quả b...   \n",
       "227  [một người đàn ông đang chuẩn bị đánh quả bóng...   \n",
       "228  [các cầu thủ bóng đá đang thi đấu ngoài trời, ...   \n",
       "229  [một cầu thủ đánh bóng đang xoay người để đánh...   \n",
       "230  [một cậu bé đang luyện tập bóng chày trên sân,...   \n",
       "\n",
       "                                               predict    bleu_1    bleu_2  \\\n",
       "0    một người đàn ông đang chuẩn bị đánh quả bóng ...  0.909091  0.904534   \n",
       "1    một người đàn ông đang chuẩn bị đánh quả bóng ...  0.363636  0.343316   \n",
       "2    một người đàn ông đang chuẩn bị đánh quả bóng ...  0.545455  0.330289   \n",
       "3    một người đàn ông đang chuẩn bị đánh quả bóng ...  0.818182  0.756787   \n",
       "4    một người đàn ông đang chuẩn bị đánh quả bóng ...  0.545455  0.330289   \n",
       "..                                                 ...       ...       ...   \n",
       "226  một người đàn ông đang chuẩn bị đánh quả bóng ...  0.818182  0.756787   \n",
       "227  một người đàn ông đang chuẩn bị đánh quả bóng ...  1.000000  1.000000   \n",
       "228  một người đàn ông đang chuẩn bị đánh quả bóng ...  0.454545  0.369274   \n",
       "229  một người đàn ông đang chuẩn bị đánh quả bóng ...  0.727273  0.660578   \n",
       "230  một người đàn ông đang chuẩn bị đánh quả bóng ...  0.636364  0.564076   \n",
       "\n",
       "       bleu_3    bleu_4   rouge_L  \n",
       "0    0.861436  0.794139  0.548025  \n",
       "1    0.310355  0.274454  0.264049  \n",
       "2    0.302532  0.269196  0.356843  \n",
       "3    0.685303  0.631555  0.622734  \n",
       "4    0.233115  0.220958  0.396793  \n",
       "..        ...       ...       ...  \n",
       "226  0.685303  0.587728  0.743656  \n",
       "227  1.000000  1.000000  0.701032  \n",
       "228  0.315421  0.248084  0.254453  \n",
       "229  0.582009  0.469247  0.544956  \n",
       "230  0.524400  0.479878  0.514394  \n",
       "\n",
       "[231 rows x 8 columns]"
      ]
     },
     "execution_count": 35,
     "metadata": {},
     "output_type": "execute_result"
    }
   ],
   "source": [
    "df_test_merge"
   ]
  },
  {
   "cell_type": "code",
   "execution_count": 36,
   "id": "bf072b5b",
   "metadata": {
    "execution": {
     "iopub.execute_input": "2024-12-27T13:34:01.918900Z",
     "iopub.status.busy": "2024-12-27T13:34:01.918452Z",
     "iopub.status.idle": "2024-12-27T13:34:01.923870Z",
     "shell.execute_reply": "2024-12-27T13:34:01.923104Z"
    },
    "papermill": {
     "duration": 0.506915,
     "end_time": "2024-12-27T13:34:01.925640",
     "exception": false,
     "start_time": "2024-12-27T13:34:01.418725",
     "status": "completed"
    },
    "tags": []
   },
   "outputs": [],
   "source": [
    "rouge_avg = round(df_test_merge['rouge_L'].mean() * 100, 2)"
   ]
  },
  {
   "cell_type": "code",
   "execution_count": 37,
   "id": "0441e7a4",
   "metadata": {
    "execution": {
     "iopub.execute_input": "2024-12-27T13:34:02.904174Z",
     "iopub.status.busy": "2024-12-27T13:34:02.903430Z",
     "iopub.status.idle": "2024-12-27T13:34:02.908364Z",
     "shell.execute_reply": "2024-12-27T13:34:02.907352Z"
    },
    "papermill": {
     "duration": 0.463039,
     "end_time": "2024-12-27T13:34:02.910035",
     "exception": false,
     "start_time": "2024-12-27T13:34:02.446996",
     "status": "completed"
    },
    "tags": []
   },
   "outputs": [
    {
     "name": "stdout",
     "output_type": "stream",
     "text": [
      "Average ROUGE Score: 41.6\n"
     ]
    }
   ],
   "source": [
    "print(\"Average ROUGE Score:\", rouge_avg)"
   ]
  }
 ],
 "metadata": {
  "kaggle": {
   "accelerator": "nvidiaTeslaT4",
   "dataSources": [
    {
     "datasetId": 3878874,
     "sourceId": 6735684,
     "sourceType": "datasetVersion"
    }
   ],
   "dockerImageVersionId": 30805,
   "isGpuEnabled": true,
   "isInternetEnabled": true,
   "language": "python",
   "sourceType": "notebook"
  },
  "kernelspec": {
   "display_name": "Python 3",
   "language": "python",
   "name": "python3"
  },
  "language_info": {
   "codemirror_mode": {
    "name": "ipython",
    "version": 3
   },
   "file_extension": ".py",
   "mimetype": "text/x-python",
   "name": "python",
   "nbconvert_exporter": "python",
   "pygments_lexer": "ipython3",
   "version": "3.10.14"
  },
  "papermill": {
   "default_parameters": {},
   "duration": 1004.358737,
   "end_time": "2024-12-27T13:34:06.952418",
   "environment_variables": {},
   "exception": null,
   "input_path": "__notebook__.ipynb",
   "output_path": "__notebook__.ipynb",
   "parameters": {},
   "start_time": "2024-12-27T13:17:22.593681",
   "version": "2.6.0"
  }
 },
 "nbformat": 4,
 "nbformat_minor": 5
}
