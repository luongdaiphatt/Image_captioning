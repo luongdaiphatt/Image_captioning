{
 "cells": [
  {
   "cell_type": "code",
   "execution_count": 1,
   "id": "707a60b5",
   "metadata": {
    "execution": {
     "iopub.execute_input": "2024-12-27T14:39:50.333761Z",
     "iopub.status.busy": "2024-12-27T14:39:50.333457Z",
     "iopub.status.idle": "2024-12-27T14:40:05.222518Z",
     "shell.execute_reply": "2024-12-27T14:40:05.221744Z"
    },
    "executionInfo": {
     "elapsed": 6325,
     "status": "ok",
     "timestamp": 1733824717802,
     "user": {
      "displayName": "An Trần Hoài",
      "userId": "01608849545362298443"
     },
     "user_tz": -420
    },
    "id": "oeMyW-IsrtSJ",
    "papermill": {
     "duration": 14.9008,
     "end_time": "2024-12-27T14:40:05.224604",
     "exception": false,
     "start_time": "2024-12-27T14:39:50.323804",
     "status": "completed"
    },
    "tags": []
   },
   "outputs": [],
   "source": [
    "import os\n",
    "\n",
    "import numpy as np\n",
    "\n",
    "import pandas as pd\n",
    "\n",
    "from sklearn.model_selection import train_test_split\n",
    "\n",
    "import tensorflow as tf\n",
    "\n",
    "from tqdm import tqdm\n",
    "\n",
    "from tensorflow.keras.preprocessing.text import Tokenizer\n",
    "\n",
    "from tensorflow.keras.utils import Sequence, pad_sequences\n",
    "\n",
    "from tensorflow.keras.applications import DenseNet201\n",
    "\n",
    "from tensorflow.keras.preprocessing.image import load_img, img_to_array\n",
    "\n",
    "from tensorflow.keras.layers import Input, Dense, Embedding, LSTM, AdditiveAttention, Add, Concatenate, Dropout, Reshape\n",
    "\n",
    "from tensorflow.keras.models import Model\n",
    "\n",
    "from tensorflow.keras.callbacks import ModelCheckpoint, EarlyStopping, ReduceLROnPlateau\n",
    "\n",
    "from tensorflow.keras.optimizers import Adam\n",
    "\n",
    "from nltk.translate.bleu_score import corpus_bleu"
   ]
  },
  {
   "cell_type": "markdown",
   "id": "c0419a3e",
   "metadata": {
    "id": "1nGDVyl0wPOh",
    "papermill": {
     "duration": 0.007222,
     "end_time": "2024-12-27T14:40:05.240752",
     "exception": false,
     "start_time": "2024-12-27T14:40:05.233530",
     "status": "completed"
    },
    "tags": []
   },
   "source": [
    "# Load data"
   ]
  },
  {
   "cell_type": "code",
   "execution_count": 2,
   "id": "61efe4e7",
   "metadata": {
    "execution": {
     "iopub.execute_input": "2024-12-27T14:40:05.261634Z",
     "iopub.status.busy": "2024-12-27T14:40:05.261095Z",
     "iopub.status.idle": "2024-12-27T14:40:05.266016Z",
     "shell.execute_reply": "2024-12-27T14:40:05.265212Z"
    },
    "executionInfo": {
     "elapsed": 10,
     "status": "ok",
     "timestamp": 1733824717802,
     "user": {
      "displayName": "An Trần Hoài",
      "userId": "01608849545362298443"
     },
     "user_tz": -420
    },
    "id": "pWdDqyjZr_Sg",
    "papermill": {
     "duration": 0.015817,
     "end_time": "2024-12-27T14:40:05.267770",
     "exception": false,
     "start_time": "2024-12-27T14:40:05.251953",
     "status": "completed"
    },
    "tags": []
   },
   "outputs": [],
   "source": [
    "def load_data(path):\n",
    "\n",
    "    with open(path + 'captions.txt', 'r', encoding='utf-8') as file:\n",
    "\n",
    "        lines = file.readlines()\n",
    "\n",
    "\n",
    "\n",
    "    data = [line.split('\\t', 1) for line in lines]\n",
    "\n",
    "    df = pd.DataFrame(data, columns=[\"image_path\", \"caption\"])\n",
    "\n",
    "\n",
    "\n",
    "    return df"
   ]
  },
  {
   "cell_type": "code",
   "execution_count": 3,
   "id": "6da154a0",
   "metadata": {
    "execution": {
     "iopub.execute_input": "2024-12-27T14:40:05.285712Z",
     "iopub.status.busy": "2024-12-27T14:40:05.285298Z",
     "iopub.status.idle": "2024-12-27T14:40:05.291027Z",
     "shell.execute_reply": "2024-12-27T14:40:05.289973Z"
    },
    "executionInfo": {
     "elapsed": 9,
     "status": "ok",
     "timestamp": 1733824717802,
     "user": {
      "displayName": "An Trần Hoài",
      "userId": "01608849545362298443"
     },
     "user_tz": -420
    },
    "id": "8CedRzg9sAgm",
    "papermill": {
     "duration": 0.017845,
     "end_time": "2024-12-27T14:40:05.293116",
     "exception": false,
     "start_time": "2024-12-27T14:40:05.275271",
     "status": "completed"
    },
    "tags": []
   },
   "outputs": [],
   "source": [
    "dataset_path = '/kaggle/input/uit-viic-v1-0-vietnamese-image-captioning/dataset'\n",
    "\n",
    "train_path = dataset_path + '/train/'\n",
    "\n",
    "val_path = dataset_path + '/val/'\n",
    "\n",
    "test_path = dataset_path + '/test/'"
   ]
  },
  {
   "cell_type": "code",
   "execution_count": 4,
   "id": "8a6399a7",
   "metadata": {
    "execution": {
     "iopub.execute_input": "2024-12-27T14:40:05.313535Z",
     "iopub.status.busy": "2024-12-27T14:40:05.313294Z",
     "iopub.status.idle": "2024-12-27T14:40:05.398308Z",
     "shell.execute_reply": "2024-12-27T14:40:05.397522Z"
    },
    "papermill": {
     "duration": 0.095692,
     "end_time": "2024-12-27T14:40:05.400300",
     "exception": false,
     "start_time": "2024-12-27T14:40:05.304608",
     "status": "completed"
    },
    "tags": []
   },
   "outputs": [],
   "source": [
    "df_train = load_data(train_path)\n",
    "\n",
    "df_val = load_data(val_path)\n",
    "\n",
    "df_test = load_data(test_path)"
   ]
  },
  {
   "cell_type": "code",
   "execution_count": 5,
   "id": "7d727a77",
   "metadata": {
    "execution": {
     "iopub.execute_input": "2024-12-27T14:40:05.422598Z",
     "iopub.status.busy": "2024-12-27T14:40:05.422255Z",
     "iopub.status.idle": "2024-12-27T14:40:05.445529Z",
     "shell.execute_reply": "2024-12-27T14:40:05.444379Z"
    },
    "papermill": {
     "duration": 0.035946,
     "end_time": "2024-12-27T14:40:05.448064",
     "exception": false,
     "start_time": "2024-12-27T14:40:05.412118",
     "status": "completed"
    },
    "tags": []
   },
   "outputs": [
    {
     "data": {
      "text/html": [
       "<div>\n",
       "<style scoped>\n",
       "    .dataframe tbody tr th:only-of-type {\n",
       "        vertical-align: middle;\n",
       "    }\n",
       "\n",
       "    .dataframe tbody tr th {\n",
       "        vertical-align: top;\n",
       "    }\n",
       "\n",
       "    .dataframe thead th {\n",
       "        text-align: right;\n",
       "    }\n",
       "</style>\n",
       "<table border=\"1\" class=\"dataframe\">\n",
       "  <thead>\n",
       "    <tr style=\"text-align: right;\">\n",
       "      <th></th>\n",
       "      <th>image_path</th>\n",
       "      <th>caption</th>\n",
       "    </tr>\n",
       "  </thead>\n",
       "  <tbody>\n",
       "    <tr>\n",
       "      <th>0</th>\n",
       "      <td>/dataset/train/images/000000157656.jpg</td>\n",
       "      <td>Người đàn ông đang đánh tennis ngoài sân.\\n</td>\n",
       "    </tr>\n",
       "    <tr>\n",
       "      <th>1</th>\n",
       "      <td>/dataset/train/images/000000157656.jpg</td>\n",
       "      <td>Một vận động viên tennis đang vung vợt đánh bó...</td>\n",
       "    </tr>\n",
       "    <tr>\n",
       "      <th>2</th>\n",
       "      <td>/dataset/train/images/000000157656.jpg</td>\n",
       "      <td>Một cầu thủ tennis đang vung vợt tennis đỡ bón...</td>\n",
       "    </tr>\n",
       "    <tr>\n",
       "      <th>3</th>\n",
       "      <td>/dataset/train/images/000000157656.jpg</td>\n",
       "      <td>Người đàn ông đang đứng ngoài biên cầm vợt sẵn...</td>\n",
       "    </tr>\n",
       "    <tr>\n",
       "      <th>4</th>\n",
       "      <td>/dataset/train/images/000000157656.jpg</td>\n",
       "      <td>Vận động viên tennis nam đang trong tư thế chu...</td>\n",
       "    </tr>\n",
       "    <tr>\n",
       "      <th>...</th>\n",
       "      <td>...</td>\n",
       "      <td>...</td>\n",
       "    </tr>\n",
       "    <tr>\n",
       "      <th>13476</th>\n",
       "      <td>/dataset/train/images/000000121943.jpg</td>\n",
       "      <td>Những cô gái đang chơi bóng đá ở trên sân .\\n</td>\n",
       "    </tr>\n",
       "    <tr>\n",
       "      <th>13477</th>\n",
       "      <td>/dataset/train/images/000000466840.jpg</td>\n",
       "      <td>Những người đàn ông đang chơi bóng chày trên s...</td>\n",
       "    </tr>\n",
       "    <tr>\n",
       "      <th>13478</th>\n",
       "      <td>/dataset/train/images/000000381377.jpg</td>\n",
       "      <td>Một số người mặc đồ đá bóng đang đá bóng trên ...</td>\n",
       "    </tr>\n",
       "    <tr>\n",
       "      <th>13479</th>\n",
       "      <td>/dataset/train/images/000000561746.jpg</td>\n",
       "      <td>Một người đàn ông đang dùng vợt để đánh quả bó...</td>\n",
       "    </tr>\n",
       "    <tr>\n",
       "      <th>13480</th>\n",
       "      <td>/dataset/train/images/000000109950.jpg</td>\n",
       "      <td>Một người phụ nữ đang dùng vợt để đánh quả bón...</td>\n",
       "    </tr>\n",
       "  </tbody>\n",
       "</table>\n",
       "<p>13481 rows × 2 columns</p>\n",
       "</div>"
      ],
      "text/plain": [
       "                                   image_path  \\\n",
       "0      /dataset/train/images/000000157656.jpg   \n",
       "1      /dataset/train/images/000000157656.jpg   \n",
       "2      /dataset/train/images/000000157656.jpg   \n",
       "3      /dataset/train/images/000000157656.jpg   \n",
       "4      /dataset/train/images/000000157656.jpg   \n",
       "...                                       ...   \n",
       "13476  /dataset/train/images/000000121943.jpg   \n",
       "13477  /dataset/train/images/000000466840.jpg   \n",
       "13478  /dataset/train/images/000000381377.jpg   \n",
       "13479  /dataset/train/images/000000561746.jpg   \n",
       "13480  /dataset/train/images/000000109950.jpg   \n",
       "\n",
       "                                                 caption  \n",
       "0            Người đàn ông đang đánh tennis ngoài sân.\\n  \n",
       "1      Một vận động viên tennis đang vung vợt đánh bó...  \n",
       "2      Một cầu thủ tennis đang vung vợt tennis đỡ bón...  \n",
       "3      Người đàn ông đang đứng ngoài biên cầm vợt sẵn...  \n",
       "4      Vận động viên tennis nam đang trong tư thế chu...  \n",
       "...                                                  ...  \n",
       "13476      Những cô gái đang chơi bóng đá ở trên sân .\\n  \n",
       "13477  Những người đàn ông đang chơi bóng chày trên s...  \n",
       "13478  Một số người mặc đồ đá bóng đang đá bóng trên ...  \n",
       "13479  Một người đàn ông đang dùng vợt để đánh quả bó...  \n",
       "13480  Một người phụ nữ đang dùng vợt để đánh quả bón...  \n",
       "\n",
       "[13481 rows x 2 columns]"
      ]
     },
     "execution_count": 5,
     "metadata": {},
     "output_type": "execute_result"
    }
   ],
   "source": [
    "df_train"
   ]
  },
  {
   "cell_type": "markdown",
   "id": "e00bb041",
   "metadata": {
    "id": "3n3zAeENwSoN",
    "papermill": {
     "duration": 0.013096,
     "end_time": "2024-12-27T14:40:05.471896",
     "exception": false,
     "start_time": "2024-12-27T14:40:05.458800",
     "status": "completed"
    },
    "tags": []
   },
   "source": [
    "# Preprocess data"
   ]
  },
  {
   "cell_type": "code",
   "execution_count": 6,
   "id": "e034f6c3",
   "metadata": {
    "execution": {
     "iopub.execute_input": "2024-12-27T14:40:05.491854Z",
     "iopub.status.busy": "2024-12-27T14:40:05.491562Z",
     "iopub.status.idle": "2024-12-27T14:40:05.497280Z",
     "shell.execute_reply": "2024-12-27T14:40:05.496564Z"
    },
    "executionInfo": {
     "elapsed": 7,
     "status": "ok",
     "timestamp": 1733824717802,
     "user": {
      "displayName": "An Trần Hoài",
      "userId": "01608849545362298443"
     },
     "user_tz": -420
    },
    "id": "UdPerzKxvNpr",
    "papermill": {
     "duration": 0.015997,
     "end_time": "2024-12-27T14:40:05.498996",
     "exception": false,
     "start_time": "2024-12-27T14:40:05.482999",
     "status": "completed"
    },
    "tags": []
   },
   "outputs": [],
   "source": [
    "def text_preprocessing(df):\n",
    "\n",
    "    df_preprocessed = df.copy()\n",
    "\n",
    "    df_preprocessed['caption'] = df_preprocessed['caption'].apply(lambda x: x.lower())\n",
    "\n",
    "    df_preprocessed['caption'] = df_preprocessed['caption'].apply(lambda x: x.replace(\"[^A-Za-z]\",\"\"))\n",
    "\n",
    "    df_preprocessed['caption'] = df_preprocessed['caption'].apply(lambda x: x.replace(\"\\s+\",\" \"))\n",
    "\n",
    "    df_preprocessed['caption'] = df_preprocessed['caption'].apply(lambda x: \" \".join([word for word in x.split() if len(word)>1]))\n",
    "\n",
    "    df_preprocessed['caption'] = \"startseq \"+df_preprocessed['caption']+\" endseq\"\n",
    "\n",
    "    df_preprocessed['image_path'] = df_preprocessed['image_path'].str.replace('^/dataset', '', regex=True)\n",
    "\n",
    "    df_preprocessed['image_path'] = dataset_path + df_preprocessed['image_path']\n",
    "\n",
    "    return df_preprocessed"
   ]
  },
  {
   "cell_type": "code",
   "execution_count": 7,
   "id": "f0684c96",
   "metadata": {
    "execution": {
     "iopub.execute_input": "2024-12-27T14:40:05.514955Z",
     "iopub.status.busy": "2024-12-27T14:40:05.514710Z",
     "iopub.status.idle": "2024-12-27T14:40:05.626436Z",
     "shell.execute_reply": "2024-12-27T14:40:05.625488Z"
    },
    "executionInfo": {
     "elapsed": 7,
     "status": "ok",
     "timestamp": 1733824717802,
     "user": {
      "displayName": "An Trần Hoài",
      "userId": "01608849545362298443"
     },
     "user_tz": -420
    },
    "id": "9kyP88vjvOMx",
    "papermill": {
     "duration": 0.121911,
     "end_time": "2024-12-27T14:40:05.628386",
     "exception": false,
     "start_time": "2024-12-27T14:40:05.506475",
     "status": "completed"
    },
    "tags": []
   },
   "outputs": [],
   "source": [
    "df_train_preprocessed = text_preprocessing(df_train)\n",
    "\n",
    "df_val_preprocessed = text_preprocessing(df_val)\n",
    "\n",
    "df_test_preprocessed = text_preprocessing(df_test)"
   ]
  },
  {
   "cell_type": "code",
   "execution_count": 8,
   "id": "2a627690",
   "metadata": {
    "execution": {
     "iopub.execute_input": "2024-12-27T14:40:05.644476Z",
     "iopub.status.busy": "2024-12-27T14:40:05.644220Z",
     "iopub.status.idle": "2024-12-27T14:40:05.655050Z",
     "shell.execute_reply": "2024-12-27T14:40:05.654197Z"
    },
    "executionInfo": {
     "elapsed": 7,
     "status": "ok",
     "timestamp": 1733824717802,
     "user": {
      "displayName": "An Trần Hoài",
      "userId": "01608849545362298443"
     },
     "user_tz": -420
    },
    "id": "EWlyV_rPvQsM",
    "outputId": "56745e58-30fb-4ae9-8f20-dfc435954032",
    "papermill": {
     "duration": 0.020779,
     "end_time": "2024-12-27T14:40:05.656640",
     "exception": false,
     "start_time": "2024-12-27T14:40:05.635861",
     "status": "completed"
    },
    "tags": []
   },
   "outputs": [
    {
     "data": {
      "text/html": [
       "<div>\n",
       "<style scoped>\n",
       "    .dataframe tbody tr th:only-of-type {\n",
       "        vertical-align: middle;\n",
       "    }\n",
       "\n",
       "    .dataframe tbody tr th {\n",
       "        vertical-align: top;\n",
       "    }\n",
       "\n",
       "    .dataframe thead th {\n",
       "        text-align: right;\n",
       "    }\n",
       "</style>\n",
       "<table border=\"1\" class=\"dataframe\">\n",
       "  <thead>\n",
       "    <tr style=\"text-align: right;\">\n",
       "      <th></th>\n",
       "      <th>image_path</th>\n",
       "      <th>caption</th>\n",
       "    </tr>\n",
       "  </thead>\n",
       "  <tbody>\n",
       "    <tr>\n",
       "      <th>0</th>\n",
       "      <td>/kaggle/input/uit-viic-v1-0-vietnamese-image-c...</td>\n",
       "      <td>startseq người đàn ông đang đánh tennis ngoài ...</td>\n",
       "    </tr>\n",
       "    <tr>\n",
       "      <th>1</th>\n",
       "      <td>/kaggle/input/uit-viic-v1-0-vietnamese-image-c...</td>\n",
       "      <td>startseq một vận động viên tennis đang vung vợ...</td>\n",
       "    </tr>\n",
       "    <tr>\n",
       "      <th>2</th>\n",
       "      <td>/kaggle/input/uit-viic-v1-0-vietnamese-image-c...</td>\n",
       "      <td>startseq một cầu thủ tennis đang vung vợt tenn...</td>\n",
       "    </tr>\n",
       "    <tr>\n",
       "      <th>3</th>\n",
       "      <td>/kaggle/input/uit-viic-v1-0-vietnamese-image-c...</td>\n",
       "      <td>startseq người đàn ông đang đứng ngoài biên cầ...</td>\n",
       "    </tr>\n",
       "    <tr>\n",
       "      <th>4</th>\n",
       "      <td>/kaggle/input/uit-viic-v1-0-vietnamese-image-c...</td>\n",
       "      <td>startseq vận động viên tennis nam đang trong t...</td>\n",
       "    </tr>\n",
       "    <tr>\n",
       "      <th>...</th>\n",
       "      <td>...</td>\n",
       "      <td>...</td>\n",
       "    </tr>\n",
       "    <tr>\n",
       "      <th>13476</th>\n",
       "      <td>/kaggle/input/uit-viic-v1-0-vietnamese-image-c...</td>\n",
       "      <td>startseq những cô gái đang chơi bóng đá trên s...</td>\n",
       "    </tr>\n",
       "    <tr>\n",
       "      <th>13477</th>\n",
       "      <td>/kaggle/input/uit-viic-v1-0-vietnamese-image-c...</td>\n",
       "      <td>startseq những người đàn ông đang chơi bóng ch...</td>\n",
       "    </tr>\n",
       "    <tr>\n",
       "      <th>13478</th>\n",
       "      <td>/kaggle/input/uit-viic-v1-0-vietnamese-image-c...</td>\n",
       "      <td>startseq một số người mặc đồ đá bóng đang đá b...</td>\n",
       "    </tr>\n",
       "    <tr>\n",
       "      <th>13479</th>\n",
       "      <td>/kaggle/input/uit-viic-v1-0-vietnamese-image-c...</td>\n",
       "      <td>startseq một người đàn ông đang dùng vợt để đá...</td>\n",
       "    </tr>\n",
       "    <tr>\n",
       "      <th>13480</th>\n",
       "      <td>/kaggle/input/uit-viic-v1-0-vietnamese-image-c...</td>\n",
       "      <td>startseq một người phụ nữ đang dùng vợt để đán...</td>\n",
       "    </tr>\n",
       "  </tbody>\n",
       "</table>\n",
       "<p>13481 rows × 2 columns</p>\n",
       "</div>"
      ],
      "text/plain": [
       "                                              image_path  \\\n",
       "0      /kaggle/input/uit-viic-v1-0-vietnamese-image-c...   \n",
       "1      /kaggle/input/uit-viic-v1-0-vietnamese-image-c...   \n",
       "2      /kaggle/input/uit-viic-v1-0-vietnamese-image-c...   \n",
       "3      /kaggle/input/uit-viic-v1-0-vietnamese-image-c...   \n",
       "4      /kaggle/input/uit-viic-v1-0-vietnamese-image-c...   \n",
       "...                                                  ...   \n",
       "13476  /kaggle/input/uit-viic-v1-0-vietnamese-image-c...   \n",
       "13477  /kaggle/input/uit-viic-v1-0-vietnamese-image-c...   \n",
       "13478  /kaggle/input/uit-viic-v1-0-vietnamese-image-c...   \n",
       "13479  /kaggle/input/uit-viic-v1-0-vietnamese-image-c...   \n",
       "13480  /kaggle/input/uit-viic-v1-0-vietnamese-image-c...   \n",
       "\n",
       "                                                 caption  \n",
       "0      startseq người đàn ông đang đánh tennis ngoài ...  \n",
       "1      startseq một vận động viên tennis đang vung vợ...  \n",
       "2      startseq một cầu thủ tennis đang vung vợt tenn...  \n",
       "3      startseq người đàn ông đang đứng ngoài biên cầ...  \n",
       "4      startseq vận động viên tennis nam đang trong t...  \n",
       "...                                                  ...  \n",
       "13476  startseq những cô gái đang chơi bóng đá trên s...  \n",
       "13477  startseq những người đàn ông đang chơi bóng ch...  \n",
       "13478  startseq một số người mặc đồ đá bóng đang đá b...  \n",
       "13479  startseq một người đàn ông đang dùng vợt để đá...  \n",
       "13480  startseq một người phụ nữ đang dùng vợt để đán...  \n",
       "\n",
       "[13481 rows x 2 columns]"
      ]
     },
     "execution_count": 8,
     "metadata": {},
     "output_type": "execute_result"
    }
   ],
   "source": [
    "df_train_preprocessed"
   ]
  },
  {
   "cell_type": "markdown",
   "id": "a1718119",
   "metadata": {
    "id": "7mJ6dpdevfoU",
    "papermill": {
     "duration": 0.007628,
     "end_time": "2024-12-27T14:40:05.672107",
     "exception": false,
     "start_time": "2024-12-27T14:40:05.664479",
     "status": "completed"
    },
    "tags": []
   },
   "source": [
    "# Tokenizer"
   ]
  },
  {
   "cell_type": "code",
   "execution_count": 9,
   "id": "5e0d7600",
   "metadata": {
    "execution": {
     "iopub.execute_input": "2024-12-27T14:40:05.688661Z",
     "iopub.status.busy": "2024-12-27T14:40:05.688367Z",
     "iopub.status.idle": "2024-12-27T14:40:06.075086Z",
     "shell.execute_reply": "2024-12-27T14:40:06.074322Z"
    },
    "executionInfo": {
     "elapsed": 580,
     "status": "ok",
     "timestamp": 1733824718376,
     "user": {
      "displayName": "An Trần Hoài",
      "userId": "01608849545362298443"
     },
     "user_tz": -420
    },
    "id": "oc2BEGYKvfF8",
    "outputId": "70f1e0ce-a4aa-4f9d-b76b-a34fe1e5ae65",
    "papermill": {
     "duration": 0.397166,
     "end_time": "2024-12-27T14:40:06.076964",
     "exception": false,
     "start_time": "2024-12-27T14:40:05.679798",
     "status": "completed"
    },
    "tags": []
   },
   "outputs": [
    {
     "data": {
      "text/plain": [
       "[1, 7, 20, 17, 18, 5, 4, 39, 16, 10, 3, 2]"
      ]
     },
     "execution_count": 9,
     "metadata": {},
     "output_type": "execute_result"
    }
   ],
   "source": [
    "captions = df_train_preprocessed['caption'].tolist() + df_val_preprocessed['caption'].tolist() + df_test_preprocessed['caption'].tolist()\n",
    "\n",
    "tokenizer = Tokenizer()\n",
    "\n",
    "tokenizer.fit_on_texts(captions)\n",
    "\n",
    "vocab_size = len(tokenizer.word_index) + 1\n",
    "\n",
    "max_length = max(len(caption.split()) for caption in captions)\n",
    "\n",
    "\n",
    "\n",
    "tokenizer.texts_to_sequences([captions[1]])[0]"
   ]
  },
  {
   "cell_type": "markdown",
   "id": "3b1fc592",
   "metadata": {
    "id": "Q1agZUATvjkb",
    "papermill": {
     "duration": 0.007613,
     "end_time": "2024-12-27T14:40:06.093055",
     "exception": false,
     "start_time": "2024-12-27T14:40:06.085442",
     "status": "completed"
    },
    "tags": []
   },
   "source": [
    "# Feature extractor"
   ]
  },
  {
   "cell_type": "code",
   "execution_count": 10,
   "id": "28116cbb",
   "metadata": {
    "execution": {
     "iopub.execute_input": "2024-12-27T14:40:06.109973Z",
     "iopub.status.busy": "2024-12-27T14:40:06.109695Z",
     "iopub.status.idle": "2024-12-27T14:46:22.329183Z",
     "shell.execute_reply": "2024-12-27T14:46:22.328335Z"
    },
    "executionInfo": {
     "elapsed": 414710,
     "status": "ok",
     "timestamp": 1733825134263,
     "user": {
      "displayName": "An Trần Hoài",
      "userId": "01608849545362298443"
     },
     "user_tz": -420
    },
    "id": "qfaQJWCUup_f",
    "outputId": "2efe46bc-1284-4060-c1d1-56f94a51f0b5",
    "papermill": {
     "duration": 376.230246,
     "end_time": "2024-12-27T14:46:22.331020",
     "exception": false,
     "start_time": "2024-12-27T14:40:06.100774",
     "status": "completed"
    },
    "tags": []
   },
   "outputs": [
    {
     "name": "stdout",
     "output_type": "stream",
     "text": [
      "Downloading data from https://storage.googleapis.com/tensorflow/keras-applications/densenet/densenet201_weights_tf_dim_ordering_tf_kernels.h5\n",
      "\u001b[1m82524592/82524592\u001b[0m \u001b[32m━━━━━━━━━━━━━━━━━━━━\u001b[0m\u001b[37m\u001b[0m \u001b[1m3s\u001b[0m 0us/step\n"
     ]
    },
    {
     "name": "stderr",
     "output_type": "stream",
     "text": [
      "  0%|          | 0/3850 [00:00<?, ?it/s]WARNING: All log messages before absl::InitializeLog() is called are written to STDERR\n",
      "I0000 00:00:1735310420.386587      68 service.cc:145] XLA service 0x7ebf140049f0 initialized for platform CUDA (this does not guarantee that XLA will be used). Devices:\n",
      "I0000 00:00:1735310420.386651      68 service.cc:153]   StreamExecutor device (0): Tesla T4, Compute Capability 7.5\n",
      "I0000 00:00:1735310420.386655      68 service.cc:153]   StreamExecutor device (1): Tesla T4, Compute Capability 7.5\n",
      "I0000 00:00:1735310432.508180      68 device_compiler.h:188] Compiled cluster using XLA!  This line is logged at most once for the lifetime of the process.\n",
      "100%|██████████| 3850/3850 [06:07<00:00, 10.48it/s]\n"
     ]
    }
   ],
   "source": [
    "base_model = DenseNet201()\n",
    "\n",
    "\n",
    "\n",
    "feature_extractor = Model(inputs=base_model.input, outputs=base_model.layers[-2].output)\n",
    "\n",
    "\n",
    "\n",
    "image_features = {}\n",
    "\n",
    "\n",
    "\n",
    "all_images = df_train_preprocessed['image_path'].unique().tolist() + df_val_preprocessed['image_path'].unique().tolist() + df_test_preprocessed['image_path'].unique().tolist()\n",
    "\n",
    "for image in tqdm(all_images):\n",
    "\n",
    "    img = load_img(image,target_size=(224,224))\n",
    "\n",
    "    img = img_to_array(img)\n",
    "\n",
    "    img = img/255.\n",
    "\n",
    "    img = np.expand_dims(img,axis=0)\n",
    "\n",
    "    feature = feature_extractor.predict(img, verbose=0)\n",
    "\n",
    "    image_features[image] = feature"
   ]
  },
  {
   "cell_type": "code",
   "execution_count": 11,
   "id": "57473016",
   "metadata": {
    "execution": {
     "iopub.execute_input": "2024-12-27T14:46:22.517485Z",
     "iopub.status.busy": "2024-12-27T14:46:22.516750Z",
     "iopub.status.idle": "2024-12-27T14:46:22.769374Z",
     "shell.execute_reply": "2024-12-27T14:46:22.768705Z"
    },
    "papermill": {
     "duration": 0.347355,
     "end_time": "2024-12-27T14:46:22.771171",
     "exception": false,
     "start_time": "2024-12-27T14:46:22.423816",
     "status": "completed"
    },
    "tags": []
   },
   "outputs": [],
   "source": [
    "np.savez(\"image_features.npz\", **image_features) # lưu features trích xuất từ các images về máy"
   ]
  },
  {
   "cell_type": "markdown",
   "id": "ff989b8c",
   "metadata": {
    "id": "6XTjJVlZxRuX",
    "papermill": {
     "duration": 0.103206,
     "end_time": "2024-12-27T14:46:22.967804",
     "exception": false,
     "start_time": "2024-12-27T14:46:22.864598",
     "status": "completed"
    },
    "tags": []
   },
   "source": [
    "# Build model"
   ]
  },
  {
   "cell_type": "code",
   "execution_count": 12,
   "id": "a4446a0f",
   "metadata": {
    "execution": {
     "iopub.execute_input": "2024-12-27T14:46:23.163013Z",
     "iopub.status.busy": "2024-12-27T14:46:23.162245Z",
     "iopub.status.idle": "2024-12-27T14:46:23.505196Z",
     "shell.execute_reply": "2024-12-27T14:46:23.504275Z"
    },
    "executionInfo": {
     "elapsed": 613,
     "status": "ok",
     "timestamp": 1733825134869,
     "user": {
      "displayName": "An Trần Hoài",
      "userId": "01608849545362298443"
     },
     "user_tz": -420
    },
    "id": "VCRkvWV7xRIy",
    "outputId": "4a38d7f0-0f1e-47e2-c4b0-defdb3368007",
    "papermill": {
     "duration": 0.438588,
     "end_time": "2024-12-27T14:46:23.506818",
     "exception": false,
     "start_time": "2024-12-27T14:46:23.068230",
     "status": "completed"
    },
    "tags": []
   },
   "outputs": [
    {
     "name": "stderr",
     "output_type": "stream",
     "text": [
      "/opt/conda/lib/python3.10/site-packages/keras/src/layers/reshaping/reshape.py:39: UserWarning: Do not pass an `input_shape`/`input_dim` argument to a layer. When using Sequential models, prefer using an `Input(shape)` object as the first layer in the model instead.\n",
      "  super().__init__(**kwargs)\n"
     ]
    },
    {
     "data": {
      "text/html": [
       "<pre style=\"white-space:pre;overflow-x:auto;line-height:normal;font-family:Menlo,'DejaVu Sans Mono',consolas,'Courier New',monospace\"><span style=\"font-weight: bold\">Model: \"functional_3\"</span>\n",
       "</pre>\n"
      ],
      "text/plain": [
       "\u001b[1mModel: \"functional_3\"\u001b[0m\n"
      ]
     },
     "metadata": {},
     "output_type": "display_data"
    },
    {
     "data": {
      "text/html": [
       "<pre style=\"white-space:pre;overflow-x:auto;line-height:normal;font-family:Menlo,'DejaVu Sans Mono',consolas,'Courier New',monospace\">┏━━━━━━━━━━━━━━━━━━━━━┳━━━━━━━━━━━━━━━━━━━┳━━━━━━━━━━━━┳━━━━━━━━━━━━━━━━━━━┓\n",
       "┃<span style=\"font-weight: bold\"> Layer (type)        </span>┃<span style=\"font-weight: bold\"> Output Shape      </span>┃<span style=\"font-weight: bold\">    Param # </span>┃<span style=\"font-weight: bold\"> Connected to      </span>┃\n",
       "┡━━━━━━━━━━━━━━━━━━━━━╇━━━━━━━━━━━━━━━━━━━╇━━━━━━━━━━━━╇━━━━━━━━━━━━━━━━━━━┩\n",
       "│ input_layer_2       │ (<span style=\"color: #00d7ff; text-decoration-color: #00d7ff\">None</span>, <span style=\"color: #00af00; text-decoration-color: #00af00\">35</span>)        │          <span style=\"color: #00af00; text-decoration-color: #00af00\">0</span> │ -                 │\n",
       "│ (<span style=\"color: #0087ff; text-decoration-color: #0087ff\">InputLayer</span>)        │                   │            │                   │\n",
       "├─────────────────────┼───────────────────┼────────────┼───────────────────┤\n",
       "│ sentence_embedding  │ (<span style=\"color: #00d7ff; text-decoration-color: #00d7ff\">None</span>, <span style=\"color: #00af00; text-decoration-color: #00af00\">35</span>, <span style=\"color: #00af00; text-decoration-color: #00af00\">256</span>)   │    <span style=\"color: #00af00; text-decoration-color: #00af00\">345,856</span> │ input_layer_2[<span style=\"color: #00af00; text-decoration-color: #00af00\">0</span>]… │\n",
       "│ (<span style=\"color: #0087ff; text-decoration-color: #0087ff\">Embedding</span>)         │                   │            │                   │\n",
       "├─────────────────────┼───────────────────┼────────────┼───────────────────┤\n",
       "│ not_equal           │ (<span style=\"color: #00d7ff; text-decoration-color: #00d7ff\">None</span>, <span style=\"color: #00af00; text-decoration-color: #00af00\">35</span>)        │          <span style=\"color: #00af00; text-decoration-color: #00af00\">0</span> │ input_layer_2[<span style=\"color: #00af00; text-decoration-color: #00af00\">0</span>]… │\n",
       "│ (<span style=\"color: #0087ff; text-decoration-color: #0087ff\">NotEqual</span>)          │                   │            │                   │\n",
       "├─────────────────────┼───────────────────┼────────────┼───────────────────┤\n",
       "│ lstm (<span style=\"color: #0087ff; text-decoration-color: #0087ff\">LSTM</span>)         │ (<span style=\"color: #00d7ff; text-decoration-color: #00d7ff\">None</span>, <span style=\"color: #00af00; text-decoration-color: #00af00\">256</span>)       │    <span style=\"color: #00af00; text-decoration-color: #00af00\">525,312</span> │ sentence_embeddi… │\n",
       "│                     │                   │            │ not_equal[<span style=\"color: #00af00; text-decoration-color: #00af00\">0</span>][<span style=\"color: #00af00; text-decoration-color: #00af00\">0</span>]   │\n",
       "├─────────────────────┼───────────────────┼────────────┼───────────────────┤\n",
       "│ input_layer_1       │ (<span style=\"color: #00d7ff; text-decoration-color: #00d7ff\">None</span>, <span style=\"color: #00af00; text-decoration-color: #00af00\">1920</span>)      │          <span style=\"color: #00af00; text-decoration-color: #00af00\">0</span> │ -                 │\n",
       "│ (<span style=\"color: #0087ff; text-decoration-color: #0087ff\">InputLayer</span>)        │                   │            │                   │\n",
       "├─────────────────────┼───────────────────┼────────────┼───────────────────┤\n",
       "│ dropout (<span style=\"color: #0087ff; text-decoration-color: #0087ff\">Dropout</span>)   │ (<span style=\"color: #00d7ff; text-decoration-color: #00d7ff\">None</span>, <span style=\"color: #00af00; text-decoration-color: #00af00\">256</span>)       │          <span style=\"color: #00af00; text-decoration-color: #00af00\">0</span> │ lstm[<span style=\"color: #00af00; text-decoration-color: #00af00\">0</span>][<span style=\"color: #00af00; text-decoration-color: #00af00\">0</span>]        │\n",
       "├─────────────────────┼───────────────────┼────────────┼───────────────────┤\n",
       "│ dense (<span style=\"color: #0087ff; text-decoration-color: #0087ff\">Dense</span>)       │ (<span style=\"color: #00d7ff; text-decoration-color: #00d7ff\">None</span>, <span style=\"color: #00af00; text-decoration-color: #00af00\">256</span>)       │    <span style=\"color: #00af00; text-decoration-color: #00af00\">491,776</span> │ input_layer_1[<span style=\"color: #00af00; text-decoration-color: #00af00\">0</span>]… │\n",
       "├─────────────────────┼───────────────────┼────────────┼───────────────────┤\n",
       "│ additive_attention  │ (<span style=\"color: #00d7ff; text-decoration-color: #00d7ff\">None</span>, <span style=\"color: #00af00; text-decoration-color: #00af00\">256</span>)       │        <span style=\"color: #00af00; text-decoration-color: #00af00\">256</span> │ dropout[<span style=\"color: #00af00; text-decoration-color: #00af00\">0</span>][<span style=\"color: #00af00; text-decoration-color: #00af00\">0</span>],    │\n",
       "│ (<span style=\"color: #0087ff; text-decoration-color: #0087ff\">AdditiveAttention</span>) │                   │            │ dense[<span style=\"color: #00af00; text-decoration-color: #00af00\">0</span>][<span style=\"color: #00af00; text-decoration-color: #00af00\">0</span>]       │\n",
       "├─────────────────────┼───────────────────┼────────────┼───────────────────┤\n",
       "│ dropout_1 (<span style=\"color: #0087ff; text-decoration-color: #0087ff\">Dropout</span>) │ (<span style=\"color: #00d7ff; text-decoration-color: #00d7ff\">None</span>, <span style=\"color: #00af00; text-decoration-color: #00af00\">256</span>)       │          <span style=\"color: #00af00; text-decoration-color: #00af00\">0</span> │ additive_attenti… │\n",
       "├─────────────────────┼───────────────────┼────────────┼───────────────────┤\n",
       "│ add (<span style=\"color: #0087ff; text-decoration-color: #0087ff\">Add</span>)           │ (<span style=\"color: #00d7ff; text-decoration-color: #00d7ff\">None</span>, <span style=\"color: #00af00; text-decoration-color: #00af00\">256</span>)       │          <span style=\"color: #00af00; text-decoration-color: #00af00\">0</span> │ dropout_1[<span style=\"color: #00af00; text-decoration-color: #00af00\">0</span>][<span style=\"color: #00af00; text-decoration-color: #00af00\">0</span>],  │\n",
       "│                     │                   │            │ dropout[<span style=\"color: #00af00; text-decoration-color: #00af00\">0</span>][<span style=\"color: #00af00; text-decoration-color: #00af00\">0</span>]     │\n",
       "├─────────────────────┼───────────────────┼────────────┼───────────────────┤\n",
       "│ concatenate         │ (<span style=\"color: #00d7ff; text-decoration-color: #00d7ff\">None</span>, <span style=\"color: #00af00; text-decoration-color: #00af00\">512</span>)       │          <span style=\"color: #00af00; text-decoration-color: #00af00\">0</span> │ add[<span style=\"color: #00af00; text-decoration-color: #00af00\">0</span>][<span style=\"color: #00af00; text-decoration-color: #00af00\">0</span>],        │\n",
       "│ (<span style=\"color: #0087ff; text-decoration-color: #0087ff\">Concatenate</span>)       │                   │            │ dense[<span style=\"color: #00af00; text-decoration-color: #00af00\">0</span>][<span style=\"color: #00af00; text-decoration-color: #00af00\">0</span>]       │\n",
       "├─────────────────────┼───────────────────┼────────────┼───────────────────┤\n",
       "│ dense_1 (<span style=\"color: #0087ff; text-decoration-color: #0087ff\">Dense</span>)     │ (<span style=\"color: #00d7ff; text-decoration-color: #00d7ff\">None</span>, <span style=\"color: #00af00; text-decoration-color: #00af00\">128</span>)       │     <span style=\"color: #00af00; text-decoration-color: #00af00\">65,664</span> │ concatenate[<span style=\"color: #00af00; text-decoration-color: #00af00\">0</span>][<span style=\"color: #00af00; text-decoration-color: #00af00\">0</span>] │\n",
       "├─────────────────────┼───────────────────┼────────────┼───────────────────┤\n",
       "│ dropout_2 (<span style=\"color: #0087ff; text-decoration-color: #0087ff\">Dropout</span>) │ (<span style=\"color: #00d7ff; text-decoration-color: #00d7ff\">None</span>, <span style=\"color: #00af00; text-decoration-color: #00af00\">128</span>)       │          <span style=\"color: #00af00; text-decoration-color: #00af00\">0</span> │ dense_1[<span style=\"color: #00af00; text-decoration-color: #00af00\">0</span>][<span style=\"color: #00af00; text-decoration-color: #00af00\">0</span>]     │\n",
       "├─────────────────────┼───────────────────┼────────────┼───────────────────┤\n",
       "│ dense_2 (<span style=\"color: #0087ff; text-decoration-color: #0087ff\">Dense</span>)     │ (<span style=\"color: #00d7ff; text-decoration-color: #00d7ff\">None</span>, <span style=\"color: #00af00; text-decoration-color: #00af00\">1351</span>)      │    <span style=\"color: #00af00; text-decoration-color: #00af00\">174,279</span> │ dropout_2[<span style=\"color: #00af00; text-decoration-color: #00af00\">0</span>][<span style=\"color: #00af00; text-decoration-color: #00af00\">0</span>]   │\n",
       "└─────────────────────┴───────────────────┴────────────┴───────────────────┘\n",
       "</pre>\n"
      ],
      "text/plain": [
       "┏━━━━━━━━━━━━━━━━━━━━━┳━━━━━━━━━━━━━━━━━━━┳━━━━━━━━━━━━┳━━━━━━━━━━━━━━━━━━━┓\n",
       "┃\u001b[1m \u001b[0m\u001b[1mLayer (type)       \u001b[0m\u001b[1m \u001b[0m┃\u001b[1m \u001b[0m\u001b[1mOutput Shape     \u001b[0m\u001b[1m \u001b[0m┃\u001b[1m \u001b[0m\u001b[1m   Param #\u001b[0m\u001b[1m \u001b[0m┃\u001b[1m \u001b[0m\u001b[1mConnected to     \u001b[0m\u001b[1m \u001b[0m┃\n",
       "┡━━━━━━━━━━━━━━━━━━━━━╇━━━━━━━━━━━━━━━━━━━╇━━━━━━━━━━━━╇━━━━━━━━━━━━━━━━━━━┩\n",
       "│ input_layer_2       │ (\u001b[38;5;45mNone\u001b[0m, \u001b[38;5;34m35\u001b[0m)        │          \u001b[38;5;34m0\u001b[0m │ -                 │\n",
       "│ (\u001b[38;5;33mInputLayer\u001b[0m)        │                   │            │                   │\n",
       "├─────────────────────┼───────────────────┼────────────┼───────────────────┤\n",
       "│ sentence_embedding  │ (\u001b[38;5;45mNone\u001b[0m, \u001b[38;5;34m35\u001b[0m, \u001b[38;5;34m256\u001b[0m)   │    \u001b[38;5;34m345,856\u001b[0m │ input_layer_2[\u001b[38;5;34m0\u001b[0m]… │\n",
       "│ (\u001b[38;5;33mEmbedding\u001b[0m)         │                   │            │                   │\n",
       "├─────────────────────┼───────────────────┼────────────┼───────────────────┤\n",
       "│ not_equal           │ (\u001b[38;5;45mNone\u001b[0m, \u001b[38;5;34m35\u001b[0m)        │          \u001b[38;5;34m0\u001b[0m │ input_layer_2[\u001b[38;5;34m0\u001b[0m]… │\n",
       "│ (\u001b[38;5;33mNotEqual\u001b[0m)          │                   │            │                   │\n",
       "├─────────────────────┼───────────────────┼────────────┼───────────────────┤\n",
       "│ lstm (\u001b[38;5;33mLSTM\u001b[0m)         │ (\u001b[38;5;45mNone\u001b[0m, \u001b[38;5;34m256\u001b[0m)       │    \u001b[38;5;34m525,312\u001b[0m │ sentence_embeddi… │\n",
       "│                     │                   │            │ not_equal[\u001b[38;5;34m0\u001b[0m][\u001b[38;5;34m0\u001b[0m]   │\n",
       "├─────────────────────┼───────────────────┼────────────┼───────────────────┤\n",
       "│ input_layer_1       │ (\u001b[38;5;45mNone\u001b[0m, \u001b[38;5;34m1920\u001b[0m)      │          \u001b[38;5;34m0\u001b[0m │ -                 │\n",
       "│ (\u001b[38;5;33mInputLayer\u001b[0m)        │                   │            │                   │\n",
       "├─────────────────────┼───────────────────┼────────────┼───────────────────┤\n",
       "│ dropout (\u001b[38;5;33mDropout\u001b[0m)   │ (\u001b[38;5;45mNone\u001b[0m, \u001b[38;5;34m256\u001b[0m)       │          \u001b[38;5;34m0\u001b[0m │ lstm[\u001b[38;5;34m0\u001b[0m][\u001b[38;5;34m0\u001b[0m]        │\n",
       "├─────────────────────┼───────────────────┼────────────┼───────────────────┤\n",
       "│ dense (\u001b[38;5;33mDense\u001b[0m)       │ (\u001b[38;5;45mNone\u001b[0m, \u001b[38;5;34m256\u001b[0m)       │    \u001b[38;5;34m491,776\u001b[0m │ input_layer_1[\u001b[38;5;34m0\u001b[0m]… │\n",
       "├─────────────────────┼───────────────────┼────────────┼───────────────────┤\n",
       "│ additive_attention  │ (\u001b[38;5;45mNone\u001b[0m, \u001b[38;5;34m256\u001b[0m)       │        \u001b[38;5;34m256\u001b[0m │ dropout[\u001b[38;5;34m0\u001b[0m][\u001b[38;5;34m0\u001b[0m],    │\n",
       "│ (\u001b[38;5;33mAdditiveAttention\u001b[0m) │                   │            │ dense[\u001b[38;5;34m0\u001b[0m][\u001b[38;5;34m0\u001b[0m]       │\n",
       "├─────────────────────┼───────────────────┼────────────┼───────────────────┤\n",
       "│ dropout_1 (\u001b[38;5;33mDropout\u001b[0m) │ (\u001b[38;5;45mNone\u001b[0m, \u001b[38;5;34m256\u001b[0m)       │          \u001b[38;5;34m0\u001b[0m │ additive_attenti… │\n",
       "├─────────────────────┼───────────────────┼────────────┼───────────────────┤\n",
       "│ add (\u001b[38;5;33mAdd\u001b[0m)           │ (\u001b[38;5;45mNone\u001b[0m, \u001b[38;5;34m256\u001b[0m)       │          \u001b[38;5;34m0\u001b[0m │ dropout_1[\u001b[38;5;34m0\u001b[0m][\u001b[38;5;34m0\u001b[0m],  │\n",
       "│                     │                   │            │ dropout[\u001b[38;5;34m0\u001b[0m][\u001b[38;5;34m0\u001b[0m]     │\n",
       "├─────────────────────┼───────────────────┼────────────┼───────────────────┤\n",
       "│ concatenate         │ (\u001b[38;5;45mNone\u001b[0m, \u001b[38;5;34m512\u001b[0m)       │          \u001b[38;5;34m0\u001b[0m │ add[\u001b[38;5;34m0\u001b[0m][\u001b[38;5;34m0\u001b[0m],        │\n",
       "│ (\u001b[38;5;33mConcatenate\u001b[0m)       │                   │            │ dense[\u001b[38;5;34m0\u001b[0m][\u001b[38;5;34m0\u001b[0m]       │\n",
       "├─────────────────────┼───────────────────┼────────────┼───────────────────┤\n",
       "│ dense_1 (\u001b[38;5;33mDense\u001b[0m)     │ (\u001b[38;5;45mNone\u001b[0m, \u001b[38;5;34m128\u001b[0m)       │     \u001b[38;5;34m65,664\u001b[0m │ concatenate[\u001b[38;5;34m0\u001b[0m][\u001b[38;5;34m0\u001b[0m] │\n",
       "├─────────────────────┼───────────────────┼────────────┼───────────────────┤\n",
       "│ dropout_2 (\u001b[38;5;33mDropout\u001b[0m) │ (\u001b[38;5;45mNone\u001b[0m, \u001b[38;5;34m128\u001b[0m)       │          \u001b[38;5;34m0\u001b[0m │ dense_1[\u001b[38;5;34m0\u001b[0m][\u001b[38;5;34m0\u001b[0m]     │\n",
       "├─────────────────────┼───────────────────┼────────────┼───────────────────┤\n",
       "│ dense_2 (\u001b[38;5;33mDense\u001b[0m)     │ (\u001b[38;5;45mNone\u001b[0m, \u001b[38;5;34m1351\u001b[0m)      │    \u001b[38;5;34m174,279\u001b[0m │ dropout_2[\u001b[38;5;34m0\u001b[0m][\u001b[38;5;34m0\u001b[0m]   │\n",
       "└─────────────────────┴───────────────────┴────────────┴───────────────────┘\n"
      ]
     },
     "metadata": {},
     "output_type": "display_data"
    },
    {
     "data": {
      "text/html": [
       "<pre style=\"white-space:pre;overflow-x:auto;line-height:normal;font-family:Menlo,'DejaVu Sans Mono',consolas,'Courier New',monospace\"><span style=\"font-weight: bold\"> Total params: </span><span style=\"color: #00af00; text-decoration-color: #00af00\">1,603,143</span> (6.12 MB)\n",
       "</pre>\n"
      ],
      "text/plain": [
       "\u001b[1m Total params: \u001b[0m\u001b[38;5;34m1,603,143\u001b[0m (6.12 MB)\n"
      ]
     },
     "metadata": {},
     "output_type": "display_data"
    },
    {
     "data": {
      "text/html": [
       "<pre style=\"white-space:pre;overflow-x:auto;line-height:normal;font-family:Menlo,'DejaVu Sans Mono',consolas,'Courier New',monospace\"><span style=\"font-weight: bold\"> Trainable params: </span><span style=\"color: #00af00; text-decoration-color: #00af00\">1,603,143</span> (6.12 MB)\n",
       "</pre>\n"
      ],
      "text/plain": [
       "\u001b[1m Trainable params: \u001b[0m\u001b[38;5;34m1,603,143\u001b[0m (6.12 MB)\n"
      ]
     },
     "metadata": {},
     "output_type": "display_data"
    },
    {
     "data": {
      "text/html": [
       "<pre style=\"white-space:pre;overflow-x:auto;line-height:normal;font-family:Menlo,'DejaVu Sans Mono',consolas,'Courier New',monospace\"><span style=\"font-weight: bold\"> Non-trainable params: </span><span style=\"color: #00af00; text-decoration-color: #00af00\">0</span> (0.00 B)\n",
       "</pre>\n"
      ],
      "text/plain": [
       "\u001b[1m Non-trainable params: \u001b[0m\u001b[38;5;34m0\u001b[0m (0.00 B)\n"
      ]
     },
     "metadata": {},
     "output_type": "display_data"
    }
   ],
   "source": [
    "# Input ảnh\n",
    "image_input = Input(shape=(1920,))\n",
    "cnn_features = Dense(256, activation='relu')(image_input)\n",
    "cnn_features_reshaped = Reshape((1, 256), input_shape=(256,))(cnn_features)\n",
    "\n",
    "# --- Input câu và xử lý với Embedding ---\n",
    "# Input câu\n",
    "sentence_input = Input(shape=(max_length,))  # Shape: (batch_size, max_length)\n",
    "\n",
    "# Embedding từ vựng\n",
    "sentence_embedding = Embedding(vocab_size, 256, mask_zero=True, name=\"sentence_embedding\")(sentence_input)\n",
    "\n",
    "# --- 3. LSTM để tạo hidden state ---\n",
    "# LSTM cho câu chú thích\n",
    "lstm_output = LSTM(256, use_cudnn=True)(sentence_embedding)\n",
    "lstm_output = Dropout(0.5)(lstm_output)\n",
    "\n",
    "# --- 4. Attention Mechanism ---\n",
    "# Sử dụng Additive Attention\n",
    "attention_output = AdditiveAttention(dropout=0.2, use_scale=True)([lstm_output, cnn_features])\n",
    "attention_output = Dropout(0.5)(attention_output)\n",
    "\n",
    "# Kết hợp Attention Output và LSTM Output\n",
    "x = Add()([attention_output, lstm_output])\n",
    "x = Concatenate(axis=-1)([x, cnn_features])\n",
    "x = Dense(128, activation='relu')(x)\n",
    "x = Dropout(0.5)(x)\n",
    "\n",
    "# --- 5. Dự đoán từ tiếp theo ---\n",
    "# Fully Connected Layer để tạo đầu ra từ vựng\n",
    "output = Dense(vocab_size, activation=\"softmax\")(x)\n",
    "\n",
    "# --- 6. Xây dựng mô hình ---\n",
    "model = Model(inputs=[image_input, sentence_input], outputs=output)\n",
    "model.summary()"
   ]
  },
  {
   "cell_type": "markdown",
   "id": "95d9df0c",
   "metadata": {
    "id": "9RsEpBv25Ije",
    "papermill": {
     "duration": 0.092027,
     "end_time": "2024-12-27T14:46:23.692560",
     "exception": false,
     "start_time": "2024-12-27T14:46:23.600533",
     "status": "completed"
    },
    "tags": []
   },
   "source": [
    "# Prepare data for training"
   ]
  },
  {
   "cell_type": "code",
   "execution_count": 13,
   "id": "e5a999fc",
   "metadata": {
    "execution": {
     "iopub.execute_input": "2024-12-27T14:46:23.878202Z",
     "iopub.status.busy": "2024-12-27T14:46:23.877882Z",
     "iopub.status.idle": "2024-12-27T14:46:23.884653Z",
     "shell.execute_reply": "2024-12-27T14:46:23.883627Z"
    },
    "executionInfo": {
     "elapsed": 4,
     "status": "ok",
     "timestamp": 1733825134869,
     "user": {
      "displayName": "An Trần Hoài",
      "userId": "01608849545362298443"
     },
     "user_tz": -420
    },
    "id": "3vI0klSI5Ius",
    "papermill": {
     "duration": 0.102157,
     "end_time": "2024-12-27T14:46:23.886435",
     "exception": false,
     "start_time": "2024-12-27T14:46:23.784278",
     "status": "completed"
    },
    "tags": []
   },
   "outputs": [],
   "source": [
    "def DataGenerator(df, tokenizer=tokenizer, max_length=max_length, image_features=image_features):\n",
    "\n",
    "    image_input, sentence_input, output = list(), list(), list()\n",
    "\n",
    "    for i in range(len(df)):\n",
    "\n",
    "        image_path = df.iloc[i]['image_path']\n",
    "\n",
    "        caption = df.iloc[i]['caption']\n",
    "\n",
    "        caption_sequence = tokenizer.texts_to_sequences([caption])[0]\n",
    "\n",
    "        for j in range(1, len(caption_sequence)):\n",
    "\n",
    "            in_sequence, out_word = caption_sequence[:j], caption_sequence[j]\n",
    "\n",
    "            in_sequence = pad_sequences([in_sequence], maxlen=max_length, padding='post')[0]\n",
    "\n",
    "            out_word = tf.keras.utils.to_categorical([out_word], num_classes=vocab_size)[0]\n",
    "\n",
    "            image_input.append(image_features[image_path][0])\n",
    "\n",
    "            sentence_input.append(in_sequence)\n",
    "\n",
    "            output.append(out_word)\n",
    "\n",
    "    return np.array(image_input), np.array(sentence_input), np.array(output)"
   ]
  },
  {
   "cell_type": "markdown",
   "id": "d472091b",
   "metadata": {
    "id": "F_Efttcp6MJE",
    "papermill": {
     "duration": 0.093014,
     "end_time": "2024-12-27T14:46:24.072241",
     "exception": false,
     "start_time": "2024-12-27T14:46:23.979227",
     "status": "completed"
    },
    "tags": []
   },
   "source": [
    "# Train model"
   ]
  },
  {
   "cell_type": "code",
   "execution_count": 14,
   "id": "e61aa74e",
   "metadata": {
    "execution": {
     "iopub.execute_input": "2024-12-27T14:46:24.260291Z",
     "iopub.status.busy": "2024-12-27T14:46:24.259954Z",
     "iopub.status.idle": "2024-12-27T14:46:24.265454Z",
     "shell.execute_reply": "2024-12-27T14:46:24.264521Z"
    },
    "papermill": {
     "duration": 0.102608,
     "end_time": "2024-12-27T14:46:24.267146",
     "exception": false,
     "start_time": "2024-12-27T14:46:24.164538",
     "status": "completed"
    },
    "tags": []
   },
   "outputs": [],
   "source": [
    "checkpoint_callback = ModelCheckpoint(\n",
    "    filepath='densenet201_attention.keras',    # Đường dẫn file để lưu mô hình\n",
    "    monitor='val_loss',          # Theo dõi 'val_loss'\n",
    "    save_best_only=True,         # Chỉ lưu mô hình tốt nhất\n",
    "    mode='min',                  # Lưu khi 'val_loss' giảm (tối thiểu)\n",
    "    verbose=1                    # Hiển thị thông báo khi lưu mô hình\n",
    ")\n",
    "\n",
    "earlystopping = EarlyStopping(monitor='val_loss',min_delta = 0, patience = 5, verbose = 1, restore_best_weights=True)\n",
    "\n",
    "learning_rate_reduction = ReduceLROnPlateau(monitor='val_loss',\n",
    "                                            patience=3,\n",
    "                                            verbose=1,\n",
    "                                            factor=0.2,\n",
    "                                            min_lr=0.00000001)"
   ]
  },
  {
   "cell_type": "code",
   "execution_count": 15,
   "id": "4f2ba7f8",
   "metadata": {
    "execution": {
     "iopub.execute_input": "2024-12-27T14:46:24.454120Z",
     "iopub.status.busy": "2024-12-27T14:46:24.453805Z",
     "iopub.status.idle": "2024-12-27T14:54:54.699994Z",
     "shell.execute_reply": "2024-12-27T14:54:54.698859Z"
    },
    "id": "78Fqei7L6Nd2",
    "papermill": {
     "duration": 510.565349,
     "end_time": "2024-12-27T14:54:54.925676",
     "exception": false,
     "start_time": "2024-12-27T14:46:24.360327",
     "status": "completed"
    },
    "tags": []
   },
   "outputs": [
    {
     "name": "stdout",
     "output_type": "stream",
     "text": [
      "Epoch 1/30\n",
      "\u001b[1m1743/1743\u001b[0m \u001b[32m━━━━━━━━━━━━━━━━━━━━\u001b[0m\u001b[37m\u001b[0m \u001b[1m0s\u001b[0m 8ms/step - accuracy: 0.3018 - loss: 3.6156\n",
      "Epoch 1: val_loss improved from inf to 1.81964, saving model to densenet201_attention.keras\n",
      "\u001b[1m1743/1743\u001b[0m \u001b[32m━━━━━━━━━━━━━━━━━━━━\u001b[0m\u001b[37m\u001b[0m \u001b[1m23s\u001b[0m 11ms/step - accuracy: 0.3019 - loss: 3.6151 - val_accuracy: 0.6015 - val_loss: 1.8196\n",
      "Epoch 2/30\n",
      "\u001b[1m1739/1743\u001b[0m \u001b[32m━━━━━━━━━━━━━━━━━━━\u001b[0m\u001b[37m━\u001b[0m \u001b[1m0s\u001b[0m 8ms/step - accuracy: 0.5971 - loss: 1.8455\n",
      "Epoch 2: val_loss improved from 1.81964 to 1.57027, saving model to densenet201_attention.keras\n",
      "\u001b[1m1743/1743\u001b[0m \u001b[32m━━━━━━━━━━━━━━━━━━━━\u001b[0m\u001b[37m\u001b[0m \u001b[1m16s\u001b[0m 9ms/step - accuracy: 0.5971 - loss: 1.8453 - val_accuracy: 0.6445 - val_loss: 1.5703\n",
      "Epoch 3/30\n",
      "\u001b[1m1740/1743\u001b[0m \u001b[32m━━━━━━━━━━━━━━━━━━━\u001b[0m\u001b[37m━\u001b[0m \u001b[1m0s\u001b[0m 8ms/step - accuracy: 0.6325 - loss: 1.6079\n",
      "Epoch 3: val_loss improved from 1.57027 to 1.47223, saving model to densenet201_attention.keras\n",
      "\u001b[1m1743/1743\u001b[0m \u001b[32m━━━━━━━━━━━━━━━━━━━━\u001b[0m\u001b[37m\u001b[0m \u001b[1m16s\u001b[0m 9ms/step - accuracy: 0.6325 - loss: 1.6079 - val_accuracy: 0.6629 - val_loss: 1.4722\n",
      "Epoch 4/30\n",
      "\u001b[1m1742/1743\u001b[0m \u001b[32m━━━━━━━━━━━━━━━━━━━\u001b[0m\u001b[37m━\u001b[0m \u001b[1m0s\u001b[0m 8ms/step - accuracy: 0.6481 - loss: 1.5036\n",
      "Epoch 4: val_loss improved from 1.47223 to 1.42638, saving model to densenet201_attention.keras\n",
      "\u001b[1m1743/1743\u001b[0m \u001b[32m━━━━━━━━━━━━━━━━━━━━\u001b[0m\u001b[37m\u001b[0m \u001b[1m16s\u001b[0m 9ms/step - accuracy: 0.6481 - loss: 1.5036 - val_accuracy: 0.6705 - val_loss: 1.4264\n",
      "Epoch 5/30\n",
      "\u001b[1m1741/1743\u001b[0m \u001b[32m━━━━━━━━━━━━━━━━━━━\u001b[0m\u001b[37m━\u001b[0m \u001b[1m0s\u001b[0m 8ms/step - accuracy: 0.6628 - loss: 1.4076\n",
      "Epoch 5: val_loss improved from 1.42638 to 1.40700, saving model to densenet201_attention.keras\n",
      "\u001b[1m1743/1743\u001b[0m \u001b[32m━━━━━━━━━━━━━━━━━━━━\u001b[0m\u001b[37m\u001b[0m \u001b[1m16s\u001b[0m 9ms/step - accuracy: 0.6628 - loss: 1.4076 - val_accuracy: 0.6751 - val_loss: 1.4070\n",
      "Epoch 6/30\n",
      "\u001b[1m1742/1743\u001b[0m \u001b[32m━━━━━━━━━━━━━━━━━━━\u001b[0m\u001b[37m━\u001b[0m \u001b[1m0s\u001b[0m 8ms/step - accuracy: 0.6686 - loss: 1.3518\n",
      "Epoch 6: val_loss improved from 1.40700 to 1.39509, saving model to densenet201_attention.keras\n",
      "\u001b[1m1743/1743\u001b[0m \u001b[32m━━━━━━━━━━━━━━━━━━━━\u001b[0m\u001b[37m\u001b[0m \u001b[1m16s\u001b[0m 9ms/step - accuracy: 0.6686 - loss: 1.3517 - val_accuracy: 0.6777 - val_loss: 1.3951\n",
      "Epoch 7/30\n",
      "\u001b[1m1740/1743\u001b[0m \u001b[32m━━━━━━━━━━━━━━━━━━━\u001b[0m\u001b[37m━\u001b[0m \u001b[1m0s\u001b[0m 8ms/step - accuracy: 0.6773 - loss: 1.3008\n",
      "Epoch 7: val_loss improved from 1.39509 to 1.39166, saving model to densenet201_attention.keras\n",
      "\u001b[1m1743/1743\u001b[0m \u001b[32m━━━━━━━━━━━━━━━━━━━━\u001b[0m\u001b[37m\u001b[0m \u001b[1m16s\u001b[0m 9ms/step - accuracy: 0.6773 - loss: 1.3008 - val_accuracy: 0.6794 - val_loss: 1.3917\n",
      "Epoch 8/30\n",
      "\u001b[1m1737/1743\u001b[0m \u001b[32m━━━━━━━━━━━━━━━━━━━\u001b[0m\u001b[37m━\u001b[0m \u001b[1m0s\u001b[0m 8ms/step - accuracy: 0.6832 - loss: 1.2624\n",
      "Epoch 8: val_loss improved from 1.39166 to 1.38665, saving model to densenet201_attention.keras\n",
      "\u001b[1m1743/1743\u001b[0m \u001b[32m━━━━━━━━━━━━━━━━━━━━\u001b[0m\u001b[37m\u001b[0m \u001b[1m16s\u001b[0m 9ms/step - accuracy: 0.6832 - loss: 1.2624 - val_accuracy: 0.6831 - val_loss: 1.3867\n",
      "Epoch 9/30\n",
      "\u001b[1m1741/1743\u001b[0m \u001b[32m━━━━━━━━━━━━━━━━━━━\u001b[0m\u001b[37m━\u001b[0m \u001b[1m0s\u001b[0m 8ms/step - accuracy: 0.6877 - loss: 1.2374\n",
      "Epoch 9: val_loss did not improve from 1.38665\n",
      "\u001b[1m1743/1743\u001b[0m \u001b[32m━━━━━━━━━━━━━━━━━━━━\u001b[0m\u001b[37m\u001b[0m \u001b[1m16s\u001b[0m 9ms/step - accuracy: 0.6877 - loss: 1.2374 - val_accuracy: 0.6800 - val_loss: 1.3940\n",
      "Epoch 10/30\n",
      "\u001b[1m1739/1743\u001b[0m \u001b[32m━━━━━━━━━━━━━━━━━━━\u001b[0m\u001b[37m━\u001b[0m \u001b[1m0s\u001b[0m 8ms/step - accuracy: 0.6890 - loss: 1.2148\n",
      "Epoch 10: val_loss did not improve from 1.38665\n",
      "\u001b[1m1743/1743\u001b[0m \u001b[32m━━━━━━━━━━━━━━━━━━━━\u001b[0m\u001b[37m\u001b[0m \u001b[1m16s\u001b[0m 9ms/step - accuracy: 0.6890 - loss: 1.2148 - val_accuracy: 0.6839 - val_loss: 1.4011\n",
      "Epoch 11/30\n",
      "\u001b[1m1741/1743\u001b[0m \u001b[32m━━━━━━━━━━━━━━━━━━━\u001b[0m\u001b[37m━\u001b[0m \u001b[1m0s\u001b[0m 8ms/step - accuracy: 0.6947 - loss: 1.1877\n",
      "Epoch 11: val_loss did not improve from 1.38665\n",
      "\u001b[1m1743/1743\u001b[0m \u001b[32m━━━━━━━━━━━━━━━━━━━━\u001b[0m\u001b[37m\u001b[0m \u001b[1m16s\u001b[0m 9ms/step - accuracy: 0.6947 - loss: 1.1877 - val_accuracy: 0.6858 - val_loss: 1.4189\n",
      "Epoch 12/30\n",
      "\u001b[1m1738/1743\u001b[0m \u001b[32m━━━━━━━━━━━━━━━━━━━\u001b[0m\u001b[37m━\u001b[0m \u001b[1m0s\u001b[0m 8ms/step - accuracy: 0.6972 - loss: 1.1698\n",
      "Epoch 12: val_loss did not improve from 1.38665\n",
      "\u001b[1m1743/1743\u001b[0m \u001b[32m━━━━━━━━━━━━━━━━━━━━\u001b[0m\u001b[37m\u001b[0m \u001b[1m16s\u001b[0m 9ms/step - accuracy: 0.6972 - loss: 1.1699 - val_accuracy: 0.6860 - val_loss: 1.4073\n",
      "Epoch 13/30\n",
      "\u001b[1m1739/1743\u001b[0m \u001b[32m━━━━━━━━━━━━━━━━━━━\u001b[0m\u001b[37m━\u001b[0m \u001b[1m0s\u001b[0m 8ms/step - accuracy: 0.7000 - loss: 1.1542\n",
      "Epoch 13: val_loss did not improve from 1.38665\n",
      "\u001b[1m1743/1743\u001b[0m \u001b[32m━━━━━━━━━━━━━━━━━━━━\u001b[0m\u001b[37m\u001b[0m \u001b[1m16s\u001b[0m 9ms/step - accuracy: 0.7000 - loss: 1.1542 - val_accuracy: 0.6851 - val_loss: 1.4278\n",
      "Epoch 14/30\n",
      "\u001b[1m1742/1743\u001b[0m \u001b[32m━━━━━━━━━━━━━━━━━━━\u001b[0m\u001b[37m━\u001b[0m \u001b[1m0s\u001b[0m 8ms/step - accuracy: 0.7013 - loss: 1.1398\n",
      "Epoch 14: val_loss did not improve from 1.38665\n",
      "\u001b[1m1743/1743\u001b[0m \u001b[32m━━━━━━━━━━━━━━━━━━━━\u001b[0m\u001b[37m\u001b[0m \u001b[1m16s\u001b[0m 9ms/step - accuracy: 0.7013 - loss: 1.1398 - val_accuracy: 0.6869 - val_loss: 1.4153\n",
      "Epoch 15/30\n",
      "\u001b[1m1743/1743\u001b[0m \u001b[32m━━━━━━━━━━━━━━━━━━━━\u001b[0m\u001b[37m\u001b[0m \u001b[1m0s\u001b[0m 8ms/step - accuracy: 0.7045 - loss: 1.1209\n",
      "Epoch 15: val_loss did not improve from 1.38665\n",
      "\u001b[1m1743/1743\u001b[0m \u001b[32m━━━━━━━━━━━━━━━━━━━━\u001b[0m\u001b[37m\u001b[0m \u001b[1m16s\u001b[0m 9ms/step - accuracy: 0.7045 - loss: 1.1209 - val_accuracy: 0.6864 - val_loss: 1.4376\n",
      "Epoch 16/30\n",
      "\u001b[1m1739/1743\u001b[0m \u001b[32m━━━━━━━━━━━━━━━━━━━\u001b[0m\u001b[37m━\u001b[0m \u001b[1m0s\u001b[0m 8ms/step - accuracy: 0.7095 - loss: 1.1020\n",
      "Epoch 16: val_loss did not improve from 1.38665\n",
      "\u001b[1m1743/1743\u001b[0m \u001b[32m━━━━━━━━━━━━━━━━━━━━\u001b[0m\u001b[37m\u001b[0m \u001b[1m16s\u001b[0m 9ms/step - accuracy: 0.7095 - loss: 1.1020 - val_accuracy: 0.6875 - val_loss: 1.4315\n",
      "Epoch 17/30\n",
      "\u001b[1m1737/1743\u001b[0m \u001b[32m━━━━━━━━━━━━━━━━━━━\u001b[0m\u001b[37m━\u001b[0m \u001b[1m0s\u001b[0m 8ms/step - accuracy: 0.7106 - loss: 1.0941\n",
      "Epoch 17: val_loss did not improve from 1.38665\n",
      "\u001b[1m1743/1743\u001b[0m \u001b[32m━━━━━━━━━━━━━━━━━━━━\u001b[0m\u001b[37m\u001b[0m \u001b[1m16s\u001b[0m 9ms/step - accuracy: 0.7106 - loss: 1.0941 - val_accuracy: 0.6864 - val_loss: 1.4633\n",
      "Epoch 18/30\n",
      "\u001b[1m1739/1743\u001b[0m \u001b[32m━━━━━━━━━━━━━━━━━━━\u001b[0m\u001b[37m━\u001b[0m \u001b[1m0s\u001b[0m 8ms/step - accuracy: 0.7125 - loss: 1.0860\n",
      "Epoch 18: val_loss did not improve from 1.38665\n",
      "\u001b[1m1743/1743\u001b[0m \u001b[32m━━━━━━━━━━━━━━━━━━━━\u001b[0m\u001b[37m\u001b[0m \u001b[1m16s\u001b[0m 9ms/step - accuracy: 0.7125 - loss: 1.0860 - val_accuracy: 0.6868 - val_loss: 1.4674\n",
      "Epoch 19/30\n",
      "\u001b[1m1741/1743\u001b[0m \u001b[32m━━━━━━━━━━━━━━━━━━━\u001b[0m\u001b[37m━\u001b[0m \u001b[1m0s\u001b[0m 8ms/step - accuracy: 0.7144 - loss: 1.0774\n",
      "Epoch 19: val_loss did not improve from 1.38665\n",
      "\u001b[1m1743/1743\u001b[0m \u001b[32m━━━━━━━━━━━━━━━━━━━━\u001b[0m\u001b[37m\u001b[0m \u001b[1m16s\u001b[0m 9ms/step - accuracy: 0.7144 - loss: 1.0774 - val_accuracy: 0.6853 - val_loss: 1.4975\n",
      "Epoch 20/30\n",
      "\u001b[1m1741/1743\u001b[0m \u001b[32m━━━━━━━━━━━━━━━━━━━\u001b[0m\u001b[37m━\u001b[0m \u001b[1m0s\u001b[0m 8ms/step - accuracy: 0.7170 - loss: 1.0607\n",
      "Epoch 20: val_loss did not improve from 1.38665\n",
      "\u001b[1m1743/1743\u001b[0m \u001b[32m━━━━━━━━━━━━━━━━━━━━\u001b[0m\u001b[37m\u001b[0m \u001b[1m16s\u001b[0m 9ms/step - accuracy: 0.7170 - loss: 1.0607 - val_accuracy: 0.6849 - val_loss: 1.4952\n",
      "Epoch 21/30\n",
      "\u001b[1m1740/1743\u001b[0m \u001b[32m━━━━━━━━━━━━━━━━━━━\u001b[0m\u001b[37m━\u001b[0m \u001b[1m0s\u001b[0m 8ms/step - accuracy: 0.7174 - loss: 1.0518\n",
      "Epoch 21: val_loss did not improve from 1.38665\n",
      "\u001b[1m1743/1743\u001b[0m \u001b[32m━━━━━━━━━━━━━━━━━━━━\u001b[0m\u001b[37m\u001b[0m \u001b[1m16s\u001b[0m 9ms/step - accuracy: 0.7174 - loss: 1.0518 - val_accuracy: 0.6848 - val_loss: 1.5174\n",
      "Epoch 22/30\n",
      "\u001b[1m1742/1743\u001b[0m \u001b[32m━━━━━━━━━━━━━━━━━━━\u001b[0m\u001b[37m━\u001b[0m \u001b[1m0s\u001b[0m 8ms/step - accuracy: 0.7205 - loss: 1.0422\n",
      "Epoch 22: val_loss did not improve from 1.38665\n",
      "\u001b[1m1743/1743\u001b[0m \u001b[32m━━━━━━━━━━━━━━━━━━━━\u001b[0m\u001b[37m\u001b[0m \u001b[1m16s\u001b[0m 9ms/step - accuracy: 0.7205 - loss: 1.0422 - val_accuracy: 0.6835 - val_loss: 1.4859\n",
      "Epoch 23/30\n",
      "\u001b[1m1740/1743\u001b[0m \u001b[32m━━━━━━━━━━━━━━━━━━━\u001b[0m\u001b[37m━\u001b[0m \u001b[1m0s\u001b[0m 8ms/step - accuracy: 0.7229 - loss: 1.0358\n",
      "Epoch 23: val_loss did not improve from 1.38665\n",
      "\u001b[1m1743/1743\u001b[0m \u001b[32m━━━━━━━━━━━━━━━━━━━━\u001b[0m\u001b[37m\u001b[0m \u001b[1m16s\u001b[0m 9ms/step - accuracy: 0.7229 - loss: 1.0358 - val_accuracy: 0.6835 - val_loss: 1.5234\n",
      "Epoch 24/30\n",
      "\u001b[1m1737/1743\u001b[0m \u001b[32m━━━━━━━━━━━━━━━━━━━\u001b[0m\u001b[37m━\u001b[0m \u001b[1m0s\u001b[0m 8ms/step - accuracy: 0.7236 - loss: 1.0304\n",
      "Epoch 24: val_loss did not improve from 1.38665\n",
      "\u001b[1m1743/1743\u001b[0m \u001b[32m━━━━━━━━━━━━━━━━━━━━\u001b[0m\u001b[37m\u001b[0m \u001b[1m16s\u001b[0m 9ms/step - accuracy: 0.7236 - loss: 1.0304 - val_accuracy: 0.6855 - val_loss: 1.5279\n",
      "Epoch 25/30\n",
      "\u001b[1m1741/1743\u001b[0m \u001b[32m━━━━━━━━━━━━━━━━━━━\u001b[0m\u001b[37m━\u001b[0m \u001b[1m0s\u001b[0m 8ms/step - accuracy: 0.7264 - loss: 1.0162\n",
      "Epoch 25: val_loss did not improve from 1.38665\n",
      "\u001b[1m1743/1743\u001b[0m \u001b[32m━━━━━━━━━━━━━━━━━━━━\u001b[0m\u001b[37m\u001b[0m \u001b[1m16s\u001b[0m 9ms/step - accuracy: 0.7264 - loss: 1.0162 - val_accuracy: 0.6828 - val_loss: 1.5607\n",
      "Epoch 26/30\n",
      "\u001b[1m1741/1743\u001b[0m \u001b[32m━━━━━━━━━━━━━━━━━━━\u001b[0m\u001b[37m━\u001b[0m \u001b[1m0s\u001b[0m 8ms/step - accuracy: 0.7256 - loss: 1.0124\n",
      "Epoch 26: val_loss did not improve from 1.38665\n",
      "\u001b[1m1743/1743\u001b[0m \u001b[32m━━━━━━━━━━━━━━━━━━━━\u001b[0m\u001b[37m\u001b[0m \u001b[1m16s\u001b[0m 9ms/step - accuracy: 0.7256 - loss: 1.0124 - val_accuracy: 0.6850 - val_loss: 1.5306\n",
      "Epoch 27/30\n",
      "\u001b[1m1739/1743\u001b[0m \u001b[32m━━━━━━━━━━━━━━━━━━━\u001b[0m\u001b[37m━\u001b[0m \u001b[1m0s\u001b[0m 8ms/step - accuracy: 0.7282 - loss: 1.0045\n",
      "Epoch 27: val_loss did not improve from 1.38665\n",
      "\u001b[1m1743/1743\u001b[0m \u001b[32m━━━━━━━━━━━━━━━━━━━━\u001b[0m\u001b[37m\u001b[0m \u001b[1m16s\u001b[0m 9ms/step - accuracy: 0.7282 - loss: 1.0045 - val_accuracy: 0.6868 - val_loss: 1.5278\n",
      "Epoch 28/30\n",
      "\u001b[1m1741/1743\u001b[0m \u001b[32m━━━━━━━━━━━━━━━━━━━\u001b[0m\u001b[37m━\u001b[0m \u001b[1m0s\u001b[0m 8ms/step - accuracy: 0.7335 - loss: 0.9908\n",
      "Epoch 28: val_loss did not improve from 1.38665\n",
      "\u001b[1m1743/1743\u001b[0m \u001b[32m━━━━━━━━━━━━━━━━━━━━\u001b[0m\u001b[37m\u001b[0m \u001b[1m16s\u001b[0m 9ms/step - accuracy: 0.7335 - loss: 0.9908 - val_accuracy: 0.6851 - val_loss: 1.5959\n",
      "Epoch 29/30\n",
      "\u001b[1m1743/1743\u001b[0m \u001b[32m━━━━━━━━━━━━━━━━━━━━\u001b[0m\u001b[37m\u001b[0m \u001b[1m0s\u001b[0m 8ms/step - accuracy: 0.7323 - loss: 0.9877\n",
      "Epoch 29: val_loss did not improve from 1.38665\n",
      "\u001b[1m1743/1743\u001b[0m \u001b[32m━━━━━━━━━━━━━━━━━━━━\u001b[0m\u001b[37m\u001b[0m \u001b[1m16s\u001b[0m 9ms/step - accuracy: 0.7323 - loss: 0.9877 - val_accuracy: 0.6841 - val_loss: 1.5854\n",
      "Epoch 30/30\n",
      "\u001b[1m1738/1743\u001b[0m \u001b[32m━━━━━━━━━━━━━━━━━━━\u001b[0m\u001b[37m━\u001b[0m \u001b[1m0s\u001b[0m 8ms/step - accuracy: 0.7314 - loss: 0.9839\n",
      "Epoch 30: val_loss did not improve from 1.38665\n",
      "\u001b[1m1743/1743\u001b[0m \u001b[32m━━━━━━━━━━━━━━━━━━━━\u001b[0m\u001b[37m\u001b[0m \u001b[1m16s\u001b[0m 9ms/step - accuracy: 0.7314 - loss: 0.9839 - val_accuracy: 0.6843 - val_loss: 1.5584\n"
     ]
    }
   ],
   "source": [
    "optimizer = tf.keras.optimizers.Adam(learning_rate=0.0005)\n",
    "model.compile(optimizer=optimizer, loss='categorical_crossentropy', metrics=['accuracy'])\n",
    "\n",
    "train_image_data, train_sentence_data, train_output_data = DataGenerator(df_train_preprocessed)\n",
    "val_image_data, val_sentence_data, val_output_data = DataGenerator(df_val_preprocessed)\n",
    "\n",
    "# Huấn luyện mô hình\n",
    "\n",
    "with tf.device('/GPU:0'):\n",
    "\n",
    "    history = model.fit(\n",
    "\n",
    "        x=[train_image_data, train_sentence_data],\n",
    "\n",
    "        y=train_output_data,\n",
    "\n",
    "        validation_data=([val_image_data, val_sentence_data], val_output_data),\n",
    "\n",
    "        epochs=30,  # Số vòng lặp\n",
    "\n",
    "        batch_size=100, # Kích thước batch\n",
    "        \n",
    "        callbacks=[checkpoint_callback]\n",
    "        \n",
    "    )"
   ]
  },
  {
   "cell_type": "code",
   "execution_count": 16,
   "id": "857c2cac",
   "metadata": {
    "execution": {
     "iopub.execute_input": "2024-12-27T14:54:55.915119Z",
     "iopub.status.busy": "2024-12-27T14:54:55.914342Z",
     "iopub.status.idle": "2024-12-27T14:54:56.461479Z",
     "shell.execute_reply": "2024-12-27T14:54:56.460670Z"
    },
    "id": "iHjcUIpt69_c",
    "papermill": {
     "duration": 1.071972,
     "end_time": "2024-12-27T14:54:56.463630",
     "exception": false,
     "start_time": "2024-12-27T14:54:55.391658",
     "status": "completed"
    },
    "tags": []
   },
   "outputs": [
    {
     "data": {
      "image/png": "[encoded data removed]",
      "text/plain": [
       "<Figure size 640x480 with 1 Axes>"
      ]
     },
     "metadata": {},
     "output_type": "display_data"
    },
    {
     "data": {
      "image/png": "[encoded data removed]",
      "text/plain": [
       "<Figure size 640x480 with 1 Axes>"
      ]
     },
     "metadata": {},
     "output_type": "display_data"
    }
   ],
   "source": [
    "import matplotlib.pyplot as plt\n",
    "\n",
    "\n",
    "\n",
    "# Vẽ biểu đồ loss\n",
    "\n",
    "plt.plot(history.history['loss'], label='Train Loss')\n",
    "\n",
    "plt.plot(history.history['val_loss'], label='Validation Loss')\n",
    "\n",
    "plt.xlabel('Epochs')\n",
    "\n",
    "plt.ylabel('Loss')\n",
    "\n",
    "plt.legend()\n",
    "\n",
    "plt.title('Loss Over Epochs')\n",
    "\n",
    "plt.show()\n",
    "\n",
    "\n",
    "\n",
    "# Vẽ biểu đồ accuracy\n",
    "\n",
    "plt.plot(history.history['accuracy'], label='Train Accuracy')\n",
    "\n",
    "plt.plot(history.history['val_accuracy'], label='Validation Accuracy')\n",
    "\n",
    "plt.xlabel('Epochs')\n",
    "\n",
    "plt.ylabel('Accuracy')\n",
    "\n",
    "plt.legend()\n",
    "\n",
    "plt.title('Accuracy Over Epochs')\n",
    "\n",
    "plt.show()"
   ]
  },
  {
   "cell_type": "markdown",
   "id": "66b617cb",
   "metadata": {
    "papermill": {
     "duration": 0.499966,
     "end_time": "2024-12-27T14:54:57.467025",
     "exception": false,
     "start_time": "2024-12-27T14:54:56.967059",
     "status": "completed"
    },
    "tags": []
   },
   "source": [
    "# BLEU metric "
   ]
  },
  {
   "cell_type": "code",
   "execution_count": 17,
   "id": "d54c52fd",
   "metadata": {
    "execution": {
     "iopub.execute_input": "2024-12-27T14:54:58.417979Z",
     "iopub.status.busy": "2024-12-27T14:54:58.417636Z",
     "iopub.status.idle": "2024-12-27T14:54:58.422003Z",
     "shell.execute_reply": "2024-12-27T14:54:58.421242Z"
    },
    "papermill": {
     "duration": 0.462618,
     "end_time": "2024-12-27T14:54:58.423686",
     "exception": false,
     "start_time": "2024-12-27T14:54:57.961068",
     "status": "completed"
    },
    "tags": []
   },
   "outputs": [],
   "source": [
    "def idx_to_word(integer,tokenizer):\n",
    "    for word, index in tokenizer.word_index.items():\n",
    "        if index==integer:\n",
    "            return word\n",
    "    return None"
   ]
  },
  {
   "cell_type": "code",
   "execution_count": 18,
   "id": "8dbe999e",
   "metadata": {
    "execution": {
     "iopub.execute_input": "2024-12-27T14:54:59.358910Z",
     "iopub.status.busy": "2024-12-27T14:54:59.358556Z",
     "iopub.status.idle": "2024-12-27T14:54:59.365515Z",
     "shell.execute_reply": "2024-12-27T14:54:59.364686Z"
    },
    "papermill": {
     "duration": 0.495657,
     "end_time": "2024-12-27T14:54:59.367335",
     "exception": false,
     "start_time": "2024-12-27T14:54:58.871678",
     "status": "completed"
    },
    "tags": []
   },
   "outputs": [],
   "source": [
    "def predict_caption(model, image, tokenizer=tokenizer, max_length=max_length, features=image_features):\n",
    "    img = load_img(image, target_size=(224, 224))\n",
    "    img = img_to_array(img)\n",
    "    img = img / 255.0\n",
    "    img = np.expand_dims(img, axis=0)\n",
    "    feature = image_features[image]\n",
    "    in_text = \"startseq\"\n",
    "    for i in range(max_length):\n",
    "        sequence = tokenizer.texts_to_sequences([in_text])[0]\n",
    "        sequence = pad_sequences([sequence], maxlen=max_length, padding='post') #\n",
    "\n",
    "        y_pred = model.predict([feature,sequence], verbose=0)\n",
    "        y_pred = np.argmax(y_pred)\n",
    "\n",
    "        word = idx_to_word(y_pred, tokenizer)\n",
    "\n",
    "        if word is None:\n",
    "            break\n",
    "\n",
    "        in_text+= \" \" + word\n",
    "\n",
    "        if word == 'endseq':\n",
    "            break\n",
    "\n",
    "    return in_text"
   ]
  },
  {
   "cell_type": "code",
   "execution_count": 19,
   "id": "77ed394c",
   "metadata": {
    "execution": {
     "iopub.execute_input": "2024-12-27T14:55:00.309953Z",
     "iopub.status.busy": "2024-12-27T14:55:00.309568Z",
     "iopub.status.idle": "2024-12-27T14:55:00.313777Z",
     "shell.execute_reply": "2024-12-27T14:55:00.312929Z"
    },
    "papermill": {
     "duration": 0.497994,
     "end_time": "2024-12-27T14:55:00.315545",
     "exception": false,
     "start_time": "2024-12-27T14:54:59.817551",
     "status": "completed"
    },
    "tags": []
   },
   "outputs": [],
   "source": [
    "from nltk.translate.bleu_score import sentence_bleu, SmoothingFunction"
   ]
  },
  {
   "cell_type": "code",
   "execution_count": 20,
   "id": "a5969f8d",
   "metadata": {
    "execution": {
     "iopub.execute_input": "2024-12-27T14:55:01.250302Z",
     "iopub.status.busy": "2024-12-27T14:55:01.249882Z",
     "iopub.status.idle": "2024-12-27T14:55:01.258883Z",
     "shell.execute_reply": "2024-12-27T14:55:01.258208Z"
    },
    "papermill": {
     "duration": 0.500684,
     "end_time": "2024-12-27T14:55:01.260544",
     "exception": false,
     "start_time": "2024-12-27T14:55:00.759860",
     "status": "completed"
    },
    "tags": []
   },
   "outputs": [],
   "source": [
    "df_test_preprocessed['caption'] = df_test_preprocessed['caption'].str.replace(r'^startseq ', '', regex=True)\n",
    "df_test_preprocessed['caption'] = df_test_preprocessed['caption'].str.replace(r' endseq$', '', regex=True)"
   ]
  },
  {
   "cell_type": "code",
   "execution_count": 21,
   "id": "2d853747",
   "metadata": {
    "execution": {
     "iopub.execute_input": "2024-12-27T14:55:02.159456Z",
     "iopub.status.busy": "2024-12-27T14:55:02.159068Z",
     "iopub.status.idle": "2024-12-27T14:55:02.177452Z",
     "shell.execute_reply": "2024-12-27T14:55:02.176776Z"
    },
    "papermill": {
     "duration": 0.475756,
     "end_time": "2024-12-27T14:55:02.178987",
     "exception": false,
     "start_time": "2024-12-27T14:55:01.703231",
     "status": "completed"
    },
    "tags": []
   },
   "outputs": [],
   "source": [
    "df_test_merge = df_test_preprocessed.groupby('image_path')['caption'].apply(list).reset_index()"
   ]
  },
  {
   "cell_type": "code",
   "execution_count": 22,
   "id": "2415e783",
   "metadata": {
    "execution": {
     "iopub.execute_input": "2024-12-27T14:55:03.112851Z",
     "iopub.status.busy": "2024-12-27T14:55:03.111996Z",
     "iopub.status.idle": "2024-12-27T14:55:03.123734Z",
     "shell.execute_reply": "2024-12-27T14:55:03.122876Z"
    },
    "papermill": {
     "duration": 0.463813,
     "end_time": "2024-12-27T14:55:03.125228",
     "exception": false,
     "start_time": "2024-12-27T14:55:02.661415",
     "status": "completed"
    },
    "tags": []
   },
   "outputs": [
    {
     "data": {
      "text/html": [
       "<div>\n",
       "<style scoped>\n",
       "    .dataframe tbody tr th:only-of-type {\n",
       "        vertical-align: middle;\n",
       "    }\n",
       "\n",
       "    .dataframe tbody tr th {\n",
       "        vertical-align: top;\n",
       "    }\n",
       "\n",
       "    .dataframe thead th {\n",
       "        text-align: right;\n",
       "    }\n",
       "</style>\n",
       "<table border=\"1\" class=\"dataframe\">\n",
       "  <thead>\n",
       "    <tr style=\"text-align: right;\">\n",
       "      <th></th>\n",
       "      <th>image_path</th>\n",
       "      <th>caption</th>\n",
       "    </tr>\n",
       "  </thead>\n",
       "  <tbody>\n",
       "    <tr>\n",
       "      <th>0</th>\n",
       "      <td>/kaggle/input/uit-viic-v1-0-vietnamese-image-c...</td>\n",
       "      <td>[trên sân một cầu thủ đánh bóng đang chuẩn bị ...</td>\n",
       "    </tr>\n",
       "    <tr>\n",
       "      <th>1</th>\n",
       "      <td>/kaggle/input/uit-viic-v1-0-vietnamese-image-c...</td>\n",
       "      <td>[hình ảnh hai cậu bé đang chơi trong khu dân c...</td>\n",
       "    </tr>\n",
       "    <tr>\n",
       "      <th>2</th>\n",
       "      <td>/kaggle/input/uit-viic-v1-0-vietnamese-image-c...</td>\n",
       "      <td>[hình ảnh một trận thi đấu bóng đá đang diễn r...</td>\n",
       "    </tr>\n",
       "    <tr>\n",
       "      <th>3</th>\n",
       "      <td>/kaggle/input/uit-viic-v1-0-vietnamese-image-c...</td>\n",
       "      <td>[một người phụ nữ đang vung vợt để đánh quả bó...</td>\n",
       "    </tr>\n",
       "    <tr>\n",
       "      <th>4</th>\n",
       "      <td>/kaggle/input/uit-viic-v1-0-vietnamese-image-c...</td>\n",
       "      <td>[một cậu bé đang nghiêng người để đánh quả bón...</td>\n",
       "    </tr>\n",
       "    <tr>\n",
       "      <th>...</th>\n",
       "      <td>...</td>\n",
       "      <td>...</td>\n",
       "    </tr>\n",
       "    <tr>\n",
       "      <th>226</th>\n",
       "      <td>/kaggle/input/uit-viic-v1-0-vietnamese-image-c...</td>\n",
       "      <td>[một người đàn ông đang dùng vợt để đánh quả b...</td>\n",
       "    </tr>\n",
       "    <tr>\n",
       "      <th>227</th>\n",
       "      <td>/kaggle/input/uit-viic-v1-0-vietnamese-image-c...</td>\n",
       "      <td>[một người đàn ông đang chuẩn bị đánh quả bóng...</td>\n",
       "    </tr>\n",
       "    <tr>\n",
       "      <th>228</th>\n",
       "      <td>/kaggle/input/uit-viic-v1-0-vietnamese-image-c...</td>\n",
       "      <td>[các cầu thủ bóng đá đang thi đấu ngoài trời, ...</td>\n",
       "    </tr>\n",
       "    <tr>\n",
       "      <th>229</th>\n",
       "      <td>/kaggle/input/uit-viic-v1-0-vietnamese-image-c...</td>\n",
       "      <td>[một cầu thủ đánh bóng đang xoay người để đánh...</td>\n",
       "    </tr>\n",
       "    <tr>\n",
       "      <th>230</th>\n",
       "      <td>/kaggle/input/uit-viic-v1-0-vietnamese-image-c...</td>\n",
       "      <td>[một cậu bé đang luyện tập bóng chày trên sân,...</td>\n",
       "    </tr>\n",
       "  </tbody>\n",
       "</table>\n",
       "<p>231 rows × 2 columns</p>\n",
       "</div>"
      ],
      "text/plain": [
       "                                            image_path  \\\n",
       "0    /kaggle/input/uit-viic-v1-0-vietnamese-image-c...   \n",
       "1    /kaggle/input/uit-viic-v1-0-vietnamese-image-c...   \n",
       "2    /kaggle/input/uit-viic-v1-0-vietnamese-image-c...   \n",
       "3    /kaggle/input/uit-viic-v1-0-vietnamese-image-c...   \n",
       "4    /kaggle/input/uit-viic-v1-0-vietnamese-image-c...   \n",
       "..                                                 ...   \n",
       "226  /kaggle/input/uit-viic-v1-0-vietnamese-image-c...   \n",
       "227  /kaggle/input/uit-viic-v1-0-vietnamese-image-c...   \n",
       "228  /kaggle/input/uit-viic-v1-0-vietnamese-image-c...   \n",
       "229  /kaggle/input/uit-viic-v1-0-vietnamese-image-c...   \n",
       "230  /kaggle/input/uit-viic-v1-0-vietnamese-image-c...   \n",
       "\n",
       "                                               caption  \n",
       "0    [trên sân một cầu thủ đánh bóng đang chuẩn bị ...  \n",
       "1    [hình ảnh hai cậu bé đang chơi trong khu dân c...  \n",
       "2    [hình ảnh một trận thi đấu bóng đá đang diễn r...  \n",
       "3    [một người phụ nữ đang vung vợt để đánh quả bó...  \n",
       "4    [một cậu bé đang nghiêng người để đánh quả bón...  \n",
       "..                                                 ...  \n",
       "226  [một người đàn ông đang dùng vợt để đánh quả b...  \n",
       "227  [một người đàn ông đang chuẩn bị đánh quả bóng...  \n",
       "228  [các cầu thủ bóng đá đang thi đấu ngoài trời, ...  \n",
       "229  [một cầu thủ đánh bóng đang xoay người để đánh...  \n",
       "230  [một cậu bé đang luyện tập bóng chày trên sân,...  \n",
       "\n",
       "[231 rows x 2 columns]"
      ]
     },
     "execution_count": 22,
     "metadata": {},
     "output_type": "execute_result"
    }
   ],
   "source": [
    "df_test_merge"
   ]
  },
  {
   "cell_type": "code",
   "execution_count": 23,
   "id": "33e23685",
   "metadata": {
    "execution": {
     "iopub.execute_input": "2024-12-27T14:55:04.075110Z",
     "iopub.status.busy": "2024-12-27T14:55:04.074381Z",
     "iopub.status.idle": "2024-12-27T14:57:41.367819Z",
     "shell.execute_reply": "2024-12-27T14:57:41.366862Z"
    },
    "papermill": {
     "duration": 157.755925,
     "end_time": "2024-12-27T14:57:41.370225",
     "exception": false,
     "start_time": "2024-12-27T14:55:03.614300",
     "status": "completed"
    },
    "tags": []
   },
   "outputs": [
    {
     "name": "stderr",
     "output_type": "stream",
     "text": [
      "/opt/conda/lib/python3.10/site-packages/keras/src/ops/nn.py:545: UserWarning: You are using a softmax over axis -1 of a tensor of shape (1, 1). This axis has size 1. The softmax operation will always return the value 1, which is likely not what you intended. Did you mean to use a sigmoid instead?\n",
      "  warnings.warn(\n"
     ]
    }
   ],
   "source": [
    "for index,record in df_test_merge.iterrows():\n",
    "    img = load_img(record['image_path'],target_size=(224,224))\n",
    "    img = img_to_array(img)\n",
    "    img = img/255.\n",
    "\n",
    "    caption = predict_caption(model, record['image_path'], tokenizer, max_length, image_features)\n",
    "    df_test_merge.loc[index,'predict'] = caption"
   ]
  },
  {
   "cell_type": "code",
   "execution_count": 24,
   "id": "42ab723e",
   "metadata": {
    "execution": {
     "iopub.execute_input": "2024-12-27T14:57:42.308086Z",
     "iopub.status.busy": "2024-12-27T14:57:42.307703Z",
     "iopub.status.idle": "2024-12-27T14:57:42.315085Z",
     "shell.execute_reply": "2024-12-27T14:57:42.314024Z"
    },
    "papermill": {
     "duration": 0.460739,
     "end_time": "2024-12-27T14:57:42.317004",
     "exception": false,
     "start_time": "2024-12-27T14:57:41.856265",
     "status": "completed"
    },
    "tags": []
   },
   "outputs": [],
   "source": [
    "df_test_merge['predict'] = df_test_merge['predict'].str.replace(r'^startseq ', '', regex=True)\n",
    "df_test_merge['predict'] = df_test_merge['predict'].str.replace(r' endseq$', '', regex=True)"
   ]
  },
  {
   "cell_type": "code",
   "execution_count": 25,
   "id": "6760fb7d",
   "metadata": {
    "execution": {
     "iopub.execute_input": "2024-12-27T14:57:43.251651Z",
     "iopub.status.busy": "2024-12-27T14:57:43.251249Z",
     "iopub.status.idle": "2024-12-27T14:57:43.263919Z",
     "shell.execute_reply": "2024-12-27T14:57:43.263061Z"
    },
    "papermill": {
     "duration": 0.504571,
     "end_time": "2024-12-27T14:57:43.265669",
     "exception": false,
     "start_time": "2024-12-27T14:57:42.761098",
     "status": "completed"
    },
    "tags": []
   },
   "outputs": [
    {
     "data": {
      "text/html": [
       "<div>\n",
       "<style scoped>\n",
       "    .dataframe tbody tr th:only-of-type {\n",
       "        vertical-align: middle;\n",
       "    }\n",
       "\n",
       "    .dataframe tbody tr th {\n",
       "        vertical-align: top;\n",
       "    }\n",
       "\n",
       "    .dataframe thead th {\n",
       "        text-align: right;\n",
       "    }\n",
       "</style>\n",
       "<table border=\"1\" class=\"dataframe\">\n",
       "  <thead>\n",
       "    <tr style=\"text-align: right;\">\n",
       "      <th></th>\n",
       "      <th>image_path</th>\n",
       "      <th>caption</th>\n",
       "      <th>predict</th>\n",
       "    </tr>\n",
       "  </thead>\n",
       "  <tbody>\n",
       "    <tr>\n",
       "      <th>0</th>\n",
       "      <td>/kaggle/input/uit-viic-v1-0-vietnamese-image-c...</td>\n",
       "      <td>[trên sân một cầu thủ đánh bóng đang chuẩn bị ...</td>\n",
       "      <td>một người đàn ông đang chuẩn bị ném quả bóng chày</td>\n",
       "    </tr>\n",
       "    <tr>\n",
       "      <th>1</th>\n",
       "      <td>/kaggle/input/uit-viic-v1-0-vietnamese-image-c...</td>\n",
       "      <td>[hình ảnh hai cậu bé đang chơi trong khu dân c...</td>\n",
       "      <td>một số người đang chơi bóng chày trên sân</td>\n",
       "    </tr>\n",
       "    <tr>\n",
       "      <th>2</th>\n",
       "      <td>/kaggle/input/uit-viic-v1-0-vietnamese-image-c...</td>\n",
       "      <td>[hình ảnh một trận thi đấu bóng đá đang diễn r...</td>\n",
       "      <td>những người đàn ông đang chơi bóng đá trên sân</td>\n",
       "    </tr>\n",
       "    <tr>\n",
       "      <th>3</th>\n",
       "      <td>/kaggle/input/uit-viic-v1-0-vietnamese-image-c...</td>\n",
       "      <td>[một người phụ nữ đang vung vợt để đánh quả bó...</td>\n",
       "      <td>một người phụ nữ đang chuẩn bị đánh quả bóng t...</td>\n",
       "    </tr>\n",
       "    <tr>\n",
       "      <th>4</th>\n",
       "      <td>/kaggle/input/uit-viic-v1-0-vietnamese-image-c...</td>\n",
       "      <td>[một cậu bé đang nghiêng người để đánh quả bón...</td>\n",
       "      <td>một cậu bé đang chơi bóng đá trên sân</td>\n",
       "    </tr>\n",
       "    <tr>\n",
       "      <th>...</th>\n",
       "      <td>...</td>\n",
       "      <td>...</td>\n",
       "      <td>...</td>\n",
       "    </tr>\n",
       "    <tr>\n",
       "      <th>226</th>\n",
       "      <td>/kaggle/input/uit-viic-v1-0-vietnamese-image-c...</td>\n",
       "      <td>[một người đàn ông đang dùng vợt để đánh quả b...</td>\n",
       "      <td>người phụ nữ đang cầm vợt tennis đứng trên sân</td>\n",
       "    </tr>\n",
       "    <tr>\n",
       "      <th>227</th>\n",
       "      <td>/kaggle/input/uit-viic-v1-0-vietnamese-image-c...</td>\n",
       "      <td>[một người đàn ông đang chuẩn bị đánh quả bóng...</td>\n",
       "      <td>một người đàn ông đang chuẩn bị đánh quả bóng ...</td>\n",
       "    </tr>\n",
       "    <tr>\n",
       "      <th>228</th>\n",
       "      <td>/kaggle/input/uit-viic-v1-0-vietnamese-image-c...</td>\n",
       "      <td>[các cầu thủ bóng đá đang thi đấu ngoài trời, ...</td>\n",
       "      <td>một số người đang chơi bóng đá trên sân</td>\n",
       "    </tr>\n",
       "    <tr>\n",
       "      <th>229</th>\n",
       "      <td>/kaggle/input/uit-viic-v1-0-vietnamese-image-c...</td>\n",
       "      <td>[một cầu thủ đánh bóng đang xoay người để đánh...</td>\n",
       "      <td>một số người đang chơi bóng chày trên sân</td>\n",
       "    </tr>\n",
       "    <tr>\n",
       "      <th>230</th>\n",
       "      <td>/kaggle/input/uit-viic-v1-0-vietnamese-image-c...</td>\n",
       "      <td>[một cậu bé đang luyện tập bóng chày trên sân,...</td>\n",
       "      <td>một người đàn ông đang cầm gậy bóng chày và đứ...</td>\n",
       "    </tr>\n",
       "  </tbody>\n",
       "</table>\n",
       "<p>231 rows × 3 columns</p>\n",
       "</div>"
      ],
      "text/plain": [
       "                                            image_path  \\\n",
       "0    /kaggle/input/uit-viic-v1-0-vietnamese-image-c...   \n",
       "1    /kaggle/input/uit-viic-v1-0-vietnamese-image-c...   \n",
       "2    /kaggle/input/uit-viic-v1-0-vietnamese-image-c...   \n",
       "3    /kaggle/input/uit-viic-v1-0-vietnamese-image-c...   \n",
       "4    /kaggle/input/uit-viic-v1-0-vietnamese-image-c...   \n",
       "..                                                 ...   \n",
       "226  /kaggle/input/uit-viic-v1-0-vietnamese-image-c...   \n",
       "227  /kaggle/input/uit-viic-v1-0-vietnamese-image-c...   \n",
       "228  /kaggle/input/uit-viic-v1-0-vietnamese-image-c...   \n",
       "229  /kaggle/input/uit-viic-v1-0-vietnamese-image-c...   \n",
       "230  /kaggle/input/uit-viic-v1-0-vietnamese-image-c...   \n",
       "\n",
       "                                               caption  \\\n",
       "0    [trên sân một cầu thủ đánh bóng đang chuẩn bị ...   \n",
       "1    [hình ảnh hai cậu bé đang chơi trong khu dân c...   \n",
       "2    [hình ảnh một trận thi đấu bóng đá đang diễn r...   \n",
       "3    [một người phụ nữ đang vung vợt để đánh quả bó...   \n",
       "4    [một cậu bé đang nghiêng người để đánh quả bón...   \n",
       "..                                                 ...   \n",
       "226  [một người đàn ông đang dùng vợt để đánh quả b...   \n",
       "227  [một người đàn ông đang chuẩn bị đánh quả bóng...   \n",
       "228  [các cầu thủ bóng đá đang thi đấu ngoài trời, ...   \n",
       "229  [một cầu thủ đánh bóng đang xoay người để đánh...   \n",
       "230  [một cậu bé đang luyện tập bóng chày trên sân,...   \n",
       "\n",
       "                                               predict  \n",
       "0    một người đàn ông đang chuẩn bị ném quả bóng chày  \n",
       "1            một số người đang chơi bóng chày trên sân  \n",
       "2       những người đàn ông đang chơi bóng đá trên sân  \n",
       "3    một người phụ nữ đang chuẩn bị đánh quả bóng t...  \n",
       "4                một cậu bé đang chơi bóng đá trên sân  \n",
       "..                                                 ...  \n",
       "226     người phụ nữ đang cầm vợt tennis đứng trên sân  \n",
       "227  một người đàn ông đang chuẩn bị đánh quả bóng ...  \n",
       "228            một số người đang chơi bóng đá trên sân  \n",
       "229          một số người đang chơi bóng chày trên sân  \n",
       "230  một người đàn ông đang cầm gậy bóng chày và đứ...  \n",
       "\n",
       "[231 rows x 3 columns]"
      ]
     },
     "execution_count": 25,
     "metadata": {},
     "output_type": "execute_result"
    }
   ],
   "source": [
    "df_test_merge"
   ]
  },
  {
   "cell_type": "code",
   "execution_count": 26,
   "id": "8c7afc96",
   "metadata": {
    "execution": {
     "iopub.execute_input": "2024-12-27T14:57:44.219105Z",
     "iopub.status.busy": "2024-12-27T14:57:44.218772Z",
     "iopub.status.idle": "2024-12-27T14:57:44.225205Z",
     "shell.execute_reply": "2024-12-27T14:57:44.224385Z"
    },
    "papermill": {
     "duration": 0.509721,
     "end_time": "2024-12-27T14:57:44.226756",
     "exception": false,
     "start_time": "2024-12-27T14:57:43.717035",
     "status": "completed"
    },
    "tags": []
   },
   "outputs": [],
   "source": [
    "def calculate_bleu_scores(row):\n",
    "    reference = [caption.split() for caption in row['caption']]\n",
    "    prediction = row['predict'].split()\n",
    "\n",
    "    if len(prediction) == 0:\n",
    "        return pd.Series([0, 0, 0, 0])\n",
    "\n",
    "    smoothie = SmoothingFunction().method4\n",
    "\n",
    "    bleu_1 = sentence_bleu(reference, prediction, weights=(1.0, 0, 0, 0), smoothing_function=smoothie)\n",
    "    bleu_2 = sentence_bleu(reference, prediction, weights=(0.5, 0.5, 0, 0), smoothing_function=smoothie)\n",
    "    bleu_3 = sentence_bleu(reference, prediction, weights=(0.33, 0.33, 0.33, 0), smoothing_function=smoothie)\n",
    "    bleu_4 = sentence_bleu(reference, prediction, weights=(0.25, 0.25, 0.25, 0.25), smoothing_function=smoothie)\n",
    "\n",
    "    return pd.Series([bleu_1, bleu_2, bleu_3, bleu_4])"
   ]
  },
  {
   "cell_type": "code",
   "execution_count": 27,
   "id": "4c0647c9",
   "metadata": {
    "execution": {
     "iopub.execute_input": "2024-12-27T14:57:45.124825Z",
     "iopub.status.busy": "2024-12-27T14:57:45.124484Z",
     "iopub.status.idle": "2024-12-27T14:57:45.395951Z",
     "shell.execute_reply": "2024-12-27T14:57:45.395297Z"
    },
    "papermill": {
     "duration": 0.726296,
     "end_time": "2024-12-27T14:57:45.397901",
     "exception": false,
     "start_time": "2024-12-27T14:57:44.671605",
     "status": "completed"
    },
    "tags": []
   },
   "outputs": [],
   "source": [
    "df_test_merge[['bleu_1', 'bleu_2', 'bleu_3', 'bleu_4']] = df_test_merge.apply(calculate_bleu_scores, axis=1)"
   ]
  },
  {
   "cell_type": "code",
   "execution_count": 28,
   "id": "e9718c15",
   "metadata": {
    "execution": {
     "iopub.execute_input": "2024-12-27T14:57:46.371086Z",
     "iopub.status.busy": "2024-12-27T14:57:46.370711Z",
     "iopub.status.idle": "2024-12-27T14:57:46.390674Z",
     "shell.execute_reply": "2024-12-27T14:57:46.389537Z"
    },
    "papermill": {
     "duration": 0.488548,
     "end_time": "2024-12-27T14:57:46.392579",
     "exception": false,
     "start_time": "2024-12-27T14:57:45.904031",
     "status": "completed"
    },
    "tags": []
   },
   "outputs": [
    {
     "data": {
      "text/html": [
       "<div>\n",
       "<style scoped>\n",
       "    .dataframe tbody tr th:only-of-type {\n",
       "        vertical-align: middle;\n",
       "    }\n",
       "\n",
       "    .dataframe tbody tr th {\n",
       "        vertical-align: top;\n",
       "    }\n",
       "\n",
       "    .dataframe thead th {\n",
       "        text-align: right;\n",
       "    }\n",
       "</style>\n",
       "<table border=\"1\" class=\"dataframe\">\n",
       "  <thead>\n",
       "    <tr style=\"text-align: right;\">\n",
       "      <th></th>\n",
       "      <th>image_path</th>\n",
       "      <th>caption</th>\n",
       "      <th>predict</th>\n",
       "      <th>bleu_1</th>\n",
       "      <th>bleu_2</th>\n",
       "      <th>bleu_3</th>\n",
       "      <th>bleu_4</th>\n",
       "    </tr>\n",
       "  </thead>\n",
       "  <tbody>\n",
       "    <tr>\n",
       "      <th>0</th>\n",
       "      <td>/kaggle/input/uit-viic-v1-0-vietnamese-image-c...</td>\n",
       "      <td>[trên sân một cầu thủ đánh bóng đang chuẩn bị ...</td>\n",
       "      <td>một người đàn ông đang chuẩn bị ném quả bóng chày</td>\n",
       "      <td>0.909091</td>\n",
       "      <td>0.852803</td>\n",
       "      <td>0.741515</td>\n",
       "      <td>0.563756</td>\n",
       "    </tr>\n",
       "    <tr>\n",
       "      <th>1</th>\n",
       "      <td>/kaggle/input/uit-viic-v1-0-vietnamese-image-c...</td>\n",
       "      <td>[hình ảnh hai cậu bé đang chơi trong khu dân c...</td>\n",
       "      <td>một số người đang chơi bóng chày trên sân</td>\n",
       "      <td>0.533825</td>\n",
       "      <td>0.326900</td>\n",
       "      <td>0.274455</td>\n",
       "      <td>0.234766</td>\n",
       "    </tr>\n",
       "    <tr>\n",
       "      <th>2</th>\n",
       "      <td>/kaggle/input/uit-viic-v1-0-vietnamese-image-c...</td>\n",
       "      <td>[hình ảnh một trận thi đấu bóng đá đang diễn r...</td>\n",
       "      <td>những người đàn ông đang chơi bóng đá trên sân</td>\n",
       "      <td>0.500000</td>\n",
       "      <td>0.333333</td>\n",
       "      <td>0.302277</td>\n",
       "      <td>0.267894</td>\n",
       "    </tr>\n",
       "    <tr>\n",
       "      <th>3</th>\n",
       "      <td>/kaggle/input/uit-viic-v1-0-vietnamese-image-c...</td>\n",
       "      <td>[một người phụ nữ đang vung vợt để đánh quả bó...</td>\n",
       "      <td>một người phụ nữ đang chuẩn bị đánh quả bóng t...</td>\n",
       "      <td>1.000000</td>\n",
       "      <td>1.000000</td>\n",
       "      <td>1.000000</td>\n",
       "      <td>1.000000</td>\n",
       "    </tr>\n",
       "    <tr>\n",
       "      <th>4</th>\n",
       "      <td>/kaggle/input/uit-viic-v1-0-vietnamese-image-c...</td>\n",
       "      <td>[một cậu bé đang nghiêng người để đánh quả bón...</td>\n",
       "      <td>một cậu bé đang chơi bóng đá trên sân</td>\n",
       "      <td>0.533825</td>\n",
       "      <td>0.516874</td>\n",
       "      <td>0.498675</td>\n",
       "      <td>0.470349</td>\n",
       "    </tr>\n",
       "    <tr>\n",
       "      <th>...</th>\n",
       "      <td>...</td>\n",
       "      <td>...</td>\n",
       "      <td>...</td>\n",
       "      <td>...</td>\n",
       "      <td>...</td>\n",
       "      <td>...</td>\n",
       "      <td>...</td>\n",
       "    </tr>\n",
       "    <tr>\n",
       "      <th>226</th>\n",
       "      <td>/kaggle/input/uit-viic-v1-0-vietnamese-image-c...</td>\n",
       "      <td>[một người đàn ông đang dùng vợt để đánh quả b...</td>\n",
       "      <td>người phụ nữ đang cầm vợt tennis đứng trên sân</td>\n",
       "      <td>0.600000</td>\n",
       "      <td>0.258199</td>\n",
       "      <td>0.255384</td>\n",
       "      <td>0.235777</td>\n",
       "    </tr>\n",
       "    <tr>\n",
       "      <th>227</th>\n",
       "      <td>/kaggle/input/uit-viic-v1-0-vietnamese-image-c...</td>\n",
       "      <td>[một người đàn ông đang chuẩn bị đánh quả bóng...</td>\n",
       "      <td>một người đàn ông đang chuẩn bị đánh quả bóng ...</td>\n",
       "      <td>1.000000</td>\n",
       "      <td>1.000000</td>\n",
       "      <td>1.000000</td>\n",
       "      <td>1.000000</td>\n",
       "    </tr>\n",
       "    <tr>\n",
       "      <th>228</th>\n",
       "      <td>/kaggle/input/uit-viic-v1-0-vietnamese-image-c...</td>\n",
       "      <td>[các cầu thủ bóng đá đang thi đấu ngoài trời, ...</td>\n",
       "      <td>một số người đang chơi bóng đá trên sân</td>\n",
       "      <td>0.695986</td>\n",
       "      <td>0.558030</td>\n",
       "      <td>0.433356</td>\n",
       "      <td>0.330101</td>\n",
       "    </tr>\n",
       "    <tr>\n",
       "      <th>229</th>\n",
       "      <td>/kaggle/input/uit-viic-v1-0-vietnamese-image-c...</td>\n",
       "      <td>[một cầu thủ đánh bóng đang xoay người để đánh...</td>\n",
       "      <td>một số người đang chơi bóng chày trên sân</td>\n",
       "      <td>0.444854</td>\n",
       "      <td>0.211013</td>\n",
       "      <td>0.205590</td>\n",
       "      <td>0.188618</td>\n",
       "    </tr>\n",
       "    <tr>\n",
       "      <th>230</th>\n",
       "      <td>/kaggle/input/uit-viic-v1-0-vietnamese-image-c...</td>\n",
       "      <td>[một cậu bé đang luyện tập bóng chày trên sân,...</td>\n",
       "      <td>một người đàn ông đang cầm gậy bóng chày và đứ...</td>\n",
       "      <td>0.538462</td>\n",
       "      <td>0.299572</td>\n",
       "      <td>0.286839</td>\n",
       "      <td>0.260305</td>\n",
       "    </tr>\n",
       "  </tbody>\n",
       "</table>\n",
       "<p>231 rows × 7 columns</p>\n",
       "</div>"
      ],
      "text/plain": [
       "                                            image_path  \\\n",
       "0    /kaggle/input/uit-viic-v1-0-vietnamese-image-c...   \n",
       "1    /kaggle/input/uit-viic-v1-0-vietnamese-image-c...   \n",
       "2    /kaggle/input/uit-viic-v1-0-vietnamese-image-c...   \n",
       "3    /kaggle/input/uit-viic-v1-0-vietnamese-image-c...   \n",
       "4    /kaggle/input/uit-viic-v1-0-vietnamese-image-c...   \n",
       "..                                                 ...   \n",
       "226  /kaggle/input/uit-viic-v1-0-vietnamese-image-c...   \n",
       "227  /kaggle/input/uit-viic-v1-0-vietnamese-image-c...   \n",
       "228  /kaggle/input/uit-viic-v1-0-vietnamese-image-c...   \n",
       "229  /kaggle/input/uit-viic-v1-0-vietnamese-image-c...   \n",
       "230  /kaggle/input/uit-viic-v1-0-vietnamese-image-c...   \n",
       "\n",
       "                                               caption  \\\n",
       "0    [trên sân một cầu thủ đánh bóng đang chuẩn bị ...   \n",
       "1    [hình ảnh hai cậu bé đang chơi trong khu dân c...   \n",
       "2    [hình ảnh một trận thi đấu bóng đá đang diễn r...   \n",
       "3    [một người phụ nữ đang vung vợt để đánh quả bó...   \n",
       "4    [một cậu bé đang nghiêng người để đánh quả bón...   \n",
       "..                                                 ...   \n",
       "226  [một người đàn ông đang dùng vợt để đánh quả b...   \n",
       "227  [một người đàn ông đang chuẩn bị đánh quả bóng...   \n",
       "228  [các cầu thủ bóng đá đang thi đấu ngoài trời, ...   \n",
       "229  [một cầu thủ đánh bóng đang xoay người để đánh...   \n",
       "230  [một cậu bé đang luyện tập bóng chày trên sân,...   \n",
       "\n",
       "                                               predict    bleu_1    bleu_2  \\\n",
       "0    một người đàn ông đang chuẩn bị ném quả bóng chày  0.909091  0.852803   \n",
       "1            một số người đang chơi bóng chày trên sân  0.533825  0.326900   \n",
       "2       những người đàn ông đang chơi bóng đá trên sân  0.500000  0.333333   \n",
       "3    một người phụ nữ đang chuẩn bị đánh quả bóng t...  1.000000  1.000000   \n",
       "4                một cậu bé đang chơi bóng đá trên sân  0.533825  0.516874   \n",
       "..                                                 ...       ...       ...   \n",
       "226     người phụ nữ đang cầm vợt tennis đứng trên sân  0.600000  0.258199   \n",
       "227  một người đàn ông đang chuẩn bị đánh quả bóng ...  1.000000  1.000000   \n",
       "228            một số người đang chơi bóng đá trên sân  0.695986  0.558030   \n",
       "229          một số người đang chơi bóng chày trên sân  0.444854  0.211013   \n",
       "230  một người đàn ông đang cầm gậy bóng chày và đứ...  0.538462  0.299572   \n",
       "\n",
       "       bleu_3    bleu_4  \n",
       "0    0.741515  0.563756  \n",
       "1    0.274455  0.234766  \n",
       "2    0.302277  0.267894  \n",
       "3    1.000000  1.000000  \n",
       "4    0.498675  0.470349  \n",
       "..        ...       ...  \n",
       "226  0.255384  0.235777  \n",
       "227  1.000000  1.000000  \n",
       "228  0.433356  0.330101  \n",
       "229  0.205590  0.188618  \n",
       "230  0.286839  0.260305  \n",
       "\n",
       "[231 rows x 7 columns]"
      ]
     },
     "execution_count": 28,
     "metadata": {},
     "output_type": "execute_result"
    }
   ],
   "source": [
    "df_test_merge"
   ]
  },
  {
   "cell_type": "code",
   "execution_count": 29,
   "id": "4ee446e1",
   "metadata": {
    "execution": {
     "iopub.execute_input": "2024-12-27T14:57:47.340839Z",
     "iopub.status.busy": "2024-12-27T14:57:47.340497Z",
     "iopub.status.idle": "2024-12-27T14:57:47.347545Z",
     "shell.execute_reply": "2024-12-27T14:57:47.346603Z"
    },
    "papermill": {
     "duration": 0.466732,
     "end_time": "2024-12-27T14:57:47.349242",
     "exception": false,
     "start_time": "2024-12-27T14:57:46.882510",
     "status": "completed"
    },
    "tags": []
   },
   "outputs": [
    {
     "name": "stdout",
     "output_type": "stream",
     "text": [
      "Average BLEU-1 Score: 65.68\n",
      "Average BLEU-2 Score: 52.62\n",
      "Average BLEU-3 Score: 45.19\n",
      "Average BLEU-4 Score: 39.29\n"
     ]
    }
   ],
   "source": [
    "bleu_1_avg = round(df_test_merge['bleu_1'].mean() * 100, 2)\n",
    "bleu_2_avg = round(df_test_merge['bleu_2'].mean() * 100, 2)\n",
    "bleu_3_avg = round(df_test_merge['bleu_3'].mean() * 100, 2)\n",
    "bleu_4_avg = round(df_test_merge['bleu_4'].mean() * 100, 2)\n",
    "\n",
    "# In kết quả BLEU score trung bình\n",
    "print(\"Average BLEU-1 Score:\", bleu_1_avg)\n",
    "print(\"Average BLEU-2 Score:\", bleu_2_avg)\n",
    "print(\"Average BLEU-3 Score:\", bleu_3_avg)\n",
    "print(\"Average BLEU-4 Score:\", bleu_4_avg)"
   ]
  },
  {
   "cell_type": "code",
   "execution_count": 30,
   "id": "43120a1f",
   "metadata": {
    "execution": {
     "iopub.execute_input": "2024-12-27T14:57:48.305263Z",
     "iopub.status.busy": "2024-12-27T14:57:48.304886Z",
     "iopub.status.idle": "2024-12-27T14:57:49.720275Z",
     "shell.execute_reply": "2024-12-27T14:57:49.719396Z"
    },
    "papermill": {
     "duration": 1.876511,
     "end_time": "2024-12-27T14:57:49.722350",
     "exception": false,
     "start_time": "2024-12-27T14:57:47.845839",
     "status": "completed"
    },
    "tags": []
   },
   "outputs": [
    {
     "name": "stderr",
     "output_type": "stream",
     "text": [
      "/opt/conda/lib/python3.10/site-packages/seaborn/_oldcore.py:1119: FutureWarning: use_inf_as_na option is deprecated and will be removed in a future version. Convert inf values to NaN before operating instead.\n",
      "  with pd.option_context('mode.use_inf_as_na', True):\n",
      "/opt/conda/lib/python3.10/site-packages/seaborn/_oldcore.py:1119: FutureWarning: use_inf_as_na option is deprecated and will be removed in a future version. Convert inf values to NaN before operating instead.\n",
      "  with pd.option_context('mode.use_inf_as_na', True):\n",
      "/opt/conda/lib/python3.10/site-packages/seaborn/_oldcore.py:1119: FutureWarning: use_inf_as_na option is deprecated and will be removed in a future version. Convert inf values to NaN before operating instead.\n",
      "  with pd.option_context('mode.use_inf_as_na', True):\n",
      "/opt/conda/lib/python3.10/site-packages/seaborn/_oldcore.py:1119: FutureWarning: use_inf_as_na option is deprecated and will be removed in a future version. Convert inf values to NaN before operating instead.\n",
      "  with pd.option_context('mode.use_inf_as_na', True):\n"
     ]
    },
    {
     "data": {
      "image/png": "[encoded data removed]",
      "text/plain": [
       "<Figure size 1000x600 with 4 Axes>"
      ]
     },
     "metadata": {},
     "output_type": "display_data"
    }
   ],
   "source": [
    "import matplotlib.pyplot as plt\n",
    "import seaborn as sns\n",
    "\n",
    "plt.figure(figsize=(10, 6))\n",
    "\n",
    "plt.subplot(2, 2, 1)\n",
    "sns.histplot(df_test_merge['bleu_1'] * 100, kde=True, bins=20, color='blue', label='BLEU-1')\n",
    "plt.title('Distribution of BLEU-1')\n",
    "plt.xlabel('BLEU-1 (%)')\n",
    "plt.ylabel('Frequency')\n",
    "\n",
    "plt.subplot(2, 2, 2)\n",
    "sns.histplot(df_test_merge['bleu_2'] * 100, kde=True, bins=20, color='green', label='BLEU-2')\n",
    "plt.title('Distribution of BLEU-2')\n",
    "plt.xlabel('BLEU-2 (%)')\n",
    "plt.ylabel('Frequency')\n",
    "\n",
    "plt.subplot(2, 2, 3)\n",
    "sns.histplot(df_test_merge['bleu_3'] * 100, kde=True, bins=20, color='orange', label='BLEU-3')\n",
    "plt.title('Distribution of BLEU-3')\n",
    "plt.xlabel('BLEU-3 (%)')\n",
    "plt.ylabel('Frequency')\n",
    "\n",
    "plt.subplot(2, 2, 4)\n",
    "sns.histplot(df_test_merge['bleu_4'] * 100, kde=True, bins=20, color='red', label='BLEU-4')\n",
    "plt.title('Distribution of BLEU-4')\n",
    "plt.xlabel('BLEU-4 (%)')\n",
    "plt.ylabel('Frequency')\n",
    "\n",
    "plt.tight_layout()\n",
    "plt.show()"
   ]
  },
  {
   "cell_type": "markdown",
   "id": "3aaf2475",
   "metadata": {
    "papermill": {
     "duration": 0.48769,
     "end_time": "2024-12-27T14:57:50.679473",
     "exception": false,
     "start_time": "2024-12-27T14:57:50.191783",
     "status": "completed"
    },
    "tags": []
   },
   "source": [
    "# ROUGE metric "
   ]
  },
  {
   "cell_type": "code",
   "execution_count": 31,
   "id": "bc3bd3e1",
   "metadata": {
    "execution": {
     "iopub.execute_input": "2024-12-27T14:57:51.618800Z",
     "iopub.status.busy": "2024-12-27T14:57:51.617670Z",
     "iopub.status.idle": "2024-12-27T14:58:03.660963Z",
     "shell.execute_reply": "2024-12-27T14:58:03.659955Z"
    },
    "papermill": {
     "duration": 12.536463,
     "end_time": "2024-12-27T14:58:03.663272",
     "exception": false,
     "start_time": "2024-12-27T14:57:51.126809",
     "status": "completed"
    },
    "tags": []
   },
   "outputs": [
    {
     "name": "stderr",
     "output_type": "stream",
     "text": [
      "/opt/conda/lib/python3.10/pty.py:89: RuntimeWarning: os.fork() was called. os.fork() is incompatible with multithreaded code, and JAX is multithreaded, so this will likely lead to a deadlock.\n",
      "  pid, fd = os.forkpty()\n"
     ]
    },
    {
     "name": "stdout",
     "output_type": "stream",
     "text": [
      "Collecting rouge-score\r\n",
      "  Downloading rouge_score-0.1.2.tar.gz (17 kB)\r\n",
      "  Preparing metadata (setup.py) ... \u001b[?25l-\b \bdone\r\n",
      "\u001b[?25hRequirement already satisfied: absl-py in /opt/conda/lib/python3.10/site-packages (from rouge-score) (1.4.0)\r\n",
      "Requirement already satisfied: nltk in /opt/conda/lib/python3.10/site-packages (from rouge-score) (3.2.4)\r\n",
      "Requirement already satisfied: numpy in /opt/conda/lib/python3.10/site-packages (from rouge-score) (1.26.4)\r\n",
      "Requirement already satisfied: six>=1.14.0 in /opt/conda/lib/python3.10/site-packages (from rouge-score) (1.16.0)\r\n",
      "Building wheels for collected packages: rouge-score\r\n",
      "  Building wheel for rouge-score (setup.py) ... \u001b[?25l-\b \b\\\b \bdone\r\n",
      "\u001b[?25h  Created wheel for rouge-score: filename=rouge_score-0.1.2-py3-none-any.whl size=24934 sha256=59c9ccf2f9827183c6eee482ddcfbad73173299b692d066e57fba4f1a1619acb\r\n",
      "  Stored in directory: /root/.cache/pip/wheels/5f/dd/89/461065a73be61a532ff8599a28e9beef17985c9e9c31e541b4\r\n",
      "Successfully built rouge-score\r\n",
      "Installing collected packages: rouge-score\r\n",
      "Successfully installed rouge-score-0.1.2\r\n"
     ]
    }
   ],
   "source": [
    "!pip install rouge-score"
   ]
  },
  {
   "cell_type": "code",
   "execution_count": 32,
   "id": "d39a7995",
   "metadata": {
    "execution": {
     "iopub.execute_input": "2024-12-27T14:58:04.619794Z",
     "iopub.status.busy": "2024-12-27T14:58:04.619415Z",
     "iopub.status.idle": "2024-12-27T14:58:04.629453Z",
     "shell.execute_reply": "2024-12-27T14:58:04.628776Z"
    },
    "papermill": {
     "duration": 0.515288,
     "end_time": "2024-12-27T14:58:04.631125",
     "exception": false,
     "start_time": "2024-12-27T14:58:04.115837",
     "status": "completed"
    },
    "tags": []
   },
   "outputs": [],
   "source": [
    "from rouge_score import rouge_scorer"
   ]
  },
  {
   "cell_type": "code",
   "execution_count": 33,
   "id": "0d6eccdf",
   "metadata": {
    "execution": {
     "iopub.execute_input": "2024-12-27T14:58:05.560652Z",
     "iopub.status.busy": "2024-12-27T14:58:05.559831Z",
     "iopub.status.idle": "2024-12-27T14:58:05.565401Z",
     "shell.execute_reply": "2024-12-27T14:58:05.564541Z"
    },
    "papermill": {
     "duration": 0.490191,
     "end_time": "2024-12-27T14:58:05.567181",
     "exception": false,
     "start_time": "2024-12-27T14:58:05.076990",
     "status": "completed"
    },
    "tags": []
   },
   "outputs": [],
   "source": [
    "def calculate_rouge_scores(row):\n",
    "    reference = row['caption']\n",
    "    prediction = row['predict']\n",
    "\n",
    "    scorer = rouge_scorer.RougeScorer(['rougeL'], use_stemmer=True)\n",
    "    total_f1 = 0\n",
    "\n",
    "    for ref in reference:\n",
    "        scores = scorer.score(ref, prediction)\n",
    "        rouge_l = scores['rougeL']\n",
    "        total_f1 += rouge_l.fmeasure\n",
    "\n",
    "    avg_f1 = total_f1 / len(reference)\n",
    "\n",
    "    return avg_f1"
   ]
  },
  {
   "cell_type": "code",
   "execution_count": 34,
   "id": "672c59eb",
   "metadata": {
    "execution": {
     "iopub.execute_input": "2024-12-27T14:58:06.523024Z",
     "iopub.status.busy": "2024-12-27T14:58:06.522636Z",
     "iopub.status.idle": "2024-12-27T14:58:06.773749Z",
     "shell.execute_reply": "2024-12-27T14:58:06.770456Z"
    },
    "papermill": {
     "duration": 0.717028,
     "end_time": "2024-12-27T14:58:06.779251",
     "exception": false,
     "start_time": "2024-12-27T14:58:06.062223",
     "status": "completed"
    },
    "tags": []
   },
   "outputs": [],
   "source": [
    "df_test_merge['rouge_L'] = df_test_merge.apply(calculate_rouge_scores, axis=1)"
   ]
  },
  {
   "cell_type": "code",
   "execution_count": 35,
   "id": "30384c09",
   "metadata": {
    "execution": {
     "iopub.execute_input": "2024-12-27T14:58:07.775116Z",
     "iopub.status.busy": "2024-12-27T14:58:07.774759Z",
     "iopub.status.idle": "2024-12-27T14:58:07.793105Z",
     "shell.execute_reply": "2024-12-27T14:58:07.792033Z"
    },
    "papermill": {
     "duration": 0.4733,
     "end_time": "2024-12-27T14:58:07.795022",
     "exception": false,
     "start_time": "2024-12-27T14:58:07.321722",
     "status": "completed"
    },
    "tags": []
   },
   "outputs": [
    {
     "data": {
      "text/html": [
       "<div>\n",
       "<style scoped>\n",
       "    .dataframe tbody tr th:only-of-type {\n",
       "        vertical-align: middle;\n",
       "    }\n",
       "\n",
       "    .dataframe tbody tr th {\n",
       "        vertical-align: top;\n",
       "    }\n",
       "\n",
       "    .dataframe thead th {\n",
       "        text-align: right;\n",
       "    }\n",
       "</style>\n",
       "<table border=\"1\" class=\"dataframe\">\n",
       "  <thead>\n",
       "    <tr style=\"text-align: right;\">\n",
       "      <th></th>\n",
       "      <th>image_path</th>\n",
       "      <th>caption</th>\n",
       "      <th>predict</th>\n",
       "      <th>bleu_1</th>\n",
       "      <th>bleu_2</th>\n",
       "      <th>bleu_3</th>\n",
       "      <th>bleu_4</th>\n",
       "      <th>rouge_L</th>\n",
       "    </tr>\n",
       "  </thead>\n",
       "  <tbody>\n",
       "    <tr>\n",
       "      <th>0</th>\n",
       "      <td>/kaggle/input/uit-viic-v1-0-vietnamese-image-c...</td>\n",
       "      <td>[trên sân một cầu thủ đánh bóng đang chuẩn bị ...</td>\n",
       "      <td>một người đàn ông đang chuẩn bị ném quả bóng chày</td>\n",
       "      <td>0.909091</td>\n",
       "      <td>0.852803</td>\n",
       "      <td>0.741515</td>\n",
       "      <td>0.563756</td>\n",
       "      <td>0.517286</td>\n",
       "    </tr>\n",
       "    <tr>\n",
       "      <th>1</th>\n",
       "      <td>/kaggle/input/uit-viic-v1-0-vietnamese-image-c...</td>\n",
       "      <td>[hình ảnh hai cậu bé đang chơi trong khu dân c...</td>\n",
       "      <td>một số người đang chơi bóng chày trên sân</td>\n",
       "      <td>0.533825</td>\n",
       "      <td>0.326900</td>\n",
       "      <td>0.274455</td>\n",
       "      <td>0.234766</td>\n",
       "      <td>0.347933</td>\n",
       "    </tr>\n",
       "    <tr>\n",
       "      <th>2</th>\n",
       "      <td>/kaggle/input/uit-viic-v1-0-vietnamese-image-c...</td>\n",
       "      <td>[hình ảnh một trận thi đấu bóng đá đang diễn r...</td>\n",
       "      <td>những người đàn ông đang chơi bóng đá trên sân</td>\n",
       "      <td>0.500000</td>\n",
       "      <td>0.333333</td>\n",
       "      <td>0.302277</td>\n",
       "      <td>0.267894</td>\n",
       "      <td>0.368740</td>\n",
       "    </tr>\n",
       "    <tr>\n",
       "      <th>3</th>\n",
       "      <td>/kaggle/input/uit-viic-v1-0-vietnamese-image-c...</td>\n",
       "      <td>[một người phụ nữ đang vung vợt để đánh quả bó...</td>\n",
       "      <td>một người phụ nữ đang chuẩn bị đánh quả bóng t...</td>\n",
       "      <td>1.000000</td>\n",
       "      <td>1.000000</td>\n",
       "      <td>1.000000</td>\n",
       "      <td>1.000000</td>\n",
       "      <td>0.649401</td>\n",
       "    </tr>\n",
       "    <tr>\n",
       "      <th>4</th>\n",
       "      <td>/kaggle/input/uit-viic-v1-0-vietnamese-image-c...</td>\n",
       "      <td>[một cậu bé đang nghiêng người để đánh quả bón...</td>\n",
       "      <td>một cậu bé đang chơi bóng đá trên sân</td>\n",
       "      <td>0.533825</td>\n",
       "      <td>0.516874</td>\n",
       "      <td>0.498675</td>\n",
       "      <td>0.470349</td>\n",
       "      <td>0.607132</td>\n",
       "    </tr>\n",
       "    <tr>\n",
       "      <th>...</th>\n",
       "      <td>...</td>\n",
       "      <td>...</td>\n",
       "      <td>...</td>\n",
       "      <td>...</td>\n",
       "      <td>...</td>\n",
       "      <td>...</td>\n",
       "      <td>...</td>\n",
       "      <td>...</td>\n",
       "    </tr>\n",
       "    <tr>\n",
       "      <th>226</th>\n",
       "      <td>/kaggle/input/uit-viic-v1-0-vietnamese-image-c...</td>\n",
       "      <td>[một người đàn ông đang dùng vợt để đánh quả b...</td>\n",
       "      <td>người phụ nữ đang cầm vợt tennis đứng trên sân</td>\n",
       "      <td>0.600000</td>\n",
       "      <td>0.258199</td>\n",
       "      <td>0.255384</td>\n",
       "      <td>0.235777</td>\n",
       "      <td>0.458925</td>\n",
       "    </tr>\n",
       "    <tr>\n",
       "      <th>227</th>\n",
       "      <td>/kaggle/input/uit-viic-v1-0-vietnamese-image-c...</td>\n",
       "      <td>[một người đàn ông đang chuẩn bị đánh quả bóng...</td>\n",
       "      <td>một người đàn ông đang chuẩn bị đánh quả bóng ...</td>\n",
       "      <td>1.000000</td>\n",
       "      <td>1.000000</td>\n",
       "      <td>1.000000</td>\n",
       "      <td>1.000000</td>\n",
       "      <td>0.701032</td>\n",
       "    </tr>\n",
       "    <tr>\n",
       "      <th>228</th>\n",
       "      <td>/kaggle/input/uit-viic-v1-0-vietnamese-image-c...</td>\n",
       "      <td>[các cầu thủ bóng đá đang thi đấu ngoài trời, ...</td>\n",
       "      <td>một số người đang chơi bóng đá trên sân</td>\n",
       "      <td>0.695986</td>\n",
       "      <td>0.558030</td>\n",
       "      <td>0.433356</td>\n",
       "      <td>0.330101</td>\n",
       "      <td>0.372575</td>\n",
       "    </tr>\n",
       "    <tr>\n",
       "      <th>229</th>\n",
       "      <td>/kaggle/input/uit-viic-v1-0-vietnamese-image-c...</td>\n",
       "      <td>[một cầu thủ đánh bóng đang xoay người để đánh...</td>\n",
       "      <td>một số người đang chơi bóng chày trên sân</td>\n",
       "      <td>0.444854</td>\n",
       "      <td>0.211013</td>\n",
       "      <td>0.205590</td>\n",
       "      <td>0.188618</td>\n",
       "      <td>0.468878</td>\n",
       "    </tr>\n",
       "    <tr>\n",
       "      <th>230</th>\n",
       "      <td>/kaggle/input/uit-viic-v1-0-vietnamese-image-c...</td>\n",
       "      <td>[một cậu bé đang luyện tập bóng chày trên sân,...</td>\n",
       "      <td>một người đàn ông đang cầm gậy bóng chày và đứ...</td>\n",
       "      <td>0.538462</td>\n",
       "      <td>0.299572</td>\n",
       "      <td>0.286839</td>\n",
       "      <td>0.260305</td>\n",
       "      <td>0.436212</td>\n",
       "    </tr>\n",
       "  </tbody>\n",
       "</table>\n",
       "<p>231 rows × 8 columns</p>\n",
       "</div>"
      ],
      "text/plain": [
       "                                            image_path  \\\n",
       "0    /kaggle/input/uit-viic-v1-0-vietnamese-image-c...   \n",
       "1    /kaggle/input/uit-viic-v1-0-vietnamese-image-c...   \n",
       "2    /kaggle/input/uit-viic-v1-0-vietnamese-image-c...   \n",
       "3    /kaggle/input/uit-viic-v1-0-vietnamese-image-c...   \n",
       "4    /kaggle/input/uit-viic-v1-0-vietnamese-image-c...   \n",
       "..                                                 ...   \n",
       "226  /kaggle/input/uit-viic-v1-0-vietnamese-image-c...   \n",
       "227  /kaggle/input/uit-viic-v1-0-vietnamese-image-c...   \n",
       "228  /kaggle/input/uit-viic-v1-0-vietnamese-image-c...   \n",
       "229  /kaggle/input/uit-viic-v1-0-vietnamese-image-c...   \n",
       "230  /kaggle/input/uit-viic-v1-0-vietnamese-image-c...   \n",
       "\n",
       "                                               caption  \\\n",
       "0    [trên sân một cầu thủ đánh bóng đang chuẩn bị ...   \n",
       "1    [hình ảnh hai cậu bé đang chơi trong khu dân c...   \n",
       "2    [hình ảnh một trận thi đấu bóng đá đang diễn r...   \n",
       "3    [một người phụ nữ đang vung vợt để đánh quả bó...   \n",
       "4    [một cậu bé đang nghiêng người để đánh quả bón...   \n",
       "..                                                 ...   \n",
       "226  [một người đàn ông đang dùng vợt để đánh quả b...   \n",
       "227  [một người đàn ông đang chuẩn bị đánh quả bóng...   \n",
       "228  [các cầu thủ bóng đá đang thi đấu ngoài trời, ...   \n",
       "229  [một cầu thủ đánh bóng đang xoay người để đánh...   \n",
       "230  [một cậu bé đang luyện tập bóng chày trên sân,...   \n",
       "\n",
       "                                               predict    bleu_1    bleu_2  \\\n",
       "0    một người đàn ông đang chuẩn bị ném quả bóng chày  0.909091  0.852803   \n",
       "1            một số người đang chơi bóng chày trên sân  0.533825  0.326900   \n",
       "2       những người đàn ông đang chơi bóng đá trên sân  0.500000  0.333333   \n",
       "3    một người phụ nữ đang chuẩn bị đánh quả bóng t...  1.000000  1.000000   \n",
       "4                một cậu bé đang chơi bóng đá trên sân  0.533825  0.516874   \n",
       "..                                                 ...       ...       ...   \n",
       "226     người phụ nữ đang cầm vợt tennis đứng trên sân  0.600000  0.258199   \n",
       "227  một người đàn ông đang chuẩn bị đánh quả bóng ...  1.000000  1.000000   \n",
       "228            một số người đang chơi bóng đá trên sân  0.695986  0.558030   \n",
       "229          một số người đang chơi bóng chày trên sân  0.444854  0.211013   \n",
       "230  một người đàn ông đang cầm gậy bóng chày và đứ...  0.538462  0.299572   \n",
       "\n",
       "       bleu_3    bleu_4   rouge_L  \n",
       "0    0.741515  0.563756  0.517286  \n",
       "1    0.274455  0.234766  0.347933  \n",
       "2    0.302277  0.267894  0.368740  \n",
       "3    1.000000  1.000000  0.649401  \n",
       "4    0.498675  0.470349  0.607132  \n",
       "..        ...       ...       ...  \n",
       "226  0.255384  0.235777  0.458925  \n",
       "227  1.000000  1.000000  0.701032  \n",
       "228  0.433356  0.330101  0.372575  \n",
       "229  0.205590  0.188618  0.468878  \n",
       "230  0.286839  0.260305  0.436212  \n",
       "\n",
       "[231 rows x 8 columns]"
      ]
     },
     "execution_count": 35,
     "metadata": {},
     "output_type": "execute_result"
    }
   ],
   "source": [
    "df_test_merge"
   ]
  },
  {
   "cell_type": "code",
   "execution_count": 36,
   "id": "2c739df7",
   "metadata": {
    "execution": {
     "iopub.execute_input": "2024-12-27T14:58:08.771117Z",
     "iopub.status.busy": "2024-12-27T14:58:08.770770Z",
     "iopub.status.idle": "2024-12-27T14:58:08.776338Z",
     "shell.execute_reply": "2024-12-27T14:58:08.775343Z"
    },
    "papermill": {
     "duration": 0.500381,
     "end_time": "2024-12-27T14:58:08.778458",
     "exception": false,
     "start_time": "2024-12-27T14:58:08.278077",
     "status": "completed"
    },
    "tags": []
   },
   "outputs": [
    {
     "name": "stdout",
     "output_type": "stream",
     "text": [
      "Average ROUGE Score: 48.18\n"
     ]
    }
   ],
   "source": [
    "rouge_avg = round(df_test_merge['rouge_L'].mean() * 100, 2)\n",
    "\n",
    "print(\"Average ROUGE Score:\", rouge_avg)"
   ]
  },
  {
   "cell_type": "code",
   "execution_count": 37,
   "id": "750586a8",
   "metadata": {
    "execution": {
     "iopub.execute_input": "2024-12-27T14:58:09.718981Z",
     "iopub.status.busy": "2024-12-27T14:58:09.718668Z",
     "iopub.status.idle": "2024-12-27T14:58:09.722917Z",
     "shell.execute_reply": "2024-12-27T14:58:09.721979Z"
    },
    "papermill": {
     "duration": 0.494987,
     "end_time": "2024-12-27T14:58:09.724628",
     "exception": false,
     "start_time": "2024-12-27T14:58:09.229641",
     "status": "completed"
    },
    "tags": []
   },
   "outputs": [],
   "source": [
    "from tensorflow.keras.models import load_model"
   ]
  },
  {
   "cell_type": "code",
   "execution_count": 38,
   "id": "6e72629a",
   "metadata": {
    "execution": {
     "iopub.execute_input": "2024-12-27T14:58:10.630845Z",
     "iopub.status.busy": "2024-12-27T14:58:10.630513Z",
     "iopub.status.idle": "2024-12-27T14:58:10.953962Z",
     "shell.execute_reply": "2024-12-27T14:58:10.953117Z"
    },
    "papermill": {
     "duration": 0.782756,
     "end_time": "2024-12-27T14:58:10.955894",
     "exception": false,
     "start_time": "2024-12-27T14:58:10.173138",
     "status": "completed"
    },
    "tags": []
   },
   "outputs": [],
   "source": [
    "loaded_model = load_model('/kaggle/working/densenet201_attention.keras')"
   ]
  },
  {
   "cell_type": "code",
   "execution_count": 39,
   "id": "0ec7943e",
   "metadata": {
    "execution": {
     "iopub.execute_input": "2024-12-27T14:58:11.894826Z",
     "iopub.status.busy": "2024-12-27T14:58:11.894471Z",
     "iopub.status.idle": "2024-12-27T14:58:12.652499Z",
     "shell.execute_reply": "2024-12-27T14:58:12.651544Z"
    },
    "papermill": {
     "duration": 1.206377,
     "end_time": "2024-12-27T14:58:12.654495",
     "exception": false,
     "start_time": "2024-12-27T14:58:11.448118",
     "status": "completed"
    },
    "tags": []
   },
   "outputs": [
    {
     "name": "stderr",
     "output_type": "stream",
     "text": [
      "/opt/conda/lib/python3.10/site-packages/keras/src/ops/nn.py:545: UserWarning: You are using a softmax over axis -1 of a tensor of shape (1, 1). This axis has size 1. The softmax operation will always return the value 1, which is likely not what you intended. Did you mean to use a sigmoid instead?\n",
      "  warnings.warn(\n"
     ]
    },
    {
     "name": "stdout",
     "output_type": "stream",
     "text": [
      "startseq những người đàn ông đang chơi bóng đá trên sân endseq\n"
     ]
    }
   ],
   "source": [
    "caption = predict_caption(loaded_model, df_test_merge.iloc[2]['image_path'], tokenizer, max_length, image_features)\n",
    "\n",
    "print(caption)"
   ]
  }
 ],
 "metadata": {
  "accelerator": "GPU",
  "colab": {
   "gpuType": "T4",
   "provenance": []
  },
  "kaggle": {
   "accelerator": "nvidiaTeslaT4",
   "dataSources": [
    {
     "datasetId": 3878874,
     "sourceId": 6735684,
     "sourceType": "datasetVersion"
    }
   ],
   "dockerImageVersionId": 30805,
   "isGpuEnabled": true,
   "isInternetEnabled": true,
   "language": "python",
   "sourceType": "notebook"
  },
  "kernelspec": {
   "display_name": "Python 3",
   "language": "python",
   "name": "python3"
  },
  "language_info": {
   "codemirror_mode": {
    "name": "ipython",
    "version": 3
   },
   "file_extension": ".py",
   "mimetype": "text/x-python",
   "name": "python",
   "nbconvert_exporter": "python",
   "pygments_lexer": "ipython3",
   "version": "3.10.14"
  },
  "papermill": {
   "default_parameters": {},
   "duration": 1108.586623,
   "end_time": "2024-12-27T14:58:16.307730",
   "environment_variables": {},
   "exception": null,
   "input_path": "__notebook__.ipynb",
   "output_path": "__notebook__.ipynb",
   "parameters": {},
   "start_time": "2024-12-27T14:39:47.721107",
   "version": "2.6.0"
  }
 },
 "nbformat": 4,
 "nbformat_minor": 5
}
