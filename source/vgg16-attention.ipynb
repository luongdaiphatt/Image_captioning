{
 "cells": [
  {
   "cell_type": "code",
   "execution_count": 1,
   "id": "52f407eb",
   "metadata": {
    "_cell_guid": "b1076dfc-b9ad-4769-8c92-a6c4dae69d19",
    "_uuid": "8f2839f25d086af736a60e9eeb907d3b93b6e0e5",
    "execution": {
     "iopub.execute_input": "2024-12-27T11:35:15.587063Z",
     "iopub.status.busy": "2024-12-27T11:35:15.586804Z",
     "iopub.status.idle": "2024-12-27T11:35:29.506004Z",
     "shell.execute_reply": "2024-12-27T11:35:29.505219Z"
    },
    "papermill": {
     "duration": 13.929812,
     "end_time": "2024-12-27T11:35:29.508051",
     "exception": false,
     "start_time": "2024-12-27T11:35:15.578239",
     "status": "completed"
    },
    "tags": []
   },
   "outputs": [],
   "source": [
    "import os\n",
    "\n",
    "import numpy as np\n",
    "\n",
    "import pandas as pd\n",
    "\n",
    "import tensorflow as tf\n",
    "\n",
    "from tqdm import tqdm\n",
    "\n",
    "from tensorflow.keras.preprocessing.text import Tokenizer\n",
    "\n",
    "from tensorflow.keras.utils import pad_sequences\n",
    "\n",
    "from tensorflow.keras.applications import VGG16\n",
    "\n",
    "from tensorflow.keras.preprocessing.image import load_img, img_to_array\n",
    "\n",
    "from tensorflow.keras.layers import Input, Dense, Embedding, LSTM, AdditiveAttention, Add, Concatenate, Dropout, Reshape\n",
    "\n",
    "from tensorflow.keras.models import Model\n",
    "\n",
    "from tensorflow.keras.callbacks import ModelCheckpoint, EarlyStopping, ReduceLROnPlateau\n",
    "\n",
    "from tensorflow.keras.optimizers import Adam\n",
    "\n",
    "from nltk.translate.bleu_score import corpus_bleu"
   ]
  },
  {
   "cell_type": "markdown",
   "id": "8ee40c4e",
   "metadata": {
    "papermill": {
     "duration": 0.006629,
     "end_time": "2024-12-27T11:35:29.522964",
     "exception": false,
     "start_time": "2024-12-27T11:35:29.516335",
     "status": "completed"
    },
    "tags": []
   },
   "source": [
    "# Load data"
   ]
  },
  {
   "cell_type": "code",
   "execution_count": 2,
   "id": "70ee7457",
   "metadata": {
    "execution": {
     "iopub.execute_input": "2024-12-27T11:35:29.537807Z",
     "iopub.status.busy": "2024-12-27T11:35:29.537276Z",
     "iopub.status.idle": "2024-12-27T11:35:29.542163Z",
     "shell.execute_reply": "2024-12-27T11:35:29.541465Z"
    },
    "papermill": {
     "duration": 0.014076,
     "end_time": "2024-12-27T11:35:29.543803",
     "exception": false,
     "start_time": "2024-12-27T11:35:29.529727",
     "status": "completed"
    },
    "tags": []
   },
   "outputs": [],
   "source": [
    "def load_data(path):\n",
    "\n",
    "    with open(path + 'captions.txt', 'r', encoding='utf-8') as file:\n",
    "\n",
    "        lines = file.readlines()\n",
    "\n",
    "\n",
    "\n",
    "    data = [line.split('\\t', 1) for line in lines]\n",
    "\n",
    "    df = pd.DataFrame(data, columns=[\"image_path\", \"caption\"])\n",
    "\n",
    "\n",
    "\n",
    "    return df"
   ]
  },
  {
   "cell_type": "code",
   "execution_count": 3,
   "id": "7ce1a4f4",
   "metadata": {
    "execution": {
     "iopub.execute_input": "2024-12-27T11:35:29.558323Z",
     "iopub.status.busy": "2024-12-27T11:35:29.558073Z",
     "iopub.status.idle": "2024-12-27T11:35:29.561540Z",
     "shell.execute_reply": "2024-12-27T11:35:29.560856Z"
    },
    "papermill": {
     "duration": 0.012495,
     "end_time": "2024-12-27T11:35:29.563052",
     "exception": false,
     "start_time": "2024-12-27T11:35:29.550557",
     "status": "completed"
    },
    "tags": []
   },
   "outputs": [],
   "source": [
    "dataset_path = '/kaggle/input/uit-viic-v1-0-vietnamese-image-captioning/dataset'\n",
    "\n",
    "train_path = dataset_path + '/train/'\n",
    "\n",
    "val_path = dataset_path + '/val/'\n",
    "\n",
    "test_path = dataset_path + '/test/'"
   ]
  },
  {
   "cell_type": "code",
   "execution_count": 4,
   "id": "92ffb135",
   "metadata": {
    "execution": {
     "iopub.execute_input": "2024-12-27T11:35:29.577704Z",
     "iopub.status.busy": "2024-12-27T11:35:29.577412Z",
     "iopub.status.idle": "2024-12-27T11:35:29.677512Z",
     "shell.execute_reply": "2024-12-27T11:35:29.676889Z"
    },
    "papermill": {
     "duration": 0.109377,
     "end_time": "2024-12-27T11:35:29.679144",
     "exception": false,
     "start_time": "2024-12-27T11:35:29.569767",
     "status": "completed"
    },
    "tags": []
   },
   "outputs": [],
   "source": [
    "df_train = load_data(train_path)\n",
    "\n",
    "df_val = load_data(val_path)\n",
    "\n",
    "df_test = load_data(test_path)"
   ]
  },
  {
   "cell_type": "code",
   "execution_count": 5,
   "id": "ce1cbf2d",
   "metadata": {
    "execution": {
     "iopub.execute_input": "2024-12-27T11:35:29.701672Z",
     "iopub.status.busy": "2024-12-27T11:35:29.701342Z",
     "iopub.status.idle": "2024-12-27T11:35:29.717222Z",
     "shell.execute_reply": "2024-12-27T11:35:29.716435Z"
    },
    "papermill": {
     "duration": 0.02552,
     "end_time": "2024-12-27T11:35:29.718777",
     "exception": false,
     "start_time": "2024-12-27T11:35:29.693257",
     "status": "completed"
    },
    "tags": []
   },
   "outputs": [
    {
     "data": {
      "text/html": [
       "<div>\n",
       "<style scoped>\n",
       "    .dataframe tbody tr th:only-of-type {\n",
       "        vertical-align: middle;\n",
       "    }\n",
       "\n",
       "    .dataframe tbody tr th {\n",
       "        vertical-align: top;\n",
       "    }\n",
       "\n",
       "    .dataframe thead th {\n",
       "        text-align: right;\n",
       "    }\n",
       "</style>\n",
       "<table border=\"1\" class=\"dataframe\">\n",
       "  <thead>\n",
       "    <tr style=\"text-align: right;\">\n",
       "      <th></th>\n",
       "      <th>image_path</th>\n",
       "      <th>caption</th>\n",
       "    </tr>\n",
       "  </thead>\n",
       "  <tbody>\n",
       "    <tr>\n",
       "      <th>0</th>\n",
       "      <td>/dataset/train/images/000000157656.jpg</td>\n",
       "      <td>Người đàn ông đang đánh tennis ngoài sân.\\n</td>\n",
       "    </tr>\n",
       "    <tr>\n",
       "      <th>1</th>\n",
       "      <td>/dataset/train/images/000000157656.jpg</td>\n",
       "      <td>Một vận động viên tennis đang vung vợt đánh bó...</td>\n",
       "    </tr>\n",
       "    <tr>\n",
       "      <th>2</th>\n",
       "      <td>/dataset/train/images/000000157656.jpg</td>\n",
       "      <td>Một cầu thủ tennis đang vung vợt tennis đỡ bón...</td>\n",
       "    </tr>\n",
       "    <tr>\n",
       "      <th>3</th>\n",
       "      <td>/dataset/train/images/000000157656.jpg</td>\n",
       "      <td>Người đàn ông đang đứng ngoài biên cầm vợt sẵn...</td>\n",
       "    </tr>\n",
       "    <tr>\n",
       "      <th>4</th>\n",
       "      <td>/dataset/train/images/000000157656.jpg</td>\n",
       "      <td>Vận động viên tennis nam đang trong tư thế chu...</td>\n",
       "    </tr>\n",
       "    <tr>\n",
       "      <th>...</th>\n",
       "      <td>...</td>\n",
       "      <td>...</td>\n",
       "    </tr>\n",
       "    <tr>\n",
       "      <th>13476</th>\n",
       "      <td>/dataset/train/images/000000121943.jpg</td>\n",
       "      <td>Những cô gái đang chơi bóng đá ở trên sân .\\n</td>\n",
       "    </tr>\n",
       "    <tr>\n",
       "      <th>13477</th>\n",
       "      <td>/dataset/train/images/000000466840.jpg</td>\n",
       "      <td>Những người đàn ông đang chơi bóng chày trên s...</td>\n",
       "    </tr>\n",
       "    <tr>\n",
       "      <th>13478</th>\n",
       "      <td>/dataset/train/images/000000381377.jpg</td>\n",
       "      <td>Một số người mặc đồ đá bóng đang đá bóng trên ...</td>\n",
       "    </tr>\n",
       "    <tr>\n",
       "      <th>13479</th>\n",
       "      <td>/dataset/train/images/000000561746.jpg</td>\n",
       "      <td>Một người đàn ông đang dùng vợt để đánh quả bó...</td>\n",
       "    </tr>\n",
       "    <tr>\n",
       "      <th>13480</th>\n",
       "      <td>/dataset/train/images/000000109950.jpg</td>\n",
       "      <td>Một người phụ nữ đang dùng vợt để đánh quả bón...</td>\n",
       "    </tr>\n",
       "  </tbody>\n",
       "</table>\n",
       "<p>13481 rows × 2 columns</p>\n",
       "</div>"
      ],
      "text/plain": [
       "                                   image_path  \\\n",
       "0      /dataset/train/images/000000157656.jpg   \n",
       "1      /dataset/train/images/000000157656.jpg   \n",
       "2      /dataset/train/images/000000157656.jpg   \n",
       "3      /dataset/train/images/000000157656.jpg   \n",
       "4      /dataset/train/images/000000157656.jpg   \n",
       "...                                       ...   \n",
       "13476  /dataset/train/images/000000121943.jpg   \n",
       "13477  /dataset/train/images/000000466840.jpg   \n",
       "13478  /dataset/train/images/000000381377.jpg   \n",
       "13479  /dataset/train/images/000000561746.jpg   \n",
       "13480  /dataset/train/images/000000109950.jpg   \n",
       "\n",
       "                                                 caption  \n",
       "0            Người đàn ông đang đánh tennis ngoài sân.\\n  \n",
       "1      Một vận động viên tennis đang vung vợt đánh bó...  \n",
       "2      Một cầu thủ tennis đang vung vợt tennis đỡ bón...  \n",
       "3      Người đàn ông đang đứng ngoài biên cầm vợt sẵn...  \n",
       "4      Vận động viên tennis nam đang trong tư thế chu...  \n",
       "...                                                  ...  \n",
       "13476      Những cô gái đang chơi bóng đá ở trên sân .\\n  \n",
       "13477  Những người đàn ông đang chơi bóng chày trên s...  \n",
       "13478  Một số người mặc đồ đá bóng đang đá bóng trên ...  \n",
       "13479  Một người đàn ông đang dùng vợt để đánh quả bó...  \n",
       "13480  Một người phụ nữ đang dùng vợt để đánh quả bón...  \n",
       "\n",
       "[13481 rows x 2 columns]"
      ]
     },
     "execution_count": 5,
     "metadata": {},
     "output_type": "execute_result"
    }
   ],
   "source": [
    "df_train"
   ]
  },
  {
   "cell_type": "markdown",
   "id": "fabe5829",
   "metadata": {
    "papermill": {
     "duration": 0.006877,
     "end_time": "2024-12-27T11:35:29.732924",
     "exception": false,
     "start_time": "2024-12-27T11:35:29.726047",
     "status": "completed"
    },
    "tags": []
   },
   "source": [
    "# Preprocess data"
   ]
  },
  {
   "cell_type": "code",
   "execution_count": 6,
   "id": "ccda95dd",
   "metadata": {
    "execution": {
     "iopub.execute_input": "2024-12-27T11:35:29.747941Z",
     "iopub.status.busy": "2024-12-27T11:35:29.747691Z",
     "iopub.status.idle": "2024-12-27T11:35:29.753207Z",
     "shell.execute_reply": "2024-12-27T11:35:29.752497Z"
    },
    "papermill": {
     "duration": 0.014794,
     "end_time": "2024-12-27T11:35:29.754706",
     "exception": false,
     "start_time": "2024-12-27T11:35:29.739912",
     "status": "completed"
    },
    "tags": []
   },
   "outputs": [],
   "source": [
    "def text_preprocessing(df):\n",
    "\n",
    "    df_preprocessed = df.copy()\n",
    "\n",
    "    df_preprocessed['caption'] = df_preprocessed['caption'].apply(lambda x: x.lower())\n",
    "\n",
    "    df_preprocessed['caption'] = df_preprocessed['caption'].apply(lambda x: x.replace(\"[^A-Za-z]\",\"\"))\n",
    "\n",
    "    df_preprocessed['caption'] = df_preprocessed['caption'].apply(lambda x: x.replace(\"\\s+\",\" \"))\n",
    "\n",
    "    df_preprocessed['caption'] = df_preprocessed['caption'].apply(lambda x: \" \".join([word for word in x.split() if len(word)>1]))\n",
    "\n",
    "    df_preprocessed['caption'] = \"startseq \"+df_preprocessed['caption']+\" endseq\"\n",
    "\n",
    "    df_preprocessed['image_path'] = df_preprocessed['image_path'].str.replace('^/dataset', '', regex=True)\n",
    "\n",
    "    df_preprocessed['image_path'] = dataset_path + df_preprocessed['image_path']\n",
    "\n",
    "    return df_preprocessed"
   ]
  },
  {
   "cell_type": "code",
   "execution_count": 7,
   "id": "60fca33e",
   "metadata": {
    "execution": {
     "iopub.execute_input": "2024-12-27T11:35:29.769548Z",
     "iopub.status.busy": "2024-12-27T11:35:29.769310Z",
     "iopub.status.idle": "2024-12-27T11:35:29.877986Z",
     "shell.execute_reply": "2024-12-27T11:35:29.877365Z"
    },
    "papermill": {
     "duration": 0.117887,
     "end_time": "2024-12-27T11:35:29.879619",
     "exception": false,
     "start_time": "2024-12-27T11:35:29.761732",
     "status": "completed"
    },
    "tags": []
   },
   "outputs": [],
   "source": [
    "df_train_preprocessed = text_preprocessing(df_train)\n",
    "\n",
    "df_val_preprocessed = text_preprocessing(df_val)\n",
    "\n",
    "df_test_preprocessed = text_preprocessing(df_test)"
   ]
  },
  {
   "cell_type": "code",
   "execution_count": 8,
   "id": "7918dba7",
   "metadata": {
    "execution": {
     "iopub.execute_input": "2024-12-27T11:35:29.894611Z",
     "iopub.status.busy": "2024-12-27T11:35:29.894349Z",
     "iopub.status.idle": "2024-12-27T11:35:29.903624Z",
     "shell.execute_reply": "2024-12-27T11:35:29.902916Z"
    },
    "papermill": {
     "duration": 0.018683,
     "end_time": "2024-12-27T11:35:29.905320",
     "exception": false,
     "start_time": "2024-12-27T11:35:29.886637",
     "status": "completed"
    },
    "tags": []
   },
   "outputs": [
    {
     "data": {
      "text/html": [
       "<div>\n",
       "<style scoped>\n",
       "    .dataframe tbody tr th:only-of-type {\n",
       "        vertical-align: middle;\n",
       "    }\n",
       "\n",
       "    .dataframe tbody tr th {\n",
       "        vertical-align: top;\n",
       "    }\n",
       "\n",
       "    .dataframe thead th {\n",
       "        text-align: right;\n",
       "    }\n",
       "</style>\n",
       "<table border=\"1\" class=\"dataframe\">\n",
       "  <thead>\n",
       "    <tr style=\"text-align: right;\">\n",
       "      <th></th>\n",
       "      <th>image_path</th>\n",
       "      <th>caption</th>\n",
       "    </tr>\n",
       "  </thead>\n",
       "  <tbody>\n",
       "    <tr>\n",
       "      <th>0</th>\n",
       "      <td>/kaggle/input/uit-viic-v1-0-vietnamese-image-c...</td>\n",
       "      <td>startseq người đàn ông đang đánh tennis ngoài ...</td>\n",
       "    </tr>\n",
       "    <tr>\n",
       "      <th>1</th>\n",
       "      <td>/kaggle/input/uit-viic-v1-0-vietnamese-image-c...</td>\n",
       "      <td>startseq một vận động viên tennis đang vung vợ...</td>\n",
       "    </tr>\n",
       "    <tr>\n",
       "      <th>2</th>\n",
       "      <td>/kaggle/input/uit-viic-v1-0-vietnamese-image-c...</td>\n",
       "      <td>startseq một cầu thủ tennis đang vung vợt tenn...</td>\n",
       "    </tr>\n",
       "    <tr>\n",
       "      <th>3</th>\n",
       "      <td>/kaggle/input/uit-viic-v1-0-vietnamese-image-c...</td>\n",
       "      <td>startseq người đàn ông đang đứng ngoài biên cầ...</td>\n",
       "    </tr>\n",
       "    <tr>\n",
       "      <th>4</th>\n",
       "      <td>/kaggle/input/uit-viic-v1-0-vietnamese-image-c...</td>\n",
       "      <td>startseq vận động viên tennis nam đang trong t...</td>\n",
       "    </tr>\n",
       "    <tr>\n",
       "      <th>...</th>\n",
       "      <td>...</td>\n",
       "      <td>...</td>\n",
       "    </tr>\n",
       "    <tr>\n",
       "      <th>13476</th>\n",
       "      <td>/kaggle/input/uit-viic-v1-0-vietnamese-image-c...</td>\n",
       "      <td>startseq những cô gái đang chơi bóng đá trên s...</td>\n",
       "    </tr>\n",
       "    <tr>\n",
       "      <th>13477</th>\n",
       "      <td>/kaggle/input/uit-viic-v1-0-vietnamese-image-c...</td>\n",
       "      <td>startseq những người đàn ông đang chơi bóng ch...</td>\n",
       "    </tr>\n",
       "    <tr>\n",
       "      <th>13478</th>\n",
       "      <td>/kaggle/input/uit-viic-v1-0-vietnamese-image-c...</td>\n",
       "      <td>startseq một số người mặc đồ đá bóng đang đá b...</td>\n",
       "    </tr>\n",
       "    <tr>\n",
       "      <th>13479</th>\n",
       "      <td>/kaggle/input/uit-viic-v1-0-vietnamese-image-c...</td>\n",
       "      <td>startseq một người đàn ông đang dùng vợt để đá...</td>\n",
       "    </tr>\n",
       "    <tr>\n",
       "      <th>13480</th>\n",
       "      <td>/kaggle/input/uit-viic-v1-0-vietnamese-image-c...</td>\n",
       "      <td>startseq một người phụ nữ đang dùng vợt để đán...</td>\n",
       "    </tr>\n",
       "  </tbody>\n",
       "</table>\n",
       "<p>13481 rows × 2 columns</p>\n",
       "</div>"
      ],
      "text/plain": [
       "                                              image_path  \\\n",
       "0      /kaggle/input/uit-viic-v1-0-vietnamese-image-c...   \n",
       "1      /kaggle/input/uit-viic-v1-0-vietnamese-image-c...   \n",
       "2      /kaggle/input/uit-viic-v1-0-vietnamese-image-c...   \n",
       "3      /kaggle/input/uit-viic-v1-0-vietnamese-image-c...   \n",
       "4      /kaggle/input/uit-viic-v1-0-vietnamese-image-c...   \n",
       "...                                                  ...   \n",
       "13476  /kaggle/input/uit-viic-v1-0-vietnamese-image-c...   \n",
       "13477  /kaggle/input/uit-viic-v1-0-vietnamese-image-c...   \n",
       "13478  /kaggle/input/uit-viic-v1-0-vietnamese-image-c...   \n",
       "13479  /kaggle/input/uit-viic-v1-0-vietnamese-image-c...   \n",
       "13480  /kaggle/input/uit-viic-v1-0-vietnamese-image-c...   \n",
       "\n",
       "                                                 caption  \n",
       "0      startseq người đàn ông đang đánh tennis ngoài ...  \n",
       "1      startseq một vận động viên tennis đang vung vợ...  \n",
       "2      startseq một cầu thủ tennis đang vung vợt tenn...  \n",
       "3      startseq người đàn ông đang đứng ngoài biên cầ...  \n",
       "4      startseq vận động viên tennis nam đang trong t...  \n",
       "...                                                  ...  \n",
       "13476  startseq những cô gái đang chơi bóng đá trên s...  \n",
       "13477  startseq những người đàn ông đang chơi bóng ch...  \n",
       "13478  startseq một số người mặc đồ đá bóng đang đá b...  \n",
       "13479  startseq một người đàn ông đang dùng vợt để đá...  \n",
       "13480  startseq một người phụ nữ đang dùng vợt để đán...  \n",
       "\n",
       "[13481 rows x 2 columns]"
      ]
     },
     "execution_count": 8,
     "metadata": {},
     "output_type": "execute_result"
    }
   ],
   "source": [
    "df_train_preprocessed"
   ]
  },
  {
   "cell_type": "markdown",
   "id": "f7617f89",
   "metadata": {
    "papermill": {
     "duration": 0.011135,
     "end_time": "2024-12-27T11:35:29.924866",
     "exception": false,
     "start_time": "2024-12-27T11:35:29.913731",
     "status": "completed"
    },
    "tags": []
   },
   "source": [
    "# Tokenizer"
   ]
  },
  {
   "cell_type": "code",
   "execution_count": 9,
   "id": "8b871422",
   "metadata": {
    "execution": {
     "iopub.execute_input": "2024-12-27T11:35:29.940501Z",
     "iopub.status.busy": "2024-12-27T11:35:29.940280Z",
     "iopub.status.idle": "2024-12-27T11:35:30.369599Z",
     "shell.execute_reply": "2024-12-27T11:35:30.368722Z"
    },
    "papermill": {
     "duration": 0.438978,
     "end_time": "2024-12-27T11:35:30.371333",
     "exception": false,
     "start_time": "2024-12-27T11:35:29.932355",
     "status": "completed"
    },
    "tags": []
   },
   "outputs": [
    {
     "data": {
      "text/plain": [
       "[1, 7, 20, 17, 18, 5, 4, 39, 16, 10, 3, 2]"
      ]
     },
     "execution_count": 9,
     "metadata": {},
     "output_type": "execute_result"
    }
   ],
   "source": [
    "captions = df_train_preprocessed['caption'].tolist() + df_val_preprocessed['caption'].tolist() + df_test_preprocessed['caption'].tolist()\n",
    "\n",
    "tokenizer = Tokenizer()\n",
    "\n",
    "tokenizer.fit_on_texts(captions)\n",
    "\n",
    "vocab_size = len(tokenizer.word_index) + 1\n",
    "\n",
    "max_length = max(len(caption.split()) for caption in captions)\n",
    "\n",
    "\n",
    "\n",
    "tokenizer.texts_to_sequences([captions[1]])[0]"
   ]
  },
  {
   "cell_type": "markdown",
   "id": "03301bd6",
   "metadata": {
    "papermill": {
     "duration": 0.007182,
     "end_time": "2024-12-27T11:35:30.386505",
     "exception": false,
     "start_time": "2024-12-27T11:35:30.379323",
     "status": "completed"
    },
    "tags": []
   },
   "source": [
    "# Feature extractor"
   ]
  },
  {
   "cell_type": "code",
   "execution_count": 10,
   "id": "8482943f",
   "metadata": {
    "execution": {
     "iopub.execute_input": "2024-12-27T11:35:30.402097Z",
     "iopub.status.busy": "2024-12-27T11:35:30.401781Z",
     "iopub.status.idle": "2024-12-27T11:40:29.921949Z",
     "shell.execute_reply": "2024-12-27T11:40:29.920855Z"
    },
    "papermill": {
     "duration": 299.531159,
     "end_time": "2024-12-27T11:40:29.924922",
     "exception": false,
     "start_time": "2024-12-27T11:35:30.393763",
     "status": "completed"
    },
    "tags": []
   },
   "outputs": [
    {
     "name": "stdout",
     "output_type": "stream",
     "text": [
      "Downloading data from https://storage.googleapis.com/tensorflow/keras-applications/vgg16/vgg16_weights_tf_dim_ordering_tf_kernels.h5\n",
      "\u001b[1m553467096/553467096\u001b[0m \u001b[32m━━━━━━━━━━━━━━━━━━━━\u001b[0m\u001b[37m\u001b[0m \u001b[1m2s\u001b[0m 0us/step\n"
     ]
    },
    {
     "name": "stderr",
     "output_type": "stream",
     "text": [
      "  0%|          | 0/3850 [00:00<?, ?it/s]WARNING: All log messages before absl::InitializeLog() is called are written to STDERR\n",
      "I0000 00:00:1735299336.171907      66 service.cc:145] XLA service 0x7b20c8004810 initialized for platform CUDA (this does not guarantee that XLA will be used). Devices:\n",
      "I0000 00:00:1735299336.171958      66 service.cc:153]   StreamExecutor device (0): Tesla T4, Compute Capability 7.5\n",
      "I0000 00:00:1735299336.171962      66 service.cc:153]   StreamExecutor device (1): Tesla T4, Compute Capability 7.5\n",
      "I0000 00:00:1735299338.905960      66 device_compiler.h:188] Compiled cluster using XLA!  This line is logged at most once for the lifetime of the process.\n",
      "100%|██████████| 3850/3850 [04:54<00:00, 13.09it/s]\n"
     ]
    }
   ],
   "source": [
    "base_model = VGG16()\n",
    "\n",
    "\n",
    "\n",
    "feature_extractor = Model(inputs=base_model.input, outputs=base_model.layers[-2].output)\n",
    "\n",
    "\n",
    "\n",
    "image_features = {}\n",
    "\n",
    "\n",
    "\n",
    "all_images = df_train_preprocessed['image_path'].unique().tolist() + df_val_preprocessed['image_path'].unique().tolist() + df_test_preprocessed['image_path'].unique().tolist()\n",
    "\n",
    "for image in tqdm(all_images):\n",
    "\n",
    "    img = load_img(image,target_size=(224,224))\n",
    "\n",
    "    img = img_to_array(img)\n",
    "\n",
    "    img = img/255.\n",
    "\n",
    "    img = np.expand_dims(img,axis=0)\n",
    "\n",
    "    feature = feature_extractor.predict(img, verbose=0)\n",
    "\n",
    "    image_features[image] = feature"
   ]
  },
  {
   "cell_type": "code",
   "execution_count": 11,
   "id": "94e4b215",
   "metadata": {
    "execution": {
     "iopub.execute_input": "2024-12-27T11:40:30.131628Z",
     "iopub.status.busy": "2024-12-27T11:40:30.131246Z",
     "iopub.status.idle": "2024-12-27T11:40:30.430069Z",
     "shell.execute_reply": "2024-12-27T11:40:30.429349Z"
    },
    "papermill": {
     "duration": 0.416684,
     "end_time": "2024-12-27T11:40:30.431939",
     "exception": false,
     "start_time": "2024-12-27T11:40:30.015255",
     "status": "completed"
    },
    "tags": []
   },
   "outputs": [],
   "source": [
    "np.savez(\"image_features.npz\", **image_features) # lưu features trích xuất từ các images về máy"
   ]
  },
  {
   "cell_type": "markdown",
   "id": "fa2f4fbc",
   "metadata": {
    "papermill": {
     "duration": 0.088957,
     "end_time": "2024-12-27T11:40:30.610182",
     "exception": false,
     "start_time": "2024-12-27T11:40:30.521225",
     "status": "completed"
    },
    "tags": []
   },
   "source": [
    "# Build model"
   ]
  },
  {
   "cell_type": "code",
   "execution_count": 12,
   "id": "0a31a76e",
   "metadata": {
    "execution": {
     "iopub.execute_input": "2024-12-27T11:40:30.791319Z",
     "iopub.status.busy": "2024-12-27T11:40:30.790986Z",
     "iopub.status.idle": "2024-12-27T11:40:31.124532Z",
     "shell.execute_reply": "2024-12-27T11:40:31.123855Z"
    },
    "papermill": {
     "duration": 0.427041,
     "end_time": "2024-12-27T11:40:31.126130",
     "exception": false,
     "start_time": "2024-12-27T11:40:30.699089",
     "status": "completed"
    },
    "tags": []
   },
   "outputs": [
    {
     "name": "stderr",
     "output_type": "stream",
     "text": [
      "/opt/conda/lib/python3.10/site-packages/keras/src/layers/reshaping/reshape.py:39: UserWarning: Do not pass an `input_shape`/`input_dim` argument to a layer. When using Sequential models, prefer using an `Input(shape)` object as the first layer in the model instead.\n",
      "  super().__init__(**kwargs)\n"
     ]
    },
    {
     "data": {
      "text/html": [
       "<pre style=\"white-space:pre;overflow-x:auto;line-height:normal;font-family:Menlo,'DejaVu Sans Mono',consolas,'Courier New',monospace\"><span style=\"font-weight: bold\">Model: \"functional_3\"</span>\n",
       "</pre>\n"
      ],
      "text/plain": [
       "\u001b[1mModel: \"functional_3\"\u001b[0m\n"
      ]
     },
     "metadata": {},
     "output_type": "display_data"
    },
    {
     "data": {
      "text/html": [
       "<pre style=\"white-space:pre;overflow-x:auto;line-height:normal;font-family:Menlo,'DejaVu Sans Mono',consolas,'Courier New',monospace\">┏━━━━━━━━━━━━━━━━━━━━━┳━━━━━━━━━━━━━━━━━━━┳━━━━━━━━━━━━┳━━━━━━━━━━━━━━━━━━━┓\n",
       "┃<span style=\"font-weight: bold\"> Layer (type)        </span>┃<span style=\"font-weight: bold\"> Output Shape      </span>┃<span style=\"font-weight: bold\">    Param # </span>┃<span style=\"font-weight: bold\"> Connected to      </span>┃\n",
       "┡━━━━━━━━━━━━━━━━━━━━━╇━━━━━━━━━━━━━━━━━━━╇━━━━━━━━━━━━╇━━━━━━━━━━━━━━━━━━━┩\n",
       "│ input_layer_2       │ (<span style=\"color: #00d7ff; text-decoration-color: #00d7ff\">None</span>, <span style=\"color: #00af00; text-decoration-color: #00af00\">35</span>)        │          <span style=\"color: #00af00; text-decoration-color: #00af00\">0</span> │ -                 │\n",
       "│ (<span style=\"color: #0087ff; text-decoration-color: #0087ff\">InputLayer</span>)        │                   │            │                   │\n",
       "├─────────────────────┼───────────────────┼────────────┼───────────────────┤\n",
       "│ sentence_embedding  │ (<span style=\"color: #00d7ff; text-decoration-color: #00d7ff\">None</span>, <span style=\"color: #00af00; text-decoration-color: #00af00\">35</span>, <span style=\"color: #00af00; text-decoration-color: #00af00\">256</span>)   │    <span style=\"color: #00af00; text-decoration-color: #00af00\">345,856</span> │ input_layer_2[<span style=\"color: #00af00; text-decoration-color: #00af00\">0</span>]… │\n",
       "│ (<span style=\"color: #0087ff; text-decoration-color: #0087ff\">Embedding</span>)         │                   │            │                   │\n",
       "├─────────────────────┼───────────────────┼────────────┼───────────────────┤\n",
       "│ not_equal           │ (<span style=\"color: #00d7ff; text-decoration-color: #00d7ff\">None</span>, <span style=\"color: #00af00; text-decoration-color: #00af00\">35</span>)        │          <span style=\"color: #00af00; text-decoration-color: #00af00\">0</span> │ input_layer_2[<span style=\"color: #00af00; text-decoration-color: #00af00\">0</span>]… │\n",
       "│ (<span style=\"color: #0087ff; text-decoration-color: #0087ff\">NotEqual</span>)          │                   │            │                   │\n",
       "├─────────────────────┼───────────────────┼────────────┼───────────────────┤\n",
       "│ lstm (<span style=\"color: #0087ff; text-decoration-color: #0087ff\">LSTM</span>)         │ (<span style=\"color: #00d7ff; text-decoration-color: #00d7ff\">None</span>, <span style=\"color: #00af00; text-decoration-color: #00af00\">256</span>)       │    <span style=\"color: #00af00; text-decoration-color: #00af00\">525,312</span> │ sentence_embeddi… │\n",
       "│                     │                   │            │ not_equal[<span style=\"color: #00af00; text-decoration-color: #00af00\">0</span>][<span style=\"color: #00af00; text-decoration-color: #00af00\">0</span>]   │\n",
       "├─────────────────────┼───────────────────┼────────────┼───────────────────┤\n",
       "│ input_layer_1       │ (<span style=\"color: #00d7ff; text-decoration-color: #00d7ff\">None</span>, <span style=\"color: #00af00; text-decoration-color: #00af00\">4096</span>)      │          <span style=\"color: #00af00; text-decoration-color: #00af00\">0</span> │ -                 │\n",
       "│ (<span style=\"color: #0087ff; text-decoration-color: #0087ff\">InputLayer</span>)        │                   │            │                   │\n",
       "├─────────────────────┼───────────────────┼────────────┼───────────────────┤\n",
       "│ dropout (<span style=\"color: #0087ff; text-decoration-color: #0087ff\">Dropout</span>)   │ (<span style=\"color: #00d7ff; text-decoration-color: #00d7ff\">None</span>, <span style=\"color: #00af00; text-decoration-color: #00af00\">256</span>)       │          <span style=\"color: #00af00; text-decoration-color: #00af00\">0</span> │ lstm[<span style=\"color: #00af00; text-decoration-color: #00af00\">0</span>][<span style=\"color: #00af00; text-decoration-color: #00af00\">0</span>]        │\n",
       "├─────────────────────┼───────────────────┼────────────┼───────────────────┤\n",
       "│ dense (<span style=\"color: #0087ff; text-decoration-color: #0087ff\">Dense</span>)       │ (<span style=\"color: #00d7ff; text-decoration-color: #00d7ff\">None</span>, <span style=\"color: #00af00; text-decoration-color: #00af00\">256</span>)       │  <span style=\"color: #00af00; text-decoration-color: #00af00\">1,048,832</span> │ input_layer_1[<span style=\"color: #00af00; text-decoration-color: #00af00\">0</span>]… │\n",
       "├─────────────────────┼───────────────────┼────────────┼───────────────────┤\n",
       "│ additive_attention  │ (<span style=\"color: #00d7ff; text-decoration-color: #00d7ff\">None</span>, <span style=\"color: #00af00; text-decoration-color: #00af00\">256</span>)       │        <span style=\"color: #00af00; text-decoration-color: #00af00\">256</span> │ dropout[<span style=\"color: #00af00; text-decoration-color: #00af00\">0</span>][<span style=\"color: #00af00; text-decoration-color: #00af00\">0</span>],    │\n",
       "│ (<span style=\"color: #0087ff; text-decoration-color: #0087ff\">AdditiveAttention</span>) │                   │            │ dense[<span style=\"color: #00af00; text-decoration-color: #00af00\">0</span>][<span style=\"color: #00af00; text-decoration-color: #00af00\">0</span>]       │\n",
       "├─────────────────────┼───────────────────┼────────────┼───────────────────┤\n",
       "│ dropout_1 (<span style=\"color: #0087ff; text-decoration-color: #0087ff\">Dropout</span>) │ (<span style=\"color: #00d7ff; text-decoration-color: #00d7ff\">None</span>, <span style=\"color: #00af00; text-decoration-color: #00af00\">256</span>)       │          <span style=\"color: #00af00; text-decoration-color: #00af00\">0</span> │ additive_attenti… │\n",
       "├─────────────────────┼───────────────────┼────────────┼───────────────────┤\n",
       "│ add (<span style=\"color: #0087ff; text-decoration-color: #0087ff\">Add</span>)           │ (<span style=\"color: #00d7ff; text-decoration-color: #00d7ff\">None</span>, <span style=\"color: #00af00; text-decoration-color: #00af00\">256</span>)       │          <span style=\"color: #00af00; text-decoration-color: #00af00\">0</span> │ dropout_1[<span style=\"color: #00af00; text-decoration-color: #00af00\">0</span>][<span style=\"color: #00af00; text-decoration-color: #00af00\">0</span>],  │\n",
       "│                     │                   │            │ dropout[<span style=\"color: #00af00; text-decoration-color: #00af00\">0</span>][<span style=\"color: #00af00; text-decoration-color: #00af00\">0</span>]     │\n",
       "├─────────────────────┼───────────────────┼────────────┼───────────────────┤\n",
       "│ concatenate         │ (<span style=\"color: #00d7ff; text-decoration-color: #00d7ff\">None</span>, <span style=\"color: #00af00; text-decoration-color: #00af00\">512</span>)       │          <span style=\"color: #00af00; text-decoration-color: #00af00\">0</span> │ add[<span style=\"color: #00af00; text-decoration-color: #00af00\">0</span>][<span style=\"color: #00af00; text-decoration-color: #00af00\">0</span>],        │\n",
       "│ (<span style=\"color: #0087ff; text-decoration-color: #0087ff\">Concatenate</span>)       │                   │            │ dense[<span style=\"color: #00af00; text-decoration-color: #00af00\">0</span>][<span style=\"color: #00af00; text-decoration-color: #00af00\">0</span>]       │\n",
       "├─────────────────────┼───────────────────┼────────────┼───────────────────┤\n",
       "│ dense_1 (<span style=\"color: #0087ff; text-decoration-color: #0087ff\">Dense</span>)     │ (<span style=\"color: #00d7ff; text-decoration-color: #00d7ff\">None</span>, <span style=\"color: #00af00; text-decoration-color: #00af00\">128</span>)       │     <span style=\"color: #00af00; text-decoration-color: #00af00\">65,664</span> │ concatenate[<span style=\"color: #00af00; text-decoration-color: #00af00\">0</span>][<span style=\"color: #00af00; text-decoration-color: #00af00\">0</span>] │\n",
       "├─────────────────────┼───────────────────┼────────────┼───────────────────┤\n",
       "│ dropout_2 (<span style=\"color: #0087ff; text-decoration-color: #0087ff\">Dropout</span>) │ (<span style=\"color: #00d7ff; text-decoration-color: #00d7ff\">None</span>, <span style=\"color: #00af00; text-decoration-color: #00af00\">128</span>)       │          <span style=\"color: #00af00; text-decoration-color: #00af00\">0</span> │ dense_1[<span style=\"color: #00af00; text-decoration-color: #00af00\">0</span>][<span style=\"color: #00af00; text-decoration-color: #00af00\">0</span>]     │\n",
       "├─────────────────────┼───────────────────┼────────────┼───────────────────┤\n",
       "│ dense_2 (<span style=\"color: #0087ff; text-decoration-color: #0087ff\">Dense</span>)     │ (<span style=\"color: #00d7ff; text-decoration-color: #00d7ff\">None</span>, <span style=\"color: #00af00; text-decoration-color: #00af00\">1351</span>)      │    <span style=\"color: #00af00; text-decoration-color: #00af00\">174,279</span> │ dropout_2[<span style=\"color: #00af00; text-decoration-color: #00af00\">0</span>][<span style=\"color: #00af00; text-decoration-color: #00af00\">0</span>]   │\n",
       "└─────────────────────┴───────────────────┴────────────┴───────────────────┘\n",
       "</pre>\n"
      ],
      "text/plain": [
       "┏━━━━━━━━━━━━━━━━━━━━━┳━━━━━━━━━━━━━━━━━━━┳━━━━━━━━━━━━┳━━━━━━━━━━━━━━━━━━━┓\n",
       "┃\u001b[1m \u001b[0m\u001b[1mLayer (type)       \u001b[0m\u001b[1m \u001b[0m┃\u001b[1m \u001b[0m\u001b[1mOutput Shape     \u001b[0m\u001b[1m \u001b[0m┃\u001b[1m \u001b[0m\u001b[1m   Param #\u001b[0m\u001b[1m \u001b[0m┃\u001b[1m \u001b[0m\u001b[1mConnected to     \u001b[0m\u001b[1m \u001b[0m┃\n",
       "┡━━━━━━━━━━━━━━━━━━━━━╇━━━━━━━━━━━━━━━━━━━╇━━━━━━━━━━━━╇━━━━━━━━━━━━━━━━━━━┩\n",
       "│ input_layer_2       │ (\u001b[38;5;45mNone\u001b[0m, \u001b[38;5;34m35\u001b[0m)        │          \u001b[38;5;34m0\u001b[0m │ -                 │\n",
       "│ (\u001b[38;5;33mInputLayer\u001b[0m)        │                   │            │                   │\n",
       "├─────────────────────┼───────────────────┼────────────┼───────────────────┤\n",
       "│ sentence_embedding  │ (\u001b[38;5;45mNone\u001b[0m, \u001b[38;5;34m35\u001b[0m, \u001b[38;5;34m256\u001b[0m)   │    \u001b[38;5;34m345,856\u001b[0m │ input_layer_2[\u001b[38;5;34m0\u001b[0m]… │\n",
       "│ (\u001b[38;5;33mEmbedding\u001b[0m)         │                   │            │                   │\n",
       "├─────────────────────┼───────────────────┼────────────┼───────────────────┤\n",
       "│ not_equal           │ (\u001b[38;5;45mNone\u001b[0m, \u001b[38;5;34m35\u001b[0m)        │          \u001b[38;5;34m0\u001b[0m │ input_layer_2[\u001b[38;5;34m0\u001b[0m]… │\n",
       "│ (\u001b[38;5;33mNotEqual\u001b[0m)          │                   │            │                   │\n",
       "├─────────────────────┼───────────────────┼────────────┼───────────────────┤\n",
       "│ lstm (\u001b[38;5;33mLSTM\u001b[0m)         │ (\u001b[38;5;45mNone\u001b[0m, \u001b[38;5;34m256\u001b[0m)       │    \u001b[38;5;34m525,312\u001b[0m │ sentence_embeddi… │\n",
       "│                     │                   │            │ not_equal[\u001b[38;5;34m0\u001b[0m][\u001b[38;5;34m0\u001b[0m]   │\n",
       "├─────────────────────┼───────────────────┼────────────┼───────────────────┤\n",
       "│ input_layer_1       │ (\u001b[38;5;45mNone\u001b[0m, \u001b[38;5;34m4096\u001b[0m)      │          \u001b[38;5;34m0\u001b[0m │ -                 │\n",
       "│ (\u001b[38;5;33mInputLayer\u001b[0m)        │                   │            │                   │\n",
       "├─────────────────────┼───────────────────┼────────────┼───────────────────┤\n",
       "│ dropout (\u001b[38;5;33mDropout\u001b[0m)   │ (\u001b[38;5;45mNone\u001b[0m, \u001b[38;5;34m256\u001b[0m)       │          \u001b[38;5;34m0\u001b[0m │ lstm[\u001b[38;5;34m0\u001b[0m][\u001b[38;5;34m0\u001b[0m]        │\n",
       "├─────────────────────┼───────────────────┼────────────┼───────────────────┤\n",
       "│ dense (\u001b[38;5;33mDense\u001b[0m)       │ (\u001b[38;5;45mNone\u001b[0m, \u001b[38;5;34m256\u001b[0m)       │  \u001b[38;5;34m1,048,832\u001b[0m │ input_layer_1[\u001b[38;5;34m0\u001b[0m]… │\n",
       "├─────────────────────┼───────────────────┼────────────┼───────────────────┤\n",
       "│ additive_attention  │ (\u001b[38;5;45mNone\u001b[0m, \u001b[38;5;34m256\u001b[0m)       │        \u001b[38;5;34m256\u001b[0m │ dropout[\u001b[38;5;34m0\u001b[0m][\u001b[38;5;34m0\u001b[0m],    │\n",
       "│ (\u001b[38;5;33mAdditiveAttention\u001b[0m) │                   │            │ dense[\u001b[38;5;34m0\u001b[0m][\u001b[38;5;34m0\u001b[0m]       │\n",
       "├─────────────────────┼───────────────────┼────────────┼───────────────────┤\n",
       "│ dropout_1 (\u001b[38;5;33mDropout\u001b[0m) │ (\u001b[38;5;45mNone\u001b[0m, \u001b[38;5;34m256\u001b[0m)       │          \u001b[38;5;34m0\u001b[0m │ additive_attenti… │\n",
       "├─────────────────────┼───────────────────┼────────────┼───────────────────┤\n",
       "│ add (\u001b[38;5;33mAdd\u001b[0m)           │ (\u001b[38;5;45mNone\u001b[0m, \u001b[38;5;34m256\u001b[0m)       │          \u001b[38;5;34m0\u001b[0m │ dropout_1[\u001b[38;5;34m0\u001b[0m][\u001b[38;5;34m0\u001b[0m],  │\n",
       "│                     │                   │            │ dropout[\u001b[38;5;34m0\u001b[0m][\u001b[38;5;34m0\u001b[0m]     │\n",
       "├─────────────────────┼───────────────────┼────────────┼───────────────────┤\n",
       "│ concatenate         │ (\u001b[38;5;45mNone\u001b[0m, \u001b[38;5;34m512\u001b[0m)       │          \u001b[38;5;34m0\u001b[0m │ add[\u001b[38;5;34m0\u001b[0m][\u001b[38;5;34m0\u001b[0m],        │\n",
       "│ (\u001b[38;5;33mConcatenate\u001b[0m)       │                   │            │ dense[\u001b[38;5;34m0\u001b[0m][\u001b[38;5;34m0\u001b[0m]       │\n",
       "├─────────────────────┼───────────────────┼────────────┼───────────────────┤\n",
       "│ dense_1 (\u001b[38;5;33mDense\u001b[0m)     │ (\u001b[38;5;45mNone\u001b[0m, \u001b[38;5;34m128\u001b[0m)       │     \u001b[38;5;34m65,664\u001b[0m │ concatenate[\u001b[38;5;34m0\u001b[0m][\u001b[38;5;34m0\u001b[0m] │\n",
       "├─────────────────────┼───────────────────┼────────────┼───────────────────┤\n",
       "│ dropout_2 (\u001b[38;5;33mDropout\u001b[0m) │ (\u001b[38;5;45mNone\u001b[0m, \u001b[38;5;34m128\u001b[0m)       │          \u001b[38;5;34m0\u001b[0m │ dense_1[\u001b[38;5;34m0\u001b[0m][\u001b[38;5;34m0\u001b[0m]     │\n",
       "├─────────────────────┼───────────────────┼────────────┼───────────────────┤\n",
       "│ dense_2 (\u001b[38;5;33mDense\u001b[0m)     │ (\u001b[38;5;45mNone\u001b[0m, \u001b[38;5;34m1351\u001b[0m)      │    \u001b[38;5;34m174,279\u001b[0m │ dropout_2[\u001b[38;5;34m0\u001b[0m][\u001b[38;5;34m0\u001b[0m]   │\n",
       "└─────────────────────┴───────────────────┴────────────┴───────────────────┘\n"
      ]
     },
     "metadata": {},
     "output_type": "display_data"
    },
    {
     "data": {
      "text/html": [
       "<pre style=\"white-space:pre;overflow-x:auto;line-height:normal;font-family:Menlo,'DejaVu Sans Mono',consolas,'Courier New',monospace\"><span style=\"font-weight: bold\"> Total params: </span><span style=\"color: #00af00; text-decoration-color: #00af00\">2,160,199</span> (8.24 MB)\n",
       "</pre>\n"
      ],
      "text/plain": [
       "\u001b[1m Total params: \u001b[0m\u001b[38;5;34m2,160,199\u001b[0m (8.24 MB)\n"
      ]
     },
     "metadata": {},
     "output_type": "display_data"
    },
    {
     "data": {
      "text/html": [
       "<pre style=\"white-space:pre;overflow-x:auto;line-height:normal;font-family:Menlo,'DejaVu Sans Mono',consolas,'Courier New',monospace\"><span style=\"font-weight: bold\"> Trainable params: </span><span style=\"color: #00af00; text-decoration-color: #00af00\">2,160,199</span> (8.24 MB)\n",
       "</pre>\n"
      ],
      "text/plain": [
       "\u001b[1m Trainable params: \u001b[0m\u001b[38;5;34m2,160,199\u001b[0m (8.24 MB)\n"
      ]
     },
     "metadata": {},
     "output_type": "display_data"
    },
    {
     "data": {
      "text/html": [
       "<pre style=\"white-space:pre;overflow-x:auto;line-height:normal;font-family:Menlo,'DejaVu Sans Mono',consolas,'Courier New',monospace\"><span style=\"font-weight: bold\"> Non-trainable params: </span><span style=\"color: #00af00; text-decoration-color: #00af00\">0</span> (0.00 B)\n",
       "</pre>\n"
      ],
      "text/plain": [
       "\u001b[1m Non-trainable params: \u001b[0m\u001b[38;5;34m0\u001b[0m (0.00 B)\n"
      ]
     },
     "metadata": {},
     "output_type": "display_data"
    }
   ],
   "source": [
    "# Input ảnh\n",
    "image_input = Input(shape=(4096,))\n",
    "cnn_features = Dense(256, activation='relu')(image_input)\n",
    "cnn_features_reshaped = Reshape((1, 256), input_shape=(256,))(cnn_features)\n",
    "\n",
    "# --- Input câu và xử lý với Embedding ---\n",
    "# Input câu\n",
    "sentence_input = Input(shape=(max_length,))  # Shape: (batch_size, max_length)\n",
    "\n",
    "# Embedding từ vựng\n",
    "sentence_embedding = Embedding(vocab_size, 256, mask_zero=True, name=\"sentence_embedding\")(sentence_input)\n",
    "\n",
    "# --- 3. LSTM để tạo hidden state ---\n",
    "# LSTM cho câu chú thích\n",
    "lstm_output = LSTM(256, use_cudnn=True)(sentence_embedding)\n",
    "lstm_output = Dropout(0.5)(lstm_output)\n",
    "\n",
    "# --- 4. Attention Mechanism ---\n",
    "# Sử dụng Additive Attention\n",
    "attention_output = AdditiveAttention(dropout=0.2, use_scale=True)([lstm_output, cnn_features])\n",
    "attention_output = Dropout(0.5)(attention_output)\n",
    "\n",
    "# Kết hợp Attention Output và LSTM Output\n",
    "x = Add()([attention_output, lstm_output])\n",
    "x = Concatenate(axis=-1)([x, cnn_features])\n",
    "x = Dense(128, activation='relu')(x)\n",
    "x = Dropout(0.5)(x)\n",
    "\n",
    "# --- 5. Dự đoán từ tiếp theo ---\n",
    "# Fully Connected Layer để tạo đầu ra từ vựng\n",
    "output = Dense(vocab_size, activation=\"softmax\")(x)\n",
    "\n",
    "# --- 6. Xây dựng mô hình ---\n",
    "model = Model(inputs=[image_input, sentence_input], outputs=output)\n",
    "model.summary()"
   ]
  },
  {
   "cell_type": "markdown",
   "id": "c2c01ee9",
   "metadata": {
    "papermill": {
     "duration": 0.089977,
     "end_time": "2024-12-27T11:40:31.307409",
     "exception": false,
     "start_time": "2024-12-27T11:40:31.217432",
     "status": "completed"
    },
    "tags": []
   },
   "source": [
    "# Prepare data for training"
   ]
  },
  {
   "cell_type": "code",
   "execution_count": 13,
   "id": "05b77816",
   "metadata": {
    "execution": {
     "iopub.execute_input": "2024-12-27T11:40:31.499307Z",
     "iopub.status.busy": "2024-12-27T11:40:31.498976Z",
     "iopub.status.idle": "2024-12-27T11:40:31.506308Z",
     "shell.execute_reply": "2024-12-27T11:40:31.505387Z"
    },
    "papermill": {
     "duration": 0.108611,
     "end_time": "2024-12-27T11:40:31.508237",
     "exception": false,
     "start_time": "2024-12-27T11:40:31.399626",
     "status": "completed"
    },
    "tags": []
   },
   "outputs": [],
   "source": [
    "def DataGenerator(df, tokenizer=tokenizer, max_length=max_length, image_features=image_features):\n",
    "\n",
    "    image_input, sentence_input, output = list(), list(), list()\n",
    "\n",
    "    for i in range(len(df)):\n",
    "\n",
    "        image_path = df.iloc[i]['image_path']\n",
    "\n",
    "        caption = df.iloc[i]['caption']\n",
    "\n",
    "        caption_sequence = tokenizer.texts_to_sequences([caption])[0]\n",
    "\n",
    "        for j in range(1, len(caption_sequence)):\n",
    "\n",
    "            in_sequence, out_word = caption_sequence[:j], caption_sequence[j]\n",
    "\n",
    "            in_sequence = pad_sequences([in_sequence], maxlen=max_length, padding='post')[0]\n",
    "\n",
    "            out_word = tf.keras.utils.to_categorical([out_word], num_classes=vocab_size)[0]\n",
    "\n",
    "            image_input.append(image_features[image_path][0])\n",
    "\n",
    "            sentence_input.append(in_sequence)\n",
    "\n",
    "            output.append(out_word)\n",
    "\n",
    "    return np.array(image_input), np.array(sentence_input), np.array(output)"
   ]
  },
  {
   "cell_type": "markdown",
   "id": "023ad80a",
   "metadata": {
    "papermill": {
     "duration": 0.089667,
     "end_time": "2024-12-27T11:40:31.691101",
     "exception": false,
     "start_time": "2024-12-27T11:40:31.601434",
     "status": "completed"
    },
    "tags": []
   },
   "source": [
    "# Train model"
   ]
  },
  {
   "cell_type": "code",
   "execution_count": 14,
   "id": "3a2bbdd6",
   "metadata": {
    "execution": {
     "iopub.execute_input": "2024-12-27T11:40:31.873154Z",
     "iopub.status.busy": "2024-12-27T11:40:31.872804Z",
     "iopub.status.idle": "2024-12-27T11:40:31.878760Z",
     "shell.execute_reply": "2024-12-27T11:40:31.877854Z"
    },
    "papermill": {
     "duration": 0.097777,
     "end_time": "2024-12-27T11:40:31.880463",
     "exception": false,
     "start_time": "2024-12-27T11:40:31.782686",
     "status": "completed"
    },
    "tags": []
   },
   "outputs": [],
   "source": [
    "checkpoint_callback = ModelCheckpoint(\n",
    "    filepath='vgg16_attention.keras',    # Đường dẫn file để lưu mô hình\n",
    "    monitor='val_loss',          # Theo dõi 'val_loss'\n",
    "    save_best_only=True,         # Chỉ lưu mô hình tốt nhất\n",
    "    mode='min',                  # Lưu khi 'val_loss' giảm (tối thiểu)\n",
    "    verbose=1                    # Hiển thị thông báo khi lưu mô hình\n",
    ")\n",
    "\n",
    "earlystopping = EarlyStopping(monitor='val_loss',min_delta = 0, patience = 5, verbose = 1, restore_best_weights=True)\n",
    "\n",
    "learning_rate_reduction = ReduceLROnPlateau(monitor='val_loss',\n",
    "                                            patience=3,\n",
    "                                            verbose=1,\n",
    "                                            factor=0.2,\n",
    "                                            min_lr=0.00000001)"
   ]
  },
  {
   "cell_type": "code",
   "execution_count": 15,
   "id": "c2afd287",
   "metadata": {
    "execution": {
     "iopub.execute_input": "2024-12-27T11:40:32.073891Z",
     "iopub.status.busy": "2024-12-27T11:40:32.073554Z",
     "iopub.status.idle": "2024-12-27T11:49:32.834597Z",
     "shell.execute_reply": "2024-12-27T11:49:32.833808Z"
    },
    "papermill": {
     "duration": 540.858932,
     "end_time": "2024-12-27T11:49:32.836652",
     "exception": false,
     "start_time": "2024-12-27T11:40:31.977720",
     "status": "completed"
    },
    "tags": []
   },
   "outputs": [
    {
     "name": "stdout",
     "output_type": "stream",
     "text": [
      "Epoch 1/30\n",
      "\u001b[1m1742/1743\u001b[0m \u001b[32m━━━━━━━━━━━━━━━━━━━\u001b[0m\u001b[37m━\u001b[0m \u001b[1m0s\u001b[0m 8ms/step - accuracy: 0.1268 - loss: 4.7933\n",
      "Epoch 1: val_loss improved from inf to 3.09168, saving model to vgg16_attention.keras\n",
      "\u001b[1m1743/1743\u001b[0m \u001b[32m━━━━━━━━━━━━━━━━━━━━\u001b[0m\u001b[37m\u001b[0m \u001b[1m24s\u001b[0m 12ms/step - accuracy: 0.1268 - loss: 4.7926 - val_accuracy: 0.3975 - val_loss: 3.0917\n",
      "Epoch 2/30\n",
      "\u001b[1m1738/1743\u001b[0m \u001b[32m━━━━━━━━━━━━━━━━━━━\u001b[0m\u001b[37m━\u001b[0m \u001b[1m0s\u001b[0m 8ms/step - accuracy: 0.3886 - loss: 2.9906\n",
      "Epoch 2: val_loss improved from 3.09168 to 2.37239, saving model to vgg16_attention.keras\n",
      "\u001b[1m1743/1743\u001b[0m \u001b[32m━━━━━━━━━━━━━━━━━━━━\u001b[0m\u001b[37m\u001b[0m \u001b[1m17s\u001b[0m 10ms/step - accuracy: 0.3887 - loss: 2.9900 - val_accuracy: 0.5107 - val_loss: 2.3724\n",
      "Epoch 3/30\n",
      "\u001b[1m1739/1743\u001b[0m \u001b[32m━━━━━━━━━━━━━━━━━━━\u001b[0m\u001b[37m━\u001b[0m \u001b[1m0s\u001b[0m 8ms/step - accuracy: 0.4989 - loss: 2.4069\n",
      "Epoch 3: val_loss improved from 2.37239 to 2.08134, saving model to vgg16_attention.keras\n",
      "\u001b[1m1743/1743\u001b[0m \u001b[32m━━━━━━━━━━━━━━━━━━━━\u001b[0m\u001b[37m\u001b[0m \u001b[1m17s\u001b[0m 10ms/step - accuracy: 0.4989 - loss: 2.4067 - val_accuracy: 0.5525 - val_loss: 2.0813\n",
      "Epoch 4/30\n",
      "\u001b[1m1739/1743\u001b[0m \u001b[32m━━━━━━━━━━━━━━━━━━━\u001b[0m\u001b[37m━\u001b[0m \u001b[1m0s\u001b[0m 8ms/step - accuracy: 0.5448 - loss: 2.1319\n",
      "Epoch 4: val_loss improved from 2.08134 to 1.91126, saving model to vgg16_attention.keras\n",
      "\u001b[1m1743/1743\u001b[0m \u001b[32m━━━━━━━━━━━━━━━━━━━━\u001b[0m\u001b[37m\u001b[0m \u001b[1m17s\u001b[0m 10ms/step - accuracy: 0.5448 - loss: 2.1318 - val_accuracy: 0.5839 - val_loss: 1.9113\n",
      "Epoch 5/30\n",
      "\u001b[1m1737/1743\u001b[0m \u001b[32m━━━━━━━━━━━━━━━━━━━\u001b[0m\u001b[37m━\u001b[0m \u001b[1m0s\u001b[0m 8ms/step - accuracy: 0.5712 - loss: 1.9684\n",
      "Epoch 5: val_loss improved from 1.91126 to 1.80604, saving model to vgg16_attention.keras\n",
      "\u001b[1m1743/1743\u001b[0m \u001b[32m━━━━━━━━━━━━━━━━━━━━\u001b[0m\u001b[37m\u001b[0m \u001b[1m17s\u001b[0m 10ms/step - accuracy: 0.5712 - loss: 1.9683 - val_accuracy: 0.6000 - val_loss: 1.8060\n",
      "Epoch 6/30\n",
      "\u001b[1m1737/1743\u001b[0m \u001b[32m━━━━━━━━━━━━━━━━━━━\u001b[0m\u001b[37m━\u001b[0m \u001b[1m0s\u001b[0m 8ms/step - accuracy: 0.5879 - loss: 1.8525\n",
      "Epoch 6: val_loss improved from 1.80604 to 1.73189, saving model to vgg16_attention.keras\n",
      "\u001b[1m1743/1743\u001b[0m \u001b[32m━━━━━━━━━━━━━━━━━━━━\u001b[0m\u001b[37m\u001b[0m \u001b[1m17s\u001b[0m 10ms/step - accuracy: 0.5879 - loss: 1.8525 - val_accuracy: 0.6140 - val_loss: 1.7319\n",
      "Epoch 7/30\n",
      "\u001b[1m1738/1743\u001b[0m \u001b[32m━━━━━━━━━━━━━━━━━━━\u001b[0m\u001b[37m━\u001b[0m \u001b[1m0s\u001b[0m 8ms/step - accuracy: 0.6014 - loss: 1.7664\n",
      "Epoch 7: val_loss improved from 1.73189 to 1.67935, saving model to vgg16_attention.keras\n",
      "\u001b[1m1743/1743\u001b[0m \u001b[32m━━━━━━━━━━━━━━━━━━━━\u001b[0m\u001b[37m\u001b[0m \u001b[1m17s\u001b[0m 10ms/step - accuracy: 0.6014 - loss: 1.7664 - val_accuracy: 0.6240 - val_loss: 1.6794\n",
      "Epoch 8/30\n",
      "\u001b[1m1742/1743\u001b[0m \u001b[32m━━━━━━━━━━━━━━━━━━━\u001b[0m\u001b[37m━\u001b[0m \u001b[1m0s\u001b[0m 8ms/step - accuracy: 0.6086 - loss: 1.7100\n",
      "Epoch 8: val_loss improved from 1.67935 to 1.63780, saving model to vgg16_attention.keras\n",
      "\u001b[1m1743/1743\u001b[0m \u001b[32m━━━━━━━━━━━━━━━━━━━━\u001b[0m\u001b[37m\u001b[0m \u001b[1m17s\u001b[0m 10ms/step - accuracy: 0.6086 - loss: 1.7099 - val_accuracy: 0.6328 - val_loss: 1.6378\n",
      "Epoch 9/30\n",
      "\u001b[1m1737/1743\u001b[0m \u001b[32m━━━━━━━━━━━━━━━━━━━\u001b[0m\u001b[37m━\u001b[0m \u001b[1m0s\u001b[0m 8ms/step - accuracy: 0.6154 - loss: 1.6538\n",
      "Epoch 9: val_loss improved from 1.63780 to 1.60227, saving model to vgg16_attention.keras\n",
      "\u001b[1m1743/1743\u001b[0m \u001b[32m━━━━━━━━━━━━━━━━━━━━\u001b[0m\u001b[37m\u001b[0m \u001b[1m17s\u001b[0m 10ms/step - accuracy: 0.6154 - loss: 1.6537 - val_accuracy: 0.6399 - val_loss: 1.6023\n",
      "Epoch 10/30\n",
      "\u001b[1m1743/1743\u001b[0m \u001b[32m━━━━━━━━━━━━━━━━━━━━\u001b[0m\u001b[37m\u001b[0m \u001b[1m0s\u001b[0m 8ms/step - accuracy: 0.6216 - loss: 1.6164\n",
      "Epoch 10: val_loss improved from 1.60227 to 1.58191, saving model to vgg16_attention.keras\n",
      "\u001b[1m1743/1743\u001b[0m \u001b[32m━━━━━━━━━━━━━━━━━━━━\u001b[0m\u001b[37m\u001b[0m \u001b[1m17s\u001b[0m 10ms/step - accuracy: 0.6216 - loss: 1.6164 - val_accuracy: 0.6429 - val_loss: 1.5819\n",
      "Epoch 11/30\n",
      "\u001b[1m1741/1743\u001b[0m \u001b[32m━━━━━━━━━━━━━━━━━━━\u001b[0m\u001b[37m━\u001b[0m \u001b[1m0s\u001b[0m 8ms/step - accuracy: 0.6284 - loss: 1.5727\n",
      "Epoch 11: val_loss improved from 1.58191 to 1.55796, saving model to vgg16_attention.keras\n",
      "\u001b[1m1743/1743\u001b[0m \u001b[32m━━━━━━━━━━━━━━━━━━━━\u001b[0m\u001b[37m\u001b[0m \u001b[1m17s\u001b[0m 10ms/step - accuracy: 0.6284 - loss: 1.5727 - val_accuracy: 0.6485 - val_loss: 1.5580\n",
      "Epoch 12/30\n",
      "\u001b[1m1741/1743\u001b[0m \u001b[32m━━━━━━━━━━━━━━━━━━━\u001b[0m\u001b[37m━\u001b[0m \u001b[1m0s\u001b[0m 8ms/step - accuracy: 0.6325 - loss: 1.5527\n",
      "Epoch 12: val_loss improved from 1.55796 to 1.54142, saving model to vgg16_attention.keras\n",
      "\u001b[1m1743/1743\u001b[0m \u001b[32m━━━━━━━━━━━━━━━━━━━━\u001b[0m\u001b[37m\u001b[0m \u001b[1m17s\u001b[0m 10ms/step - accuracy: 0.6325 - loss: 1.5526 - val_accuracy: 0.6508 - val_loss: 1.5414\n",
      "Epoch 13/30\n",
      "\u001b[1m1743/1743\u001b[0m \u001b[32m━━━━━━━━━━━━━━━━━━━━\u001b[0m\u001b[37m\u001b[0m \u001b[1m0s\u001b[0m 8ms/step - accuracy: 0.6360 - loss: 1.5273\n",
      "Epoch 13: val_loss improved from 1.54142 to 1.52892, saving model to vgg16_attention.keras\n",
      "\u001b[1m1743/1743\u001b[0m \u001b[32m━━━━━━━━━━━━━━━━━━━━\u001b[0m\u001b[37m\u001b[0m \u001b[1m17s\u001b[0m 10ms/step - accuracy: 0.6360 - loss: 1.5273 - val_accuracy: 0.6548 - val_loss: 1.5289\n",
      "Epoch 14/30\n",
      "\u001b[1m1737/1743\u001b[0m \u001b[32m━━━━━━━━━━━━━━━━━━━\u001b[0m\u001b[37m━\u001b[0m \u001b[1m0s\u001b[0m 8ms/step - accuracy: 0.6417 - loss: 1.4902\n",
      "Epoch 14: val_loss improved from 1.52892 to 1.51129, saving model to vgg16_attention.keras\n",
      "\u001b[1m1743/1743\u001b[0m \u001b[32m━━━━━━━━━━━━━━━━━━━━\u001b[0m\u001b[37m\u001b[0m \u001b[1m17s\u001b[0m 10ms/step - accuracy: 0.6417 - loss: 1.4902 - val_accuracy: 0.6578 - val_loss: 1.5113\n",
      "Epoch 15/30\n",
      "\u001b[1m1741/1743\u001b[0m \u001b[32m━━━━━━━━━━━━━━━━━━━\u001b[0m\u001b[37m━\u001b[0m \u001b[1m0s\u001b[0m 8ms/step - accuracy: 0.6456 - loss: 1.4594\n",
      "Epoch 15: val_loss improved from 1.51129 to 1.50472, saving model to vgg16_attention.keras\n",
      "\u001b[1m1743/1743\u001b[0m \u001b[32m━━━━━━━━━━━━━━━━━━━━\u001b[0m\u001b[37m\u001b[0m \u001b[1m17s\u001b[0m 10ms/step - accuracy: 0.6456 - loss: 1.4594 - val_accuracy: 0.6592 - val_loss: 1.5047\n",
      "Epoch 16/30\n",
      "\u001b[1m1743/1743\u001b[0m \u001b[32m━━━━━━━━━━━━━━━━━━━━\u001b[0m\u001b[37m\u001b[0m \u001b[1m0s\u001b[0m 8ms/step - accuracy: 0.6471 - loss: 1.4554\n",
      "Epoch 16: val_loss improved from 1.50472 to 1.49145, saving model to vgg16_attention.keras\n",
      "\u001b[1m1743/1743\u001b[0m \u001b[32m━━━━━━━━━━━━━━━━━━━━\u001b[0m\u001b[37m\u001b[0m \u001b[1m17s\u001b[0m 10ms/step - accuracy: 0.6471 - loss: 1.4554 - val_accuracy: 0.6619 - val_loss: 1.4914\n",
      "Epoch 17/30\n",
      "\u001b[1m1738/1743\u001b[0m \u001b[32m━━━━━━━━━━━━━━━━━━━\u001b[0m\u001b[37m━\u001b[0m \u001b[1m0s\u001b[0m 8ms/step - accuracy: 0.6521 - loss: 1.4311\n",
      "Epoch 17: val_loss improved from 1.49145 to 1.48434, saving model to vgg16_attention.keras\n",
      "\u001b[1m1743/1743\u001b[0m \u001b[32m━━━━━━━━━━━━━━━━━━━━\u001b[0m\u001b[37m\u001b[0m \u001b[1m17s\u001b[0m 10ms/step - accuracy: 0.6521 - loss: 1.4311 - val_accuracy: 0.6618 - val_loss: 1.4843\n",
      "Epoch 18/30\n",
      "\u001b[1m1741/1743\u001b[0m \u001b[32m━━━━━━━━━━━━━━━━━━━\u001b[0m\u001b[37m━\u001b[0m \u001b[1m0s\u001b[0m 8ms/step - accuracy: 0.6501 - loss: 1.4272\n",
      "Epoch 18: val_loss improved from 1.48434 to 1.47557, saving model to vgg16_attention.keras\n",
      "\u001b[1m1743/1743\u001b[0m \u001b[32m━━━━━━━━━━━━━━━━━━━━\u001b[0m\u001b[37m\u001b[0m \u001b[1m17s\u001b[0m 10ms/step - accuracy: 0.6501 - loss: 1.4272 - val_accuracy: 0.6639 - val_loss: 1.4756\n",
      "Epoch 19/30\n",
      "\u001b[1m1741/1743\u001b[0m \u001b[32m━━━━━━━━━━━━━━━━━━━\u001b[0m\u001b[37m━\u001b[0m \u001b[1m0s\u001b[0m 8ms/step - accuracy: 0.6543 - loss: 1.3974\n",
      "Epoch 19: val_loss did not improve from 1.47557\n",
      "\u001b[1m1743/1743\u001b[0m \u001b[32m━━━━━━━━━━━━━━━━━━━━\u001b[0m\u001b[37m\u001b[0m \u001b[1m17s\u001b[0m 10ms/step - accuracy: 0.6543 - loss: 1.3975 - val_accuracy: 0.6613 - val_loss: 1.4761\n",
      "Epoch 20/30\n",
      "\u001b[1m1739/1743\u001b[0m \u001b[32m━━━━━━━━━━━━━━━━━━━\u001b[0m\u001b[37m━\u001b[0m \u001b[1m0s\u001b[0m 8ms/step - accuracy: 0.6559 - loss: 1.3875\n",
      "Epoch 20: val_loss improved from 1.47557 to 1.46524, saving model to vgg16_attention.keras\n",
      "\u001b[1m1743/1743\u001b[0m \u001b[32m━━━━━━━━━━━━━━━━━━━━\u001b[0m\u001b[37m\u001b[0m \u001b[1m17s\u001b[0m 10ms/step - accuracy: 0.6559 - loss: 1.3875 - val_accuracy: 0.6663 - val_loss: 1.4652\n",
      "Epoch 21/30\n",
      "\u001b[1m1742/1743\u001b[0m \u001b[32m━━━━━━━━━━━━━━━━━━━\u001b[0m\u001b[37m━\u001b[0m \u001b[1m0s\u001b[0m 8ms/step - accuracy: 0.6585 - loss: 1.3771\n",
      "Epoch 21: val_loss did not improve from 1.46524\n",
      "\u001b[1m1743/1743\u001b[0m \u001b[32m━━━━━━━━━━━━━━━━━━━━\u001b[0m\u001b[37m\u001b[0m \u001b[1m17s\u001b[0m 10ms/step - accuracy: 0.6585 - loss: 1.3771 - val_accuracy: 0.6662 - val_loss: 1.4685\n",
      "Epoch 22/30\n",
      "\u001b[1m1738/1743\u001b[0m \u001b[32m━━━━━━━━━━━━━━━━━━━\u001b[0m\u001b[37m━\u001b[0m \u001b[1m0s\u001b[0m 8ms/step - accuracy: 0.6587 - loss: 1.3667\n",
      "Epoch 22: val_loss improved from 1.46524 to 1.45356, saving model to vgg16_attention.keras\n",
      "\u001b[1m1743/1743\u001b[0m \u001b[32m━━━━━━━━━━━━━━━━━━━━\u001b[0m\u001b[37m\u001b[0m \u001b[1m17s\u001b[0m 10ms/step - accuracy: 0.6587 - loss: 1.3667 - val_accuracy: 0.6683 - val_loss: 1.4536\n",
      "Epoch 23/30\n",
      "\u001b[1m1737/1743\u001b[0m \u001b[32m━━━━━━━━━━━━━━━━━━━\u001b[0m\u001b[37m━\u001b[0m \u001b[1m0s\u001b[0m 8ms/step - accuracy: 0.6615 - loss: 1.3513\n",
      "Epoch 23: val_loss improved from 1.45356 to 1.45280, saving model to vgg16_attention.keras\n",
      "\u001b[1m1743/1743\u001b[0m \u001b[32m━━━━━━━━━━━━━━━━━━━━\u001b[0m\u001b[37m\u001b[0m \u001b[1m17s\u001b[0m 10ms/step - accuracy: 0.6615 - loss: 1.3513 - val_accuracy: 0.6712 - val_loss: 1.4528\n",
      "Epoch 24/30\n",
      "\u001b[1m1737/1743\u001b[0m \u001b[32m━━━━━━━━━━━━━━━━━━━\u001b[0m\u001b[37m━\u001b[0m \u001b[1m0s\u001b[0m 8ms/step - accuracy: 0.6633 - loss: 1.3432\n",
      "Epoch 24: val_loss improved from 1.45280 to 1.45005, saving model to vgg16_attention.keras\n",
      "\u001b[1m1743/1743\u001b[0m \u001b[32m━━━━━━━━━━━━━━━━━━━━\u001b[0m\u001b[37m\u001b[0m \u001b[1m17s\u001b[0m 10ms/step - accuracy: 0.6633 - loss: 1.3432 - val_accuracy: 0.6716 - val_loss: 1.4501\n",
      "Epoch 25/30\n",
      "\u001b[1m1743/1743\u001b[0m \u001b[32m━━━━━━━━━━━━━━━━━━━━\u001b[0m\u001b[37m\u001b[0m \u001b[1m0s\u001b[0m 8ms/step - accuracy: 0.6625 - loss: 1.3394\n",
      "Epoch 25: val_loss improved from 1.45005 to 1.43945, saving model to vgg16_attention.keras\n",
      "\u001b[1m1743/1743\u001b[0m \u001b[32m━━━━━━━━━━━━━━━━━━━━\u001b[0m\u001b[37m\u001b[0m \u001b[1m17s\u001b[0m 10ms/step - accuracy: 0.6625 - loss: 1.3394 - val_accuracy: 0.6705 - val_loss: 1.4394\n",
      "Epoch 26/30\n",
      "\u001b[1m1742/1743\u001b[0m \u001b[32m━━━━━━━━━━━━━━━━━━━\u001b[0m\u001b[37m━\u001b[0m \u001b[1m0s\u001b[0m 8ms/step - accuracy: 0.6664 - loss: 1.3205\n",
      "Epoch 26: val_loss did not improve from 1.43945\n",
      "\u001b[1m1743/1743\u001b[0m \u001b[32m━━━━━━━━━━━━━━━━━━━━\u001b[0m\u001b[37m\u001b[0m \u001b[1m17s\u001b[0m 10ms/step - accuracy: 0.6664 - loss: 1.3205 - val_accuracy: 0.6708 - val_loss: 1.4438\n",
      "Epoch 27/30\n",
      "\u001b[1m1743/1743\u001b[0m \u001b[32m━━━━━━━━━━━━━━━━━━━━\u001b[0m\u001b[37m\u001b[0m \u001b[1m0s\u001b[0m 8ms/step - accuracy: 0.6645 - loss: 1.3242\n",
      "Epoch 27: val_loss improved from 1.43945 to 1.43264, saving model to vgg16_attention.keras\n",
      "\u001b[1m1743/1743\u001b[0m \u001b[32m━━━━━━━━━━━━━━━━━━━━\u001b[0m\u001b[37m\u001b[0m \u001b[1m17s\u001b[0m 10ms/step - accuracy: 0.6645 - loss: 1.3242 - val_accuracy: 0.6713 - val_loss: 1.4326\n",
      "Epoch 28/30\n",
      "\u001b[1m1739/1743\u001b[0m \u001b[32m━━━━━━━━━━━━━━━━━━━\u001b[0m\u001b[37m━\u001b[0m \u001b[1m0s\u001b[0m 8ms/step - accuracy: 0.6694 - loss: 1.3026\n",
      "Epoch 28: val_loss did not improve from 1.43264\n",
      "\u001b[1m1743/1743\u001b[0m \u001b[32m━━━━━━━━━━━━━━━━━━━━\u001b[0m\u001b[37m\u001b[0m \u001b[1m17s\u001b[0m 10ms/step - accuracy: 0.6694 - loss: 1.3026 - val_accuracy: 0.6734 - val_loss: 1.4352\n",
      "Epoch 29/30\n",
      "\u001b[1m1742/1743\u001b[0m \u001b[32m━━━━━━━━━━━━━━━━━━━\u001b[0m\u001b[37m━\u001b[0m \u001b[1m0s\u001b[0m 8ms/step - accuracy: 0.6722 - loss: 1.2929\n",
      "Epoch 29: val_loss did not improve from 1.43264\n",
      "\u001b[1m1743/1743\u001b[0m \u001b[32m━━━━━━━━━━━━━━━━━━━━\u001b[0m\u001b[37m\u001b[0m \u001b[1m17s\u001b[0m 10ms/step - accuracy: 0.6722 - loss: 1.2929 - val_accuracy: 0.6730 - val_loss: 1.4381\n",
      "Epoch 30/30\n",
      "\u001b[1m1740/1743\u001b[0m \u001b[32m━━━━━━━━━━━━━━━━━━━\u001b[0m\u001b[37m━\u001b[0m \u001b[1m0s\u001b[0m 8ms/step - accuracy: 0.6678 - loss: 1.2971\n",
      "Epoch 30: val_loss did not improve from 1.43264\n",
      "\u001b[1m1743/1743\u001b[0m \u001b[32m━━━━━━━━━━━━━━━━━━━━\u001b[0m\u001b[37m\u001b[0m \u001b[1m17s\u001b[0m 10ms/step - accuracy: 0.6678 - loss: 1.2971 - val_accuracy: 0.6752 - val_loss: 1.4355\n"
     ]
    }
   ],
   "source": [
    "optimizer = tf.keras.optimizers.Adam(learning_rate=0.0001)\n",
    "model.compile(optimizer=optimizer, loss='categorical_crossentropy', metrics=['accuracy'])\n",
    "\n",
    "\n",
    "\n",
    "train_image_data, train_sentence_data, train_output_data = DataGenerator(df_train_preprocessed)\n",
    "\n",
    "val_image_data, val_sentence_data, val_output_data = DataGenerator(df_val_preprocessed)\n",
    "\n",
    "# Huấn luyện mô hình\n",
    "\n",
    "with tf.device('/GPU:0'):\n",
    "\n",
    "    history = model.fit(\n",
    "\n",
    "        x=[train_image_data, train_sentence_data],\n",
    "\n",
    "        y=train_output_data,\n",
    "\n",
    "        validation_data=([val_image_data, val_sentence_data], val_output_data),\n",
    "\n",
    "        epochs=30,  # Số vòng lặp\n",
    "\n",
    "        batch_size=100, # Kích thước batch\n",
    "        \n",
    "        callbacks=[checkpoint_callback]\n",
    "        \n",
    "    )"
   ]
  },
  {
   "cell_type": "code",
   "execution_count": 16,
   "id": "bea87501",
   "metadata": {
    "execution": {
     "iopub.execute_input": "2024-12-27T11:49:33.812719Z",
     "iopub.status.busy": "2024-12-27T11:49:33.812319Z",
     "iopub.status.idle": "2024-12-27T11:49:34.321345Z",
     "shell.execute_reply": "2024-12-27T11:49:34.320527Z"
    },
    "papermill": {
     "duration": 0.97848,
     "end_time": "2024-12-27T11:49:34.323232",
     "exception": false,
     "start_time": "2024-12-27T11:49:33.344752",
     "status": "completed"
    },
    "tags": []
   },
   "outputs": [
    {
     "data": {
      "image/png": "[encoded data removed]",
      "text/plain": [
       "<Figure size 640x480 with 1 Axes>"
      ]
     },
     "metadata": {},
     "output_type": "display_data"
    },
    {
     "data": {
      "image/png": "[encoded data removed]",
      "text/plain": [
       "<Figure size 640x480 with 1 Axes>"
      ]
     },
     "metadata": {},
     "output_type": "display_data"
    }
   ],
   "source": [
    "import matplotlib.pyplot as plt\n",
    "\n",
    "\n",
    "\n",
    "# Vẽ biểu đồ loss\n",
    "\n",
    "plt.plot(history.history['loss'], label='Train Loss')\n",
    "\n",
    "plt.plot(history.history['val_loss'], label='Validation Loss')\n",
    "\n",
    "plt.xlabel('Epochs')\n",
    "\n",
    "plt.ylabel('Loss')\n",
    "\n",
    "plt.legend()\n",
    "\n",
    "plt.title('Loss Over Epochs')\n",
    "\n",
    "plt.show()\n",
    "\n",
    "\n",
    "\n",
    "# Vẽ biểu đồ accuracy\n",
    "\n",
    "plt.plot(history.history['accuracy'], label='Train Accuracy')\n",
    "\n",
    "plt.plot(history.history['val_accuracy'], label='Validation Accuracy')\n",
    "\n",
    "plt.xlabel('Epochs')\n",
    "\n",
    "plt.ylabel('Accuracy')\n",
    "\n",
    "plt.legend()\n",
    "\n",
    "plt.title('Accuracy Over Epochs')\n",
    "\n",
    "plt.show()"
   ]
  },
  {
   "cell_type": "markdown",
   "id": "a4c8641a",
   "metadata": {
    "papermill": {
     "duration": 0.468554,
     "end_time": "2024-12-27T11:49:35.291449",
     "exception": false,
     "start_time": "2024-12-27T11:49:34.822895",
     "status": "completed"
    },
    "tags": []
   },
   "source": [
    "# BLEU metric"
   ]
  },
  {
   "cell_type": "code",
   "execution_count": 17,
   "id": "ae75c693",
   "metadata": {
    "execution": {
     "iopub.execute_input": "2024-12-27T11:49:36.251861Z",
     "iopub.status.busy": "2024-12-27T11:49:36.251482Z",
     "iopub.status.idle": "2024-12-27T11:49:36.256094Z",
     "shell.execute_reply": "2024-12-27T11:49:36.255225Z"
    },
    "papermill": {
     "duration": 0.467538,
     "end_time": "2024-12-27T11:49:36.257684",
     "exception": false,
     "start_time": "2024-12-27T11:49:35.790146",
     "status": "completed"
    },
    "tags": []
   },
   "outputs": [],
   "source": [
    "def idx_to_word(integer,tokenizer):\n",
    "    for word, index in tokenizer.word_index.items():\n",
    "        if index==integer:\n",
    "            return word\n",
    "    return None"
   ]
  },
  {
   "cell_type": "code",
   "execution_count": 18,
   "id": "f78cf0b7",
   "metadata": {
    "execution": {
     "iopub.execute_input": "2024-12-27T11:49:37.219414Z",
     "iopub.status.busy": "2024-12-27T11:49:37.218697Z",
     "iopub.status.idle": "2024-12-27T11:49:37.225125Z",
     "shell.execute_reply": "2024-12-27T11:49:37.224363Z"
    },
    "papermill": {
     "duration": 0.474453,
     "end_time": "2024-12-27T11:49:37.226776",
     "exception": false,
     "start_time": "2024-12-27T11:49:36.752323",
     "status": "completed"
    },
    "tags": []
   },
   "outputs": [],
   "source": [
    "def predict_caption(model, image, tokenizer=tokenizer, max_length=max_length, features=image_features):\n",
    "    img = load_img(image, target_size=(224, 224))\n",
    "    img = img_to_array(img)\n",
    "    img = img / 255.0\n",
    "    img = np.expand_dims(img, axis=0)\n",
    "    feature = image_features[image]\n",
    "    in_text = \"startseq\"\n",
    "    for i in range(max_length):\n",
    "        sequence = tokenizer.texts_to_sequences([in_text])[0]\n",
    "        sequence = pad_sequences([sequence], max_length, padding='post')\n",
    "\n",
    "        y_pred = model.predict([feature,sequence], verbose=0)\n",
    "        y_pred = np.argmax(y_pred)\n",
    "\n",
    "        word = idx_to_word(y_pred, tokenizer)\n",
    "\n",
    "        if word is None:\n",
    "            break\n",
    "\n",
    "        in_text+= \" \" + word\n",
    "\n",
    "        if word == 'endseq':\n",
    "            break\n",
    "\n",
    "    return in_text"
   ]
  },
  {
   "cell_type": "code",
   "execution_count": 19,
   "id": "9e0ebb54",
   "metadata": {
    "execution": {
     "iopub.execute_input": "2024-12-27T11:49:38.195746Z",
     "iopub.status.busy": "2024-12-27T11:49:38.195377Z",
     "iopub.status.idle": "2024-12-27T11:49:38.199694Z",
     "shell.execute_reply": "2024-12-27T11:49:38.198847Z"
    },
    "papermill": {
     "duration": 0.46719,
     "end_time": "2024-12-27T11:49:38.201290",
     "exception": false,
     "start_time": "2024-12-27T11:49:37.734100",
     "status": "completed"
    },
    "tags": []
   },
   "outputs": [],
   "source": [
    "from nltk.translate.bleu_score import sentence_bleu, SmoothingFunction"
   ]
  },
  {
   "cell_type": "code",
   "execution_count": 20,
   "id": "d38e3ed6",
   "metadata": {
    "execution": {
     "iopub.execute_input": "2024-12-27T11:49:39.169387Z",
     "iopub.status.busy": "2024-12-27T11:49:39.169053Z",
     "iopub.status.idle": "2024-12-27T11:49:39.177849Z",
     "shell.execute_reply": "2024-12-27T11:49:39.177050Z"
    },
    "papermill": {
     "duration": 0.518796,
     "end_time": "2024-12-27T11:49:39.179441",
     "exception": false,
     "start_time": "2024-12-27T11:49:38.660645",
     "status": "completed"
    },
    "tags": []
   },
   "outputs": [],
   "source": [
    "df_test_preprocessed['caption'] = df_test_preprocessed['caption'].str.replace(r'^startseq ', '', regex=True)\n",
    "df_test_preprocessed['caption'] = df_test_preprocessed['caption'].str.replace(r' endseq$', '', regex=True)"
   ]
  },
  {
   "cell_type": "code",
   "execution_count": 21,
   "id": "11f80fcf",
   "metadata": {
    "execution": {
     "iopub.execute_input": "2024-12-27T11:49:40.171431Z",
     "iopub.status.busy": "2024-12-27T11:49:40.171101Z",
     "iopub.status.idle": "2024-12-27T11:49:40.185978Z",
     "shell.execute_reply": "2024-12-27T11:49:40.185164Z"
    },
    "papermill": {
     "duration": 0.550281,
     "end_time": "2024-12-27T11:49:40.187676",
     "exception": false,
     "start_time": "2024-12-27T11:49:39.637395",
     "status": "completed"
    },
    "tags": []
   },
   "outputs": [],
   "source": [
    "df_test_merge = df_test_preprocessed.groupby('image_path')['caption'].apply(list).reset_index()"
   ]
  },
  {
   "cell_type": "code",
   "execution_count": 22,
   "id": "bc6f2a96",
   "metadata": {
    "execution": {
     "iopub.execute_input": "2024-12-27T11:49:41.146247Z",
     "iopub.status.busy": "2024-12-27T11:49:41.145912Z",
     "iopub.status.idle": "2024-12-27T11:49:41.158121Z",
     "shell.execute_reply": "2024-12-27T11:49:41.157210Z"
    },
    "papermill": {
     "duration": 0.516663,
     "end_time": "2024-12-27T11:49:41.159683",
     "exception": false,
     "start_time": "2024-12-27T11:49:40.643020",
     "status": "completed"
    },
    "tags": []
   },
   "outputs": [
    {
     "data": {
      "text/html": [
       "<div>\n",
       "<style scoped>\n",
       "    .dataframe tbody tr th:only-of-type {\n",
       "        vertical-align: middle;\n",
       "    }\n",
       "\n",
       "    .dataframe tbody tr th {\n",
       "        vertical-align: top;\n",
       "    }\n",
       "\n",
       "    .dataframe thead th {\n",
       "        text-align: right;\n",
       "    }\n",
       "</style>\n",
       "<table border=\"1\" class=\"dataframe\">\n",
       "  <thead>\n",
       "    <tr style=\"text-align: right;\">\n",
       "      <th></th>\n",
       "      <th>image_path</th>\n",
       "      <th>caption</th>\n",
       "    </tr>\n",
       "  </thead>\n",
       "  <tbody>\n",
       "    <tr>\n",
       "      <th>0</th>\n",
       "      <td>/kaggle/input/uit-viic-v1-0-vietnamese-image-c...</td>\n",
       "      <td>[trên sân một cầu thủ đánh bóng đang chuẩn bị ...</td>\n",
       "    </tr>\n",
       "    <tr>\n",
       "      <th>1</th>\n",
       "      <td>/kaggle/input/uit-viic-v1-0-vietnamese-image-c...</td>\n",
       "      <td>[hình ảnh hai cậu bé đang chơi trong khu dân c...</td>\n",
       "    </tr>\n",
       "    <tr>\n",
       "      <th>2</th>\n",
       "      <td>/kaggle/input/uit-viic-v1-0-vietnamese-image-c...</td>\n",
       "      <td>[hình ảnh một trận thi đấu bóng đá đang diễn r...</td>\n",
       "    </tr>\n",
       "    <tr>\n",
       "      <th>3</th>\n",
       "      <td>/kaggle/input/uit-viic-v1-0-vietnamese-image-c...</td>\n",
       "      <td>[một người phụ nữ đang vung vợt để đánh quả bó...</td>\n",
       "    </tr>\n",
       "    <tr>\n",
       "      <th>4</th>\n",
       "      <td>/kaggle/input/uit-viic-v1-0-vietnamese-image-c...</td>\n",
       "      <td>[một cậu bé đang nghiêng người để đánh quả bón...</td>\n",
       "    </tr>\n",
       "    <tr>\n",
       "      <th>...</th>\n",
       "      <td>...</td>\n",
       "      <td>...</td>\n",
       "    </tr>\n",
       "    <tr>\n",
       "      <th>226</th>\n",
       "      <td>/kaggle/input/uit-viic-v1-0-vietnamese-image-c...</td>\n",
       "      <td>[một người đàn ông đang dùng vợt để đánh quả b...</td>\n",
       "    </tr>\n",
       "    <tr>\n",
       "      <th>227</th>\n",
       "      <td>/kaggle/input/uit-viic-v1-0-vietnamese-image-c...</td>\n",
       "      <td>[một người đàn ông đang chuẩn bị đánh quả bóng...</td>\n",
       "    </tr>\n",
       "    <tr>\n",
       "      <th>228</th>\n",
       "      <td>/kaggle/input/uit-viic-v1-0-vietnamese-image-c...</td>\n",
       "      <td>[các cầu thủ bóng đá đang thi đấu ngoài trời, ...</td>\n",
       "    </tr>\n",
       "    <tr>\n",
       "      <th>229</th>\n",
       "      <td>/kaggle/input/uit-viic-v1-0-vietnamese-image-c...</td>\n",
       "      <td>[một cầu thủ đánh bóng đang xoay người để đánh...</td>\n",
       "    </tr>\n",
       "    <tr>\n",
       "      <th>230</th>\n",
       "      <td>/kaggle/input/uit-viic-v1-0-vietnamese-image-c...</td>\n",
       "      <td>[một cậu bé đang luyện tập bóng chày trên sân,...</td>\n",
       "    </tr>\n",
       "  </tbody>\n",
       "</table>\n",
       "<p>231 rows × 2 columns</p>\n",
       "</div>"
      ],
      "text/plain": [
       "                                            image_path  \\\n",
       "0    /kaggle/input/uit-viic-v1-0-vietnamese-image-c...   \n",
       "1    /kaggle/input/uit-viic-v1-0-vietnamese-image-c...   \n",
       "2    /kaggle/input/uit-viic-v1-0-vietnamese-image-c...   \n",
       "3    /kaggle/input/uit-viic-v1-0-vietnamese-image-c...   \n",
       "4    /kaggle/input/uit-viic-v1-0-vietnamese-image-c...   \n",
       "..                                                 ...   \n",
       "226  /kaggle/input/uit-viic-v1-0-vietnamese-image-c...   \n",
       "227  /kaggle/input/uit-viic-v1-0-vietnamese-image-c...   \n",
       "228  /kaggle/input/uit-viic-v1-0-vietnamese-image-c...   \n",
       "229  /kaggle/input/uit-viic-v1-0-vietnamese-image-c...   \n",
       "230  /kaggle/input/uit-viic-v1-0-vietnamese-image-c...   \n",
       "\n",
       "                                               caption  \n",
       "0    [trên sân một cầu thủ đánh bóng đang chuẩn bị ...  \n",
       "1    [hình ảnh hai cậu bé đang chơi trong khu dân c...  \n",
       "2    [hình ảnh một trận thi đấu bóng đá đang diễn r...  \n",
       "3    [một người phụ nữ đang vung vợt để đánh quả bó...  \n",
       "4    [một cậu bé đang nghiêng người để đánh quả bón...  \n",
       "..                                                 ...  \n",
       "226  [một người đàn ông đang dùng vợt để đánh quả b...  \n",
       "227  [một người đàn ông đang chuẩn bị đánh quả bóng...  \n",
       "228  [các cầu thủ bóng đá đang thi đấu ngoài trời, ...  \n",
       "229  [một cầu thủ đánh bóng đang xoay người để đánh...  \n",
       "230  [một cậu bé đang luyện tập bóng chày trên sân,...  \n",
       "\n",
       "[231 rows x 2 columns]"
      ]
     },
     "execution_count": 22,
     "metadata": {},
     "output_type": "execute_result"
    }
   ],
   "source": [
    "df_test_merge"
   ]
  },
  {
   "cell_type": "code",
   "execution_count": 23,
   "id": "3768d850",
   "metadata": {
    "execution": {
     "iopub.execute_input": "2024-12-27T11:49:42.083233Z",
     "iopub.status.busy": "2024-12-27T11:49:42.082902Z",
     "iopub.status.idle": "2024-12-27T11:52:14.253989Z",
     "shell.execute_reply": "2024-12-27T11:52:14.253239Z"
    },
    "papermill": {
     "duration": 152.640041,
     "end_time": "2024-12-27T11:52:14.256142",
     "exception": false,
     "start_time": "2024-12-27T11:49:41.616101",
     "status": "completed"
    },
    "tags": []
   },
   "outputs": [
    {
     "name": "stderr",
     "output_type": "stream",
     "text": [
      "/opt/conda/lib/python3.10/site-packages/keras/src/ops/nn.py:545: UserWarning: You are using a softmax over axis -1 of a tensor of shape (1, 1). This axis has size 1. The softmax operation will always return the value 1, which is likely not what you intended. Did you mean to use a sigmoid instead?\n",
      "  warnings.warn(\n"
     ]
    }
   ],
   "source": [
    "for index,record in df_test_merge.iterrows():\n",
    "    img = load_img(record['image_path'],target_size=(224,224))\n",
    "    img = img_to_array(img)\n",
    "    img = img/255.\n",
    "\n",
    "    caption = predict_caption(model, record['image_path'], tokenizer, max_length, image_features)\n",
    "    df_test_merge.loc[index,'predict'] = caption"
   ]
  },
  {
   "cell_type": "code",
   "execution_count": 24,
   "id": "22e1387d",
   "metadata": {
    "execution": {
     "iopub.execute_input": "2024-12-27T11:52:15.234024Z",
     "iopub.status.busy": "2024-12-27T11:52:15.233684Z",
     "iopub.status.idle": "2024-12-27T11:52:15.240414Z",
     "shell.execute_reply": "2024-12-27T11:52:15.239660Z"
    },
    "papermill": {
     "duration": 0.481398,
     "end_time": "2024-12-27T11:52:15.242240",
     "exception": false,
     "start_time": "2024-12-27T11:52:14.760842",
     "status": "completed"
    },
    "tags": []
   },
   "outputs": [],
   "source": [
    "df_test_merge['predict'] = df_test_merge['predict'].str.replace(r'^startseq ', '', regex=True)\n",
    "df_test_merge['predict'] = df_test_merge['predict'].str.replace(r' endseq$', '', regex=True)"
   ]
  },
  {
   "cell_type": "code",
   "execution_count": 25,
   "id": "f7439901",
   "metadata": {
    "execution": {
     "iopub.execute_input": "2024-12-27T11:52:16.220415Z",
     "iopub.status.busy": "2024-12-27T11:52:16.219807Z",
     "iopub.status.idle": "2024-12-27T11:52:16.232656Z",
     "shell.execute_reply": "2024-12-27T11:52:16.231744Z"
    },
    "papermill": {
     "duration": 0.478486,
     "end_time": "2024-12-27T11:52:16.234363",
     "exception": false,
     "start_time": "2024-12-27T11:52:15.755877",
     "status": "completed"
    },
    "tags": []
   },
   "outputs": [
    {
     "data": {
      "text/html": [
       "<div>\n",
       "<style scoped>\n",
       "    .dataframe tbody tr th:only-of-type {\n",
       "        vertical-align: middle;\n",
       "    }\n",
       "\n",
       "    .dataframe tbody tr th {\n",
       "        vertical-align: top;\n",
       "    }\n",
       "\n",
       "    .dataframe thead th {\n",
       "        text-align: right;\n",
       "    }\n",
       "</style>\n",
       "<table border=\"1\" class=\"dataframe\">\n",
       "  <thead>\n",
       "    <tr style=\"text-align: right;\">\n",
       "      <th></th>\n",
       "      <th>image_path</th>\n",
       "      <th>caption</th>\n",
       "      <th>predict</th>\n",
       "    </tr>\n",
       "  </thead>\n",
       "  <tbody>\n",
       "    <tr>\n",
       "      <th>0</th>\n",
       "      <td>/kaggle/input/uit-viic-v1-0-vietnamese-image-c...</td>\n",
       "      <td>[trên sân một cầu thủ đánh bóng đang chuẩn bị ...</td>\n",
       "      <td>một người đàn ông đang chuẩn bị đánh quả bóng ...</td>\n",
       "    </tr>\n",
       "    <tr>\n",
       "      <th>1</th>\n",
       "      <td>/kaggle/input/uit-viic-v1-0-vietnamese-image-c...</td>\n",
       "      <td>[hình ảnh hai cậu bé đang chơi trong khu dân c...</td>\n",
       "      <td>một người đàn ông đang chuẩn bị đánh quả bóng ...</td>\n",
       "    </tr>\n",
       "    <tr>\n",
       "      <th>2</th>\n",
       "      <td>/kaggle/input/uit-viic-v1-0-vietnamese-image-c...</td>\n",
       "      <td>[hình ảnh một trận thi đấu bóng đá đang diễn r...</td>\n",
       "      <td>một người đàn ông đang chuẩn bị đánh quả bóng ...</td>\n",
       "    </tr>\n",
       "    <tr>\n",
       "      <th>3</th>\n",
       "      <td>/kaggle/input/uit-viic-v1-0-vietnamese-image-c...</td>\n",
       "      <td>[một người phụ nữ đang vung vợt để đánh quả bó...</td>\n",
       "      <td>một người đàn ông đang chuẩn bị đánh quả bóng ...</td>\n",
       "    </tr>\n",
       "    <tr>\n",
       "      <th>4</th>\n",
       "      <td>/kaggle/input/uit-viic-v1-0-vietnamese-image-c...</td>\n",
       "      <td>[một cậu bé đang nghiêng người để đánh quả bón...</td>\n",
       "      <td>một người đàn ông đang chuẩn bị đánh quả bóng ...</td>\n",
       "    </tr>\n",
       "    <tr>\n",
       "      <th>...</th>\n",
       "      <td>...</td>\n",
       "      <td>...</td>\n",
       "      <td>...</td>\n",
       "    </tr>\n",
       "    <tr>\n",
       "      <th>226</th>\n",
       "      <td>/kaggle/input/uit-viic-v1-0-vietnamese-image-c...</td>\n",
       "      <td>[một người đàn ông đang dùng vợt để đánh quả b...</td>\n",
       "      <td>một người đàn ông đang chuẩn bị đánh quả bóng ...</td>\n",
       "    </tr>\n",
       "    <tr>\n",
       "      <th>227</th>\n",
       "      <td>/kaggle/input/uit-viic-v1-0-vietnamese-image-c...</td>\n",
       "      <td>[một người đàn ông đang chuẩn bị đánh quả bóng...</td>\n",
       "      <td>một người đàn ông đang chuẩn bị đánh quả bóng ...</td>\n",
       "    </tr>\n",
       "    <tr>\n",
       "      <th>228</th>\n",
       "      <td>/kaggle/input/uit-viic-v1-0-vietnamese-image-c...</td>\n",
       "      <td>[các cầu thủ bóng đá đang thi đấu ngoài trời, ...</td>\n",
       "      <td>những đứa trẻ đang chơi bóng đá trên sân</td>\n",
       "    </tr>\n",
       "    <tr>\n",
       "      <th>229</th>\n",
       "      <td>/kaggle/input/uit-viic-v1-0-vietnamese-image-c...</td>\n",
       "      <td>[một cầu thủ đánh bóng đang xoay người để đánh...</td>\n",
       "      <td>một người đàn ông đang chuẩn bị đánh quả bóng ...</td>\n",
       "    </tr>\n",
       "    <tr>\n",
       "      <th>230</th>\n",
       "      <td>/kaggle/input/uit-viic-v1-0-vietnamese-image-c...</td>\n",
       "      <td>[một cậu bé đang luyện tập bóng chày trên sân,...</td>\n",
       "      <td>một người đàn ông đang chuẩn bị đánh quả bóng ...</td>\n",
       "    </tr>\n",
       "  </tbody>\n",
       "</table>\n",
       "<p>231 rows × 3 columns</p>\n",
       "</div>"
      ],
      "text/plain": [
       "                                            image_path  \\\n",
       "0    /kaggle/input/uit-viic-v1-0-vietnamese-image-c...   \n",
       "1    /kaggle/input/uit-viic-v1-0-vietnamese-image-c...   \n",
       "2    /kaggle/input/uit-viic-v1-0-vietnamese-image-c...   \n",
       "3    /kaggle/input/uit-viic-v1-0-vietnamese-image-c...   \n",
       "4    /kaggle/input/uit-viic-v1-0-vietnamese-image-c...   \n",
       "..                                                 ...   \n",
       "226  /kaggle/input/uit-viic-v1-0-vietnamese-image-c...   \n",
       "227  /kaggle/input/uit-viic-v1-0-vietnamese-image-c...   \n",
       "228  /kaggle/input/uit-viic-v1-0-vietnamese-image-c...   \n",
       "229  /kaggle/input/uit-viic-v1-0-vietnamese-image-c...   \n",
       "230  /kaggle/input/uit-viic-v1-0-vietnamese-image-c...   \n",
       "\n",
       "                                               caption  \\\n",
       "0    [trên sân một cầu thủ đánh bóng đang chuẩn bị ...   \n",
       "1    [hình ảnh hai cậu bé đang chơi trong khu dân c...   \n",
       "2    [hình ảnh một trận thi đấu bóng đá đang diễn r...   \n",
       "3    [một người phụ nữ đang vung vợt để đánh quả bó...   \n",
       "4    [một cậu bé đang nghiêng người để đánh quả bón...   \n",
       "..                                                 ...   \n",
       "226  [một người đàn ông đang dùng vợt để đánh quả b...   \n",
       "227  [một người đàn ông đang chuẩn bị đánh quả bóng...   \n",
       "228  [các cầu thủ bóng đá đang thi đấu ngoài trời, ...   \n",
       "229  [một cầu thủ đánh bóng đang xoay người để đánh...   \n",
       "230  [một cậu bé đang luyện tập bóng chày trên sân,...   \n",
       "\n",
       "                                               predict  \n",
       "0    một người đàn ông đang chuẩn bị đánh quả bóng ...  \n",
       "1    một người đàn ông đang chuẩn bị đánh quả bóng ...  \n",
       "2    một người đàn ông đang chuẩn bị đánh quả bóng ...  \n",
       "3    một người đàn ông đang chuẩn bị đánh quả bóng ...  \n",
       "4    một người đàn ông đang chuẩn bị đánh quả bóng ...  \n",
       "..                                                 ...  \n",
       "226  một người đàn ông đang chuẩn bị đánh quả bóng ...  \n",
       "227  một người đàn ông đang chuẩn bị đánh quả bóng ...  \n",
       "228           những đứa trẻ đang chơi bóng đá trên sân  \n",
       "229  một người đàn ông đang chuẩn bị đánh quả bóng ...  \n",
       "230  một người đàn ông đang chuẩn bị đánh quả bóng ...  \n",
       "\n",
       "[231 rows x 3 columns]"
      ]
     },
     "execution_count": 25,
     "metadata": {},
     "output_type": "execute_result"
    }
   ],
   "source": [
    "df_test_merge"
   ]
  },
  {
   "cell_type": "code",
   "execution_count": 26,
   "id": "c74a36bc",
   "metadata": {
    "execution": {
     "iopub.execute_input": "2024-12-27T11:52:17.195975Z",
     "iopub.status.busy": "2024-12-27T11:52:17.195542Z",
     "iopub.status.idle": "2024-12-27T11:52:17.202084Z",
     "shell.execute_reply": "2024-12-27T11:52:17.201210Z"
    },
    "papermill": {
     "duration": 0.470385,
     "end_time": "2024-12-27T11:52:17.203806",
     "exception": false,
     "start_time": "2024-12-27T11:52:16.733421",
     "status": "completed"
    },
    "tags": []
   },
   "outputs": [],
   "source": [
    "def calculate_bleu_scores(row):\n",
    "    reference = [caption.split() for caption in row['caption']]\n",
    "    prediction = row['predict'].split()\n",
    "\n",
    "    if len(prediction) == 0:\n",
    "        return pd.Series([0, 0, 0, 0])\n",
    "\n",
    "    smoothie = SmoothingFunction().method4\n",
    "\n",
    "    bleu_1 = sentence_bleu(reference, prediction, weights=(1.0, 0, 0, 0), smoothing_function=smoothie)\n",
    "    bleu_2 = sentence_bleu(reference, prediction, weights=(0.5, 0.5, 0, 0), smoothing_function=smoothie)\n",
    "    bleu_3 = sentence_bleu(reference, prediction, weights=(0.33, 0.33, 0.33, 0), smoothing_function=smoothie)\n",
    "    bleu_4 = sentence_bleu(reference, prediction, weights=(0.25, 0.25, 0.25, 0.25), smoothing_function=smoothie)\n",
    "\n",
    "    return pd.Series([bleu_1, bleu_2, bleu_3, bleu_4])"
   ]
  },
  {
   "cell_type": "code",
   "execution_count": 27,
   "id": "7e1d473a",
   "metadata": {
    "execution": {
     "iopub.execute_input": "2024-12-27T11:52:18.159793Z",
     "iopub.status.busy": "2024-12-27T11:52:18.159428Z",
     "iopub.status.idle": "2024-12-27T11:52:18.405426Z",
     "shell.execute_reply": "2024-12-27T11:52:18.404813Z"
    },
    "papermill": {
     "duration": 0.705088,
     "end_time": "2024-12-27T11:52:18.407071",
     "exception": false,
     "start_time": "2024-12-27T11:52:17.701983",
     "status": "completed"
    },
    "tags": []
   },
   "outputs": [],
   "source": [
    "df_test_merge[['bleu_1', 'bleu_2', 'bleu_3', 'bleu_4']] = df_test_merge.apply(calculate_bleu_scores, axis=1)"
   ]
  },
  {
   "cell_type": "code",
   "execution_count": 28,
   "id": "808b8105",
   "metadata": {
    "execution": {
     "iopub.execute_input": "2024-12-27T11:52:19.376108Z",
     "iopub.status.busy": "2024-12-27T11:52:19.375763Z",
     "iopub.status.idle": "2024-12-27T11:52:19.391728Z",
     "shell.execute_reply": "2024-12-27T11:52:19.390960Z"
    },
    "papermill": {
     "duration": 0.525003,
     "end_time": "2024-12-27T11:52:19.393993",
     "exception": false,
     "start_time": "2024-12-27T11:52:18.868990",
     "status": "completed"
    },
    "tags": []
   },
   "outputs": [
    {
     "data": {
      "text/html": [
       "<div>\n",
       "<style scoped>\n",
       "    .dataframe tbody tr th:only-of-type {\n",
       "        vertical-align: middle;\n",
       "    }\n",
       "\n",
       "    .dataframe tbody tr th {\n",
       "        vertical-align: top;\n",
       "    }\n",
       "\n",
       "    .dataframe thead th {\n",
       "        text-align: right;\n",
       "    }\n",
       "</style>\n",
       "<table border=\"1\" class=\"dataframe\">\n",
       "  <thead>\n",
       "    <tr style=\"text-align: right;\">\n",
       "      <th></th>\n",
       "      <th>image_path</th>\n",
       "      <th>caption</th>\n",
       "      <th>predict</th>\n",
       "      <th>bleu_1</th>\n",
       "      <th>bleu_2</th>\n",
       "      <th>bleu_3</th>\n",
       "      <th>bleu_4</th>\n",
       "    </tr>\n",
       "  </thead>\n",
       "  <tbody>\n",
       "    <tr>\n",
       "      <th>0</th>\n",
       "      <td>/kaggle/input/uit-viic-v1-0-vietnamese-image-c...</td>\n",
       "      <td>[trên sân một cầu thủ đánh bóng đang chuẩn bị ...</td>\n",
       "      <td>một người đàn ông đang chuẩn bị đánh quả bóng ...</td>\n",
       "      <td>1.000000</td>\n",
       "      <td>1.000000</td>\n",
       "      <td>0.961877</td>\n",
       "      <td>0.903602</td>\n",
       "    </tr>\n",
       "    <tr>\n",
       "      <th>1</th>\n",
       "      <td>/kaggle/input/uit-viic-v1-0-vietnamese-image-c...</td>\n",
       "      <td>[hình ảnh hai cậu bé đang chơi trong khu dân c...</td>\n",
       "      <td>một người đàn ông đang chuẩn bị đánh quả bóng ...</td>\n",
       "      <td>0.454545</td>\n",
       "      <td>0.213201</td>\n",
       "      <td>0.226622</td>\n",
       "      <td>0.216280</td>\n",
       "    </tr>\n",
       "    <tr>\n",
       "      <th>2</th>\n",
       "      <td>/kaggle/input/uit-viic-v1-0-vietnamese-image-c...</td>\n",
       "      <td>[hình ảnh một trận thi đấu bóng đá đang diễn r...</td>\n",
       "      <td>một người đàn ông đang chuẩn bị đánh quả bóng ...</td>\n",
       "      <td>0.545455</td>\n",
       "      <td>0.330289</td>\n",
       "      <td>0.302532</td>\n",
       "      <td>0.269196</td>\n",
       "    </tr>\n",
       "    <tr>\n",
       "      <th>3</th>\n",
       "      <td>/kaggle/input/uit-viic-v1-0-vietnamese-image-c...</td>\n",
       "      <td>[một người phụ nữ đang vung vợt để đánh quả bó...</td>\n",
       "      <td>một người đàn ông đang chuẩn bị đánh quả bóng ...</td>\n",
       "      <td>0.818182</td>\n",
       "      <td>0.756787</td>\n",
       "      <td>0.685303</td>\n",
       "      <td>0.631555</td>\n",
       "    </tr>\n",
       "    <tr>\n",
       "      <th>4</th>\n",
       "      <td>/kaggle/input/uit-viic-v1-0-vietnamese-image-c...</td>\n",
       "      <td>[một cậu bé đang nghiêng người để đánh quả bón...</td>\n",
       "      <td>một người đàn ông đang chuẩn bị đánh quả bóng ...</td>\n",
       "      <td>0.636364</td>\n",
       "      <td>0.436931</td>\n",
       "      <td>0.352462</td>\n",
       "      <td>0.269855</td>\n",
       "    </tr>\n",
       "    <tr>\n",
       "      <th>...</th>\n",
       "      <td>...</td>\n",
       "      <td>...</td>\n",
       "      <td>...</td>\n",
       "      <td>...</td>\n",
       "      <td>...</td>\n",
       "      <td>...</td>\n",
       "      <td>...</td>\n",
       "    </tr>\n",
       "    <tr>\n",
       "      <th>226</th>\n",
       "      <td>/kaggle/input/uit-viic-v1-0-vietnamese-image-c...</td>\n",
       "      <td>[một người đàn ông đang dùng vợt để đánh quả b...</td>\n",
       "      <td>một người đàn ông đang chuẩn bị đánh quả bóng ...</td>\n",
       "      <td>0.818182</td>\n",
       "      <td>0.756787</td>\n",
       "      <td>0.685303</td>\n",
       "      <td>0.587728</td>\n",
       "    </tr>\n",
       "    <tr>\n",
       "      <th>227</th>\n",
       "      <td>/kaggle/input/uit-viic-v1-0-vietnamese-image-c...</td>\n",
       "      <td>[một người đàn ông đang chuẩn bị đánh quả bóng...</td>\n",
       "      <td>một người đàn ông đang chuẩn bị đánh quả bóng ...</td>\n",
       "      <td>1.000000</td>\n",
       "      <td>1.000000</td>\n",
       "      <td>1.000000</td>\n",
       "      <td>1.000000</td>\n",
       "    </tr>\n",
       "    <tr>\n",
       "      <th>228</th>\n",
       "      <td>/kaggle/input/uit-viic-v1-0-vietnamese-image-c...</td>\n",
       "      <td>[các cầu thủ bóng đá đang thi đấu ngoài trời, ...</td>\n",
       "      <td>những đứa trẻ đang chơi bóng đá trên sân</td>\n",
       "      <td>0.695986</td>\n",
       "      <td>0.558030</td>\n",
       "      <td>0.433356</td>\n",
       "      <td>0.330101</td>\n",
       "    </tr>\n",
       "    <tr>\n",
       "      <th>229</th>\n",
       "      <td>/kaggle/input/uit-viic-v1-0-vietnamese-image-c...</td>\n",
       "      <td>[một cầu thủ đánh bóng đang xoay người để đánh...</td>\n",
       "      <td>một người đàn ông đang chuẩn bị đánh quả bóng ...</td>\n",
       "      <td>0.727273</td>\n",
       "      <td>0.660578</td>\n",
       "      <td>0.582009</td>\n",
       "      <td>0.469247</td>\n",
       "    </tr>\n",
       "    <tr>\n",
       "      <th>230</th>\n",
       "      <td>/kaggle/input/uit-viic-v1-0-vietnamese-image-c...</td>\n",
       "      <td>[một cậu bé đang luyện tập bóng chày trên sân,...</td>\n",
       "      <td>một người đàn ông đang chuẩn bị đánh quả bóng ...</td>\n",
       "      <td>0.727273</td>\n",
       "      <td>0.660578</td>\n",
       "      <td>0.626484</td>\n",
       "      <td>0.590047</td>\n",
       "    </tr>\n",
       "  </tbody>\n",
       "</table>\n",
       "<p>231 rows × 7 columns</p>\n",
       "</div>"
      ],
      "text/plain": [
       "                                            image_path  \\\n",
       "0    /kaggle/input/uit-viic-v1-0-vietnamese-image-c...   \n",
       "1    /kaggle/input/uit-viic-v1-0-vietnamese-image-c...   \n",
       "2    /kaggle/input/uit-viic-v1-0-vietnamese-image-c...   \n",
       "3    /kaggle/input/uit-viic-v1-0-vietnamese-image-c...   \n",
       "4    /kaggle/input/uit-viic-v1-0-vietnamese-image-c...   \n",
       "..                                                 ...   \n",
       "226  /kaggle/input/uit-viic-v1-0-vietnamese-image-c...   \n",
       "227  /kaggle/input/uit-viic-v1-0-vietnamese-image-c...   \n",
       "228  /kaggle/input/uit-viic-v1-0-vietnamese-image-c...   \n",
       "229  /kaggle/input/uit-viic-v1-0-vietnamese-image-c...   \n",
       "230  /kaggle/input/uit-viic-v1-0-vietnamese-image-c...   \n",
       "\n",
       "                                               caption  \\\n",
       "0    [trên sân một cầu thủ đánh bóng đang chuẩn bị ...   \n",
       "1    [hình ảnh hai cậu bé đang chơi trong khu dân c...   \n",
       "2    [hình ảnh một trận thi đấu bóng đá đang diễn r...   \n",
       "3    [một người phụ nữ đang vung vợt để đánh quả bó...   \n",
       "4    [một cậu bé đang nghiêng người để đánh quả bón...   \n",
       "..                                                 ...   \n",
       "226  [một người đàn ông đang dùng vợt để đánh quả b...   \n",
       "227  [một người đàn ông đang chuẩn bị đánh quả bóng...   \n",
       "228  [các cầu thủ bóng đá đang thi đấu ngoài trời, ...   \n",
       "229  [một cầu thủ đánh bóng đang xoay người để đánh...   \n",
       "230  [một cậu bé đang luyện tập bóng chày trên sân,...   \n",
       "\n",
       "                                               predict    bleu_1    bleu_2  \\\n",
       "0    một người đàn ông đang chuẩn bị đánh quả bóng ...  1.000000  1.000000   \n",
       "1    một người đàn ông đang chuẩn bị đánh quả bóng ...  0.454545  0.213201   \n",
       "2    một người đàn ông đang chuẩn bị đánh quả bóng ...  0.545455  0.330289   \n",
       "3    một người đàn ông đang chuẩn bị đánh quả bóng ...  0.818182  0.756787   \n",
       "4    một người đàn ông đang chuẩn bị đánh quả bóng ...  0.636364  0.436931   \n",
       "..                                                 ...       ...       ...   \n",
       "226  một người đàn ông đang chuẩn bị đánh quả bóng ...  0.818182  0.756787   \n",
       "227  một người đàn ông đang chuẩn bị đánh quả bóng ...  1.000000  1.000000   \n",
       "228           những đứa trẻ đang chơi bóng đá trên sân  0.695986  0.558030   \n",
       "229  một người đàn ông đang chuẩn bị đánh quả bóng ...  0.727273  0.660578   \n",
       "230  một người đàn ông đang chuẩn bị đánh quả bóng ...  0.727273  0.660578   \n",
       "\n",
       "       bleu_3    bleu_4  \n",
       "0    0.961877  0.903602  \n",
       "1    0.226622  0.216280  \n",
       "2    0.302532  0.269196  \n",
       "3    0.685303  0.631555  \n",
       "4    0.352462  0.269855  \n",
       "..        ...       ...  \n",
       "226  0.685303  0.587728  \n",
       "227  1.000000  1.000000  \n",
       "228  0.433356  0.330101  \n",
       "229  0.582009  0.469247  \n",
       "230  0.626484  0.590047  \n",
       "\n",
       "[231 rows x 7 columns]"
      ]
     },
     "execution_count": 28,
     "metadata": {},
     "output_type": "execute_result"
    }
   ],
   "source": [
    "df_test_merge"
   ]
  },
  {
   "cell_type": "code",
   "execution_count": 29,
   "id": "0985dddb",
   "metadata": {
    "execution": {
     "iopub.execute_input": "2024-12-27T11:52:20.404351Z",
     "iopub.status.busy": "2024-12-27T11:52:20.404020Z",
     "iopub.status.idle": "2024-12-27T11:52:20.410469Z",
     "shell.execute_reply": "2024-12-27T11:52:20.409631Z"
    },
    "papermill": {
     "duration": 0.555077,
     "end_time": "2024-12-27T11:52:20.412025",
     "exception": false,
     "start_time": "2024-12-27T11:52:19.856948",
     "status": "completed"
    },
    "tags": []
   },
   "outputs": [
    {
     "name": "stdout",
     "output_type": "stream",
     "text": [
      "Average BLEU-1 Score: 62.31\n",
      "Average BLEU-2 Score: 49.93\n",
      "Average BLEU-3 Score: 42.74\n",
      "Average BLEU-4 Score: 36.97\n"
     ]
    }
   ],
   "source": [
    "bleu_1_avg = round(df_test_merge['bleu_1'].mean() * 100, 2)\n",
    "bleu_2_avg = round(df_test_merge['bleu_2'].mean() * 100, 2)\n",
    "bleu_3_avg = round(df_test_merge['bleu_3'].mean() * 100, 2)\n",
    "bleu_4_avg = round(df_test_merge['bleu_4'].mean() * 100, 2)\n",
    "\n",
    "# In kết quả BLEU score trung bình\n",
    "print(\"Average BLEU-1 Score:\", bleu_1_avg)\n",
    "print(\"Average BLEU-2 Score:\", bleu_2_avg)\n",
    "print(\"Average BLEU-3 Score:\", bleu_3_avg)\n",
    "print(\"Average BLEU-4 Score:\", bleu_4_avg)"
   ]
  },
  {
   "cell_type": "code",
   "execution_count": 30,
   "id": "4ae2b8fc",
   "metadata": {
    "execution": {
     "iopub.execute_input": "2024-12-27T11:52:21.373854Z",
     "iopub.status.busy": "2024-12-27T11:52:21.372991Z",
     "iopub.status.idle": "2024-12-27T11:52:22.665906Z",
     "shell.execute_reply": "2024-12-27T11:52:22.665058Z"
    },
    "papermill": {
     "duration": 1.79667,
     "end_time": "2024-12-27T11:52:22.667923",
     "exception": false,
     "start_time": "2024-12-27T11:52:20.871253",
     "status": "completed"
    },
    "tags": []
   },
   "outputs": [
    {
     "name": "stderr",
     "output_type": "stream",
     "text": [
      "/opt/conda/lib/python3.10/site-packages/seaborn/_oldcore.py:1119: FutureWarning: use_inf_as_na option is deprecated and will be removed in a future version. Convert inf values to NaN before operating instead.\n",
      "  with pd.option_context('mode.use_inf_as_na', True):\n",
      "/opt/conda/lib/python3.10/site-packages/seaborn/_oldcore.py:1119: FutureWarning: use_inf_as_na option is deprecated and will be removed in a future version. Convert inf values to NaN before operating instead.\n",
      "  with pd.option_context('mode.use_inf_as_na', True):\n",
      "/opt/conda/lib/python3.10/site-packages/seaborn/_oldcore.py:1119: FutureWarning: use_inf_as_na option is deprecated and will be removed in a future version. Convert inf values to NaN before operating instead.\n",
      "  with pd.option_context('mode.use_inf_as_na', True):\n",
      "/opt/conda/lib/python3.10/site-packages/seaborn/_oldcore.py:1119: FutureWarning: use_inf_as_na option is deprecated and will be removed in a future version. Convert inf values to NaN before operating instead.\n",
      "  with pd.option_context('mode.use_inf_as_na', True):\n"
     ]
    },
    {
     "data": {
      "image/png": "[encoded data removed]",
      "text/plain": [
       "<Figure size 1000x600 with 4 Axes>"
      ]
     },
     "metadata": {},
     "output_type": "display_data"
    }
   ],
   "source": [
    "import matplotlib.pyplot as plt\n",
    "import seaborn as sns\n",
    "\n",
    "plt.figure(figsize=(10, 6))\n",
    "\n",
    "plt.subplot(2, 2, 1)\n",
    "sns.histplot(df_test_merge['bleu_1'] * 100, kde=True, bins=20, color='blue', label='BLEU-1')\n",
    "plt.title('Distribution of BLEU-1')\n",
    "plt.xlabel('BLEU-1 (%)')\n",
    "plt.ylabel('Frequency')\n",
    "\n",
    "plt.subplot(2, 2, 2)\n",
    "sns.histplot(df_test_merge['bleu_2'] * 100, kde=True, bins=20, color='green', label='BLEU-2')\n",
    "plt.title('Distribution of BLEU-2')\n",
    "plt.xlabel('BLEU-2 (%)')\n",
    "plt.ylabel('Frequency')\n",
    "\n",
    "plt.subplot(2, 2, 3)\n",
    "sns.histplot(df_test_merge['bleu_3'] * 100, kde=True, bins=20, color='orange', label='BLEU-3')\n",
    "plt.title('Distribution of BLEU-3')\n",
    "plt.xlabel('BLEU-3 (%)')\n",
    "plt.ylabel('Frequency')\n",
    "\n",
    "plt.subplot(2, 2, 4)\n",
    "sns.histplot(df_test_merge['bleu_4'] * 100, kde=True, bins=20, color='red', label='BLEU-4')\n",
    "plt.title('Distribution of BLEU-4')\n",
    "plt.xlabel('BLEU-4 (%)')\n",
    "plt.ylabel('Frequency')\n",
    "\n",
    "plt.tight_layout()\n",
    "plt.show()"
   ]
  },
  {
   "cell_type": "markdown",
   "id": "d1fcef73",
   "metadata": {
    "papermill": {
     "duration": 0.467618,
     "end_time": "2024-12-27T11:52:23.604508",
     "exception": false,
     "start_time": "2024-12-27T11:52:23.136890",
     "status": "completed"
    },
    "tags": []
   },
   "source": [
    "# ROUGE metric"
   ]
  },
  {
   "cell_type": "code",
   "execution_count": 31,
   "id": "85ef276c",
   "metadata": {
    "execution": {
     "iopub.execute_input": "2024-12-27T11:52:24.575910Z",
     "iopub.status.busy": "2024-12-27T11:52:24.575291Z",
     "iopub.status.idle": "2024-12-27T11:52:36.038543Z",
     "shell.execute_reply": "2024-12-27T11:52:36.037253Z"
    },
    "papermill": {
     "duration": 11.932241,
     "end_time": "2024-12-27T11:52:36.040625",
     "exception": false,
     "start_time": "2024-12-27T11:52:24.108384",
     "status": "completed"
    },
    "tags": []
   },
   "outputs": [
    {
     "name": "stderr",
     "output_type": "stream",
     "text": [
      "/opt/conda/lib/python3.10/pty.py:89: RuntimeWarning: os.fork() was called. os.fork() is incompatible with multithreaded code, and JAX is multithreaded, so this will likely lead to a deadlock.\n",
      "  pid, fd = os.forkpty()\n"
     ]
    },
    {
     "name": "stdout",
     "output_type": "stream",
     "text": [
      "Collecting rouge-score\r\n",
      "  Downloading rouge_score-0.1.2.tar.gz (17 kB)\r\n",
      "  Preparing metadata (setup.py) ... \u001b[?25l-\b \bdone\r\n",
      "\u001b[?25hRequirement already satisfied: absl-py in /opt/conda/lib/python3.10/site-packages (from rouge-score) (1.4.0)\r\n",
      "Requirement already satisfied: nltk in /opt/conda/lib/python3.10/site-packages (from rouge-score) (3.2.4)\r\n",
      "Requirement already satisfied: numpy in /opt/conda/lib/python3.10/site-packages (from rouge-score) (1.26.4)\r\n",
      "Requirement already satisfied: six>=1.14.0 in /opt/conda/lib/python3.10/site-packages (from rouge-score) (1.16.0)\r\n",
      "Building wheels for collected packages: rouge-score\r\n",
      "  Building wheel for rouge-score (setup.py) ... \u001b[?25l-\b \b\\\b \bdone\r\n",
      "\u001b[?25h  Created wheel for rouge-score: filename=rouge_score-0.1.2-py3-none-any.whl size=24934 sha256=3d975215629512ad0a016af4936254dc4541830050a46c7ca7aa63ec0d93fe38\r\n",
      "  Stored in directory: /root/.cache/pip/wheels/5f/dd/89/461065a73be61a532ff8599a28e9beef17985c9e9c31e541b4\r\n",
      "Successfully built rouge-score\r\n",
      "Installing collected packages: rouge-score\r\n",
      "Successfully installed rouge-score-0.1.2\r\n"
     ]
    }
   ],
   "source": [
    "!pip install rouge-score"
   ]
  },
  {
   "cell_type": "code",
   "execution_count": 32,
   "id": "43f58a22",
   "metadata": {
    "execution": {
     "iopub.execute_input": "2024-12-27T11:52:37.010003Z",
     "iopub.status.busy": "2024-12-27T11:52:37.009577Z",
     "iopub.status.idle": "2024-12-27T11:52:37.020454Z",
     "shell.execute_reply": "2024-12-27T11:52:37.019575Z"
    },
    "papermill": {
     "duration": 0.476016,
     "end_time": "2024-12-27T11:52:37.022130",
     "exception": false,
     "start_time": "2024-12-27T11:52:36.546114",
     "status": "completed"
    },
    "tags": []
   },
   "outputs": [],
   "source": [
    "from rouge_score import rouge_scorer"
   ]
  },
  {
   "cell_type": "code",
   "execution_count": 33,
   "id": "0270b3ef",
   "metadata": {
    "execution": {
     "iopub.execute_input": "2024-12-27T11:52:38.038900Z",
     "iopub.status.busy": "2024-12-27T11:52:38.038523Z",
     "iopub.status.idle": "2024-12-27T11:52:38.044422Z",
     "shell.execute_reply": "2024-12-27T11:52:38.043639Z"
    },
    "papermill": {
     "duration": 0.522067,
     "end_time": "2024-12-27T11:52:38.046178",
     "exception": false,
     "start_time": "2024-12-27T11:52:37.524111",
     "status": "completed"
    },
    "tags": []
   },
   "outputs": [],
   "source": [
    "def calculate_rouge_scores(row):\n",
    "    reference = row['caption']\n",
    "    prediction = row['predict']\n",
    "\n",
    "    scorer = rouge_scorer.RougeScorer(['rougeL'], use_stemmer=True)\n",
    "    total_f1 = 0\n",
    "\n",
    "    for ref in reference:\n",
    "        scores = scorer.score(ref, prediction)\n",
    "        rouge_l = scores['rougeL']\n",
    "        total_f1 += rouge_l.fmeasure\n",
    "\n",
    "    avg_f1 = total_f1 / len(reference)\n",
    "\n",
    "    return avg_f1"
   ]
  },
  {
   "cell_type": "code",
   "execution_count": 34,
   "id": "31cb5d95",
   "metadata": {
    "execution": {
     "iopub.execute_input": "2024-12-27T11:52:39.041222Z",
     "iopub.status.busy": "2024-12-27T11:52:39.040304Z",
     "iopub.status.idle": "2024-12-27T11:52:39.252379Z",
     "shell.execute_reply": "2024-12-27T11:52:39.251456Z"
    },
    "papermill": {
     "duration": 0.723005,
     "end_time": "2024-12-27T11:52:39.254184",
     "exception": false,
     "start_time": "2024-12-27T11:52:38.531179",
     "status": "completed"
    },
    "tags": []
   },
   "outputs": [],
   "source": [
    "df_test_merge['rouge_L'] = df_test_merge.apply(calculate_rouge_scores, axis=1)"
   ]
  },
  {
   "cell_type": "code",
   "execution_count": 35,
   "id": "3993bdc7",
   "metadata": {
    "execution": {
     "iopub.execute_input": "2024-12-27T11:52:40.252733Z",
     "iopub.status.busy": "2024-12-27T11:52:40.252349Z",
     "iopub.status.idle": "2024-12-27T11:52:40.270034Z",
     "shell.execute_reply": "2024-12-27T11:52:40.269191Z"
    },
    "papermill": {
     "duration": 0.555993,
     "end_time": "2024-12-27T11:52:40.271723",
     "exception": false,
     "start_time": "2024-12-27T11:52:39.715730",
     "status": "completed"
    },
    "tags": []
   },
   "outputs": [
    {
     "data": {
      "text/html": [
       "<div>\n",
       "<style scoped>\n",
       "    .dataframe tbody tr th:only-of-type {\n",
       "        vertical-align: middle;\n",
       "    }\n",
       "\n",
       "    .dataframe tbody tr th {\n",
       "        vertical-align: top;\n",
       "    }\n",
       "\n",
       "    .dataframe thead th {\n",
       "        text-align: right;\n",
       "    }\n",
       "</style>\n",
       "<table border=\"1\" class=\"dataframe\">\n",
       "  <thead>\n",
       "    <tr style=\"text-align: right;\">\n",
       "      <th></th>\n",
       "      <th>image_path</th>\n",
       "      <th>caption</th>\n",
       "      <th>predict</th>\n",
       "      <th>bleu_1</th>\n",
       "      <th>bleu_2</th>\n",
       "      <th>bleu_3</th>\n",
       "      <th>bleu_4</th>\n",
       "      <th>rouge_L</th>\n",
       "    </tr>\n",
       "  </thead>\n",
       "  <tbody>\n",
       "    <tr>\n",
       "      <th>0</th>\n",
       "      <td>/kaggle/input/uit-viic-v1-0-vietnamese-image-c...</td>\n",
       "      <td>[trên sân một cầu thủ đánh bóng đang chuẩn bị ...</td>\n",
       "      <td>một người đàn ông đang chuẩn bị đánh quả bóng ...</td>\n",
       "      <td>1.000000</td>\n",
       "      <td>1.000000</td>\n",
       "      <td>0.961877</td>\n",
       "      <td>0.903602</td>\n",
       "      <td>0.577392</td>\n",
       "    </tr>\n",
       "    <tr>\n",
       "      <th>1</th>\n",
       "      <td>/kaggle/input/uit-viic-v1-0-vietnamese-image-c...</td>\n",
       "      <td>[hình ảnh hai cậu bé đang chơi trong khu dân c...</td>\n",
       "      <td>một người đàn ông đang chuẩn bị đánh quả bóng ...</td>\n",
       "      <td>0.454545</td>\n",
       "      <td>0.213201</td>\n",
       "      <td>0.226622</td>\n",
       "      <td>0.216280</td>\n",
       "      <td>0.299619</td>\n",
       "    </tr>\n",
       "    <tr>\n",
       "      <th>2</th>\n",
       "      <td>/kaggle/input/uit-viic-v1-0-vietnamese-image-c...</td>\n",
       "      <td>[hình ảnh một trận thi đấu bóng đá đang diễn r...</td>\n",
       "      <td>một người đàn ông đang chuẩn bị đánh quả bóng ...</td>\n",
       "      <td>0.545455</td>\n",
       "      <td>0.330289</td>\n",
       "      <td>0.302532</td>\n",
       "      <td>0.269196</td>\n",
       "      <td>0.356843</td>\n",
       "    </tr>\n",
       "    <tr>\n",
       "      <th>3</th>\n",
       "      <td>/kaggle/input/uit-viic-v1-0-vietnamese-image-c...</td>\n",
       "      <td>[một người phụ nữ đang vung vợt để đánh quả bó...</td>\n",
       "      <td>một người đàn ông đang chuẩn bị đánh quả bóng ...</td>\n",
       "      <td>0.818182</td>\n",
       "      <td>0.756787</td>\n",
       "      <td>0.685303</td>\n",
       "      <td>0.631555</td>\n",
       "      <td>0.622734</td>\n",
       "    </tr>\n",
       "    <tr>\n",
       "      <th>4</th>\n",
       "      <td>/kaggle/input/uit-viic-v1-0-vietnamese-image-c...</td>\n",
       "      <td>[một cậu bé đang nghiêng người để đánh quả bón...</td>\n",
       "      <td>một người đàn ông đang chuẩn bị đánh quả bóng ...</td>\n",
       "      <td>0.636364</td>\n",
       "      <td>0.436931</td>\n",
       "      <td>0.352462</td>\n",
       "      <td>0.269855</td>\n",
       "      <td>0.432138</td>\n",
       "    </tr>\n",
       "    <tr>\n",
       "      <th>...</th>\n",
       "      <td>...</td>\n",
       "      <td>...</td>\n",
       "      <td>...</td>\n",
       "      <td>...</td>\n",
       "      <td>...</td>\n",
       "      <td>...</td>\n",
       "      <td>...</td>\n",
       "      <td>...</td>\n",
       "    </tr>\n",
       "    <tr>\n",
       "      <th>226</th>\n",
       "      <td>/kaggle/input/uit-viic-v1-0-vietnamese-image-c...</td>\n",
       "      <td>[một người đàn ông đang dùng vợt để đánh quả b...</td>\n",
       "      <td>một người đàn ông đang chuẩn bị đánh quả bóng ...</td>\n",
       "      <td>0.818182</td>\n",
       "      <td>0.756787</td>\n",
       "      <td>0.685303</td>\n",
       "      <td>0.587728</td>\n",
       "      <td>0.743656</td>\n",
       "    </tr>\n",
       "    <tr>\n",
       "      <th>227</th>\n",
       "      <td>/kaggle/input/uit-viic-v1-0-vietnamese-image-c...</td>\n",
       "      <td>[một người đàn ông đang chuẩn bị đánh quả bóng...</td>\n",
       "      <td>một người đàn ông đang chuẩn bị đánh quả bóng ...</td>\n",
       "      <td>1.000000</td>\n",
       "      <td>1.000000</td>\n",
       "      <td>1.000000</td>\n",
       "      <td>1.000000</td>\n",
       "      <td>0.701032</td>\n",
       "    </tr>\n",
       "    <tr>\n",
       "      <th>228</th>\n",
       "      <td>/kaggle/input/uit-viic-v1-0-vietnamese-image-c...</td>\n",
       "      <td>[các cầu thủ bóng đá đang thi đấu ngoài trời, ...</td>\n",
       "      <td>những đứa trẻ đang chơi bóng đá trên sân</td>\n",
       "      <td>0.695986</td>\n",
       "      <td>0.558030</td>\n",
       "      <td>0.433356</td>\n",
       "      <td>0.330101</td>\n",
       "      <td>0.395767</td>\n",
       "    </tr>\n",
       "    <tr>\n",
       "      <th>229</th>\n",
       "      <td>/kaggle/input/uit-viic-v1-0-vietnamese-image-c...</td>\n",
       "      <td>[một cầu thủ đánh bóng đang xoay người để đánh...</td>\n",
       "      <td>một người đàn ông đang chuẩn bị đánh quả bóng ...</td>\n",
       "      <td>0.727273</td>\n",
       "      <td>0.660578</td>\n",
       "      <td>0.582009</td>\n",
       "      <td>0.469247</td>\n",
       "      <td>0.544956</td>\n",
       "    </tr>\n",
       "    <tr>\n",
       "      <th>230</th>\n",
       "      <td>/kaggle/input/uit-viic-v1-0-vietnamese-image-c...</td>\n",
       "      <td>[một cậu bé đang luyện tập bóng chày trên sân,...</td>\n",
       "      <td>một người đàn ông đang chuẩn bị đánh quả bóng ...</td>\n",
       "      <td>0.727273</td>\n",
       "      <td>0.660578</td>\n",
       "      <td>0.626484</td>\n",
       "      <td>0.590047</td>\n",
       "      <td>0.571928</td>\n",
       "    </tr>\n",
       "  </tbody>\n",
       "</table>\n",
       "<p>231 rows × 8 columns</p>\n",
       "</div>"
      ],
      "text/plain": [
       "                                            image_path  \\\n",
       "0    /kaggle/input/uit-viic-v1-0-vietnamese-image-c...   \n",
       "1    /kaggle/input/uit-viic-v1-0-vietnamese-image-c...   \n",
       "2    /kaggle/input/uit-viic-v1-0-vietnamese-image-c...   \n",
       "3    /kaggle/input/uit-viic-v1-0-vietnamese-image-c...   \n",
       "4    /kaggle/input/uit-viic-v1-0-vietnamese-image-c...   \n",
       "..                                                 ...   \n",
       "226  /kaggle/input/uit-viic-v1-0-vietnamese-image-c...   \n",
       "227  /kaggle/input/uit-viic-v1-0-vietnamese-image-c...   \n",
       "228  /kaggle/input/uit-viic-v1-0-vietnamese-image-c...   \n",
       "229  /kaggle/input/uit-viic-v1-0-vietnamese-image-c...   \n",
       "230  /kaggle/input/uit-viic-v1-0-vietnamese-image-c...   \n",
       "\n",
       "                                               caption  \\\n",
       "0    [trên sân một cầu thủ đánh bóng đang chuẩn bị ...   \n",
       "1    [hình ảnh hai cậu bé đang chơi trong khu dân c...   \n",
       "2    [hình ảnh một trận thi đấu bóng đá đang diễn r...   \n",
       "3    [một người phụ nữ đang vung vợt để đánh quả bó...   \n",
       "4    [một cậu bé đang nghiêng người để đánh quả bón...   \n",
       "..                                                 ...   \n",
       "226  [một người đàn ông đang dùng vợt để đánh quả b...   \n",
       "227  [một người đàn ông đang chuẩn bị đánh quả bóng...   \n",
       "228  [các cầu thủ bóng đá đang thi đấu ngoài trời, ...   \n",
       "229  [một cầu thủ đánh bóng đang xoay người để đánh...   \n",
       "230  [một cậu bé đang luyện tập bóng chày trên sân,...   \n",
       "\n",
       "                                               predict    bleu_1    bleu_2  \\\n",
       "0    một người đàn ông đang chuẩn bị đánh quả bóng ...  1.000000  1.000000   \n",
       "1    một người đàn ông đang chuẩn bị đánh quả bóng ...  0.454545  0.213201   \n",
       "2    một người đàn ông đang chuẩn bị đánh quả bóng ...  0.545455  0.330289   \n",
       "3    một người đàn ông đang chuẩn bị đánh quả bóng ...  0.818182  0.756787   \n",
       "4    một người đàn ông đang chuẩn bị đánh quả bóng ...  0.636364  0.436931   \n",
       "..                                                 ...       ...       ...   \n",
       "226  một người đàn ông đang chuẩn bị đánh quả bóng ...  0.818182  0.756787   \n",
       "227  một người đàn ông đang chuẩn bị đánh quả bóng ...  1.000000  1.000000   \n",
       "228           những đứa trẻ đang chơi bóng đá trên sân  0.695986  0.558030   \n",
       "229  một người đàn ông đang chuẩn bị đánh quả bóng ...  0.727273  0.660578   \n",
       "230  một người đàn ông đang chuẩn bị đánh quả bóng ...  0.727273  0.660578   \n",
       "\n",
       "       bleu_3    bleu_4   rouge_L  \n",
       "0    0.961877  0.903602  0.577392  \n",
       "1    0.226622  0.216280  0.299619  \n",
       "2    0.302532  0.269196  0.356843  \n",
       "3    0.685303  0.631555  0.622734  \n",
       "4    0.352462  0.269855  0.432138  \n",
       "..        ...       ...       ...  \n",
       "226  0.685303  0.587728  0.743656  \n",
       "227  1.000000  1.000000  0.701032  \n",
       "228  0.433356  0.330101  0.395767  \n",
       "229  0.582009  0.469247  0.544956  \n",
       "230  0.626484  0.590047  0.571928  \n",
       "\n",
       "[231 rows x 8 columns]"
      ]
     },
     "execution_count": 35,
     "metadata": {},
     "output_type": "execute_result"
    }
   ],
   "source": [
    "df_test_merge"
   ]
  },
  {
   "cell_type": "code",
   "execution_count": 36,
   "id": "6b884f17",
   "metadata": {
    "execution": {
     "iopub.execute_input": "2024-12-27T11:52:41.238142Z",
     "iopub.status.busy": "2024-12-27T11:52:41.237574Z",
     "iopub.status.idle": "2024-12-27T11:52:41.242464Z",
     "shell.execute_reply": "2024-12-27T11:52:41.241755Z"
    },
    "papermill": {
     "duration": 0.509453,
     "end_time": "2024-12-27T11:52:41.244152",
     "exception": false,
     "start_time": "2024-12-27T11:52:40.734699",
     "status": "completed"
    },
    "tags": []
   },
   "outputs": [],
   "source": [
    "rouge_avg = round(df_test_merge['rouge_L'].mean() * 100, 2)"
   ]
  },
  {
   "cell_type": "code",
   "execution_count": 37,
   "id": "4f2abd1f",
   "metadata": {
    "execution": {
     "iopub.execute_input": "2024-12-27T11:52:42.179130Z",
     "iopub.status.busy": "2024-12-27T11:52:42.178099Z",
     "iopub.status.idle": "2024-12-27T11:52:42.183280Z",
     "shell.execute_reply": "2024-12-27T11:52:42.182382Z"
    },
    "papermill": {
     "duration": 0.482158,
     "end_time": "2024-12-27T11:52:42.184843",
     "exception": false,
     "start_time": "2024-12-27T11:52:41.702685",
     "status": "completed"
    },
    "tags": []
   },
   "outputs": [
    {
     "name": "stdout",
     "output_type": "stream",
     "text": [
      "Average ROUGE Score: 45.08\n"
     ]
    }
   ],
   "source": [
    "print(\"Average ROUGE Score:\", rouge_avg)"
   ]
  },
  {
   "cell_type": "code",
   "execution_count": 38,
   "id": "bdda9771",
   "metadata": {
    "execution": {
     "iopub.execute_input": "2024-12-27T11:52:43.146684Z",
     "iopub.status.busy": "2024-12-27T11:52:43.146328Z",
     "iopub.status.idle": "2024-12-27T11:52:43.150313Z",
     "shell.execute_reply": "2024-12-27T11:52:43.149677Z"
    },
    "papermill": {
     "duration": 0.471989,
     "end_time": "2024-12-27T11:52:43.152063",
     "exception": false,
     "start_time": "2024-12-27T11:52:42.680074",
     "status": "completed"
    },
    "tags": []
   },
   "outputs": [],
   "source": [
    "from tensorflow.keras.models import load_model"
   ]
  },
  {
   "cell_type": "code",
   "execution_count": 39,
   "id": "86855b1e",
   "metadata": {
    "execution": {
     "iopub.execute_input": "2024-12-27T11:52:44.123187Z",
     "iopub.status.busy": "2024-12-27T11:52:44.122859Z",
     "iopub.status.idle": "2024-12-27T11:52:44.505780Z",
     "shell.execute_reply": "2024-12-27T11:52:44.505085Z"
    },
    "papermill": {
     "duration": 0.853681,
     "end_time": "2024-12-27T11:52:44.507789",
     "exception": false,
     "start_time": "2024-12-27T11:52:43.654108",
     "status": "completed"
    },
    "tags": []
   },
   "outputs": [],
   "source": [
    "loaded_model = load_model('/kaggle/working/vgg16_attention.keras')"
   ]
  },
  {
   "cell_type": "code",
   "execution_count": 40,
   "id": "6ce40ca5",
   "metadata": {
    "execution": {
     "iopub.execute_input": "2024-12-27T11:52:45.495257Z",
     "iopub.status.busy": "2024-12-27T11:52:45.494918Z",
     "iopub.status.idle": "2024-12-27T11:52:46.353995Z",
     "shell.execute_reply": "2024-12-27T11:52:46.352954Z"
    },
    "papermill": {
     "duration": 1.346446,
     "end_time": "2024-12-27T11:52:46.355983",
     "exception": false,
     "start_time": "2024-12-27T11:52:45.009537",
     "status": "completed"
    },
    "tags": []
   },
   "outputs": [
    {
     "name": "stderr",
     "output_type": "stream",
     "text": [
      "/opt/conda/lib/python3.10/site-packages/keras/src/ops/nn.py:545: UserWarning: You are using a softmax over axis -1 of a tensor of shape (1, 1). This axis has size 1. The softmax operation will always return the value 1, which is likely not what you intended. Did you mean to use a sigmoid instead?\n",
      "  warnings.warn(\n"
     ]
    },
    {
     "name": "stdout",
     "output_type": "stream",
     "text": [
      "startseq một người đàn ông đang chuẩn bị đánh quả bóng tennis endseq\n"
     ]
    }
   ],
   "source": [
    "caption = predict_caption(loaded_model, df_test_merge.iloc[2]['image_path'], tokenizer, max_length, image_features)\n",
    "\n",
    "print(caption)"
   ]
  }
 ],
 "metadata": {
  "kaggle": {
   "accelerator": "nvidiaTeslaT4",
   "dataSources": [
    {
     "datasetId": 3878874,
     "sourceId": 6735684,
     "sourceType": "datasetVersion"
    }
   ],
   "dockerImageVersionId": 30805,
   "isGpuEnabled": true,
   "isInternetEnabled": true,
   "language": "python",
   "sourceType": "notebook"
  },
  "kernelspec": {
   "display_name": "Python 3",
   "language": "python",
   "name": "python3"
  },
  "language_info": {
   "codemirror_mode": {
    "name": "ipython",
    "version": 3
   },
   "file_extension": ".py",
   "mimetype": "text/x-python",
   "name": "python",
   "nbconvert_exporter": "python",
   "pygments_lexer": "ipython3",
   "version": "3.10.14"
  },
  "papermill": {
   "default_parameters": {},
   "duration": 1056.417392,
   "end_time": "2024-12-27T11:52:49.562988",
   "environment_variables": {},
   "exception": null,
   "input_path": "__notebook__.ipynb",
   "output_path": "__notebook__.ipynb",
   "parameters": {},
   "start_time": "2024-12-27T11:35:13.145596",
   "version": "2.6.0"
  }
 },
 "nbformat": 4,
 "nbformat_minor": 5
}
